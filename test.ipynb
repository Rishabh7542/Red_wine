{
 "cells": [
  {
   "cell_type": "code",
   "execution_count": 120,
   "metadata": {},
   "outputs": [],
   "source": [
    "import numpy as np\n",
    "import pandas as pd\n",
    "import joblib"
   ]
  },
  {
   "cell_type": "code",
   "execution_count": 121,
   "metadata": {},
   "outputs": [
    {
     "data": {
      "text/html": [
       "<div>\n",
       "<style scoped>\n",
       "    .dataframe tbody tr th:only-of-type {\n",
       "        vertical-align: middle;\n",
       "    }\n",
       "\n",
       "    .dataframe tbody tr th {\n",
       "        vertical-align: top;\n",
       "    }\n",
       "\n",
       "    .dataframe thead th {\n",
       "        text-align: right;\n",
       "    }\n",
       "</style>\n",
       "<table border=\"1\" class=\"dataframe\">\n",
       "  <thead>\n",
       "    <tr style=\"text-align: right;\">\n",
       "      <th></th>\n",
       "      <th>fixed acidity</th>\n",
       "      <th>volatile acidity</th>\n",
       "      <th>citric acid</th>\n",
       "      <th>residual sugar</th>\n",
       "      <th>chlorides</th>\n",
       "      <th>free sulfur dioxide</th>\n",
       "      <th>total sulfur dioxide</th>\n",
       "      <th>density</th>\n",
       "      <th>pH</th>\n",
       "      <th>sulphates</th>\n",
       "      <th>alcohol</th>\n",
       "      <th>quality</th>\n",
       "    </tr>\n",
       "  </thead>\n",
       "  <tbody>\n",
       "    <tr>\n",
       "      <th>0</th>\n",
       "      <td>7.4</td>\n",
       "      <td>0.70</td>\n",
       "      <td>0.00</td>\n",
       "      <td>1.9</td>\n",
       "      <td>0.076</td>\n",
       "      <td>11.0</td>\n",
       "      <td>34.0</td>\n",
       "      <td>0.9978</td>\n",
       "      <td>3.51</td>\n",
       "      <td>0.56</td>\n",
       "      <td>9.4</td>\n",
       "      <td>5</td>\n",
       "    </tr>\n",
       "    <tr>\n",
       "      <th>1</th>\n",
       "      <td>7.8</td>\n",
       "      <td>0.88</td>\n",
       "      <td>0.00</td>\n",
       "      <td>2.6</td>\n",
       "      <td>0.098</td>\n",
       "      <td>25.0</td>\n",
       "      <td>67.0</td>\n",
       "      <td>0.9968</td>\n",
       "      <td>3.20</td>\n",
       "      <td>0.68</td>\n",
       "      <td>9.8</td>\n",
       "      <td>5</td>\n",
       "    </tr>\n",
       "    <tr>\n",
       "      <th>2</th>\n",
       "      <td>7.8</td>\n",
       "      <td>0.76</td>\n",
       "      <td>0.04</td>\n",
       "      <td>2.3</td>\n",
       "      <td>0.092</td>\n",
       "      <td>15.0</td>\n",
       "      <td>54.0</td>\n",
       "      <td>0.9970</td>\n",
       "      <td>3.26</td>\n",
       "      <td>0.65</td>\n",
       "      <td>9.8</td>\n",
       "      <td>5</td>\n",
       "    </tr>\n",
       "    <tr>\n",
       "      <th>3</th>\n",
       "      <td>11.2</td>\n",
       "      <td>0.28</td>\n",
       "      <td>0.56</td>\n",
       "      <td>1.9</td>\n",
       "      <td>0.075</td>\n",
       "      <td>17.0</td>\n",
       "      <td>60.0</td>\n",
       "      <td>0.9980</td>\n",
       "      <td>3.16</td>\n",
       "      <td>0.58</td>\n",
       "      <td>9.8</td>\n",
       "      <td>6</td>\n",
       "    </tr>\n",
       "    <tr>\n",
       "      <th>4</th>\n",
       "      <td>7.4</td>\n",
       "      <td>0.70</td>\n",
       "      <td>0.00</td>\n",
       "      <td>1.9</td>\n",
       "      <td>0.076</td>\n",
       "      <td>11.0</td>\n",
       "      <td>34.0</td>\n",
       "      <td>0.9978</td>\n",
       "      <td>3.51</td>\n",
       "      <td>0.56</td>\n",
       "      <td>9.4</td>\n",
       "      <td>5</td>\n",
       "    </tr>\n",
       "  </tbody>\n",
       "</table>\n",
       "</div>"
      ],
      "text/plain": [
       "   fixed acidity  volatile acidity  citric acid  residual sugar  chlorides  \\\n",
       "0            7.4              0.70         0.00             1.9      0.076   \n",
       "1            7.8              0.88         0.00             2.6      0.098   \n",
       "2            7.8              0.76         0.04             2.3      0.092   \n",
       "3           11.2              0.28         0.56             1.9      0.075   \n",
       "4            7.4              0.70         0.00             1.9      0.076   \n",
       "\n",
       "   free sulfur dioxide  total sulfur dioxide  density    pH  sulphates  \\\n",
       "0                 11.0                  34.0   0.9978  3.51       0.56   \n",
       "1                 25.0                  67.0   0.9968  3.20       0.68   \n",
       "2                 15.0                  54.0   0.9970  3.26       0.65   \n",
       "3                 17.0                  60.0   0.9980  3.16       0.58   \n",
       "4                 11.0                  34.0   0.9978  3.51       0.56   \n",
       "\n",
       "   alcohol  quality  \n",
       "0      9.4        5  \n",
       "1      9.8        5  \n",
       "2      9.8        5  \n",
       "3      9.8        6  \n",
       "4      9.4        5  "
      ]
     },
     "execution_count": 121,
     "metadata": {},
     "output_type": "execute_result"
    }
   ],
   "source": [
    "df=pd.read_csv('winequality-red.csv')\n",
    "df.head()"
   ]
  },
  {
   "cell_type": "code",
   "execution_count": 122,
   "metadata": {},
   "outputs": [
    {
     "data": {
      "text/plain": [
       "(1599, 12)"
      ]
     },
     "execution_count": 122,
     "metadata": {},
     "output_type": "execute_result"
    }
   ],
   "source": [
    "df.shape"
   ]
  },
  {
   "cell_type": "code",
   "execution_count": 123,
   "metadata": {},
   "outputs": [
    {
     "name": "stdout",
     "output_type": "stream",
     "text": [
      "<class 'pandas.core.frame.DataFrame'>\n",
      "RangeIndex: 1599 entries, 0 to 1598\n",
      "Data columns (total 12 columns):\n",
      " #   Column                Non-Null Count  Dtype  \n",
      "---  ------                --------------  -----  \n",
      " 0   fixed acidity         1599 non-null   float64\n",
      " 1   volatile acidity      1599 non-null   float64\n",
      " 2   citric acid           1599 non-null   float64\n",
      " 3   residual sugar        1599 non-null   float64\n",
      " 4   chlorides             1599 non-null   float64\n",
      " 5   free sulfur dioxide   1599 non-null   float64\n",
      " 6   total sulfur dioxide  1599 non-null   float64\n",
      " 7   density               1599 non-null   float64\n",
      " 8   pH                    1599 non-null   float64\n",
      " 9   sulphates             1599 non-null   float64\n",
      " 10  alcohol               1599 non-null   float64\n",
      " 11  quality               1599 non-null   int64  \n",
      "dtypes: float64(11), int64(1)\n",
      "memory usage: 150.0 KB\n"
     ]
    }
   ],
   "source": [
    "df.info()"
   ]
  },
  {
   "cell_type": "markdown",
   "metadata": {},
   "source": [
    "## Finding Misssing Data"
   ]
  },
  {
   "cell_type": "code",
   "execution_count": 124,
   "metadata": {},
   "outputs": [
    {
     "data": {
      "text/plain": [
       "fixed acidity           0\n",
       "volatile acidity        0\n",
       "citric acid             0\n",
       "residual sugar          0\n",
       "chlorides               0\n",
       "free sulfur dioxide     0\n",
       "total sulfur dioxide    0\n",
       "density                 0\n",
       "pH                      0\n",
       "sulphates               0\n",
       "alcohol                 0\n",
       "quality                 0\n",
       "dtype: int64"
      ]
     },
     "execution_count": 124,
     "metadata": {},
     "output_type": "execute_result"
    }
   ],
   "source": [
    "df.isnull().sum()"
   ]
  },
  {
   "cell_type": "markdown",
   "metadata": {},
   "source": [
    "## Finding and dropping any duplicated row/column "
   ]
  },
  {
   "cell_type": "code",
   "execution_count": 125,
   "metadata": {},
   "outputs": [
    {
     "data": {
      "text/plain": [
       "240"
      ]
     },
     "execution_count": 125,
     "metadata": {},
     "output_type": "execute_result"
    }
   ],
   "source": [
    "df.duplicated().sum()"
   ]
  },
  {
   "cell_type": "code",
   "execution_count": 126,
   "metadata": {},
   "outputs": [
    {
     "data": {
      "text/plain": [
       "(1359, 12)"
      ]
     },
     "execution_count": 126,
     "metadata": {},
     "output_type": "execute_result"
    }
   ],
   "source": [
    "df=df.drop_duplicates(keep='first')\n",
    "df.shape"
   ]
  },
  {
   "cell_type": "markdown",
   "metadata": {},
   "source": [
    "## Mathematical Insight on numerical data"
   ]
  },
  {
   "cell_type": "code",
   "execution_count": 127,
   "metadata": {},
   "outputs": [
    {
     "data": {
      "text/html": [
       "<div>\n",
       "<style scoped>\n",
       "    .dataframe tbody tr th:only-of-type {\n",
       "        vertical-align: middle;\n",
       "    }\n",
       "\n",
       "    .dataframe tbody tr th {\n",
       "        vertical-align: top;\n",
       "    }\n",
       "\n",
       "    .dataframe thead th {\n",
       "        text-align: right;\n",
       "    }\n",
       "</style>\n",
       "<table border=\"1\" class=\"dataframe\">\n",
       "  <thead>\n",
       "    <tr style=\"text-align: right;\">\n",
       "      <th></th>\n",
       "      <th>fixed acidity</th>\n",
       "      <th>volatile acidity</th>\n",
       "      <th>citric acid</th>\n",
       "      <th>residual sugar</th>\n",
       "      <th>chlorides</th>\n",
       "      <th>free sulfur dioxide</th>\n",
       "      <th>total sulfur dioxide</th>\n",
       "      <th>density</th>\n",
       "      <th>pH</th>\n",
       "      <th>sulphates</th>\n",
       "      <th>alcohol</th>\n",
       "      <th>quality</th>\n",
       "    </tr>\n",
       "  </thead>\n",
       "  <tbody>\n",
       "    <tr>\n",
       "      <th>count</th>\n",
       "      <td>1359.000000</td>\n",
       "      <td>1359.000000</td>\n",
       "      <td>1359.000000</td>\n",
       "      <td>1359.000000</td>\n",
       "      <td>1359.000000</td>\n",
       "      <td>1359.000000</td>\n",
       "      <td>1359.000000</td>\n",
       "      <td>1359.000000</td>\n",
       "      <td>1359.000000</td>\n",
       "      <td>1359.000000</td>\n",
       "      <td>1359.000000</td>\n",
       "      <td>1359.000000</td>\n",
       "    </tr>\n",
       "    <tr>\n",
       "      <th>mean</th>\n",
       "      <td>8.310596</td>\n",
       "      <td>0.529478</td>\n",
       "      <td>0.272333</td>\n",
       "      <td>2.523400</td>\n",
       "      <td>0.088124</td>\n",
       "      <td>15.893304</td>\n",
       "      <td>46.825975</td>\n",
       "      <td>0.996709</td>\n",
       "      <td>3.309787</td>\n",
       "      <td>0.658705</td>\n",
       "      <td>10.432315</td>\n",
       "      <td>5.623252</td>\n",
       "    </tr>\n",
       "    <tr>\n",
       "      <th>std</th>\n",
       "      <td>1.736990</td>\n",
       "      <td>0.183031</td>\n",
       "      <td>0.195537</td>\n",
       "      <td>1.352314</td>\n",
       "      <td>0.049377</td>\n",
       "      <td>10.447270</td>\n",
       "      <td>33.408946</td>\n",
       "      <td>0.001869</td>\n",
       "      <td>0.155036</td>\n",
       "      <td>0.170667</td>\n",
       "      <td>1.082065</td>\n",
       "      <td>0.823578</td>\n",
       "    </tr>\n",
       "    <tr>\n",
       "      <th>min</th>\n",
       "      <td>4.600000</td>\n",
       "      <td>0.120000</td>\n",
       "      <td>0.000000</td>\n",
       "      <td>0.900000</td>\n",
       "      <td>0.012000</td>\n",
       "      <td>1.000000</td>\n",
       "      <td>6.000000</td>\n",
       "      <td>0.990070</td>\n",
       "      <td>2.740000</td>\n",
       "      <td>0.330000</td>\n",
       "      <td>8.400000</td>\n",
       "      <td>3.000000</td>\n",
       "    </tr>\n",
       "    <tr>\n",
       "      <th>25%</th>\n",
       "      <td>7.100000</td>\n",
       "      <td>0.390000</td>\n",
       "      <td>0.090000</td>\n",
       "      <td>1.900000</td>\n",
       "      <td>0.070000</td>\n",
       "      <td>7.000000</td>\n",
       "      <td>22.000000</td>\n",
       "      <td>0.995600</td>\n",
       "      <td>3.210000</td>\n",
       "      <td>0.550000</td>\n",
       "      <td>9.500000</td>\n",
       "      <td>5.000000</td>\n",
       "    </tr>\n",
       "    <tr>\n",
       "      <th>50%</th>\n",
       "      <td>7.900000</td>\n",
       "      <td>0.520000</td>\n",
       "      <td>0.260000</td>\n",
       "      <td>2.200000</td>\n",
       "      <td>0.079000</td>\n",
       "      <td>14.000000</td>\n",
       "      <td>38.000000</td>\n",
       "      <td>0.996700</td>\n",
       "      <td>3.310000</td>\n",
       "      <td>0.620000</td>\n",
       "      <td>10.200000</td>\n",
       "      <td>6.000000</td>\n",
       "    </tr>\n",
       "    <tr>\n",
       "      <th>75%</th>\n",
       "      <td>9.200000</td>\n",
       "      <td>0.640000</td>\n",
       "      <td>0.430000</td>\n",
       "      <td>2.600000</td>\n",
       "      <td>0.091000</td>\n",
       "      <td>21.000000</td>\n",
       "      <td>63.000000</td>\n",
       "      <td>0.997820</td>\n",
       "      <td>3.400000</td>\n",
       "      <td>0.730000</td>\n",
       "      <td>11.100000</td>\n",
       "      <td>6.000000</td>\n",
       "    </tr>\n",
       "    <tr>\n",
       "      <th>max</th>\n",
       "      <td>15.900000</td>\n",
       "      <td>1.580000</td>\n",
       "      <td>1.000000</td>\n",
       "      <td>15.500000</td>\n",
       "      <td>0.611000</td>\n",
       "      <td>72.000000</td>\n",
       "      <td>289.000000</td>\n",
       "      <td>1.003690</td>\n",
       "      <td>4.010000</td>\n",
       "      <td>2.000000</td>\n",
       "      <td>14.900000</td>\n",
       "      <td>8.000000</td>\n",
       "    </tr>\n",
       "  </tbody>\n",
       "</table>\n",
       "</div>"
      ],
      "text/plain": [
       "       fixed acidity  volatile acidity  citric acid  residual sugar  \\\n",
       "count    1359.000000       1359.000000  1359.000000     1359.000000   \n",
       "mean        8.310596          0.529478     0.272333        2.523400   \n",
       "std         1.736990          0.183031     0.195537        1.352314   \n",
       "min         4.600000          0.120000     0.000000        0.900000   \n",
       "25%         7.100000          0.390000     0.090000        1.900000   \n",
       "50%         7.900000          0.520000     0.260000        2.200000   \n",
       "75%         9.200000          0.640000     0.430000        2.600000   \n",
       "max        15.900000          1.580000     1.000000       15.500000   \n",
       "\n",
       "         chlorides  free sulfur dioxide  total sulfur dioxide      density  \\\n",
       "count  1359.000000          1359.000000           1359.000000  1359.000000   \n",
       "mean      0.088124            15.893304             46.825975     0.996709   \n",
       "std       0.049377            10.447270             33.408946     0.001869   \n",
       "min       0.012000             1.000000              6.000000     0.990070   \n",
       "25%       0.070000             7.000000             22.000000     0.995600   \n",
       "50%       0.079000            14.000000             38.000000     0.996700   \n",
       "75%       0.091000            21.000000             63.000000     0.997820   \n",
       "max       0.611000            72.000000            289.000000     1.003690   \n",
       "\n",
       "                pH    sulphates      alcohol      quality  \n",
       "count  1359.000000  1359.000000  1359.000000  1359.000000  \n",
       "mean      3.309787     0.658705    10.432315     5.623252  \n",
       "std       0.155036     0.170667     1.082065     0.823578  \n",
       "min       2.740000     0.330000     8.400000     3.000000  \n",
       "25%       3.210000     0.550000     9.500000     5.000000  \n",
       "50%       3.310000     0.620000    10.200000     6.000000  \n",
       "75%       3.400000     0.730000    11.100000     6.000000  \n",
       "max       4.010000     2.000000    14.900000     8.000000  "
      ]
     },
     "execution_count": 127,
     "metadata": {},
     "output_type": "execute_result"
    }
   ],
   "source": [
    "df.describe()"
   ]
  },
  {
   "cell_type": "markdown",
   "metadata": {},
   "source": [
    "# Exploring The Data "
   ]
  },
  {
   "cell_type": "code",
   "execution_count": 128,
   "metadata": {},
   "outputs": [],
   "source": [
    "import seaborn as sns\n",
    "import matplotlib.pyplot as plt"
   ]
  },
  {
   "cell_type": "code",
   "execution_count": 129,
   "metadata": {},
   "outputs": [
    {
     "data": {
      "image/png": "[encoded data removed]",
      "text/plain": [
       "<Figure size 1296x432 with 1 Axes>"
      ]
     },
     "metadata": {},
     "output_type": "display_data"
    }
   ],
   "source": [
    "# fixed acidity vs Quality\n",
    "plot = plt.figure(figsize=(18,6))\n",
    "sns.set(style=\"whitegrid\", color_codes=True)\n",
    "pal = sns.color_palette(\"Reds_d\", len(df))\n",
    "array=df['fixed acidity']\n",
    "rank = [int((max(array)-elem)*len(df)*0.75/(max(array)+1)) for elem in array] \n",
    "sns.barplot(x=df['quality'], y=df['fixed acidity'], data=df, palette=np.array(pal[::-1])[rank])\n",
    "plt.xlabel('Quality', weight='bold', fontsize=20) \n",
    "plt.ylabel('Mean Fixed Acidity', weight='bold', fontsize=20)\n",
    "plt.show()"
   ]
  },
  {
   "cell_type": "code",
   "execution_count": 130,
   "metadata": {},
   "outputs": [
    {
     "data": {
      "image/png": "[encoded data removed]",
      "text/plain": [
       "<Figure size 1296x432 with 1 Axes>"
      ]
     },
     "metadata": {},
     "output_type": "display_data"
    }
   ],
   "source": [
    "# volatile acidity vs Quality\n",
    "\n",
    "plot = plt.figure(figsize=(18,6))\n",
    "sns.set(style=\"whitegrid\", color_codes=True)\n",
    "pal = sns.color_palette(\"mako\", len(df))\n",
    "array=df['volatile acidity']\n",
    "rank = [int((max(array)-elem)*len(df)*0.75/(max(array)+1)) for elem in array] \n",
    "sns.barplot(x=df['quality'], y=df['volatile acidity'], data=df, palette=np.array(pal[::-1])[rank])\n",
    "plt.xlabel('Quality', weight='bold', fontsize=20) \n",
    "plt.ylabel('Mean Volatile Acidity', weight='bold', fontsize=20) \n",
    "plt.show()"
   ]
  },
  {
   "cell_type": "code",
   "execution_count": 131,
   "metadata": {},
   "outputs": [
    {
     "data": {
      "image/png": "[encoded data removed]",
      "text/plain": [
       "<Figure size 1296x432 with 1 Axes>"
      ]
     },
     "metadata": {},
     "output_type": "display_data"
    }
   ],
   "source": [
    "# pH vs Quality\n",
    "\n",
    "plot = plt.figure(figsize=(18,6))\n",
    "sns.set(style=\"whitegrid\", color_codes=True)\n",
    "pal = sns.color_palette(\"icefire\", len(df))\n",
    "array=df['pH']\n",
    "rank = [int((max(array)-elem)*len(df)*0.75/(max(array)+1)) for elem in array] \n",
    "sns.barplot(x=df['quality'], y=df['pH'], data=df, palette=np.array(pal[::-1])[rank])\n",
    "plt.xlabel('Quality',weight='bold', fontsize=20) \n",
    "plt.ylabel('Mean pH', weight='bold', fontsize=20) \n",
    "plt.show()"
   ]
  },
  {
   "cell_type": "code",
   "execution_count": 132,
   "metadata": {},
   "outputs": [
    {
     "data": {
      "image/png": "[encoded data removed]",
      "text/plain": [
       "<Figure size 1296x432 with 1 Axes>"
      ]
     },
     "metadata": {},
     "output_type": "display_data"
    }
   ],
   "source": [
    "# total sulfur dioxide vs Quality\n",
    "\n",
    "plot = plt.figure(figsize=(18,6))\n",
    "sns.set(style=\"whitegrid\", color_codes=True)\n",
    "pal = sns.color_palette(\"Spectral\", len(df))\n",
    "array=df['total sulfur dioxide']\n",
    "rank = [int((max(array)-elem)*len(df)*0.75/(max(array)+1)) for elem in array] \n",
    "sns.barplot(x=df['quality'], y=df['total sulfur dioxide'], data=df, palette=np.array(pal[::-1])[rank])\n",
    "plt.xlabel('Quality',weight='bold', fontsize=20) \n",
    "plt.ylabel('Mean total sulfur dioxide', weight='bold', fontsize=20) \n",
    "plt.show()"
   ]
  },
  {
   "cell_type": "code",
   "execution_count": 133,
   "metadata": {},
   "outputs": [
    {
     "data": {
      "image/png": "[encoded data removed]",
      "text/plain": [
       "<Figure size 1296x432 with 1 Axes>"
      ]
     },
     "metadata": {},
     "output_type": "display_data"
    }
   ],
   "source": [
    "# free sulfur dioxide vs Quality\n",
    "\n",
    "plot = plt.figure(figsize=(18,6))\n",
    "sns.set(style=\"whitegrid\", color_codes=True)\n",
    "pal = sns.color_palette(\"magma\", len(df))\n",
    "array=df['free sulfur dioxide']\n",
    "rank = [int((max(array)-elem)*len(df)*0.75/(max(array)+1)) for elem in array] \n",
    "sns.barplot(x=df['quality'], y=df['free sulfur dioxide'], data=df, palette=np.array(pal[::-1])[rank])\n",
    "plt.xlabel('Quality',weight='bold', fontsize=20) \n",
    "plt.ylabel('Mean free sulfur dioxide', weight='bold', fontsize=20) \n",
    "plt.show()"
   ]
  },
  {
   "cell_type": "code",
   "execution_count": 134,
   "metadata": {},
   "outputs": [
    {
     "data": {
      "image/png": "[encoded data removed]",
      "text/plain": [
       "<Figure size 1296x432 with 1 Axes>"
      ]
     },
     "metadata": {},
     "output_type": "display_data"
    }
   ],
   "source": [
    "# residual sugar vs Quality\n",
    "\n",
    "plot = plt.figure(figsize=(18,6))\n",
    "sns.set(style=\"whitegrid\", color_codes=True)\n",
    "pal = sns.color_palette(\"rocket_r\", len(df))\n",
    "array=df['residual sugar']\n",
    "rank = [int((max(array)-elem)*len(df)*0.75/(max(array)+1)) for elem in array] \n",
    "sns.barplot(x=df['quality'], y=df['residual sugar'], data=df, palette=np.array(pal[::-1])[rank])\n",
    "plt.xlabel('Quality',weight='bold', fontsize=20) \n",
    "plt.ylabel('Mean residual sugar', weight='bold', fontsize=20) \n",
    "plt.show()"
   ]
  },
  {
   "cell_type": "code",
   "execution_count": 135,
   "metadata": {},
   "outputs": [
    {
     "data": {
      "image/png": "[encoded data removed]",
      "text/plain": [
       "<Figure size 1296x432 with 1 Axes>"
      ]
     },
     "metadata": {},
     "output_type": "display_data"
    }
   ],
   "source": [
    "# chlorides vs Quality\n",
    "\n",
    "plot = plt.figure(figsize=(18,6))\n",
    "sns.set(style=\"whitegrid\", color_codes=True)\n",
    "pal = sns.color_palette(\"rocket\", len(df))\n",
    "array=df['chlorides']\n",
    "rank = [int((max(array)-elem)*len(df)*0.75/(max(array)+1)) for elem in array] \n",
    "sns.barplot(x=df['quality'], y=df['chlorides'], data=df, palette=np.array(pal[::-1])[rank])\n",
    "plt.xlabel('Quality',weight='bold', fontsize=20) \n",
    "plt.ylabel('Mean chlorides', weight='bold', fontsize=20) \n",
    "plt.show()"
   ]
  },
  {
   "cell_type": "code",
   "execution_count": 136,
   "metadata": {},
   "outputs": [
    {
     "data": {
      "image/png": "[encoded data removed]",
      "text/plain": [
       "<Figure size 1296x432 with 1 Axes>"
      ]
     },
     "metadata": {},
     "output_type": "display_data"
    }
   ],
   "source": [
    "# sulphates vs Quality\n",
    "\n",
    "plot = plt.figure(figsize=(18,6))\n",
    "sns.set(style=\"whitegrid\", color_codes=True)\n",
    "pal = sns.color_palette(\"Blues\", len(df))\n",
    "array=df['sulphates']\n",
    "rank = [int((max(array)-elem)*len(df)*0.75/(max(array)+1)) for elem in array] \n",
    "sns.barplot(x=df['quality'], y=df['sulphates'], data=df, palette=np.array(pal[::-1])[rank])\n",
    "plt.xlabel('Quality',weight='bold', fontsize=20) \n",
    "plt.ylabel('Mean sulphates', weight='bold', fontsize=20) \n",
    "plt.show()"
   ]
  },
  {
   "cell_type": "code",
   "execution_count": 137,
   "metadata": {},
   "outputs": [
    {
     "data": {
      "image/png": "[encoded data removed]",
      "text/plain": [
       "<Figure size 1296x432 with 1 Axes>"
      ]
     },
     "metadata": {},
     "output_type": "display_data"
    }
   ],
   "source": [
    "# alcohol vs Quality\n",
    "\n",
    "plot = plt.figure(figsize=(18,6))\n",
    "sns.set(style=\"whitegrid\", color_codes=True)\n",
    "pal = sns.color_palette(\"mako\", len(df))\n",
    "array=df['alcohol']\n",
    "rank = [int((max(array)-elem)*len(df)*0.75/(max(array)+1)) for elem in array] \n",
    "sns.barplot(x=df['quality'], y=df['alcohol'], data=df, palette=np.array(pal[::-1])[rank])\n",
    "plt.xlabel('Quality',weight='bold', fontsize=20) \n",
    "plt.ylabel('Mean alcohol', weight='bold', fontsize=20) \n",
    "plt.show()"
   ]
  },
  {
   "cell_type": "code",
   "execution_count": 138,
   "metadata": {},
   "outputs": [
    {
     "data": {
      "image/png": "[encoded data removed]",
      "text/plain": [
       "<Figure size 1296x432 with 1 Axes>"
      ]
     },
     "metadata": {},
     "output_type": "display_data"
    }
   ],
   "source": [
    "# citric acid vs Quality\n",
    "\n",
    "plot = plt.figure(figsize=(18,6))\n",
    "sns.set(style=\"whitegrid\", color_codes=True)\n",
    "pal = sns.color_palette(\"rocket\", len(df))\n",
    "array=df['citric acid']\n",
    "rank = [int((max(array)-elem)*len(df)*0.75/(max(array)+1)) for elem in array] \n",
    "sns.barplot(x=df['quality'], y=df['citric acid'], data=df, palette=np.array(pal[::-1])[rank])\n",
    "plt.xlabel('Quality',weight='bold', fontsize=20) \n",
    "plt.ylabel('Mean citric acid', weight='bold', fontsize=20) \n",
    "plt.show()"
   ]
  },
  {
   "cell_type": "code",
   "execution_count": 139,
   "metadata": {},
   "outputs": [
    {
     "data": {
      "image/png": "[encoded data removed]",
      "text/plain": [
       "<Figure size 1296x432 with 1 Axes>"
      ]
     },
     "metadata": {},
     "output_type": "display_data"
    }
   ],
   "source": [
    "# density vs Quality\n",
    "\n",
    "plot = plt.figure(figsize=(18,6))\n",
    "sns.set(style=\"whitegrid\", color_codes=True)\n",
    "pal = sns.color_palette(\"ch:s=-.2,r=.6\", len(df))\n",
    "array=df['density']\n",
    "rank = [int((max(array)-elem)*len(df)*0.75/(max(array)+1)) for elem in array] \n",
    "sns.barplot(x=df['quality'], y=df['density'], data=df, palette=np.array(pal[::-1])[rank])\n",
    "plt.xlabel('Quality',weight='bold', fontsize=20) \n",
    "plt.ylabel('Mean density', weight='bold', fontsize=20) \n",
    "plt.show()"
   ]
  },
  {
   "cell_type": "code",
   "execution_count": 140,
   "metadata": {},
   "outputs": [],
   "source": [
    "corr=df.corr()"
   ]
  },
  {
   "cell_type": "code",
   "execution_count": 141,
   "metadata": {},
   "outputs": [
    {
     "data": {
      "image/png": "[encoded data removed]",
      "text/plain": [
       "<Figure size 2160x1080 with 2 Axes>"
      ]
     },
     "metadata": {},
     "output_type": "display_data"
    }
   ],
   "source": [
    "plt.figure(figsize=(30,15))\n",
    "go=sns.heatmap(corr, cbar=True, square=True, fmt = '.2f', annot = True, annot_kws={'size':12}, cmap = 'Greens')"
   ]
  },
  {
   "cell_type": "markdown",
   "metadata": {},
   "source": [
    "# Detecting Outliers and Skewness"
   ]
  },
  {
   "cell_type": "code",
   "execution_count": 142,
   "metadata": {},
   "outputs": [
    {
     "data": {
      "text/plain": [
       "<AxesSubplot:>"
      ]
     },
     "execution_count": 142,
     "metadata": {},
     "output_type": "execute_result"
    },
    {
     "data": {
      "image/png": "[encoded data removed]",
      "text/plain": [
       "<Figure size 1656x936 with 1 Axes>"
      ]
     },
     "metadata": {},
     "output_type": "display_data"
    }
   ],
   "source": [
    "df.boxplot(figsize=(23,13))"
   ]
  },
  {
   "cell_type": "code",
   "execution_count": 143,
   "metadata": {},
   "outputs": [
    {
     "data": {
      "text/plain": [
       "fixed acidity           0.941041\n",
       "volatile acidity        0.729279\n",
       "citric acid             0.312726\n",
       "residual sugar          4.548153\n",
       "chlorides               5.502487\n",
       "free sulfur dioxide     1.226579\n",
       "total sulfur dioxide    1.540368\n",
       "density                 0.044778\n",
       "pH                      0.232032\n",
       "sulphates               2.406505\n",
       "alcohol                 0.859841\n",
       "quality                 0.192407\n",
       "dtype: float64"
      ]
     },
     "execution_count": 143,
     "metadata": {},
     "output_type": "execute_result"
    }
   ],
   "source": [
    "df.skew()"
   ]
  },
  {
   "cell_type": "markdown",
   "metadata": {},
   "source": [
    "## Square root transformation to address skewness"
   ]
  },
  {
   "cell_type": "code",
   "execution_count": 144,
   "metadata": {},
   "outputs": [],
   "source": [
    "df['fixed acidity'] = np.sqrt(df['fixed acidity'])\n",
    "df['volatile acidity'] = np.sqrt(df['volatile acidity'])\n",
    "df['free sulfur dioxide'] = np.sqrt(df['free sulfur dioxide'])\n",
    "df['total sulfur dioxide'] = np.sqrt(df['total sulfur dioxide'])\n",
    "df['alcohol'] = np.sqrt(df['alcohol'])"
   ]
  },
  {
   "cell_type": "code",
   "execution_count": 145,
   "metadata": {},
   "outputs": [
    {
     "data": {
      "application/vnd.plotly.v1+json": {
       "config": {
        "plotlyServerURL": "https://plot.ly"
       },
       "data": [
        {
         "alignmentgroup": "True",
         "bingroup": "x",
         "histfunc": "sum",
         "hovertemplate": "color=5<br>residual sugar=%{x}<br>sum of residual sugar=%{y}<extra></extra>",
         "legendgroup": "5",
         "marker": {
          "color": "#636efa",
          "pattern": {
           "shape": ""
          }
         },
         "name": "5",
         "offsetgroup": "5",
         "orientation": "v",
         "showlegend": true,
         "type": "histogram",
         "x": [
          1.9,
          2.6,
          2.3,
          1.8,
          1.6,
          6.1,
          1.8,
          1.6,
          1.6,
          3.8,
          3.9,
          1.7,
          2.3,
          1.6,
          2.3,
          1.4,
          1.8,
          1.9,
          2.4,
          2.3,
          1.8,
          5.9,
          2.2,
          1.8,
          2.2,
          1.6,
          1.6,
          1.4,
          1.7,
          3,
          3.8,
          3.4,
          5.1,
          2.3,
          2.2,
          1.8,
          2,
          4.65,
          1.5,
          1.6,
          2,
          2.1,
          1.9,
          2.5,
          2.2,
          2,
          1.6,
          1.9,
          2,
          1.8,
          2.2,
          1.9,
          2.1,
          1.8,
          1.9,
          2,
          3,
          2,
          2.5,
          2.1,
          2.2,
          1.7,
          1.7,
          2,
          1.8,
          2.2,
          2.2,
          1.7,
          2.5,
          2.6,
          1.6,
          1.9,
          1.7,
          1.8,
          1.8,
          2,
          2.3,
          1.9,
          1.8,
          2,
          2.1,
          2,
          1.7,
          1.8,
          1.8,
          1.6,
          1.8,
          5.5,
          5.5,
          2.2,
          2,
          7.3,
          7.2,
          1.7,
          2.1,
          1.8,
          2,
          1.5,
          2.5,
          2.4,
          2,
          2.5,
          1.8,
          2,
          2,
          2.6,
          2,
          1.9,
          2.9,
          3.8,
          2.2,
          2,
          2.4,
          2.1,
          1.5,
          1.6,
          1.8,
          2.7,
          2.2,
          5.6,
          2,
          2.2,
          1.9,
          2.4,
          2,
          1.5,
          2.6,
          2.6,
          1.7,
          1.9,
          2.3,
          3.1,
          1.9,
          3.2,
          2.2,
          2.1,
          1.8,
          1.7,
          1.7,
          1.8,
          2.4,
          4,
          2.4,
          7,
          3,
          3.4,
          3.3,
          2,
          2.5,
          2.6,
          2,
          2.3,
          2.1,
          2.6,
          1.6,
          2.1,
          2.2,
          3,
          2.6,
          3.4,
          3.4,
          2.3,
          4.5,
          2,
          2.1,
          2.8,
          1.9,
          2.4,
          4.8,
          3,
          2,
          2.5,
          2,
          2.6,
          2.8,
          2.3,
          2.2,
          2.1,
          2,
          2,
          2.3,
          7.9,
          2.3,
          2.7,
          2.4,
          1.9,
          2.7,
          6.6,
          1.9,
          1.8,
          2,
          1.3,
          2.2,
          2.3,
          1.5,
          2.6,
          2.1,
          1.6,
          2.3,
          2.7,
          2.6,
          2.55,
          2.2,
          2.9,
          1.2,
          2.6,
          2.1,
          2.2,
          2,
          15.5,
          2.2,
          2.2,
          1.9,
          2.5,
          4.6,
          6.1,
          2.5,
          2,
          2.3,
          2.5,
          2.4,
          2.8,
          2.4,
          2.7,
          5.15,
          3.3,
          2.1,
          2.6,
          1.6,
          4.2,
          4.2,
          2.8,
          2.4,
          2.9,
          2.4,
          2.8,
          2.9,
          2.2,
          2.2,
          1.9,
          2.6,
          3.5,
          2.6,
          7.9,
          2.6,
          2.5,
          2.7,
          1.5,
          2.3,
          2.7,
          2.3,
          3.4,
          3.4,
          1.9,
          5.6,
          2.2,
          2.3,
          2.7,
          1.9,
          1.4,
          2.4,
          2.3,
          2.3,
          2.3,
          3.6,
          2.2,
          2.5,
          7.5,
          2.4,
          2.9,
          1.6,
          2,
          2,
          2.3,
          2.5,
          1.7,
          2,
          2.2,
          2.3,
          2.6,
          3.3,
          1.9,
          2.25,
          2.6,
          2.3,
          1.8,
          3.1,
          1.6,
          1.8,
          2.6,
          2,
          2.8,
          2.7,
          3.2,
          6,
          2,
          3,
          2.8,
          3,
          3.2,
          2.3,
          2.6,
          2.6,
          2,
          3.9,
          2.85,
          2.7,
          2.2,
          3,
          1.8,
          2.3,
          3.45,
          2.1,
          2.7,
          2,
          2.1,
          2.8,
          2.4,
          2.6,
          1.9,
          2.8,
          2.7,
          2.6,
          2.9,
          2.5,
          2.2,
          2.5,
          2.8,
          2,
          2.9,
          2.7,
          1.9,
          2.4,
          2.3,
          3,
          3.4,
          2.6,
          2.4,
          2.4,
          2.5,
          2.3,
          2.9,
          2.9,
          2.6,
          2.6,
          2.5,
          4,
          3.3,
          1.9,
          2.6,
          2.5,
          2.35,
          3.2,
          1.9,
          2,
          2.8,
          2.8,
          1.6,
          1.5,
          2.2,
          3,
          2,
          1.8,
          1.6,
          1.9,
          2.5,
          2.7,
          2.7,
          2.5,
          2.6,
          1.5,
          2.5,
          1.6,
          2.5,
          6.6,
          2,
          2.3,
          2.6,
          3,
          2.6,
          1.5,
          2.3,
          2.3,
          1.9,
          2,
          1.6,
          1.9,
          2,
          1.6,
          2.1,
          2.1,
          2.9,
          1.7,
          2.1,
          2.6,
          1.4,
          1.9,
          1.6,
          1.7,
          2,
          2.5,
          1.6,
          2.8,
          2.1,
          1.8,
          2.1,
          2.2,
          4.1,
          1.8,
          2.2,
          1.8,
          1.4,
          2.4,
          3.9,
          2.8,
          8.1,
          6.4,
          1.8,
          2.5,
          1.5,
          2.1,
          3.3,
          2.5,
          2.7,
          1.7,
          3.7,
          2.3,
          2.2,
          2.2,
          1.7,
          1.9,
          2,
          2.1,
          1.65,
          1.6,
          2.1,
          7.8,
          2.3,
          2.3,
          5.8,
          1.7,
          2.1,
          2.6,
          4.1,
          2,
          2.1,
          2.6,
          1.7,
          2.5,
          2.4,
          1.8,
          1.7,
          2.2,
          1.8,
          1.4,
          1.9,
          2.4,
          1.8,
          1.8,
          2.5,
          1.9,
          2,
          2.3,
          1.8,
          2.6,
          4.5,
          1.9,
          4.3,
          1.8,
          2.3,
          1.9,
          2.5,
          1.4,
          1.9,
          2.6,
          1.8,
          1.8,
          3.8,
          2.2,
          2,
          1.4,
          2.6,
          2.1,
          1.8,
          2.8,
          2,
          1.9,
          2.3,
          1.8,
          1.8,
          5.4,
          2.3,
          2.5,
          2.2,
          1.7,
          1.7,
          3.8,
          2,
          1.4,
          1.8,
          2.1,
          1.8,
          3.4,
          1.8,
          6.1,
          2.2,
          2.4,
          1.3,
          2,
          3.9,
          1.6,
          2,
          2.1,
          2,
          2.2,
          1.6,
          1.6,
          2.2,
          1.6,
          2.5,
          1.9,
          2.2,
          1.8,
          1.6,
          4.8,
          1.7,
          1.9,
          1.75,
          1.9,
          1.9,
          1.9,
          1.7,
          1.7,
          1.4,
          3.75,
          1.8,
          13.8,
          3,
          1.5,
          2.1,
          2.1,
          1.9,
          1.7,
          1.6,
          1.9,
          1.5,
          4.3,
          2.4,
          1.8,
          2.1,
          2.3,
          2.2,
          2.6,
          2,
          2.1,
          2.8,
          1.9,
          2.5,
          1.8,
          2,
          1.6,
          2,
          2.3,
          2.3,
          2.2,
          2.2,
          6.7,
          2,
          2,
          1.6,
          2.2,
          1.7,
          2.6,
          2.1,
          7.8,
          2,
          2
         ],
         "xaxis": "x",
         "y": [
          1.9,
          2.6,
          2.3,
          1.8,
          1.6,
          6.1,
          1.8,
          1.6,
          1.6,
          3.8,
          3.9,
          1.7,
          2.3,
          1.6,
          2.3,
          1.4,
          1.8,
          1.9,
          2.4,
          2.3,
          1.8,
          5.9,
          2.2,
          1.8,
          2.2,
          1.6,
          1.6,
          1.4,
          1.7,
          3,
          3.8,
          3.4,
          5.1,
          2.3,
          2.2,
          1.8,
          2,
          4.65,
          1.5,
          1.6,
          2,
          2.1,
          1.9,
          2.5,
          2.2,
          2,
          1.6,
          1.9,
          2,
          1.8,
          2.2,
          1.9,
          2.1,
          1.8,
          1.9,
          2,
          3,
          2,
          2.5,
          2.1,
          2.2,
          1.7,
          1.7,
          2,
          1.8,
          2.2,
          2.2,
          1.7,
          2.5,
          2.6,
          1.6,
          1.9,
          1.7,
          1.8,
          1.8,
          2,
          2.3,
          1.9,
          1.8,
          2,
          2.1,
          2,
          1.7,
          1.8,
          1.8,
          1.6,
          1.8,
          5.5,
          5.5,
          2.2,
          2,
          7.3,
          7.2,
          1.7,
          2.1,
          1.8,
          2,
          1.5,
          2.5,
          2.4,
          2,
          2.5,
          1.8,
          2,
          2,
          2.6,
          2,
          1.9,
          2.9,
          3.8,
          2.2,
          2,
          2.4,
          2.1,
          1.5,
          1.6,
          1.8,
          2.7,
          2.2,
          5.6,
          2,
          2.2,
          1.9,
          2.4,
          2,
          1.5,
          2.6,
          2.6,
          1.7,
          1.9,
          2.3,
          3.1,
          1.9,
          3.2,
          2.2,
          2.1,
          1.8,
          1.7,
          1.7,
          1.8,
          2.4,
          4,
          2.4,
          7,
          3,
          3.4,
          3.3,
          2,
          2.5,
          2.6,
          2,
          2.3,
          2.1,
          2.6,
          1.6,
          2.1,
          2.2,
          3,
          2.6,
          3.4,
          3.4,
          2.3,
          4.5,
          2,
          2.1,
          2.8,
          1.9,
          2.4,
          4.8,
          3,
          2,
          2.5,
          2,
          2.6,
          2.8,
          2.3,
          2.2,
          2.1,
          2,
          2,
          2.3,
          7.9,
          2.3,
          2.7,
          2.4,
          1.9,
          2.7,
          6.6,
          1.9,
          1.8,
          2,
          1.3,
          2.2,
          2.3,
          1.5,
          2.6,
          2.1,
          1.6,
          2.3,
          2.7,
          2.6,
          2.55,
          2.2,
          2.9,
          1.2,
          2.6,
          2.1,
          2.2,
          2,
          15.5,
          2.2,
          2.2,
          1.9,
          2.5,
          4.6,
          6.1,
          2.5,
          2,
          2.3,
          2.5,
          2.4,
          2.8,
          2.4,
          2.7,
          5.15,
          3.3,
          2.1,
          2.6,
          1.6,
          4.2,
          4.2,
          2.8,
          2.4,
          2.9,
          2.4,
          2.8,
          2.9,
          2.2,
          2.2,
          1.9,
          2.6,
          3.5,
          2.6,
          7.9,
          2.6,
          2.5,
          2.7,
          1.5,
          2.3,
          2.7,
          2.3,
          3.4,
          3.4,
          1.9,
          5.6,
          2.2,
          2.3,
          2.7,
          1.9,
          1.4,
          2.4,
          2.3,
          2.3,
          2.3,
          3.6,
          2.2,
          2.5,
          7.5,
          2.4,
          2.9,
          1.6,
          2,
          2,
          2.3,
          2.5,
          1.7,
          2,
          2.2,
          2.3,
          2.6,
          3.3,
          1.9,
          2.25,
          2.6,
          2.3,
          1.8,
          3.1,
          1.6,
          1.8,
          2.6,
          2,
          2.8,
          2.7,
          3.2,
          6,
          2,
          3,
          2.8,
          3,
          3.2,
          2.3,
          2.6,
          2.6,
          2,
          3.9,
          2.85,
          2.7,
          2.2,
          3,
          1.8,
          2.3,
          3.45,
          2.1,
          2.7,
          2,
          2.1,
          2.8,
          2.4,
          2.6,
          1.9,
          2.8,
          2.7,
          2.6,
          2.9,
          2.5,
          2.2,
          2.5,
          2.8,
          2,
          2.9,
          2.7,
          1.9,
          2.4,
          2.3,
          3,
          3.4,
          2.6,
          2.4,
          2.4,
          2.5,
          2.3,
          2.9,
          2.9,
          2.6,
          2.6,
          2.5,
          4,
          3.3,
          1.9,
          2.6,
          2.5,
          2.35,
          3.2,
          1.9,
          2,
          2.8,
          2.8,
          1.6,
          1.5,
          2.2,
          3,
          2,
          1.8,
          1.6,
          1.9,
          2.5,
          2.7,
          2.7,
          2.5,
          2.6,
          1.5,
          2.5,
          1.6,
          2.5,
          6.6,
          2,
          2.3,
          2.6,
          3,
          2.6,
          1.5,
          2.3,
          2.3,
          1.9,
          2,
          1.6,
          1.9,
          2,
          1.6,
          2.1,
          2.1,
          2.9,
          1.7,
          2.1,
          2.6,
          1.4,
          1.9,
          1.6,
          1.7,
          2,
          2.5,
          1.6,
          2.8,
          2.1,
          1.8,
          2.1,
          2.2,
          4.1,
          1.8,
          2.2,
          1.8,
          1.4,
          2.4,
          3.9,
          2.8,
          8.1,
          6.4,
          1.8,
          2.5,
          1.5,
          2.1,
          3.3,
          2.5,
          2.7,
          1.7,
          3.7,
          2.3,
          2.2,
          2.2,
          1.7,
          1.9,
          2,
          2.1,
          1.65,
          1.6,
          2.1,
          7.8,
          2.3,
          2.3,
          5.8,
          1.7,
          2.1,
          2.6,
          4.1,
          2,
          2.1,
          2.6,
          1.7,
          2.5,
          2.4,
          1.8,
          1.7,
          2.2,
          1.8,
          1.4,
          1.9,
          2.4,
          1.8,
          1.8,
          2.5,
          1.9,
          2,
          2.3,
          1.8,
          2.6,
          4.5,
          1.9,
          4.3,
          1.8,
          2.3,
          1.9,
          2.5,
          1.4,
          1.9,
          2.6,
          1.8,
          1.8,
          3.8,
          2.2,
          2,
          1.4,
          2.6,
          2.1,
          1.8,
          2.8,
          2,
          1.9,
          2.3,
          1.8,
          1.8,
          5.4,
          2.3,
          2.5,
          2.2,
          1.7,
          1.7,
          3.8,
          2,
          1.4,
          1.8,
          2.1,
          1.8,
          3.4,
          1.8,
          6.1,
          2.2,
          2.4,
          1.3,
          2,
          3.9,
          1.6,
          2,
          2.1,
          2,
          2.2,
          1.6,
          1.6,
          2.2,
          1.6,
          2.5,
          1.9,
          2.2,
          1.8,
          1.6,
          4.8,
          1.7,
          1.9,
          1.75,
          1.9,
          1.9,
          1.9,
          1.7,
          1.7,
          1.4,
          3.75,
          1.8,
          13.8,
          3,
          1.5,
          2.1,
          2.1,
          1.9,
          1.7,
          1.6,
          1.9,
          1.5,
          4.3,
          2.4,
          1.8,
          2.1,
          2.3,
          2.2,
          2.6,
          2,
          2.1,
          2.8,
          1.9,
          2.5,
          1.8,
          2,
          1.6,
          2,
          2.3,
          2.3,
          2.2,
          2.2,
          6.7,
          2,
          2,
          1.6,
          2.2,
          1.7,
          2.6,
          2.1,
          7.8,
          2,
          2
         ],
         "yaxis": "y"
        },
        {
         "alignmentgroup": "True",
         "hovertemplate": "color=5<br>residual sugar=%{x}<extra></extra>",
         "legendgroup": "5",
         "marker": {
          "color": "#636efa"
         },
         "name": "5",
         "notched": true,
         "offsetgroup": "5",
         "showlegend": false,
         "type": "box",
         "x": [
          1.9,
          2.6,
          2.3,
          1.8,
          1.6,
          6.1,
          1.8,
          1.6,
          1.6,
          3.8,
          3.9,
          1.7,
          2.3,
          1.6,
          2.3,
          1.4,
          1.8,
          1.9,
          2.4,
          2.3,
          1.8,
          5.9,
          2.2,
          1.8,
          2.2,
          1.6,
          1.6,
          1.4,
          1.7,
          3,
          3.8,
          3.4,
          5.1,
          2.3,
          2.2,
          1.8,
          2,
          4.65,
          1.5,
          1.6,
          2,
          2.1,
          1.9,
          2.5,
          2.2,
          2,
          1.6,
          1.9,
          2,
          1.8,
          2.2,
          1.9,
          2.1,
          1.8,
          1.9,
          2,
          3,
          2,
          2.5,
          2.1,
          2.2,
          1.7,
          1.7,
          2,
          1.8,
          2.2,
          2.2,
          1.7,
          2.5,
          2.6,
          1.6,
          1.9,
          1.7,
          1.8,
          1.8,
          2,
          2.3,
          1.9,
          1.8,
          2,
          2.1,
          2,
          1.7,
          1.8,
          1.8,
          1.6,
          1.8,
          5.5,
          5.5,
          2.2,
          2,
          7.3,
          7.2,
          1.7,
          2.1,
          1.8,
          2,
          1.5,
          2.5,
          2.4,
          2,
          2.5,
          1.8,
          2,
          2,
          2.6,
          2,
          1.9,
          2.9,
          3.8,
          2.2,
          2,
          2.4,
          2.1,
          1.5,
          1.6,
          1.8,
          2.7,
          2.2,
          5.6,
          2,
          2.2,
          1.9,
          2.4,
          2,
          1.5,
          2.6,
          2.6,
          1.7,
          1.9,
          2.3,
          3.1,
          1.9,
          3.2,
          2.2,
          2.1,
          1.8,
          1.7,
          1.7,
          1.8,
          2.4,
          4,
          2.4,
          7,
          3,
          3.4,
          3.3,
          2,
          2.5,
          2.6,
          2,
          2.3,
          2.1,
          2.6,
          1.6,
          2.1,
          2.2,
          3,
          2.6,
          3.4,
          3.4,
          2.3,
          4.5,
          2,
          2.1,
          2.8,
          1.9,
          2.4,
          4.8,
          3,
          2,
          2.5,
          2,
          2.6,
          2.8,
          2.3,
          2.2,
          2.1,
          2,
          2,
          2.3,
          7.9,
          2.3,
          2.7,
          2.4,
          1.9,
          2.7,
          6.6,
          1.9,
          1.8,
          2,
          1.3,
          2.2,
          2.3,
          1.5,
          2.6,
          2.1,
          1.6,
          2.3,
          2.7,
          2.6,
          2.55,
          2.2,
          2.9,
          1.2,
          2.6,
          2.1,
          2.2,
          2,
          15.5,
          2.2,
          2.2,
          1.9,
          2.5,
          4.6,
          6.1,
          2.5,
          2,
          2.3,
          2.5,
          2.4,
          2.8,
          2.4,
          2.7,
          5.15,
          3.3,
          2.1,
          2.6,
          1.6,
          4.2,
          4.2,
          2.8,
          2.4,
          2.9,
          2.4,
          2.8,
          2.9,
          2.2,
          2.2,
          1.9,
          2.6,
          3.5,
          2.6,
          7.9,
          2.6,
          2.5,
          2.7,
          1.5,
          2.3,
          2.7,
          2.3,
          3.4,
          3.4,
          1.9,
          5.6,
          2.2,
          2.3,
          2.7,
          1.9,
          1.4,
          2.4,
          2.3,
          2.3,
          2.3,
          3.6,
          2.2,
          2.5,
          7.5,
          2.4,
          2.9,
          1.6,
          2,
          2,
          2.3,
          2.5,
          1.7,
          2,
          2.2,
          2.3,
          2.6,
          3.3,
          1.9,
          2.25,
          2.6,
          2.3,
          1.8,
          3.1,
          1.6,
          1.8,
          2.6,
          2,
          2.8,
          2.7,
          3.2,
          6,
          2,
          3,
          2.8,
          3,
          3.2,
          2.3,
          2.6,
          2.6,
          2,
          3.9,
          2.85,
          2.7,
          2.2,
          3,
          1.8,
          2.3,
          3.45,
          2.1,
          2.7,
          2,
          2.1,
          2.8,
          2.4,
          2.6,
          1.9,
          2.8,
          2.7,
          2.6,
          2.9,
          2.5,
          2.2,
          2.5,
          2.8,
          2,
          2.9,
          2.7,
          1.9,
          2.4,
          2.3,
          3,
          3.4,
          2.6,
          2.4,
          2.4,
          2.5,
          2.3,
          2.9,
          2.9,
          2.6,
          2.6,
          2.5,
          4,
          3.3,
          1.9,
          2.6,
          2.5,
          2.35,
          3.2,
          1.9,
          2,
          2.8,
          2.8,
          1.6,
          1.5,
          2.2,
          3,
          2,
          1.8,
          1.6,
          1.9,
          2.5,
          2.7,
          2.7,
          2.5,
          2.6,
          1.5,
          2.5,
          1.6,
          2.5,
          6.6,
          2,
          2.3,
          2.6,
          3,
          2.6,
          1.5,
          2.3,
          2.3,
          1.9,
          2,
          1.6,
          1.9,
          2,
          1.6,
          2.1,
          2.1,
          2.9,
          1.7,
          2.1,
          2.6,
          1.4,
          1.9,
          1.6,
          1.7,
          2,
          2.5,
          1.6,
          2.8,
          2.1,
          1.8,
          2.1,
          2.2,
          4.1,
          1.8,
          2.2,
          1.8,
          1.4,
          2.4,
          3.9,
          2.8,
          8.1,
          6.4,
          1.8,
          2.5,
          1.5,
          2.1,
          3.3,
          2.5,
          2.7,
          1.7,
          3.7,
          2.3,
          2.2,
          2.2,
          1.7,
          1.9,
          2,
          2.1,
          1.65,
          1.6,
          2.1,
          7.8,
          2.3,
          2.3,
          5.8,
          1.7,
          2.1,
          2.6,
          4.1,
          2,
          2.1,
          2.6,
          1.7,
          2.5,
          2.4,
          1.8,
          1.7,
          2.2,
          1.8,
          1.4,
          1.9,
          2.4,
          1.8,
          1.8,
          2.5,
          1.9,
          2,
          2.3,
          1.8,
          2.6,
          4.5,
          1.9,
          4.3,
          1.8,
          2.3,
          1.9,
          2.5,
          1.4,
          1.9,
          2.6,
          1.8,
          1.8,
          3.8,
          2.2,
          2,
          1.4,
          2.6,
          2.1,
          1.8,
          2.8,
          2,
          1.9,
          2.3,
          1.8,
          1.8,
          5.4,
          2.3,
          2.5,
          2.2,
          1.7,
          1.7,
          3.8,
          2,
          1.4,
          1.8,
          2.1,
          1.8,
          3.4,
          1.8,
          6.1,
          2.2,
          2.4,
          1.3,
          2,
          3.9,
          1.6,
          2,
          2.1,
          2,
          2.2,
          1.6,
          1.6,
          2.2,
          1.6,
          2.5,
          1.9,
          2.2,
          1.8,
          1.6,
          4.8,
          1.7,
          1.9,
          1.75,
          1.9,
          1.9,
          1.9,
          1.7,
          1.7,
          1.4,
          3.75,
          1.8,
          13.8,
          3,
          1.5,
          2.1,
          2.1,
          1.9,
          1.7,
          1.6,
          1.9,
          1.5,
          4.3,
          2.4,
          1.8,
          2.1,
          2.3,
          2.2,
          2.6,
          2,
          2.1,
          2.8,
          1.9,
          2.5,
          1.8,
          2,
          1.6,
          2,
          2.3,
          2.3,
          2.2,
          2.2,
          6.7,
          2,
          2,
          1.6,
          2.2,
          1.7,
          2.6,
          2.1,
          7.8,
          2,
          2
         ],
         "xaxis": "x2",
         "yaxis": "y2"
        },
        {
         "alignmentgroup": "True",
         "bingroup": "x",
         "histfunc": "sum",
         "hovertemplate": "color=6<br>residual sugar=%{x}<br>sum of residual sugar=%{y}<extra></extra>",
         "legendgroup": "6",
         "marker": {
          "color": "#EF553B",
          "pattern": {
           "shape": ""
          }
         },
         "name": "6",
         "offsetgroup": "6",
         "orientation": "v",
         "showlegend": true,
         "type": "histogram",
         "x": [
          1.9,
          1.8,
          1.8,
          2.4,
          2,
          2.5,
          10.7,
          5.5,
          2.4,
          2.6,
          2.2,
          2.1,
          2.8,
          2.4,
          1.9,
          1.9,
          2.4,
          1.8,
          1.9,
          2.3,
          1.9,
          2.1,
          1.9,
          2.5,
          2.3,
          2.2,
          1.9,
          2,
          2.2,
          1.8,
          1.5,
          2.2,
          1.8,
          2.3,
          2.8,
          2.1,
          1.9,
          1.7,
          2.1,
          2,
          1.9,
          2.3,
          1.9,
          1.9,
          2,
          1.6,
          2,
          2.8,
          2.1,
          2.4,
          2,
          2,
          2.6,
          2,
          1.8,
          2.8,
          2.3,
          1.9,
          1.9,
          2.1,
          1.8,
          2,
          1.7,
          1.6,
          1.8,
          3,
          4,
          4,
          3.6,
          2,
          3,
          2.7,
          2.4,
          3.2,
          2.6,
          1.5,
          2.5,
          2.4,
          2.4,
          1.7,
          2,
          2.8,
          2.5,
          2.9,
          2.8,
          11,
          2.6,
          2.9,
          3.2,
          1.9,
          3,
          2.4,
          2.7,
          1.8,
          2.6,
          3,
          2.8,
          2.6,
          2.7,
          2.6,
          1.4,
          2.4,
          2.6,
          2.6,
          3.4,
          1.6,
          1.8,
          3.8,
          3,
          6.2,
          2.5,
          2,
          2.9,
          2.4,
          2,
          1.9,
          1.9,
          2.6,
          1.7,
          2.6,
          2.7,
          1.4,
          2.5,
          3.7,
          2.5,
          2.2,
          2,
          2.1,
          1.9,
          2.4,
          2.3,
          3.2,
          2,
          3.2,
          2.15,
          2.1,
          2,
          2.8,
          1.8,
          1.7,
          2.3,
          2.1,
          2,
          2.6,
          2.1,
          2.4,
          2.6,
          1.7,
          1.8,
          2.7,
          4.1,
          1.8,
          2.6,
          2.8,
          3,
          8.3,
          1.9,
          2.3,
          2.2,
          2.1,
          4.3,
          2.8,
          2.7,
          2.5,
          2.6,
          2.1,
          2.1,
          2.7,
          2.1,
          6.3,
          2.5,
          1.8,
          2,
          2.5,
          2.6,
          1.9,
          2.1,
          2.8,
          2.7,
          4.6,
          4.3,
          2.7,
          2.5,
          2.6,
          2.2,
          3.3,
          3.2,
          3.1,
          2.2,
          2.4,
          1.7,
          2,
          1.9,
          2.1,
          2.3,
          2.2,
          2.9,
          2.6,
          3.3,
          5.1,
          3.2,
          2.4,
          2.2,
          2.2,
          2.9,
          2.5,
          3,
          1.9,
          8.6,
          2.8,
          1.4,
          1.6,
          1.8,
          1.8,
          2,
          2.2,
          2.2,
          1.3,
          2.1,
          2.1,
          2.9,
          2.1,
          2.5,
          1.6,
          2.7,
          2.8,
          3.2,
          2.5,
          4.2,
          2.1,
          2.5,
          2.1,
          1.7,
          1.9,
          2,
          1.7,
          2.8,
          3,
          2.3,
          1.8,
          1.8,
          2.4,
          2.4,
          2,
          2.2,
          2.6,
          2.5,
          2.3,
          3.6,
          2.5,
          2.7,
          2.8,
          2.8,
          2.8,
          3.2,
          1.6,
          2.1,
          2.6,
          1.7,
          1.8,
          1.5,
          1.8,
          2,
          2.3,
          2,
          2,
          2.1,
          4,
          2.1,
          3.1,
          2.4,
          2.5,
          1.9,
          2.2,
          2.3,
          2.2,
          2.4,
          1.2,
          3.8,
          9,
          2.9,
          2.2,
          8.8,
          2.2,
          1.8,
          2.3,
          1.9,
          2.3,
          2.7,
          2.1,
          2,
          1.9,
          2,
          2.4,
          2.4,
          1.9,
          1.9,
          2.1,
          2,
          1.5,
          2,
          2,
          1.4,
          1.65,
          2,
          1.6,
          2,
          2.2,
          0.9,
          2.4,
          2.3,
          2.8,
          1.9,
          2.5,
          2.6,
          2.5,
          2.2,
          1.7,
          3.3,
          1.4,
          1.7,
          1.7,
          1.8,
          2,
          1.8,
          1.9,
          2.4,
          2,
          2.4,
          1.8,
          2.7,
          2,
          1.4,
          1.8,
          2.4,
          1.6,
          2,
          2,
          5.5,
          2.1,
          2.1,
          1.7,
          2.2,
          1.9,
          2.1,
          1.4,
          1.5,
          1.6,
          4.3,
          2.5,
          2.1,
          1.8,
          1.4,
          1.9,
          1.7,
          2.9,
          3.3,
          1.9,
          1.7,
          2,
          2,
          1.7,
          2.5,
          2.4,
          1.8,
          2.5,
          1.8,
          2,
          2,
          2.5,
          2.1,
          2.2,
          2.8,
          1.4,
          2.8,
          2.3,
          1.6,
          2.2,
          2.1,
          1.7,
          2.2,
          2.4,
          2.5,
          2,
          4.6,
          1.8,
          1.8,
          2.3,
          1.5,
          2,
          2.1,
          1.9,
          1.9,
          2.1,
          2,
          1.9,
          1.9,
          1.3,
          1.8,
          2.2,
          2.2,
          2.5,
          2.7,
          2.2,
          1.7,
          2,
          13.4,
          2.2,
          2.3,
          4.8,
          2.7,
          1.8,
          2.3,
          2.3,
          2,
          1.6,
          1.6,
          2.1,
          2.3,
          1.9,
          1.9,
          2,
          2.7,
          2.5,
          2.1,
          2.4,
          2.1,
          1.4,
          2.15,
          2,
          2.1,
          3,
          2.3,
          2.4,
          2,
          1.2,
          2.2,
          1.7,
          1.2,
          1.7,
          2.1,
          1.7,
          2.4,
          1.7,
          1.7,
          2.3,
          2.3,
          2.5,
          1.4,
          1.9,
          2.2,
          2.1,
          3.1,
          2.3,
          2,
          2.6,
          2.3,
          1.6,
          2.2,
          2,
          2.6,
          5.1,
          2.1,
          1.8,
          2.4,
          2.1,
          1.4,
          1.8,
          2.1,
          1.6,
          15.4,
          2.2,
          5.2,
          2.2,
          5.2,
          2.2,
          1.6,
          1.8,
          2.3,
          2.3,
          2.4,
          2.6,
          2.1,
          1.8,
          1.9,
          2.3,
          2.3,
          2.5,
          2.3,
          2,
          2.1,
          2.2,
          2.2,
          1.8,
          4.1,
          4.1,
          2,
          2,
          2.2,
          1.7,
          2.2,
          2.1,
          2.2,
          2,
          2.2,
          1.9,
          1.9,
          4.4,
          1.9,
          2.2,
          1.8,
          3.7,
          2.4,
          1.9,
          2.1,
          1.9,
          2.2,
          2.2,
          2.4,
          13.9,
          2.2,
          1.6,
          5.1,
          1.8,
          2.4,
          2.6,
          2.4,
          1.8,
          2.5,
          1.8,
          1.7,
          2.3,
          1.9,
          2.2,
          3.6
         ],
         "xaxis": "x",
         "y": [
          1.9,
          1.8,
          1.8,
          2.4,
          2,
          2.5,
          10.7,
          5.5,
          2.4,
          2.6,
          2.2,
          2.1,
          2.8,
          2.4,
          1.9,
          1.9,
          2.4,
          1.8,
          1.9,
          2.3,
          1.9,
          2.1,
          1.9,
          2.5,
          2.3,
          2.2,
          1.9,
          2,
          2.2,
          1.8,
          1.5,
          2.2,
          1.8,
          2.3,
          2.8,
          2.1,
          1.9,
          1.7,
          2.1,
          2,
          1.9,
          2.3,
          1.9,
          1.9,
          2,
          1.6,
          2,
          2.8,
          2.1,
          2.4,
          2,
          2,
          2.6,
          2,
          1.8,
          2.8,
          2.3,
          1.9,
          1.9,
          2.1,
          1.8,
          2,
          1.7,
          1.6,
          1.8,
          3,
          4,
          4,
          3.6,
          2,
          3,
          2.7,
          2.4,
          3.2,
          2.6,
          1.5,
          2.5,
          2.4,
          2.4,
          1.7,
          2,
          2.8,
          2.5,
          2.9,
          2.8,
          11,
          2.6,
          2.9,
          3.2,
          1.9,
          3,
          2.4,
          2.7,
          1.8,
          2.6,
          3,
          2.8,
          2.6,
          2.7,
          2.6,
          1.4,
          2.4,
          2.6,
          2.6,
          3.4,
          1.6,
          1.8,
          3.8,
          3,
          6.2,
          2.5,
          2,
          2.9,
          2.4,
          2,
          1.9,
          1.9,
          2.6,
          1.7,
          2.6,
          2.7,
          1.4,
          2.5,
          3.7,
          2.5,
          2.2,
          2,
          2.1,
          1.9,
          2.4,
          2.3,
          3.2,
          2,
          3.2,
          2.15,
          2.1,
          2,
          2.8,
          1.8,
          1.7,
          2.3,
          2.1,
          2,
          2.6,
          2.1,
          2.4,
          2.6,
          1.7,
          1.8,
          2.7,
          4.1,
          1.8,
          2.6,
          2.8,
          3,
          8.3,
          1.9,
          2.3,
          2.2,
          2.1,
          4.3,
          2.8,
          2.7,
          2.5,
          2.6,
          2.1,
          2.1,
          2.7,
          2.1,
          6.3,
          2.5,
          1.8,
          2,
          2.5,
          2.6,
          1.9,
          2.1,
          2.8,
          2.7,
          4.6,
          4.3,
          2.7,
          2.5,
          2.6,
          2.2,
          3.3,
          3.2,
          3.1,
          2.2,
          2.4,
          1.7,
          2,
          1.9,
          2.1,
          2.3,
          2.2,
          2.9,
          2.6,
          3.3,
          5.1,
          3.2,
          2.4,
          2.2,
          2.2,
          2.9,
          2.5,
          3,
          1.9,
          8.6,
          2.8,
          1.4,
          1.6,
          1.8,
          1.8,
          2,
          2.2,
          2.2,
          1.3,
          2.1,
          2.1,
          2.9,
          2.1,
          2.5,
          1.6,
          2.7,
          2.8,
          3.2,
          2.5,
          4.2,
          2.1,
          2.5,
          2.1,
          1.7,
          1.9,
          2,
          1.7,
          2.8,
          3,
          2.3,
          1.8,
          1.8,
          2.4,
          2.4,
          2,
          2.2,
          2.6,
          2.5,
          2.3,
          3.6,
          2.5,
          2.7,
          2.8,
          2.8,
          2.8,
          3.2,
          1.6,
          2.1,
          2.6,
          1.7,
          1.8,
          1.5,
          1.8,
          2,
          2.3,
          2,
          2,
          2.1,
          4,
          2.1,
          3.1,
          2.4,
          2.5,
          1.9,
          2.2,
          2.3,
          2.2,
          2.4,
          1.2,
          3.8,
          9,
          2.9,
          2.2,
          8.8,
          2.2,
          1.8,
          2.3,
          1.9,
          2.3,
          2.7,
          2.1,
          2,
          1.9,
          2,
          2.4,
          2.4,
          1.9,
          1.9,
          2.1,
          2,
          1.5,
          2,
          2,
          1.4,
          1.65,
          2,
          1.6,
          2,
          2.2,
          0.9,
          2.4,
          2.3,
          2.8,
          1.9,
          2.5,
          2.6,
          2.5,
          2.2,
          1.7,
          3.3,
          1.4,
          1.7,
          1.7,
          1.8,
          2,
          1.8,
          1.9,
          2.4,
          2,
          2.4,
          1.8,
          2.7,
          2,
          1.4,
          1.8,
          2.4,
          1.6,
          2,
          2,
          5.5,
          2.1,
          2.1,
          1.7,
          2.2,
          1.9,
          2.1,
          1.4,
          1.5,
          1.6,
          4.3,
          2.5,
          2.1,
          1.8,
          1.4,
          1.9,
          1.7,
          2.9,
          3.3,
          1.9,
          1.7,
          2,
          2,
          1.7,
          2.5,
          2.4,
          1.8,
          2.5,
          1.8,
          2,
          2,
          2.5,
          2.1,
          2.2,
          2.8,
          1.4,
          2.8,
          2.3,
          1.6,
          2.2,
          2.1,
          1.7,
          2.2,
          2.4,
          2.5,
          2,
          4.6,
          1.8,
          1.8,
          2.3,
          1.5,
          2,
          2.1,
          1.9,
          1.9,
          2.1,
          2,
          1.9,
          1.9,
          1.3,
          1.8,
          2.2,
          2.2,
          2.5,
          2.7,
          2.2,
          1.7,
          2,
          13.4,
          2.2,
          2.3,
          4.8,
          2.7,
          1.8,
          2.3,
          2.3,
          2,
          1.6,
          1.6,
          2.1,
          2.3,
          1.9,
          1.9,
          2,
          2.7,
          2.5,
          2.1,
          2.4,
          2.1,
          1.4,
          2.15,
          2,
          2.1,
          3,
          2.3,
          2.4,
          2,
          1.2,
          2.2,
          1.7,
          1.2,
          1.7,
          2.1,
          1.7,
          2.4,
          1.7,
          1.7,
          2.3,
          2.3,
          2.5,
          1.4,
          1.9,
          2.2,
          2.1,
          3.1,
          2.3,
          2,
          2.6,
          2.3,
          1.6,
          2.2,
          2,
          2.6,
          5.1,
          2.1,
          1.8,
          2.4,
          2.1,
          1.4,
          1.8,
          2.1,
          1.6,
          15.4,
          2.2,
          5.2,
          2.2,
          5.2,
          2.2,
          1.6,
          1.8,
          2.3,
          2.3,
          2.4,
          2.6,
          2.1,
          1.8,
          1.9,
          2.3,
          2.3,
          2.5,
          2.3,
          2,
          2.1,
          2.2,
          2.2,
          1.8,
          4.1,
          4.1,
          2,
          2,
          2.2,
          1.7,
          2.2,
          2.1,
          2.2,
          2,
          2.2,
          1.9,
          1.9,
          4.4,
          1.9,
          2.2,
          1.8,
          3.7,
          2.4,
          1.9,
          2.1,
          1.9,
          2.2,
          2.2,
          2.4,
          13.9,
          2.2,
          1.6,
          5.1,
          1.8,
          2.4,
          2.6,
          2.4,
          1.8,
          2.5,
          1.8,
          1.7,
          2.3,
          1.9,
          2.2,
          3.6
         ],
         "yaxis": "y"
        },
        {
         "alignmentgroup": "True",
         "hovertemplate": "color=6<br>residual sugar=%{x}<extra></extra>",
         "legendgroup": "6",
         "marker": {
          "color": "#EF553B"
         },
         "name": "6",
         "notched": true,
         "offsetgroup": "6",
         "showlegend": false,
         "type": "box",
         "x": [
          1.9,
          1.8,
          1.8,
          2.4,
          2,
          2.5,
          10.7,
          5.5,
          2.4,
          2.6,
          2.2,
          2.1,
          2.8,
          2.4,
          1.9,
          1.9,
          2.4,
          1.8,
          1.9,
          2.3,
          1.9,
          2.1,
          1.9,
          2.5,
          2.3,
          2.2,
          1.9,
          2,
          2.2,
          1.8,
          1.5,
          2.2,
          1.8,
          2.3,
          2.8,
          2.1,
          1.9,
          1.7,
          2.1,
          2,
          1.9,
          2.3,
          1.9,
          1.9,
          2,
          1.6,
          2,
          2.8,
          2.1,
          2.4,
          2,
          2,
          2.6,
          2,
          1.8,
          2.8,
          2.3,
          1.9,
          1.9,
          2.1,
          1.8,
          2,
          1.7,
          1.6,
          1.8,
          3,
          4,
          4,
          3.6,
          2,
          3,
          2.7,
          2.4,
          3.2,
          2.6,
          1.5,
          2.5,
          2.4,
          2.4,
          1.7,
          2,
          2.8,
          2.5,
          2.9,
          2.8,
          11,
          2.6,
          2.9,
          3.2,
          1.9,
          3,
          2.4,
          2.7,
          1.8,
          2.6,
          3,
          2.8,
          2.6,
          2.7,
          2.6,
          1.4,
          2.4,
          2.6,
          2.6,
          3.4,
          1.6,
          1.8,
          3.8,
          3,
          6.2,
          2.5,
          2,
          2.9,
          2.4,
          2,
          1.9,
          1.9,
          2.6,
          1.7,
          2.6,
          2.7,
          1.4,
          2.5,
          3.7,
          2.5,
          2.2,
          2,
          2.1,
          1.9,
          2.4,
          2.3,
          3.2,
          2,
          3.2,
          2.15,
          2.1,
          2,
          2.8,
          1.8,
          1.7,
          2.3,
          2.1,
          2,
          2.6,
          2.1,
          2.4,
          2.6,
          1.7,
          1.8,
          2.7,
          4.1,
          1.8,
          2.6,
          2.8,
          3,
          8.3,
          1.9,
          2.3,
          2.2,
          2.1,
          4.3,
          2.8,
          2.7,
          2.5,
          2.6,
          2.1,
          2.1,
          2.7,
          2.1,
          6.3,
          2.5,
          1.8,
          2,
          2.5,
          2.6,
          1.9,
          2.1,
          2.8,
          2.7,
          4.6,
          4.3,
          2.7,
          2.5,
          2.6,
          2.2,
          3.3,
          3.2,
          3.1,
          2.2,
          2.4,
          1.7,
          2,
          1.9,
          2.1,
          2.3,
          2.2,
          2.9,
          2.6,
          3.3,
          5.1,
          3.2,
          2.4,
          2.2,
          2.2,
          2.9,
          2.5,
          3,
          1.9,
          8.6,
          2.8,
          1.4,
          1.6,
          1.8,
          1.8,
          2,
          2.2,
          2.2,
          1.3,
          2.1,
          2.1,
          2.9,
          2.1,
          2.5,
          1.6,
          2.7,
          2.8,
          3.2,
          2.5,
          4.2,
          2.1,
          2.5,
          2.1,
          1.7,
          1.9,
          2,
          1.7,
          2.8,
          3,
          2.3,
          1.8,
          1.8,
          2.4,
          2.4,
          2,
          2.2,
          2.6,
          2.5,
          2.3,
          3.6,
          2.5,
          2.7,
          2.8,
          2.8,
          2.8,
          3.2,
          1.6,
          2.1,
          2.6,
          1.7,
          1.8,
          1.5,
          1.8,
          2,
          2.3,
          2,
          2,
          2.1,
          4,
          2.1,
          3.1,
          2.4,
          2.5,
          1.9,
          2.2,
          2.3,
          2.2,
          2.4,
          1.2,
          3.8,
          9,
          2.9,
          2.2,
          8.8,
          2.2,
          1.8,
          2.3,
          1.9,
          2.3,
          2.7,
          2.1,
          2,
          1.9,
          2,
          2.4,
          2.4,
          1.9,
          1.9,
          2.1,
          2,
          1.5,
          2,
          2,
          1.4,
          1.65,
          2,
          1.6,
          2,
          2.2,
          0.9,
          2.4,
          2.3,
          2.8,
          1.9,
          2.5,
          2.6,
          2.5,
          2.2,
          1.7,
          3.3,
          1.4,
          1.7,
          1.7,
          1.8,
          2,
          1.8,
          1.9,
          2.4,
          2,
          2.4,
          1.8,
          2.7,
          2,
          1.4,
          1.8,
          2.4,
          1.6,
          2,
          2,
          5.5,
          2.1,
          2.1,
          1.7,
          2.2,
          1.9,
          2.1,
          1.4,
          1.5,
          1.6,
          4.3,
          2.5,
          2.1,
          1.8,
          1.4,
          1.9,
          1.7,
          2.9,
          3.3,
          1.9,
          1.7,
          2,
          2,
          1.7,
          2.5,
          2.4,
          1.8,
          2.5,
          1.8,
          2,
          2,
          2.5,
          2.1,
          2.2,
          2.8,
          1.4,
          2.8,
          2.3,
          1.6,
          2.2,
          2.1,
          1.7,
          2.2,
          2.4,
          2.5,
          2,
          4.6,
          1.8,
          1.8,
          2.3,
          1.5,
          2,
          2.1,
          1.9,
          1.9,
          2.1,
          2,
          1.9,
          1.9,
          1.3,
          1.8,
          2.2,
          2.2,
          2.5,
          2.7,
          2.2,
          1.7,
          2,
          13.4,
          2.2,
          2.3,
          4.8,
          2.7,
          1.8,
          2.3,
          2.3,
          2,
          1.6,
          1.6,
          2.1,
          2.3,
          1.9,
          1.9,
          2,
          2.7,
          2.5,
          2.1,
          2.4,
          2.1,
          1.4,
          2.15,
          2,
          2.1,
          3,
          2.3,
          2.4,
          2,
          1.2,
          2.2,
          1.7,
          1.2,
          1.7,
          2.1,
          1.7,
          2.4,
          1.7,
          1.7,
          2.3,
          2.3,
          2.5,
          1.4,
          1.9,
          2.2,
          2.1,
          3.1,
          2.3,
          2,
          2.6,
          2.3,
          1.6,
          2.2,
          2,
          2.6,
          5.1,
          2.1,
          1.8,
          2.4,
          2.1,
          1.4,
          1.8,
          2.1,
          1.6,
          15.4,
          2.2,
          5.2,
          2.2,
          5.2,
          2.2,
          1.6,
          1.8,
          2.3,
          2.3,
          2.4,
          2.6,
          2.1,
          1.8,
          1.9,
          2.3,
          2.3,
          2.5,
          2.3,
          2,
          2.1,
          2.2,
          2.2,
          1.8,
          4.1,
          4.1,
          2,
          2,
          2.2,
          1.7,
          2.2,
          2.1,
          2.2,
          2,
          2.2,
          1.9,
          1.9,
          4.4,
          1.9,
          2.2,
          1.8,
          3.7,
          2.4,
          1.9,
          2.1,
          1.9,
          2.2,
          2.2,
          2.4,
          13.9,
          2.2,
          1.6,
          5.1,
          1.8,
          2.4,
          2.6,
          2.4,
          1.8,
          2.5,
          1.8,
          1.7,
          2.3,
          1.9,
          2.2,
          3.6
         ],
         "xaxis": "x2",
         "yaxis": "y2"
        },
        {
         "alignmentgroup": "True",
         "bingroup": "x",
         "histfunc": "sum",
         "hovertemplate": "color=7<br>residual sugar=%{x}<br>sum of residual sugar=%{y}<extra></extra>",
         "legendgroup": "7",
         "marker": {
          "color": "#00cc96",
          "pattern": {
           "shape": ""
          }
         },
         "name": "7",
         "offsetgroup": "7",
         "orientation": "v",
         "showlegend": true,
         "type": "histogram",
         "x": [
          1.2,
          2,
          1.8,
          2.1,
          1.9,
          1.8,
          1.2,
          1.4,
          2.6,
          2.1,
          1.6,
          2.2,
          2.6,
          1.8,
          5.6,
          3.5,
          2.5,
          3.2,
          3.65,
          2.5,
          3.4,
          2.3,
          2.7,
          2.95,
          3.1,
          5.8,
          2.4,
          4.4,
          2.5,
          4.2,
          3,
          6.7,
          2.4,
          2.3,
          2.1,
          3.7,
          2.7,
          1.7,
          2.8,
          2.8,
          2.5,
          2.6,
          6.55,
          1.9,
          1.8,
          2.9,
          1.8,
          2.8,
          2.4,
          5.8,
          1.9,
          3.4,
          2.7,
          2.6,
          4.6,
          2.2,
          6,
          2.8,
          1.4,
          1.6,
          1.7,
          2.4,
          2,
          2.1,
          2.3,
          2.4,
          1.6,
          2.65,
          2.5,
          2.5,
          1.7,
          1.6,
          2.1,
          2.8,
          2.6,
          2.4,
          2.4,
          6,
          4.6,
          1.9,
          3.3,
          2.8,
          2.2,
          5,
          2.6,
          2.3,
          3.8,
          2,
          4.1,
          2.1,
          1.8,
          2.2,
          2.1,
          2.3,
          2.4,
          2.4,
          5.9,
          3.6,
          1.4,
          2.2,
          2.2,
          1.5,
          2.05,
          1.8,
          2,
          3.6,
          1.7,
          2.2,
          1.8,
          2.1,
          1.8,
          2.4,
          2.5,
          6.2,
          8.9,
          2.3,
          4,
          2.4,
          2.4,
          2.2,
          1.5,
          2,
          8.3,
          8.3,
          4.7,
          1.5,
          2.2,
          2.1,
          2,
          2,
          1.7,
          1.8,
          5.5,
          1.7,
          6.2,
          2.8,
          1.75,
          2.1,
          2.3,
          2.3,
          2.5,
          2.4,
          2.5,
          1.9,
          2.1,
          2,
          1.8,
          1.7,
          1.8,
          2.2,
          2,
          2.2,
          2.5,
          1.8,
          2,
          2.7,
          2,
          1.7,
          2.1,
          2.2,
          2.2,
          1.4,
          2.4,
          2.2,
          2.3,
          1.7,
          2.4
         ],
         "xaxis": "x",
         "y": [
          1.2,
          2,
          1.8,
          2.1,
          1.9,
          1.8,
          1.2,
          1.4,
          2.6,
          2.1,
          1.6,
          2.2,
          2.6,
          1.8,
          5.6,
          3.5,
          2.5,
          3.2,
          3.65,
          2.5,
          3.4,
          2.3,
          2.7,
          2.95,
          3.1,
          5.8,
          2.4,
          4.4,
          2.5,
          4.2,
          3,
          6.7,
          2.4,
          2.3,
          2.1,
          3.7,
          2.7,
          1.7,
          2.8,
          2.8,
          2.5,
          2.6,
          6.55,
          1.9,
          1.8,
          2.9,
          1.8,
          2.8,
          2.4,
          5.8,
          1.9,
          3.4,
          2.7,
          2.6,
          4.6,
          2.2,
          6,
          2.8,
          1.4,
          1.6,
          1.7,
          2.4,
          2,
          2.1,
          2.3,
          2.4,
          1.6,
          2.65,
          2.5,
          2.5,
          1.7,
          1.6,
          2.1,
          2.8,
          2.6,
          2.4,
          2.4,
          6,
          4.6,
          1.9,
          3.3,
          2.8,
          2.2,
          5,
          2.6,
          2.3,
          3.8,
          2,
          4.1,
          2.1,
          1.8,
          2.2,
          2.1,
          2.3,
          2.4,
          2.4,
          5.9,
          3.6,
          1.4,
          2.2,
          2.2,
          1.5,
          2.05,
          1.8,
          2,
          3.6,
          1.7,
          2.2,
          1.8,
          2.1,
          1.8,
          2.4,
          2.5,
          6.2,
          8.9,
          2.3,
          4,
          2.4,
          2.4,
          2.2,
          1.5,
          2,
          8.3,
          8.3,
          4.7,
          1.5,
          2.2,
          2.1,
          2,
          2,
          1.7,
          1.8,
          5.5,
          1.7,
          6.2,
          2.8,
          1.75,
          2.1,
          2.3,
          2.3,
          2.5,
          2.4,
          2.5,
          1.9,
          2.1,
          2,
          1.8,
          1.7,
          1.8,
          2.2,
          2,
          2.2,
          2.5,
          1.8,
          2,
          2.7,
          2,
          1.7,
          2.1,
          2.2,
          2.2,
          1.4,
          2.4,
          2.2,
          2.3,
          1.7,
          2.4
         ],
         "yaxis": "y"
        },
        {
         "alignmentgroup": "True",
         "hovertemplate": "color=7<br>residual sugar=%{x}<extra></extra>",
         "legendgroup": "7",
         "marker": {
          "color": "#00cc96"
         },
         "name": "7",
         "notched": true,
         "offsetgroup": "7",
         "showlegend": false,
         "type": "box",
         "x": [
          1.2,
          2,
          1.8,
          2.1,
          1.9,
          1.8,
          1.2,
          1.4,
          2.6,
          2.1,
          1.6,
          2.2,
          2.6,
          1.8,
          5.6,
          3.5,
          2.5,
          3.2,
          3.65,
          2.5,
          3.4,
          2.3,
          2.7,
          2.95,
          3.1,
          5.8,
          2.4,
          4.4,
          2.5,
          4.2,
          3,
          6.7,
          2.4,
          2.3,
          2.1,
          3.7,
          2.7,
          1.7,
          2.8,
          2.8,
          2.5,
          2.6,
          6.55,
          1.9,
          1.8,
          2.9,
          1.8,
          2.8,
          2.4,
          5.8,
          1.9,
          3.4,
          2.7,
          2.6,
          4.6,
          2.2,
          6,
          2.8,
          1.4,
          1.6,
          1.7,
          2.4,
          2,
          2.1,
          2.3,
          2.4,
          1.6,
          2.65,
          2.5,
          2.5,
          1.7,
          1.6,
          2.1,
          2.8,
          2.6,
          2.4,
          2.4,
          6,
          4.6,
          1.9,
          3.3,
          2.8,
          2.2,
          5,
          2.6,
          2.3,
          3.8,
          2,
          4.1,
          2.1,
          1.8,
          2.2,
          2.1,
          2.3,
          2.4,
          2.4,
          5.9,
          3.6,
          1.4,
          2.2,
          2.2,
          1.5,
          2.05,
          1.8,
          2,
          3.6,
          1.7,
          2.2,
          1.8,
          2.1,
          1.8,
          2.4,
          2.5,
          6.2,
          8.9,
          2.3,
          4,
          2.4,
          2.4,
          2.2,
          1.5,
          2,
          8.3,
          8.3,
          4.7,
          1.5,
          2.2,
          2.1,
          2,
          2,
          1.7,
          1.8,
          5.5,
          1.7,
          6.2,
          2.8,
          1.75,
          2.1,
          2.3,
          2.3,
          2.5,
          2.4,
          2.5,
          1.9,
          2.1,
          2,
          1.8,
          1.7,
          1.8,
          2.2,
          2,
          2.2,
          2.5,
          1.8,
          2,
          2.7,
          2,
          1.7,
          2.1,
          2.2,
          2.2,
          1.4,
          2.4,
          2.2,
          2.3,
          1.7,
          2.4
         ],
         "xaxis": "x2",
         "yaxis": "y2"
        },
        {
         "alignmentgroup": "True",
         "bingroup": "x",
         "histfunc": "sum",
         "hovertemplate": "color=4<br>residual sugar=%{x}<br>sum of residual sugar=%{y}<extra></extra>",
         "legendgroup": "4",
         "marker": {
          "color": "#ab63fa",
          "pattern": {
           "shape": ""
          }
         },
         "name": "4",
         "offsetgroup": "4",
         "orientation": "v",
         "showlegend": true,
         "type": "histogram",
         "x": [
          4.4,
          1.5,
          2.8,
          2.1,
          2.1,
          1.5,
          1.4,
          3.4,
          1.3,
          1.6,
          1.8,
          2.1,
          2,
          2,
          3.3,
          4.5,
          2.1,
          2.3,
          2.1,
          3.4,
          2.2,
          4.4,
          2.6,
          1.6,
          3.1,
          2.1,
          2.5,
          1.6,
          2,
          2.2,
          2.2,
          1.4,
          2.2,
          5.6,
          1.8,
          2.2,
          12.9,
          2.5,
          4.3,
          2,
          2.2,
          6.3,
          1.9,
          3.9,
          2,
          1.6,
          3.9,
          2.1,
          2.3,
          1.5,
          2.1,
          2,
          1.9
         ],
         "xaxis": "x",
         "y": [
          4.4,
          1.5,
          2.8,
          2.1,
          2.1,
          1.5,
          1.4,
          3.4,
          1.3,
          1.6,
          1.8,
          2.1,
          2,
          2,
          3.3,
          4.5,
          2.1,
          2.3,
          2.1,
          3.4,
          2.2,
          4.4,
          2.6,
          1.6,
          3.1,
          2.1,
          2.5,
          1.6,
          2,
          2.2,
          2.2,
          1.4,
          2.2,
          5.6,
          1.8,
          2.2,
          12.9,
          2.5,
          4.3,
          2,
          2.2,
          6.3,
          1.9,
          3.9,
          2,
          1.6,
          3.9,
          2.1,
          2.3,
          1.5,
          2.1,
          2,
          1.9
         ],
         "yaxis": "y"
        },
        {
         "alignmentgroup": "True",
         "hovertemplate": "color=4<br>residual sugar=%{x}<extra></extra>",
         "legendgroup": "4",
         "marker": {
          "color": "#ab63fa"
         },
         "name": "4",
         "notched": true,
         "offsetgroup": "4",
         "showlegend": false,
         "type": "box",
         "x": [
          4.4,
          1.5,
          2.8,
          2.1,
          2.1,
          1.5,
          1.4,
          3.4,
          1.3,
          1.6,
          1.8,
          2.1,
          2,
          2,
          3.3,
          4.5,
          2.1,
          2.3,
          2.1,
          3.4,
          2.2,
          4.4,
          2.6,
          1.6,
          3.1,
          2.1,
          2.5,
          1.6,
          2,
          2.2,
          2.2,
          1.4,
          2.2,
          5.6,
          1.8,
          2.2,
          12.9,
          2.5,
          4.3,
          2,
          2.2,
          6.3,
          1.9,
          3.9,
          2,
          1.6,
          3.9,
          2.1,
          2.3,
          1.5,
          2.1,
          2,
          1.9
         ],
         "xaxis": "x2",
         "yaxis": "y2"
        },
        {
         "alignmentgroup": "True",
         "bingroup": "x",
         "histfunc": "sum",
         "hovertemplate": "color=8<br>residual sugar=%{x}<br>sum of residual sugar=%{y}<extra></extra>",
         "legendgroup": "8",
         "marker": {
          "color": "#FFA15A",
          "pattern": {
           "shape": ""
          }
         },
         "name": "8",
         "offsetgroup": "8",
         "orientation": "v",
         "showlegend": true,
         "type": "histogram",
         "x": [
          3.6,
          6.4,
          1.4,
          2.2,
          5.2,
          2.8,
          2.6,
          2,
          2.3,
          1.8,
          1.9,
          2.5,
          1.8,
          1.8,
          1.7,
          2,
          1.8
         ],
         "xaxis": "x",
         "y": [
          3.6,
          6.4,
          1.4,
          2.2,
          5.2,
          2.8,
          2.6,
          2,
          2.3,
          1.8,
          1.9,
          2.5,
          1.8,
          1.8,
          1.7,
          2,
          1.8
         ],
         "yaxis": "y"
        },
        {
         "alignmentgroup": "True",
         "hovertemplate": "color=8<br>residual sugar=%{x}<extra></extra>",
         "legendgroup": "8",
         "marker": {
          "color": "#FFA15A"
         },
         "name": "8",
         "notched": true,
         "offsetgroup": "8",
         "showlegend": false,
         "type": "box",
         "x": [
          3.6,
          6.4,
          1.4,
          2.2,
          5.2,
          2.8,
          2.6,
          2,
          2.3,
          1.8,
          1.9,
          2.5,
          1.8,
          1.8,
          1.7,
          2,
          1.8
         ],
         "xaxis": "x2",
         "yaxis": "y2"
        },
        {
         "alignmentgroup": "True",
         "bingroup": "x",
         "histfunc": "sum",
         "hovertemplate": "color=3<br>residual sugar=%{x}<br>sum of residual sugar=%{y}<extra></extra>",
         "legendgroup": "3",
         "marker": {
          "color": "#19d3f3",
          "pattern": {
           "shape": ""
          }
         },
         "name": "3",
         "offsetgroup": "3",
         "orientation": "v",
         "showlegend": true,
         "type": "histogram",
         "x": [
          2.2,
          2.1,
          4.25,
          1.5,
          3.4,
          2.1,
          1.2,
          2.1,
          5.7,
          1.8
         ],
         "xaxis": "x",
         "y": [
          2.2,
          2.1,
          4.25,
          1.5,
          3.4,
          2.1,
          1.2,
          2.1,
          5.7,
          1.8
         ],
         "yaxis": "y"
        },
        {
         "alignmentgroup": "True",
         "hovertemplate": "color=3<br>residual sugar=%{x}<extra></extra>",
         "legendgroup": "3",
         "marker": {
          "color": "#19d3f3"
         },
         "name": "3",
         "notched": true,
         "offsetgroup": "3",
         "showlegend": false,
         "type": "box",
         "x": [
          2.2,
          2.1,
          4.25,
          1.5,
          3.4,
          2.1,
          1.2,
          2.1,
          5.7,
          1.8
         ],
         "xaxis": "x2",
         "yaxis": "y2"
        }
       ],
       "layout": {
        "barmode": "relative",
        "legend": {
         "title": {
          "text": "color"
         },
         "tracegroupgap": 0
        },
        "margin": {
         "t": 60
        },
        "template": {
         "data": {
          "bar": [
           {
            "error_x": {
             "color": "#2a3f5f"
            },
            "error_y": {
             "color": "#2a3f5f"
            },
            "marker": {
             "line": {
              "color": "#E5ECF6",
              "width": 0.5
             },
             "pattern": {
              "fillmode": "overlay",
              "size": 10,
              "solidity": 0.2
             }
            },
            "type": "bar"
           }
          ],
          "barpolar": [
           {
            "marker": {
             "line": {
              "color": "#E5ECF6",
              "width": 0.5
             },
             "pattern": {
              "fillmode": "overlay",
              "size": 10,
              "solidity": 0.2
             }
            },
            "type": "barpolar"
           }
          ],
          "carpet": [
           {
            "aaxis": {
             "endlinecolor": "#2a3f5f",
             "gridcolor": "white",
             "linecolor": "white",
             "minorgridcolor": "white",
             "startlinecolor": "#2a3f5f"
            },
            "baxis": {
             "endlinecolor": "#2a3f5f",
             "gridcolor": "white",
             "linecolor": "white",
             "minorgridcolor": "white",
             "startlinecolor": "#2a3f5f"
            },
            "type": "carpet"
           }
          ],
          "choropleth": [
           {
            "colorbar": {
             "outlinewidth": 0,
             "ticks": ""
            },
            "type": "choropleth"
           }
          ],
          "contour": [
           {
            "colorbar": {
             "outlinewidth": 0,
             "ticks": ""
            },
            "colorscale": [
             [
              0,
              "#0d0887"
             ],
             [
              0.1111111111111111,
              "#46039f"
             ],
             [
              0.2222222222222222,
              "#7201a8"
             ],
             [
              0.3333333333333333,
              "#9c179e"
             ],
             [
              0.4444444444444444,
              "#bd3786"
             ],
             [
              0.5555555555555556,
              "#d8576b"
             ],
             [
              0.6666666666666666,
              "#ed7953"
             ],
             [
              0.7777777777777778,
              "#fb9f3a"
             ],
             [
              0.8888888888888888,
              "#fdca26"
             ],
             [
              1,
              "#f0f921"
             ]
            ],
            "type": "contour"
           }
          ],
          "contourcarpet": [
           {
            "colorbar": {
             "outlinewidth": 0,
             "ticks": ""
            },
            "type": "contourcarpet"
           }
          ],
          "heatmap": [
           {
            "colorbar": {
             "outlinewidth": 0,
             "ticks": ""
            },
            "colorscale": [
             [
              0,
              "#0d0887"
             ],
             [
              0.1111111111111111,
              "#46039f"
             ],
             [
              0.2222222222222222,
              "#7201a8"
             ],
             [
              0.3333333333333333,
              "#9c179e"
             ],
             [
              0.4444444444444444,
              "#bd3786"
             ],
             [
              0.5555555555555556,
              "#d8576b"
             ],
             [
              0.6666666666666666,
              "#ed7953"
             ],
             [
              0.7777777777777778,
              "#fb9f3a"
             ],
             [
              0.8888888888888888,
              "#fdca26"
             ],
             [
              1,
              "#f0f921"
             ]
            ],
            "type": "heatmap"
           }
          ],
          "heatmapgl": [
           {
            "colorbar": {
             "outlinewidth": 0,
             "ticks": ""
            },
            "colorscale": [
             [
              0,
              "#0d0887"
             ],
             [
              0.1111111111111111,
              "#46039f"
             ],
             [
              0.2222222222222222,
              "#7201a8"
             ],
             [
              0.3333333333333333,
              "#9c179e"
             ],
             [
              0.4444444444444444,
              "#bd3786"
             ],
             [
              0.5555555555555556,
              "#d8576b"
             ],
             [
              0.6666666666666666,
              "#ed7953"
             ],
             [
              0.7777777777777778,
              "#fb9f3a"
             ],
             [
              0.8888888888888888,
              "#fdca26"
             ],
             [
              1,
              "#f0f921"
             ]
            ],
            "type": "heatmapgl"
           }
          ],
          "histogram": [
           {
            "marker": {
             "pattern": {
              "fillmode": "overlay",
              "size": 10,
              "solidity": 0.2
             }
            },
            "type": "histogram"
           }
          ],
          "histogram2d": [
           {
            "colorbar": {
             "outlinewidth": 0,
             "ticks": ""
            },
            "colorscale": [
             [
              0,
              "#0d0887"
             ],
             [
              0.1111111111111111,
              "#46039f"
             ],
             [
              0.2222222222222222,
              "#7201a8"
             ],
             [
              0.3333333333333333,
              "#9c179e"
             ],
             [
              0.4444444444444444,
              "#bd3786"
             ],
             [
              0.5555555555555556,
              "#d8576b"
             ],
             [
              0.6666666666666666,
              "#ed7953"
             ],
             [
              0.7777777777777778,
              "#fb9f3a"
             ],
             [
              0.8888888888888888,
              "#fdca26"
             ],
             [
              1,
              "#f0f921"
             ]
            ],
            "type": "histogram2d"
           }
          ],
          "histogram2dcontour": [
           {
            "colorbar": {
             "outlinewidth": 0,
             "ticks": ""
            },
            "colorscale": [
             [
              0,
              "#0d0887"
             ],
             [
              0.1111111111111111,
              "#46039f"
             ],
             [
              0.2222222222222222,
              "#7201a8"
             ],
             [
              0.3333333333333333,
              "#9c179e"
             ],
             [
              0.4444444444444444,
              "#bd3786"
             ],
             [
              0.5555555555555556,
              "#d8576b"
             ],
             [
              0.6666666666666666,
              "#ed7953"
             ],
             [
              0.7777777777777778,
              "#fb9f3a"
             ],
             [
              0.8888888888888888,
              "#fdca26"
             ],
             [
              1,
              "#f0f921"
             ]
            ],
            "type": "histogram2dcontour"
           }
          ],
          "mesh3d": [
           {
            "colorbar": {
             "outlinewidth": 0,
             "ticks": ""
            },
            "type": "mesh3d"
           }
          ],
          "parcoords": [
           {
            "line": {
             "colorbar": {
              "outlinewidth": 0,
              "ticks": ""
             }
            },
            "type": "parcoords"
           }
          ],
          "pie": [
           {
            "automargin": true,
            "type": "pie"
           }
          ],
          "scatter": [
           {
            "fillpattern": {
             "fillmode": "overlay",
             "size": 10,
             "solidity": 0.2
            },
            "type": "scatter"
           }
          ],
          "scatter3d": [
           {
            "line": {
             "colorbar": {
              "outlinewidth": 0,
              "ticks": ""
             }
            },
            "marker": {
             "colorbar": {
              "outlinewidth": 0,
              "ticks": ""
             }
            },
            "type": "scatter3d"
           }
          ],
          "scattercarpet": [
           {
            "marker": {
             "colorbar": {
              "outlinewidth": 0,
              "ticks": ""
             }
            },
            "type": "scattercarpet"
           }
          ],
          "scattergeo": [
           {
            "marker": {
             "colorbar": {
              "outlinewidth": 0,
              "ticks": ""
             }
            },
            "type": "scattergeo"
           }
          ],
          "scattergl": [
           {
            "marker": {
             "colorbar": {
              "outlinewidth": 0,
              "ticks": ""
             }
            },
            "type": "scattergl"
           }
          ],
          "scattermapbox": [
           {
            "marker": {
             "colorbar": {
              "outlinewidth": 0,
              "ticks": ""
             }
            },
            "type": "scattermapbox"
           }
          ],
          "scatterpolar": [
           {
            "marker": {
             "colorbar": {
              "outlinewidth": 0,
              "ticks": ""
             }
            },
            "type": "scatterpolar"
           }
          ],
          "scatterpolargl": [
           {
            "marker": {
             "colorbar": {
              "outlinewidth": 0,
              "ticks": ""
             }
            },
            "type": "scatterpolargl"
           }
          ],
          "scatterternary": [
           {
            "marker": {
             "colorbar": {
              "outlinewidth": 0,
              "ticks": ""
             }
            },
            "type": "scatterternary"
           }
          ],
          "surface": [
           {
            "colorbar": {
             "outlinewidth": 0,
             "ticks": ""
            },
            "colorscale": [
             [
              0,
              "#0d0887"
             ],
             [
              0.1111111111111111,
              "#46039f"
             ],
             [
              0.2222222222222222,
              "#7201a8"
             ],
             [
              0.3333333333333333,
              "#9c179e"
             ],
             [
              0.4444444444444444,
              "#bd3786"
             ],
             [
              0.5555555555555556,
              "#d8576b"
             ],
             [
              0.6666666666666666,
              "#ed7953"
             ],
             [
              0.7777777777777778,
              "#fb9f3a"
             ],
             [
              0.8888888888888888,
              "#fdca26"
             ],
             [
              1,
              "#f0f921"
             ]
            ],
            "type": "surface"
           }
          ],
          "table": [
           {
            "cells": {
             "fill": {
              "color": "#EBF0F8"
             },
             "line": {
              "color": "white"
             }
            },
            "header": {
             "fill": {
              "color": "#C8D4E3"
             },
             "line": {
              "color": "white"
             }
            },
            "type": "table"
           }
          ]
         },
         "layout": {
          "annotationdefaults": {
           "arrowcolor": "#2a3f5f",
           "arrowhead": 0,
           "arrowwidth": 1
          },
          "autotypenumbers": "strict",
          "coloraxis": {
           "colorbar": {
            "outlinewidth": 0,
            "ticks": ""
           }
          },
          "colorscale": {
           "diverging": [
            [
             0,
             "#8e0152"
            ],
            [
             0.1,
             "#c51b7d"
            ],
            [
             0.2,
             "#de77ae"
            ],
            [
             0.3,
             "#f1b6da"
            ],
            [
             0.4,
             "#fde0ef"
            ],
            [
             0.5,
             "#f7f7f7"
            ],
            [
             0.6,
             "#e6f5d0"
            ],
            [
             0.7,
             "#b8e186"
            ],
            [
             0.8,
             "#7fbc41"
            ],
            [
             0.9,
             "#4d9221"
            ],
            [
             1,
             "#276419"
            ]
           ],
           "sequential": [
            [
             0,
             "#0d0887"
            ],
            [
             0.1111111111111111,
             "#46039f"
            ],
            [
             0.2222222222222222,
             "#7201a8"
            ],
            [
             0.3333333333333333,
             "#9c179e"
            ],
            [
             0.4444444444444444,
             "#bd3786"
            ],
            [
             0.5555555555555556,
             "#d8576b"
            ],
            [
             0.6666666666666666,
             "#ed7953"
            ],
            [
             0.7777777777777778,
             "#fb9f3a"
            ],
            [
             0.8888888888888888,
             "#fdca26"
            ],
            [
             1,
             "#f0f921"
            ]
           ],
           "sequentialminus": [
            [
             0,
             "#0d0887"
            ],
            [
             0.1111111111111111,
             "#46039f"
            ],
            [
             0.2222222222222222,
             "#7201a8"
            ],
            [
             0.3333333333333333,
             "#9c179e"
            ],
            [
             0.4444444444444444,
             "#bd3786"
            ],
            [
             0.5555555555555556,
             "#d8576b"
            ],
            [
             0.6666666666666666,
             "#ed7953"
            ],
            [
             0.7777777777777778,
             "#fb9f3a"
            ],
            [
             0.8888888888888888,
             "#fdca26"
            ],
            [
             1,
             "#f0f921"
            ]
           ]
          },
          "colorway": [
           "#636efa",
           "#EF553B",
           "#00cc96",
           "#ab63fa",
           "#FFA15A",
           "#19d3f3",
           "#FF6692",
           "#B6E880",
           "#FF97FF",
           "#FECB52"
          ],
          "font": {
           "color": "#2a3f5f"
          },
          "geo": {
           "bgcolor": "white",
           "lakecolor": "white",
           "landcolor": "#E5ECF6",
           "showlakes": true,
           "showland": true,
           "subunitcolor": "white"
          },
          "hoverlabel": {
           "align": "left"
          },
          "hovermode": "closest",
          "mapbox": {
           "style": "light"
          },
          "paper_bgcolor": "white",
          "plot_bgcolor": "#E5ECF6",
          "polar": {
           "angularaxis": {
            "gridcolor": "white",
            "linecolor": "white",
            "ticks": ""
           },
           "bgcolor": "#E5ECF6",
           "radialaxis": {
            "gridcolor": "white",
            "linecolor": "white",
            "ticks": ""
           }
          },
          "scene": {
           "xaxis": {
            "backgroundcolor": "#E5ECF6",
            "gridcolor": "white",
            "gridwidth": 2,
            "linecolor": "white",
            "showbackground": true,
            "ticks": "",
            "zerolinecolor": "white"
           },
           "yaxis": {
            "backgroundcolor": "#E5ECF6",
            "gridcolor": "white",
            "gridwidth": 2,
            "linecolor": "white",
            "showbackground": true,
            "ticks": "",
            "zerolinecolor": "white"
           },
           "zaxis": {
            "backgroundcolor": "#E5ECF6",
            "gridcolor": "white",
            "gridwidth": 2,
            "linecolor": "white",
            "showbackground": true,
            "ticks": "",
            "zerolinecolor": "white"
           }
          },
          "shapedefaults": {
           "line": {
            "color": "#2a3f5f"
           }
          },
          "ternary": {
           "aaxis": {
            "gridcolor": "white",
            "linecolor": "white",
            "ticks": ""
           },
           "baxis": {
            "gridcolor": "white",
            "linecolor": "white",
            "ticks": ""
           },
           "bgcolor": "#E5ECF6",
           "caxis": {
            "gridcolor": "white",
            "linecolor": "white",
            "ticks": ""
           }
          },
          "title": {
           "x": 0.05
          },
          "xaxis": {
           "automargin": true,
           "gridcolor": "white",
           "linecolor": "white",
           "ticks": "",
           "title": {
            "standoff": 15
           },
           "zerolinecolor": "white",
           "zerolinewidth": 2
          },
          "yaxis": {
           "automargin": true,
           "gridcolor": "white",
           "linecolor": "white",
           "ticks": "",
           "title": {
            "standoff": 15
           },
           "zerolinecolor": "white",
           "zerolinewidth": 2
          }
         }
        },
        "title": {
         "font": {
          "size": 15
         },
         "text": "The Distribution of Residual Sugar by Quality",
         "x": 0.5,
         "xanchor": "center",
         "y": 0.95,
         "yanchor": "top"
        },
        "xaxis": {
         "anchor": "y",
         "domain": [
          0,
          1
         ],
         "title": {
          "text": "Residual Sugar"
         }
        },
        "xaxis2": {
         "anchor": "y2",
         "domain": [
          0,
          1
         ],
         "matches": "x",
         "showgrid": true,
         "showticklabels": false
        },
        "yaxis": {
         "anchor": "x",
         "domain": [
          0,
          0.7326
         ],
         "title": {
          "text": "Sum of Residual Sugar"
         }
        },
        "yaxis2": {
         "anchor": "x2",
         "domain": [
          0.7426,
          1
         ],
         "matches": "y2",
         "showgrid": false,
         "showline": false,
         "showticklabels": false,
         "ticks": ""
        }
       }
      }
     },
     "metadata": {},
     "output_type": "display_data"
    }
   ],
   "source": [
    "import plotly.express as px\n",
    "\n",
    "fig = px.histogram(df['residual sugar'], x=\"residual sugar\", y=\"residual sugar\", color=df['quality'], marginal=\"box\")\n",
    "fig.update_layout(yaxis_title='Sum of Residual Sugar', xaxis_title='Residual Sugar', title={'text': 'The Distribution of Residual Sugar by Quality','x': 0.5,'y': 0.95,'xanchor': 'center','yanchor': 'top','font': dict(size=15)})"
   ]
  },
  {
   "cell_type": "code",
   "execution_count": 146,
   "metadata": {},
   "outputs": [
    {
     "data": {
      "application/vnd.plotly.v1+json": {
       "config": {
        "plotlyServerURL": "https://plot.ly"
       },
       "data": [
        {
         "alignmentgroup": "True",
         "bingroup": "x",
         "histfunc": "sum",
         "hovertemplate": "color=5<br>chlorides=%{x}<br>sum of chlorides=%{y}<extra></extra>",
         "legendgroup": "5",
         "marker": {
          "color": "#636efa",
          "pattern": {
           "shape": ""
          }
         },
         "name": "5",
         "offsetgroup": "5",
         "orientation": "v",
         "showlegend": true,
         "type": "histogram",
         "x": [
          0.076,
          0.098,
          0.092,
          0.075,
          0.069,
          0.071,
          0.0969999999999999,
          0.089,
          0.114,
          0.176,
          0.17,
          0.368,
          0.0819999999999999,
          0.106,
          0.084,
          0.08,
          0.08,
          0.08,
          0.089,
          0.083,
          0.103,
          0.074,
          0.069,
          0.05,
          0.114,
          0.113,
          0.066,
          0.074,
          0.074,
          0.081,
          0.084,
          0.07,
          0.111,
          0.076,
          0.079,
          0.115,
          0.081,
          0.086,
          0.079,
          0.076,
          0.074,
          0.088,
          0.084,
          0.094,
          0.093,
          0.086,
          0.069,
          0.4639999999999999,
          0.086,
          0.401,
          0.076,
          0.062,
          0.107,
          0.076,
          0.079,
          0.11,
          0.102,
          0.07,
          0.079,
          0.077,
          0.07,
          0.467,
          0.088,
          0.122,
          0.104,
          0.084,
          0.085,
          0.178,
          0.075,
          0.08,
          0.0819999999999999,
          0.146,
          0.081,
          0.0819999999999999,
          0.072,
          0.118,
          0.049,
          0.09,
          0.089,
          0.081,
          0.081,
          0.081,
          0.066,
          0.1169999999999999,
          0.087,
          0.236,
          0.095,
          0.07,
          0.071,
          0.073,
          0.09,
          0.07,
          0.07,
          0.1,
          0.085,
          0.36,
          0.08,
          0.085,
          0.068,
          0.067,
          0.27,
          0.076,
          0.077,
          0.111,
          0.0819999999999999,
          0.084,
          0.084,
          0.0819999999999999,
          0.077,
          0.099,
          0.071,
          0.074,
          0.074,
          0.0969999999999999,
          0.075,
          0.088,
          0.069,
          0.1,
          0.06,
          0.06,
          0.1009999999999999,
          0.072,
          0.076,
          0.08,
          0.1009999999999999,
          0.057,
          0.089,
          0.081,
          0.263,
          0.075,
          0.072,
          0.09,
          0.092,
          0.073,
          0.075,
          0.075,
          0.611,
          0.077,
          0.07,
          0.077,
          0.064,
          0.071,
          0.076,
          0.088,
          0.067,
          0.102,
          0.105,
          0.3429999999999999,
          0.073,
          0.086,
          0.083,
          0.094,
          0.08,
          0.092,
          0.186,
          0.1119999999999999,
          0.0819999999999999,
          0.076,
          0.087,
          0.102,
          0.09,
          0.079,
          0.107,
          0.061,
          0.105,
          0.08,
          0.067,
          0.09,
          0.12,
          0.08,
          0.099,
          0.072,
          0.071,
          0.076,
          0.159,
          0.063,
          0.106,
          0.087,
          0.0819999999999999,
          0.1119999999999999,
          0.063,
          0.122,
          0.064,
          0.075,
          0.08,
          0.1,
          0.087,
          0.1169999999999999,
          0.091,
          0.066,
          0.047,
          0.07,
          0.074,
          0.091,
          0.062,
          0.081,
          0.127,
          0.063,
          0.095,
          0.0969999999999999,
          0.087,
          0.085,
          0.098,
          0.098,
          0.07,
          0.093,
          0.062,
          0.087,
          0.091,
          0.069,
          0.152,
          0.152,
          0.054,
          0.09,
          0.073,
          0.122,
          0.088,
          0.088,
          0.099,
          0.085,
          0.086,
          0.105,
          0.077,
          0.098,
          0.1,
          0.1009999999999999,
          0.07,
          0.094,
          0.05,
          0.095,
          0.095,
          0.075,
          0.078,
          0.094,
          0.075,
          0.083,
          0.085,
          0.089,
          0.083,
          0.108,
          0.084,
          0.094,
          0.096,
          0.086,
          0.081,
          0.083,
          0.081,
          0.0579999999999999,
          0.079,
          0.122,
          0.088,
          0.076,
          0.078,
          0.08,
          0.124,
          0.098,
          0.111,
          0.105,
          0.073,
          0.065,
          0.086,
          0.084,
          0.071,
          0.071,
          0.107,
          0.106,
          0.104,
          0.096,
          0.074,
          0.087,
          0.08,
          0.092,
          0.084,
          0.059,
          0.083,
          0.074,
          0.079,
          0.064,
          0.084,
          0.081,
          0.06,
          0.07,
          0.078,
          0.059,
          0.078,
          0.07,
          0.095,
          0.039,
          0.157,
          0.087,
          0.422,
          0.084,
          0.084,
          0.087,
          0.073,
          0.093,
          0.077,
          0.08,
          0.093,
          0.084,
          0.075,
          0.078,
          0.079,
          0.0819999999999999,
          0.086,
          0.094,
          0.084,
          0.053,
          0.077,
          0.067,
          0.387,
          0.088,
          0.092,
          0.0819999999999999,
          0.075,
          0.1119999999999999,
          0.092,
          0.088,
          0.078,
          0.065,
          0.096,
          0.095,
          0.083,
          0.089,
          0.0969999999999999,
          0.084,
          0.092,
          0.075,
          0.096,
          0.089,
          0.103,
          0.076,
          0.0819999999999999,
          0.0819999999999999,
          0.102,
          0.079,
          0.076,
          0.114,
          0.081,
          0.077,
          0.083,
          0.099,
          0.084,
          0.055,
          0.132,
          0.126,
          0.0819999999999999,
          0.068,
          0.165,
          0.068,
          0.099,
          0.071,
          0.0969999999999999,
          0.099,
          0.076,
          0.068,
          0.076,
          0.088,
          0.066,
          0.092,
          0.115,
          0.088,
          0.081,
          0.08,
          0.085,
          0.08,
          0.077,
          0.067,
          0.078,
          0.077,
          0.086,
          0.076,
          0.078,
          0.086,
          0.1119999999999999,
          0.071,
          0.078,
          0.0559999999999999,
          0.081,
          0.084,
          0.161,
          0.091,
          0.055,
          0.08,
          0.074,
          0.073,
          0.09,
          0.089,
          0.078,
          0.115,
          0.0969999999999999,
          0.079,
          0.079,
          0.083,
          0.109,
          0.075,
          0.079,
          0.08,
          0.0969999999999999,
          0.0819999999999999,
          0.092,
          0.081,
          0.1159999999999999,
          0.102,
          0.078,
          0.062,
          0.065,
          0.095,
          0.074,
          0.088,
          0.0819999999999999,
          0.414,
          0.073,
          0.104,
          0.086,
          0.098,
          0.08,
          0.074,
          0.087,
          0.096,
          0.048,
          0.09,
          0.066,
          0.095,
          0.045,
          0.104,
          0.066,
          0.118,
          0.11,
          0.078,
          0.369,
          0.111,
          0.0409999999999999,
          0.068,
          0.07,
          0.08,
          0.079,
          0.166,
          0.166,
          0.111,
          0.136,
          0.076,
          0.091,
          0.08,
          0.104,
          0.075,
          0.074,
          0.076,
          0.079,
          0.0819999999999999,
          0.0819999999999999,
          0.086,
          0.077,
          0.123,
          0.096,
          0.079,
          0.069,
          0.0819999999999999,
          0.4029999999999999,
          0.081,
          0.077,
          0.073,
          0.071,
          0.09,
          0.0559999999999999,
          0.068,
          0.1,
          0.093,
          0.081,
          0.087,
          0.073,
          0.088,
          0.071,
          0.083,
          0.094,
          0.0579999999999999,
          0.073,
          0.107,
          0.079,
          0.166,
          0.057,
          0.077,
          0.0559999999999999,
          0.078,
          0.081,
          0.069,
          0.086,
          0.077,
          0.086,
          0.084,
          0.168,
          0.1119999999999999,
          0.093,
          0.115,
          0.094,
          0.415,
          0.11,
          0.083,
          0.086,
          0.074,
          0.08,
          0.107,
          0.076,
          0.1,
          0.083,
          0.08,
          0.094,
          0.07,
          0.078,
          0.07,
          0.09,
          0.08,
          0.08,
          0.104,
          0.077,
          0.065,
          0.077,
          0.077,
          0.079,
          0.078,
          0.072,
          0.049,
          0.066,
          0.1689999999999999,
          0.07,
          0.052,
          0.078,
          0.0579999999999999,
          0.08,
          0.08,
          0.074,
          0.067,
          0.063,
          0.084,
          0.067,
          0.071,
          0.205,
          0.104,
          0.042,
          0.074,
          0.07,
          0.066,
          0.049,
          0.05,
          0.089,
          0.076,
          0.083,
          0.078,
          0.062,
          0.068,
          0.071,
          0.114,
          0.106,
          0.076,
          0.064,
          0.081,
          0.074,
          0.081,
          0.065,
          0.072,
          0.048,
          0.099,
          0.087,
          0.083,
          0.08,
          0.066,
          0.235,
          0.08,
          0.076,
          0.077,
          0.069,
          0.053,
          0.053,
          0.074,
          0.073,
          0.09,
          0.075
         ],
         "xaxis": "x",
         "y": [
          0.076,
          0.098,
          0.092,
          0.075,
          0.069,
          0.071,
          0.0969999999999999,
          0.089,
          0.114,
          0.176,
          0.17,
          0.368,
          0.0819999999999999,
          0.106,
          0.084,
          0.08,
          0.08,
          0.08,
          0.089,
          0.083,
          0.103,
          0.074,
          0.069,
          0.05,
          0.114,
          0.113,
          0.066,
          0.074,
          0.074,
          0.081,
          0.084,
          0.07,
          0.111,
          0.076,
          0.079,
          0.115,
          0.081,
          0.086,
          0.079,
          0.076,
          0.074,
          0.088,
          0.084,
          0.094,
          0.093,
          0.086,
          0.069,
          0.4639999999999999,
          0.086,
          0.401,
          0.076,
          0.062,
          0.107,
          0.076,
          0.079,
          0.11,
          0.102,
          0.07,
          0.079,
          0.077,
          0.07,
          0.467,
          0.088,
          0.122,
          0.104,
          0.084,
          0.085,
          0.178,
          0.075,
          0.08,
          0.0819999999999999,
          0.146,
          0.081,
          0.0819999999999999,
          0.072,
          0.118,
          0.049,
          0.09,
          0.089,
          0.081,
          0.081,
          0.081,
          0.066,
          0.1169999999999999,
          0.087,
          0.236,
          0.095,
          0.07,
          0.071,
          0.073,
          0.09,
          0.07,
          0.07,
          0.1,
          0.085,
          0.36,
          0.08,
          0.085,
          0.068,
          0.067,
          0.27,
          0.076,
          0.077,
          0.111,
          0.0819999999999999,
          0.084,
          0.084,
          0.0819999999999999,
          0.077,
          0.099,
          0.071,
          0.074,
          0.074,
          0.0969999999999999,
          0.075,
          0.088,
          0.069,
          0.1,
          0.06,
          0.06,
          0.1009999999999999,
          0.072,
          0.076,
          0.08,
          0.1009999999999999,
          0.057,
          0.089,
          0.081,
          0.263,
          0.075,
          0.072,
          0.09,
          0.092,
          0.073,
          0.075,
          0.075,
          0.611,
          0.077,
          0.07,
          0.077,
          0.064,
          0.071,
          0.076,
          0.088,
          0.067,
          0.102,
          0.105,
          0.3429999999999999,
          0.073,
          0.086,
          0.083,
          0.094,
          0.08,
          0.092,
          0.186,
          0.1119999999999999,
          0.0819999999999999,
          0.076,
          0.087,
          0.102,
          0.09,
          0.079,
          0.107,
          0.061,
          0.105,
          0.08,
          0.067,
          0.09,
          0.12,
          0.08,
          0.099,
          0.072,
          0.071,
          0.076,
          0.159,
          0.063,
          0.106,
          0.087,
          0.0819999999999999,
          0.1119999999999999,
          0.063,
          0.122,
          0.064,
          0.075,
          0.08,
          0.1,
          0.087,
          0.1169999999999999,
          0.091,
          0.066,
          0.047,
          0.07,
          0.074,
          0.091,
          0.062,
          0.081,
          0.127,
          0.063,
          0.095,
          0.0969999999999999,
          0.087,
          0.085,
          0.098,
          0.098,
          0.07,
          0.093,
          0.062,
          0.087,
          0.091,
          0.069,
          0.152,
          0.152,
          0.054,
          0.09,
          0.073,
          0.122,
          0.088,
          0.088,
          0.099,
          0.085,
          0.086,
          0.105,
          0.077,
          0.098,
          0.1,
          0.1009999999999999,
          0.07,
          0.094,
          0.05,
          0.095,
          0.095,
          0.075,
          0.078,
          0.094,
          0.075,
          0.083,
          0.085,
          0.089,
          0.083,
          0.108,
          0.084,
          0.094,
          0.096,
          0.086,
          0.081,
          0.083,
          0.081,
          0.0579999999999999,
          0.079,
          0.122,
          0.088,
          0.076,
          0.078,
          0.08,
          0.124,
          0.098,
          0.111,
          0.105,
          0.073,
          0.065,
          0.086,
          0.084,
          0.071,
          0.071,
          0.107,
          0.106,
          0.104,
          0.096,
          0.074,
          0.087,
          0.08,
          0.092,
          0.084,
          0.059,
          0.083,
          0.074,
          0.079,
          0.064,
          0.084,
          0.081,
          0.06,
          0.07,
          0.078,
          0.059,
          0.078,
          0.07,
          0.095,
          0.039,
          0.157,
          0.087,
          0.422,
          0.084,
          0.084,
          0.087,
          0.073,
          0.093,
          0.077,
          0.08,
          0.093,
          0.084,
          0.075,
          0.078,
          0.079,
          0.0819999999999999,
          0.086,
          0.094,
          0.084,
          0.053,
          0.077,
          0.067,
          0.387,
          0.088,
          0.092,
          0.0819999999999999,
          0.075,
          0.1119999999999999,
          0.092,
          0.088,
          0.078,
          0.065,
          0.096,
          0.095,
          0.083,
          0.089,
          0.0969999999999999,
          0.084,
          0.092,
          0.075,
          0.096,
          0.089,
          0.103,
          0.076,
          0.0819999999999999,
          0.0819999999999999,
          0.102,
          0.079,
          0.076,
          0.114,
          0.081,
          0.077,
          0.083,
          0.099,
          0.084,
          0.055,
          0.132,
          0.126,
          0.0819999999999999,
          0.068,
          0.165,
          0.068,
          0.099,
          0.071,
          0.0969999999999999,
          0.099,
          0.076,
          0.068,
          0.076,
          0.088,
          0.066,
          0.092,
          0.115,
          0.088,
          0.081,
          0.08,
          0.085,
          0.08,
          0.077,
          0.067,
          0.078,
          0.077,
          0.086,
          0.076,
          0.078,
          0.086,
          0.1119999999999999,
          0.071,
          0.078,
          0.0559999999999999,
          0.081,
          0.084,
          0.161,
          0.091,
          0.055,
          0.08,
          0.074,
          0.073,
          0.09,
          0.089,
          0.078,
          0.115,
          0.0969999999999999,
          0.079,
          0.079,
          0.083,
          0.109,
          0.075,
          0.079,
          0.08,
          0.0969999999999999,
          0.0819999999999999,
          0.092,
          0.081,
          0.1159999999999999,
          0.102,
          0.078,
          0.062,
          0.065,
          0.095,
          0.074,
          0.088,
          0.0819999999999999,
          0.414,
          0.073,
          0.104,
          0.086,
          0.098,
          0.08,
          0.074,
          0.087,
          0.096,
          0.048,
          0.09,
          0.066,
          0.095,
          0.045,
          0.104,
          0.066,
          0.118,
          0.11,
          0.078,
          0.369,
          0.111,
          0.0409999999999999,
          0.068,
          0.07,
          0.08,
          0.079,
          0.166,
          0.166,
          0.111,
          0.136,
          0.076,
          0.091,
          0.08,
          0.104,
          0.075,
          0.074,
          0.076,
          0.079,
          0.0819999999999999,
          0.0819999999999999,
          0.086,
          0.077,
          0.123,
          0.096,
          0.079,
          0.069,
          0.0819999999999999,
          0.4029999999999999,
          0.081,
          0.077,
          0.073,
          0.071,
          0.09,
          0.0559999999999999,
          0.068,
          0.1,
          0.093,
          0.081,
          0.087,
          0.073,
          0.088,
          0.071,
          0.083,
          0.094,
          0.0579999999999999,
          0.073,
          0.107,
          0.079,
          0.166,
          0.057,
          0.077,
          0.0559999999999999,
          0.078,
          0.081,
          0.069,
          0.086,
          0.077,
          0.086,
          0.084,
          0.168,
          0.1119999999999999,
          0.093,
          0.115,
          0.094,
          0.415,
          0.11,
          0.083,
          0.086,
          0.074,
          0.08,
          0.107,
          0.076,
          0.1,
          0.083,
          0.08,
          0.094,
          0.07,
          0.078,
          0.07,
          0.09,
          0.08,
          0.08,
          0.104,
          0.077,
          0.065,
          0.077,
          0.077,
          0.079,
          0.078,
          0.072,
          0.049,
          0.066,
          0.1689999999999999,
          0.07,
          0.052,
          0.078,
          0.0579999999999999,
          0.08,
          0.08,
          0.074,
          0.067,
          0.063,
          0.084,
          0.067,
          0.071,
          0.205,
          0.104,
          0.042,
          0.074,
          0.07,
          0.066,
          0.049,
          0.05,
          0.089,
          0.076,
          0.083,
          0.078,
          0.062,
          0.068,
          0.071,
          0.114,
          0.106,
          0.076,
          0.064,
          0.081,
          0.074,
          0.081,
          0.065,
          0.072,
          0.048,
          0.099,
          0.087,
          0.083,
          0.08,
          0.066,
          0.235,
          0.08,
          0.076,
          0.077,
          0.069,
          0.053,
          0.053,
          0.074,
          0.073,
          0.09,
          0.075
         ],
         "yaxis": "y"
        },
        {
         "alignmentgroup": "True",
         "hovertemplate": "color=5<br>chlorides=%{x}<extra></extra>",
         "legendgroup": "5",
         "marker": {
          "color": "#636efa"
         },
         "name": "5",
         "notched": true,
         "offsetgroup": "5",
         "showlegend": false,
         "type": "box",
         "x": [
          0.076,
          0.098,
          0.092,
          0.075,
          0.069,
          0.071,
          0.0969999999999999,
          0.089,
          0.114,
          0.176,
          0.17,
          0.368,
          0.0819999999999999,
          0.106,
          0.084,
          0.08,
          0.08,
          0.08,
          0.089,
          0.083,
          0.103,
          0.074,
          0.069,
          0.05,
          0.114,
          0.113,
          0.066,
          0.074,
          0.074,
          0.081,
          0.084,
          0.07,
          0.111,
          0.076,
          0.079,
          0.115,
          0.081,
          0.086,
          0.079,
          0.076,
          0.074,
          0.088,
          0.084,
          0.094,
          0.093,
          0.086,
          0.069,
          0.4639999999999999,
          0.086,
          0.401,
          0.076,
          0.062,
          0.107,
          0.076,
          0.079,
          0.11,
          0.102,
          0.07,
          0.079,
          0.077,
          0.07,
          0.467,
          0.088,
          0.122,
          0.104,
          0.084,
          0.085,
          0.178,
          0.075,
          0.08,
          0.0819999999999999,
          0.146,
          0.081,
          0.0819999999999999,
          0.072,
          0.118,
          0.049,
          0.09,
          0.089,
          0.081,
          0.081,
          0.081,
          0.066,
          0.1169999999999999,
          0.087,
          0.236,
          0.095,
          0.07,
          0.071,
          0.073,
          0.09,
          0.07,
          0.07,
          0.1,
          0.085,
          0.36,
          0.08,
          0.085,
          0.068,
          0.067,
          0.27,
          0.076,
          0.077,
          0.111,
          0.0819999999999999,
          0.084,
          0.084,
          0.0819999999999999,
          0.077,
          0.099,
          0.071,
          0.074,
          0.074,
          0.0969999999999999,
          0.075,
          0.088,
          0.069,
          0.1,
          0.06,
          0.06,
          0.1009999999999999,
          0.072,
          0.076,
          0.08,
          0.1009999999999999,
          0.057,
          0.089,
          0.081,
          0.263,
          0.075,
          0.072,
          0.09,
          0.092,
          0.073,
          0.075,
          0.075,
          0.611,
          0.077,
          0.07,
          0.077,
          0.064,
          0.071,
          0.076,
          0.088,
          0.067,
          0.102,
          0.105,
          0.3429999999999999,
          0.073,
          0.086,
          0.083,
          0.094,
          0.08,
          0.092,
          0.186,
          0.1119999999999999,
          0.0819999999999999,
          0.076,
          0.087,
          0.102,
          0.09,
          0.079,
          0.107,
          0.061,
          0.105,
          0.08,
          0.067,
          0.09,
          0.12,
          0.08,
          0.099,
          0.072,
          0.071,
          0.076,
          0.159,
          0.063,
          0.106,
          0.087,
          0.0819999999999999,
          0.1119999999999999,
          0.063,
          0.122,
          0.064,
          0.075,
          0.08,
          0.1,
          0.087,
          0.1169999999999999,
          0.091,
          0.066,
          0.047,
          0.07,
          0.074,
          0.091,
          0.062,
          0.081,
          0.127,
          0.063,
          0.095,
          0.0969999999999999,
          0.087,
          0.085,
          0.098,
          0.098,
          0.07,
          0.093,
          0.062,
          0.087,
          0.091,
          0.069,
          0.152,
          0.152,
          0.054,
          0.09,
          0.073,
          0.122,
          0.088,
          0.088,
          0.099,
          0.085,
          0.086,
          0.105,
          0.077,
          0.098,
          0.1,
          0.1009999999999999,
          0.07,
          0.094,
          0.05,
          0.095,
          0.095,
          0.075,
          0.078,
          0.094,
          0.075,
          0.083,
          0.085,
          0.089,
          0.083,
          0.108,
          0.084,
          0.094,
          0.096,
          0.086,
          0.081,
          0.083,
          0.081,
          0.0579999999999999,
          0.079,
          0.122,
          0.088,
          0.076,
          0.078,
          0.08,
          0.124,
          0.098,
          0.111,
          0.105,
          0.073,
          0.065,
          0.086,
          0.084,
          0.071,
          0.071,
          0.107,
          0.106,
          0.104,
          0.096,
          0.074,
          0.087,
          0.08,
          0.092,
          0.084,
          0.059,
          0.083,
          0.074,
          0.079,
          0.064,
          0.084,
          0.081,
          0.06,
          0.07,
          0.078,
          0.059,
          0.078,
          0.07,
          0.095,
          0.039,
          0.157,
          0.087,
          0.422,
          0.084,
          0.084,
          0.087,
          0.073,
          0.093,
          0.077,
          0.08,
          0.093,
          0.084,
          0.075,
          0.078,
          0.079,
          0.0819999999999999,
          0.086,
          0.094,
          0.084,
          0.053,
          0.077,
          0.067,
          0.387,
          0.088,
          0.092,
          0.0819999999999999,
          0.075,
          0.1119999999999999,
          0.092,
          0.088,
          0.078,
          0.065,
          0.096,
          0.095,
          0.083,
          0.089,
          0.0969999999999999,
          0.084,
          0.092,
          0.075,
          0.096,
          0.089,
          0.103,
          0.076,
          0.0819999999999999,
          0.0819999999999999,
          0.102,
          0.079,
          0.076,
          0.114,
          0.081,
          0.077,
          0.083,
          0.099,
          0.084,
          0.055,
          0.132,
          0.126,
          0.0819999999999999,
          0.068,
          0.165,
          0.068,
          0.099,
          0.071,
          0.0969999999999999,
          0.099,
          0.076,
          0.068,
          0.076,
          0.088,
          0.066,
          0.092,
          0.115,
          0.088,
          0.081,
          0.08,
          0.085,
          0.08,
          0.077,
          0.067,
          0.078,
          0.077,
          0.086,
          0.076,
          0.078,
          0.086,
          0.1119999999999999,
          0.071,
          0.078,
          0.0559999999999999,
          0.081,
          0.084,
          0.161,
          0.091,
          0.055,
          0.08,
          0.074,
          0.073,
          0.09,
          0.089,
          0.078,
          0.115,
          0.0969999999999999,
          0.079,
          0.079,
          0.083,
          0.109,
          0.075,
          0.079,
          0.08,
          0.0969999999999999,
          0.0819999999999999,
          0.092,
          0.081,
          0.1159999999999999,
          0.102,
          0.078,
          0.062,
          0.065,
          0.095,
          0.074,
          0.088,
          0.0819999999999999,
          0.414,
          0.073,
          0.104,
          0.086,
          0.098,
          0.08,
          0.074,
          0.087,
          0.096,
          0.048,
          0.09,
          0.066,
          0.095,
          0.045,
          0.104,
          0.066,
          0.118,
          0.11,
          0.078,
          0.369,
          0.111,
          0.0409999999999999,
          0.068,
          0.07,
          0.08,
          0.079,
          0.166,
          0.166,
          0.111,
          0.136,
          0.076,
          0.091,
          0.08,
          0.104,
          0.075,
          0.074,
          0.076,
          0.079,
          0.0819999999999999,
          0.0819999999999999,
          0.086,
          0.077,
          0.123,
          0.096,
          0.079,
          0.069,
          0.0819999999999999,
          0.4029999999999999,
          0.081,
          0.077,
          0.073,
          0.071,
          0.09,
          0.0559999999999999,
          0.068,
          0.1,
          0.093,
          0.081,
          0.087,
          0.073,
          0.088,
          0.071,
          0.083,
          0.094,
          0.0579999999999999,
          0.073,
          0.107,
          0.079,
          0.166,
          0.057,
          0.077,
          0.0559999999999999,
          0.078,
          0.081,
          0.069,
          0.086,
          0.077,
          0.086,
          0.084,
          0.168,
          0.1119999999999999,
          0.093,
          0.115,
          0.094,
          0.415,
          0.11,
          0.083,
          0.086,
          0.074,
          0.08,
          0.107,
          0.076,
          0.1,
          0.083,
          0.08,
          0.094,
          0.07,
          0.078,
          0.07,
          0.09,
          0.08,
          0.08,
          0.104,
          0.077,
          0.065,
          0.077,
          0.077,
          0.079,
          0.078,
          0.072,
          0.049,
          0.066,
          0.1689999999999999,
          0.07,
          0.052,
          0.078,
          0.0579999999999999,
          0.08,
          0.08,
          0.074,
          0.067,
          0.063,
          0.084,
          0.067,
          0.071,
          0.205,
          0.104,
          0.042,
          0.074,
          0.07,
          0.066,
          0.049,
          0.05,
          0.089,
          0.076,
          0.083,
          0.078,
          0.062,
          0.068,
          0.071,
          0.114,
          0.106,
          0.076,
          0.064,
          0.081,
          0.074,
          0.081,
          0.065,
          0.072,
          0.048,
          0.099,
          0.087,
          0.083,
          0.08,
          0.066,
          0.235,
          0.08,
          0.076,
          0.077,
          0.069,
          0.053,
          0.053,
          0.074,
          0.073,
          0.09,
          0.075
         ],
         "xaxis": "x2",
         "yaxis": "y2"
        },
        {
         "alignmentgroup": "True",
         "bingroup": "x",
         "histfunc": "sum",
         "hovertemplate": "color=6<br>chlorides=%{x}<br>sum of chlorides=%{y}<extra></extra>",
         "legendgroup": "6",
         "marker": {
          "color": "#EF553B",
          "pattern": {
           "shape": ""
          }
         },
         "name": "6",
         "offsetgroup": "6",
         "orientation": "v",
         "showlegend": true,
         "type": "histogram",
         "x": [
          0.075,
          0.341,
          0.077,
          0.085,
          0.0819999999999999,
          0.105,
          0.073,
          0.086,
          0.086,
          0.332,
          0.069,
          0.068,
          0.11,
          0.074,
          0.074,
          0.076,
          0.104,
          0.069,
          0.11,
          0.0579999999999999,
          0.08,
          0.084,
          0.075,
          0.091,
          0.08,
          0.09,
          0.077,
          0.0819999999999999,
          0.119,
          0.0969999999999999,
          0.06,
          0.084,
          0.05,
          0.074,
          0.089,
          0.077,
          0.079,
          0.076,
          0.089,
          0.073,
          0.068,
          0.087,
          0.079,
          0.074,
          0.067,
          0.089,
          0.039,
          0.083,
          0.059,
          0.092,
          0.0819999999999999,
          0.083,
          0.073,
          0.337,
          0.078,
          0.09,
          0.065,
          0.0969999999999999,
          0.0969999999999999,
          0.093,
          0.102,
          0.084,
          0.074,
          0.063,
          0.074,
          0.077,
          0.104,
          0.087,
          0.071,
          0.073,
          0.092,
          0.091,
          0.098,
          0.094,
          0.086,
          0.068,
          0.063,
          0.213,
          0.214,
          0.062,
          0.072,
          0.093,
          0.096,
          0.0819999999999999,
          0.09,
          0.071,
          0.0819999999999999,
          0.122,
          0.066,
          0.052,
          0.103,
          0.066,
          0.065,
          0.118,
          0.0819999999999999,
          0.093,
          0.089,
          0.093,
          0.107,
          0.096,
          0.066,
          0.078,
          0.088,
          0.086,
          0.107,
          0.0559999999999999,
          0.067,
          0.089,
          0.078,
          0.088,
          0.094,
          0.08,
          0.085,
          0.09,
          0.088,
          0.079,
          0.088,
          0.087,
          0.059,
          0.085,
          0.085,
          0.059,
          0.063,
          0.174,
          0.08,
          0.111,
          0.121,
          0.045,
          0.077,
          0.088,
          0.078,
          0.076,
          0.06,
          0.066,
          0.068,
          0.079,
          0.1,
          0.095,
          0.413,
          0.084,
          0.083,
          0.084,
          0.069,
          0.065,
          0.09,
          0.081,
          0.083,
          0.08,
          0.075,
          0.077,
          0.114,
          0.053,
          0.073,
          0.078,
          0.086,
          0.051,
          0.081,
          0.084,
          0.09,
          0.125,
          0.1,
          0.088,
          0.088,
          0.0969999999999999,
          0.084,
          0.078,
          0.072,
          0.102,
          0.084,
          0.064,
          0.085,
          0.075,
          0.078,
          0.067,
          0.079,
          0.171,
          0.074,
          0.092,
          0.092,
          0.118,
          0.085,
          0.092,
          0.226,
          0.25,
          0.095,
          0.07,
          0.078,
          0.079,
          0.063,
          0.091,
          0.07,
          0.059,
          0.071,
          0.078,
          0.0819999999999999,
          0.071,
          0.096,
          0.085,
          0.092,
          0.11,
          0.075,
          0.077,
          0.148,
          0.079,
          0.077,
          0.0969999999999999,
          0.087,
          0.067,
          0.068,
          0.079,
          0.074,
          0.076,
          0.05,
          0.222,
          0.0819999999999999,
          0.084,
          0.094,
          0.034,
          0.066,
          0.071,
          0.076,
          0.067,
          0.068,
          0.062,
          0.069,
          0.084,
          0.071,
          0.093,
          0.075,
          0.07,
          0.08,
          0.071,
          0.415,
          0.0579999999999999,
          0.057,
          0.069,
          0.093,
          0.091,
          0.0819999999999999,
          0.157,
          0.157,
          0.243,
          0.241,
          0.19,
          0.079,
          0.0819999999999999,
          0.081,
          0.065,
          0.0819999999999999,
          0.114,
          0.084,
          0.07,
          0.072,
          0.103,
          0.081,
          0.084,
          0.071,
          0.119,
          0.062,
          0.078,
          0.08,
          0.074,
          0.039,
          0.071,
          0.072,
          0.08,
          0.064,
          0.094,
          0.068,
          0.1939999999999999,
          0.083,
          0.072,
          0.0819999999999999,
          0.08,
          0.08,
          0.079,
          0.078,
          0.059,
          0.132,
          0.114,
          0.065,
          0.079,
          0.084,
          0.081,
          0.072,
          0.061,
          0.078,
          0.06,
          0.0819999999999999,
          0.111,
          0.088,
          0.0579999999999999,
          0.1,
          0.065,
          0.068,
          0.066,
          0.065,
          0.07,
          0.064,
          0.073,
          0.076,
          0.079,
          0.05,
          0.055,
          0.088,
          0.092,
          0.12,
          0.075,
          0.049,
          0.123,
          0.098,
          0.095,
          0.066,
          0.075,
          0.089,
          0.077,
          0.088,
          0.079,
          0.046,
          0.07,
          0.076,
          0.081,
          0.084,
          0.095,
          0.074,
          0.098,
          0.075,
          0.067,
          0.083,
          0.083,
          0.088,
          0.073,
          0.047,
          0.073,
          0.072,
          0.057,
          0.086,
          0.081,
          0.1169999999999999,
          0.072,
          0.071,
          0.078,
          0.073,
          0.069,
          0.171,
          0.07,
          0.0559999999999999,
          0.074,
          0.046,
          0.091,
          0.065,
          0.062,
          0.055,
          0.081,
          0.063,
          0.072,
          0.092,
          0.0579999999999999,
          0.067,
          0.08,
          0.079,
          0.08,
          0.08,
          0.043,
          0.065,
          0.076,
          0.178,
          0.086,
          0.061,
          0.044,
          0.083,
          0.1,
          0.076,
          0.076,
          0.067,
          0.086,
          0.062,
          0.078,
          0.074,
          0.079,
          0.095,
          0.076,
          0.068,
          0.085,
          0.08,
          0.114,
          0.078,
          0.076,
          0.069,
          0.052,
          0.078,
          0.071,
          0.081,
          0.095,
          0.079,
          0.057,
          0.0819999999999999,
          0.044,
          0.132,
          0.078,
          0.074,
          0.08,
          0.066,
          0.059,
          0.07,
          0.0579999999999999,
          0.067,
          0.081,
          0.079,
          0.085,
          0.123,
          0.066,
          0.081,
          0.068,
          0.079,
          0.048,
          0.049,
          0.102,
          0.075,
          0.114,
          0.077,
          0.084,
          0.096,
          0.068,
          0.073,
          0.0559999999999999,
          0.064,
          0.063,
          0.08,
          0.1,
          0.064,
          0.064,
          0.086,
          0.086,
          0.083,
          0.0409999999999999,
          0.091,
          0.414,
          0.0409999999999999,
          0.077,
          0.083,
          0.075,
          0.069,
          0.084,
          0.085,
          0.063,
          0.065,
          0.078,
          0.091,
          0.096,
          0.088,
          0.079,
          0.153,
          0.09,
          0.078,
          0.077,
          0.068,
          0.092,
          0.068,
          0.052,
          0.0819999999999999,
          0.062,
          0.064,
          0.0819999999999999,
          0.071,
          0.079,
          0.076,
          0.046,
          0.069,
          0.042,
          0.214,
          0.072,
          0.094,
          0.072,
          0.094,
          0.073,
          0.052,
          0.05,
          0.054,
          0.075,
          0.076,
          0.073,
          0.048,
          0.039,
          0.08,
          0.054,
          0.068,
          0.077,
          0.106,
          0.07,
          0.074,
          0.047,
          0.061,
          0.078,
          0.074,
          0.074,
          0.063,
          0.075,
          0.064,
          0.071,
          0.096,
          0.063,
          0.063,
          0.0579999999999999,
          0.075,
          0.077,
          0.059,
          0.071,
          0.064,
          0.064,
          0.059,
          0.103,
          0.062,
          0.061,
          0.059,
          0.0559999999999999,
          0.23,
          0.038,
          0.075,
          0.074,
          0.06,
          0.081,
          0.076,
          0.118,
          0.068,
          0.066,
          0.065,
          0.066,
          0.068,
          0.077,
          0.089,
          0.076,
          0.068,
          0.062,
          0.067
         ],
         "xaxis": "x",
         "y": [
          0.075,
          0.341,
          0.077,
          0.085,
          0.0819999999999999,
          0.105,
          0.073,
          0.086,
          0.086,
          0.332,
          0.069,
          0.068,
          0.11,
          0.074,
          0.074,
          0.076,
          0.104,
          0.069,
          0.11,
          0.0579999999999999,
          0.08,
          0.084,
          0.075,
          0.091,
          0.08,
          0.09,
          0.077,
          0.0819999999999999,
          0.119,
          0.0969999999999999,
          0.06,
          0.084,
          0.05,
          0.074,
          0.089,
          0.077,
          0.079,
          0.076,
          0.089,
          0.073,
          0.068,
          0.087,
          0.079,
          0.074,
          0.067,
          0.089,
          0.039,
          0.083,
          0.059,
          0.092,
          0.0819999999999999,
          0.083,
          0.073,
          0.337,
          0.078,
          0.09,
          0.065,
          0.0969999999999999,
          0.0969999999999999,
          0.093,
          0.102,
          0.084,
          0.074,
          0.063,
          0.074,
          0.077,
          0.104,
          0.087,
          0.071,
          0.073,
          0.092,
          0.091,
          0.098,
          0.094,
          0.086,
          0.068,
          0.063,
          0.213,
          0.214,
          0.062,
          0.072,
          0.093,
          0.096,
          0.0819999999999999,
          0.09,
          0.071,
          0.0819999999999999,
          0.122,
          0.066,
          0.052,
          0.103,
          0.066,
          0.065,
          0.118,
          0.0819999999999999,
          0.093,
          0.089,
          0.093,
          0.107,
          0.096,
          0.066,
          0.078,
          0.088,
          0.086,
          0.107,
          0.0559999999999999,
          0.067,
          0.089,
          0.078,
          0.088,
          0.094,
          0.08,
          0.085,
          0.09,
          0.088,
          0.079,
          0.088,
          0.087,
          0.059,
          0.085,
          0.085,
          0.059,
          0.063,
          0.174,
          0.08,
          0.111,
          0.121,
          0.045,
          0.077,
          0.088,
          0.078,
          0.076,
          0.06,
          0.066,
          0.068,
          0.079,
          0.1,
          0.095,
          0.413,
          0.084,
          0.083,
          0.084,
          0.069,
          0.065,
          0.09,
          0.081,
          0.083,
          0.08,
          0.075,
          0.077,
          0.114,
          0.053,
          0.073,
          0.078,
          0.086,
          0.051,
          0.081,
          0.084,
          0.09,
          0.125,
          0.1,
          0.088,
          0.088,
          0.0969999999999999,
          0.084,
          0.078,
          0.072,
          0.102,
          0.084,
          0.064,
          0.085,
          0.075,
          0.078,
          0.067,
          0.079,
          0.171,
          0.074,
          0.092,
          0.092,
          0.118,
          0.085,
          0.092,
          0.226,
          0.25,
          0.095,
          0.07,
          0.078,
          0.079,
          0.063,
          0.091,
          0.07,
          0.059,
          0.071,
          0.078,
          0.0819999999999999,
          0.071,
          0.096,
          0.085,
          0.092,
          0.11,
          0.075,
          0.077,
          0.148,
          0.079,
          0.077,
          0.0969999999999999,
          0.087,
          0.067,
          0.068,
          0.079,
          0.074,
          0.076,
          0.05,
          0.222,
          0.0819999999999999,
          0.084,
          0.094,
          0.034,
          0.066,
          0.071,
          0.076,
          0.067,
          0.068,
          0.062,
          0.069,
          0.084,
          0.071,
          0.093,
          0.075,
          0.07,
          0.08,
          0.071,
          0.415,
          0.0579999999999999,
          0.057,
          0.069,
          0.093,
          0.091,
          0.0819999999999999,
          0.157,
          0.157,
          0.243,
          0.241,
          0.19,
          0.079,
          0.0819999999999999,
          0.081,
          0.065,
          0.0819999999999999,
          0.114,
          0.084,
          0.07,
          0.072,
          0.103,
          0.081,
          0.084,
          0.071,
          0.119,
          0.062,
          0.078,
          0.08,
          0.074,
          0.039,
          0.071,
          0.072,
          0.08,
          0.064,
          0.094,
          0.068,
          0.1939999999999999,
          0.083,
          0.072,
          0.0819999999999999,
          0.08,
          0.08,
          0.079,
          0.078,
          0.059,
          0.132,
          0.114,
          0.065,
          0.079,
          0.084,
          0.081,
          0.072,
          0.061,
          0.078,
          0.06,
          0.0819999999999999,
          0.111,
          0.088,
          0.0579999999999999,
          0.1,
          0.065,
          0.068,
          0.066,
          0.065,
          0.07,
          0.064,
          0.073,
          0.076,
          0.079,
          0.05,
          0.055,
          0.088,
          0.092,
          0.12,
          0.075,
          0.049,
          0.123,
          0.098,
          0.095,
          0.066,
          0.075,
          0.089,
          0.077,
          0.088,
          0.079,
          0.046,
          0.07,
          0.076,
          0.081,
          0.084,
          0.095,
          0.074,
          0.098,
          0.075,
          0.067,
          0.083,
          0.083,
          0.088,
          0.073,
          0.047,
          0.073,
          0.072,
          0.057,
          0.086,
          0.081,
          0.1169999999999999,
          0.072,
          0.071,
          0.078,
          0.073,
          0.069,
          0.171,
          0.07,
          0.0559999999999999,
          0.074,
          0.046,
          0.091,
          0.065,
          0.062,
          0.055,
          0.081,
          0.063,
          0.072,
          0.092,
          0.0579999999999999,
          0.067,
          0.08,
          0.079,
          0.08,
          0.08,
          0.043,
          0.065,
          0.076,
          0.178,
          0.086,
          0.061,
          0.044,
          0.083,
          0.1,
          0.076,
          0.076,
          0.067,
          0.086,
          0.062,
          0.078,
          0.074,
          0.079,
          0.095,
          0.076,
          0.068,
          0.085,
          0.08,
          0.114,
          0.078,
          0.076,
          0.069,
          0.052,
          0.078,
          0.071,
          0.081,
          0.095,
          0.079,
          0.057,
          0.0819999999999999,
          0.044,
          0.132,
          0.078,
          0.074,
          0.08,
          0.066,
          0.059,
          0.07,
          0.0579999999999999,
          0.067,
          0.081,
          0.079,
          0.085,
          0.123,
          0.066,
          0.081,
          0.068,
          0.079,
          0.048,
          0.049,
          0.102,
          0.075,
          0.114,
          0.077,
          0.084,
          0.096,
          0.068,
          0.073,
          0.0559999999999999,
          0.064,
          0.063,
          0.08,
          0.1,
          0.064,
          0.064,
          0.086,
          0.086,
          0.083,
          0.0409999999999999,
          0.091,
          0.414,
          0.0409999999999999,
          0.077,
          0.083,
          0.075,
          0.069,
          0.084,
          0.085,
          0.063,
          0.065,
          0.078,
          0.091,
          0.096,
          0.088,
          0.079,
          0.153,
          0.09,
          0.078,
          0.077,
          0.068,
          0.092,
          0.068,
          0.052,
          0.0819999999999999,
          0.062,
          0.064,
          0.0819999999999999,
          0.071,
          0.079,
          0.076,
          0.046,
          0.069,
          0.042,
          0.214,
          0.072,
          0.094,
          0.072,
          0.094,
          0.073,
          0.052,
          0.05,
          0.054,
          0.075,
          0.076,
          0.073,
          0.048,
          0.039,
          0.08,
          0.054,
          0.068,
          0.077,
          0.106,
          0.07,
          0.074,
          0.047,
          0.061,
          0.078,
          0.074,
          0.074,
          0.063,
          0.075,
          0.064,
          0.071,
          0.096,
          0.063,
          0.063,
          0.0579999999999999,
          0.075,
          0.077,
          0.059,
          0.071,
          0.064,
          0.064,
          0.059,
          0.103,
          0.062,
          0.061,
          0.059,
          0.0559999999999999,
          0.23,
          0.038,
          0.075,
          0.074,
          0.06,
          0.081,
          0.076,
          0.118,
          0.068,
          0.066,
          0.065,
          0.066,
          0.068,
          0.077,
          0.089,
          0.076,
          0.068,
          0.062,
          0.067
         ],
         "yaxis": "y"
        },
        {
         "alignmentgroup": "True",
         "hovertemplate": "color=6<br>chlorides=%{x}<extra></extra>",
         "legendgroup": "6",
         "marker": {
          "color": "#EF553B"
         },
         "name": "6",
         "notched": true,
         "offsetgroup": "6",
         "showlegend": false,
         "type": "box",
         "x": [
          0.075,
          0.341,
          0.077,
          0.085,
          0.0819999999999999,
          0.105,
          0.073,
          0.086,
          0.086,
          0.332,
          0.069,
          0.068,
          0.11,
          0.074,
          0.074,
          0.076,
          0.104,
          0.069,
          0.11,
          0.0579999999999999,
          0.08,
          0.084,
          0.075,
          0.091,
          0.08,
          0.09,
          0.077,
          0.0819999999999999,
          0.119,
          0.0969999999999999,
          0.06,
          0.084,
          0.05,
          0.074,
          0.089,
          0.077,
          0.079,
          0.076,
          0.089,
          0.073,
          0.068,
          0.087,
          0.079,
          0.074,
          0.067,
          0.089,
          0.039,
          0.083,
          0.059,
          0.092,
          0.0819999999999999,
          0.083,
          0.073,
          0.337,
          0.078,
          0.09,
          0.065,
          0.0969999999999999,
          0.0969999999999999,
          0.093,
          0.102,
          0.084,
          0.074,
          0.063,
          0.074,
          0.077,
          0.104,
          0.087,
          0.071,
          0.073,
          0.092,
          0.091,
          0.098,
          0.094,
          0.086,
          0.068,
          0.063,
          0.213,
          0.214,
          0.062,
          0.072,
          0.093,
          0.096,
          0.0819999999999999,
          0.09,
          0.071,
          0.0819999999999999,
          0.122,
          0.066,
          0.052,
          0.103,
          0.066,
          0.065,
          0.118,
          0.0819999999999999,
          0.093,
          0.089,
          0.093,
          0.107,
          0.096,
          0.066,
          0.078,
          0.088,
          0.086,
          0.107,
          0.0559999999999999,
          0.067,
          0.089,
          0.078,
          0.088,
          0.094,
          0.08,
          0.085,
          0.09,
          0.088,
          0.079,
          0.088,
          0.087,
          0.059,
          0.085,
          0.085,
          0.059,
          0.063,
          0.174,
          0.08,
          0.111,
          0.121,
          0.045,
          0.077,
          0.088,
          0.078,
          0.076,
          0.06,
          0.066,
          0.068,
          0.079,
          0.1,
          0.095,
          0.413,
          0.084,
          0.083,
          0.084,
          0.069,
          0.065,
          0.09,
          0.081,
          0.083,
          0.08,
          0.075,
          0.077,
          0.114,
          0.053,
          0.073,
          0.078,
          0.086,
          0.051,
          0.081,
          0.084,
          0.09,
          0.125,
          0.1,
          0.088,
          0.088,
          0.0969999999999999,
          0.084,
          0.078,
          0.072,
          0.102,
          0.084,
          0.064,
          0.085,
          0.075,
          0.078,
          0.067,
          0.079,
          0.171,
          0.074,
          0.092,
          0.092,
          0.118,
          0.085,
          0.092,
          0.226,
          0.25,
          0.095,
          0.07,
          0.078,
          0.079,
          0.063,
          0.091,
          0.07,
          0.059,
          0.071,
          0.078,
          0.0819999999999999,
          0.071,
          0.096,
          0.085,
          0.092,
          0.11,
          0.075,
          0.077,
          0.148,
          0.079,
          0.077,
          0.0969999999999999,
          0.087,
          0.067,
          0.068,
          0.079,
          0.074,
          0.076,
          0.05,
          0.222,
          0.0819999999999999,
          0.084,
          0.094,
          0.034,
          0.066,
          0.071,
          0.076,
          0.067,
          0.068,
          0.062,
          0.069,
          0.084,
          0.071,
          0.093,
          0.075,
          0.07,
          0.08,
          0.071,
          0.415,
          0.0579999999999999,
          0.057,
          0.069,
          0.093,
          0.091,
          0.0819999999999999,
          0.157,
          0.157,
          0.243,
          0.241,
          0.19,
          0.079,
          0.0819999999999999,
          0.081,
          0.065,
          0.0819999999999999,
          0.114,
          0.084,
          0.07,
          0.072,
          0.103,
          0.081,
          0.084,
          0.071,
          0.119,
          0.062,
          0.078,
          0.08,
          0.074,
          0.039,
          0.071,
          0.072,
          0.08,
          0.064,
          0.094,
          0.068,
          0.1939999999999999,
          0.083,
          0.072,
          0.0819999999999999,
          0.08,
          0.08,
          0.079,
          0.078,
          0.059,
          0.132,
          0.114,
          0.065,
          0.079,
          0.084,
          0.081,
          0.072,
          0.061,
          0.078,
          0.06,
          0.0819999999999999,
          0.111,
          0.088,
          0.0579999999999999,
          0.1,
          0.065,
          0.068,
          0.066,
          0.065,
          0.07,
          0.064,
          0.073,
          0.076,
          0.079,
          0.05,
          0.055,
          0.088,
          0.092,
          0.12,
          0.075,
          0.049,
          0.123,
          0.098,
          0.095,
          0.066,
          0.075,
          0.089,
          0.077,
          0.088,
          0.079,
          0.046,
          0.07,
          0.076,
          0.081,
          0.084,
          0.095,
          0.074,
          0.098,
          0.075,
          0.067,
          0.083,
          0.083,
          0.088,
          0.073,
          0.047,
          0.073,
          0.072,
          0.057,
          0.086,
          0.081,
          0.1169999999999999,
          0.072,
          0.071,
          0.078,
          0.073,
          0.069,
          0.171,
          0.07,
          0.0559999999999999,
          0.074,
          0.046,
          0.091,
          0.065,
          0.062,
          0.055,
          0.081,
          0.063,
          0.072,
          0.092,
          0.0579999999999999,
          0.067,
          0.08,
          0.079,
          0.08,
          0.08,
          0.043,
          0.065,
          0.076,
          0.178,
          0.086,
          0.061,
          0.044,
          0.083,
          0.1,
          0.076,
          0.076,
          0.067,
          0.086,
          0.062,
          0.078,
          0.074,
          0.079,
          0.095,
          0.076,
          0.068,
          0.085,
          0.08,
          0.114,
          0.078,
          0.076,
          0.069,
          0.052,
          0.078,
          0.071,
          0.081,
          0.095,
          0.079,
          0.057,
          0.0819999999999999,
          0.044,
          0.132,
          0.078,
          0.074,
          0.08,
          0.066,
          0.059,
          0.07,
          0.0579999999999999,
          0.067,
          0.081,
          0.079,
          0.085,
          0.123,
          0.066,
          0.081,
          0.068,
          0.079,
          0.048,
          0.049,
          0.102,
          0.075,
          0.114,
          0.077,
          0.084,
          0.096,
          0.068,
          0.073,
          0.0559999999999999,
          0.064,
          0.063,
          0.08,
          0.1,
          0.064,
          0.064,
          0.086,
          0.086,
          0.083,
          0.0409999999999999,
          0.091,
          0.414,
          0.0409999999999999,
          0.077,
          0.083,
          0.075,
          0.069,
          0.084,
          0.085,
          0.063,
          0.065,
          0.078,
          0.091,
          0.096,
          0.088,
          0.079,
          0.153,
          0.09,
          0.078,
          0.077,
          0.068,
          0.092,
          0.068,
          0.052,
          0.0819999999999999,
          0.062,
          0.064,
          0.0819999999999999,
          0.071,
          0.079,
          0.076,
          0.046,
          0.069,
          0.042,
          0.214,
          0.072,
          0.094,
          0.072,
          0.094,
          0.073,
          0.052,
          0.05,
          0.054,
          0.075,
          0.076,
          0.073,
          0.048,
          0.039,
          0.08,
          0.054,
          0.068,
          0.077,
          0.106,
          0.07,
          0.074,
          0.047,
          0.061,
          0.078,
          0.074,
          0.074,
          0.063,
          0.075,
          0.064,
          0.071,
          0.096,
          0.063,
          0.063,
          0.0579999999999999,
          0.075,
          0.077,
          0.059,
          0.071,
          0.064,
          0.064,
          0.059,
          0.103,
          0.062,
          0.061,
          0.059,
          0.0559999999999999,
          0.23,
          0.038,
          0.075,
          0.074,
          0.06,
          0.081,
          0.076,
          0.118,
          0.068,
          0.066,
          0.065,
          0.066,
          0.068,
          0.077,
          0.089,
          0.076,
          0.068,
          0.062,
          0.067
         ],
         "xaxis": "x2",
         "yaxis": "y2"
        },
        {
         "alignmentgroup": "True",
         "bingroup": "x",
         "histfunc": "sum",
         "hovertemplate": "color=7<br>chlorides=%{x}<br>sum of chlorides=%{y}<extra></extra>",
         "legendgroup": "7",
         "marker": {
          "color": "#00cc96",
          "pattern": {
           "shape": ""
          }
         },
         "name": "7",
         "offsetgroup": "7",
         "orientation": "v",
         "showlegend": true,
         "type": "histogram",
         "x": [
          0.065,
          0.073,
          0.092,
          0.066,
          0.085,
          0.065,
          0.046,
          0.0559999999999999,
          0.095,
          0.054,
          0.054,
          0.075,
          0.085,
          0.071,
          0.087,
          0.358,
          0.091,
          0.083,
          0.121,
          0.078,
          0.128,
          0.0819999999999999,
          0.072,
          0.1159999999999999,
          0.109,
          0.083,
          0.074,
          0.124,
          0.096,
          0.066,
          0.093,
          0.0969999999999999,
          0.089,
          0.059,
          0.066,
          0.1,
          0.077,
          0.054,
          0.084,
          0.081,
          0.055,
          0.052,
          0.074,
          0.078,
          0.077,
          0.072,
          0.075,
          0.084,
          0.107,
          0.066,
          0.074,
          0.093,
          0.094,
          0.059,
          0.072,
          0.143,
          0.115,
          0.066,
          0.073,
          0.038,
          0.044,
          0.052,
          0.0409999999999999,
          0.048,
          0.05,
          0.012,
          0.075,
          0.085,
          0.071,
          0.073,
          0.054,
          0.067,
          0.104,
          0.109,
          0.066,
          0.078,
          0.08,
          0.06,
          0.094,
          0.064,
          0.063,
          0.068,
          0.074,
          0.0819999999999999,
          0.092,
          0.094,
          0.09,
          0.071,
          0.092,
          0.093,
          0.075,
          0.0579999999999999,
          0.052,
          0.12,
          0.103,
          0.104,
          0.073,
          0.061,
          0.066,
          0.087,
          0.062,
          0.0579999999999999,
          0.063,
          0.067,
          0.064,
          0.11,
          0.067,
          0.068,
          0.088,
          0.091,
          0.093,
          0.085,
          0.0819999999999999,
          0.078,
          0.069,
          0.07,
          0.1009999999999999,
          0.093,
          0.07,
          0.06,
          0.057,
          0.071,
          0.05,
          0.05,
          0.055,
          0.095,
          0.079,
          0.216,
          0.068,
          0.092,
          0.055,
          0.075,
          0.089,
          0.061,
          0.071,
          0.067,
          0.071,
          0.042,
          0.087,
          0.075,
          0.074,
          0.052,
          0.063,
          0.065,
          0.074,
          0.071,
          0.044,
          0.062,
          0.06,
          0.083,
          0.062,
          0.048,
          0.064,
          0.069,
          0.062,
          0.104,
          0.062,
          0.054,
          0.062,
          0.048,
          0.048,
          0.066,
          0.064,
          0.054,
          0.063,
          0.065,
          0.061
         ],
         "xaxis": "x",
         "y": [
          0.065,
          0.073,
          0.092,
          0.066,
          0.085,
          0.065,
          0.046,
          0.0559999999999999,
          0.095,
          0.054,
          0.054,
          0.075,
          0.085,
          0.071,
          0.087,
          0.358,
          0.091,
          0.083,
          0.121,
          0.078,
          0.128,
          0.0819999999999999,
          0.072,
          0.1159999999999999,
          0.109,
          0.083,
          0.074,
          0.124,
          0.096,
          0.066,
          0.093,
          0.0969999999999999,
          0.089,
          0.059,
          0.066,
          0.1,
          0.077,
          0.054,
          0.084,
          0.081,
          0.055,
          0.052,
          0.074,
          0.078,
          0.077,
          0.072,
          0.075,
          0.084,
          0.107,
          0.066,
          0.074,
          0.093,
          0.094,
          0.059,
          0.072,
          0.143,
          0.115,
          0.066,
          0.073,
          0.038,
          0.044,
          0.052,
          0.0409999999999999,
          0.048,
          0.05,
          0.012,
          0.075,
          0.085,
          0.071,
          0.073,
          0.054,
          0.067,
          0.104,
          0.109,
          0.066,
          0.078,
          0.08,
          0.06,
          0.094,
          0.064,
          0.063,
          0.068,
          0.074,
          0.0819999999999999,
          0.092,
          0.094,
          0.09,
          0.071,
          0.092,
          0.093,
          0.075,
          0.0579999999999999,
          0.052,
          0.12,
          0.103,
          0.104,
          0.073,
          0.061,
          0.066,
          0.087,
          0.062,
          0.0579999999999999,
          0.063,
          0.067,
          0.064,
          0.11,
          0.067,
          0.068,
          0.088,
          0.091,
          0.093,
          0.085,
          0.0819999999999999,
          0.078,
          0.069,
          0.07,
          0.1009999999999999,
          0.093,
          0.07,
          0.06,
          0.057,
          0.071,
          0.05,
          0.05,
          0.055,
          0.095,
          0.079,
          0.216,
          0.068,
          0.092,
          0.055,
          0.075,
          0.089,
          0.061,
          0.071,
          0.067,
          0.071,
          0.042,
          0.087,
          0.075,
          0.074,
          0.052,
          0.063,
          0.065,
          0.074,
          0.071,
          0.044,
          0.062,
          0.06,
          0.083,
          0.062,
          0.048,
          0.064,
          0.069,
          0.062,
          0.104,
          0.062,
          0.054,
          0.062,
          0.048,
          0.048,
          0.066,
          0.064,
          0.054,
          0.063,
          0.065,
          0.061
         ],
         "yaxis": "y"
        },
        {
         "alignmentgroup": "True",
         "hovertemplate": "color=7<br>chlorides=%{x}<extra></extra>",
         "legendgroup": "7",
         "marker": {
          "color": "#00cc96"
         },
         "name": "7",
         "notched": true,
         "offsetgroup": "7",
         "showlegend": false,
         "type": "box",
         "x": [
          0.065,
          0.073,
          0.092,
          0.066,
          0.085,
          0.065,
          0.046,
          0.0559999999999999,
          0.095,
          0.054,
          0.054,
          0.075,
          0.085,
          0.071,
          0.087,
          0.358,
          0.091,
          0.083,
          0.121,
          0.078,
          0.128,
          0.0819999999999999,
          0.072,
          0.1159999999999999,
          0.109,
          0.083,
          0.074,
          0.124,
          0.096,
          0.066,
          0.093,
          0.0969999999999999,
          0.089,
          0.059,
          0.066,
          0.1,
          0.077,
          0.054,
          0.084,
          0.081,
          0.055,
          0.052,
          0.074,
          0.078,
          0.077,
          0.072,
          0.075,
          0.084,
          0.107,
          0.066,
          0.074,
          0.093,
          0.094,
          0.059,
          0.072,
          0.143,
          0.115,
          0.066,
          0.073,
          0.038,
          0.044,
          0.052,
          0.0409999999999999,
          0.048,
          0.05,
          0.012,
          0.075,
          0.085,
          0.071,
          0.073,
          0.054,
          0.067,
          0.104,
          0.109,
          0.066,
          0.078,
          0.08,
          0.06,
          0.094,
          0.064,
          0.063,
          0.068,
          0.074,
          0.0819999999999999,
          0.092,
          0.094,
          0.09,
          0.071,
          0.092,
          0.093,
          0.075,
          0.0579999999999999,
          0.052,
          0.12,
          0.103,
          0.104,
          0.073,
          0.061,
          0.066,
          0.087,
          0.062,
          0.0579999999999999,
          0.063,
          0.067,
          0.064,
          0.11,
          0.067,
          0.068,
          0.088,
          0.091,
          0.093,
          0.085,
          0.0819999999999999,
          0.078,
          0.069,
          0.07,
          0.1009999999999999,
          0.093,
          0.07,
          0.06,
          0.057,
          0.071,
          0.05,
          0.05,
          0.055,
          0.095,
          0.079,
          0.216,
          0.068,
          0.092,
          0.055,
          0.075,
          0.089,
          0.061,
          0.071,
          0.067,
          0.071,
          0.042,
          0.087,
          0.075,
          0.074,
          0.052,
          0.063,
          0.065,
          0.074,
          0.071,
          0.044,
          0.062,
          0.06,
          0.083,
          0.062,
          0.048,
          0.064,
          0.069,
          0.062,
          0.104,
          0.062,
          0.054,
          0.062,
          0.048,
          0.048,
          0.066,
          0.064,
          0.054,
          0.063,
          0.065,
          0.061
         ],
         "xaxis": "x2",
         "yaxis": "y2"
        },
        {
         "alignmentgroup": "True",
         "bingroup": "x",
         "histfunc": "sum",
         "hovertemplate": "color=4<br>chlorides=%{x}<br>sum of chlorides=%{y}<extra></extra>",
         "legendgroup": "4",
         "marker": {
          "color": "#ab63fa",
          "pattern": {
           "shape": ""
          }
         },
         "name": "4",
         "offsetgroup": "4",
         "orientation": "v",
         "showlegend": true,
         "type": "histogram",
         "x": [
          0.086,
          0.172,
          0.088,
          0.054,
          0.084,
          0.08,
          0.045,
          0.61,
          0.072,
          0.072,
          0.0579999999999999,
          0.061,
          0.089,
          0.087,
          0.096,
          0.07,
          0.07,
          0.103,
          0.088,
          0.105,
          0.07,
          0.096,
          0.073,
          0.078,
          0.086,
          0.102,
          0.0579999999999999,
          0.147,
          0.067,
          0.067,
          0.093,
          0.071,
          0.096,
          0.079,
          0.075,
          0.057,
          0.054,
          0.081,
          0.057,
          0.083,
          0.089,
          0.05,
          0.084,
          0.068,
          0.08,
          0.069,
          0.123,
          0.06,
          0.067,
          0.08,
          0.114,
          0.06,
          0.0819999999999999
         ],
         "xaxis": "x",
         "y": [
          0.086,
          0.172,
          0.088,
          0.054,
          0.084,
          0.08,
          0.045,
          0.61,
          0.072,
          0.072,
          0.0579999999999999,
          0.061,
          0.089,
          0.087,
          0.096,
          0.07,
          0.07,
          0.103,
          0.088,
          0.105,
          0.07,
          0.096,
          0.073,
          0.078,
          0.086,
          0.102,
          0.0579999999999999,
          0.147,
          0.067,
          0.067,
          0.093,
          0.071,
          0.096,
          0.079,
          0.075,
          0.057,
          0.054,
          0.081,
          0.057,
          0.083,
          0.089,
          0.05,
          0.084,
          0.068,
          0.08,
          0.069,
          0.123,
          0.06,
          0.067,
          0.08,
          0.114,
          0.06,
          0.0819999999999999
         ],
         "yaxis": "y"
        },
        {
         "alignmentgroup": "True",
         "hovertemplate": "color=4<br>chlorides=%{x}<extra></extra>",
         "legendgroup": "4",
         "marker": {
          "color": "#ab63fa"
         },
         "name": "4",
         "notched": true,
         "offsetgroup": "4",
         "showlegend": false,
         "type": "box",
         "x": [
          0.086,
          0.172,
          0.088,
          0.054,
          0.084,
          0.08,
          0.045,
          0.61,
          0.072,
          0.072,
          0.0579999999999999,
          0.061,
          0.089,
          0.087,
          0.096,
          0.07,
          0.07,
          0.103,
          0.088,
          0.105,
          0.07,
          0.096,
          0.073,
          0.078,
          0.086,
          0.102,
          0.0579999999999999,
          0.147,
          0.067,
          0.067,
          0.093,
          0.071,
          0.096,
          0.079,
          0.075,
          0.057,
          0.054,
          0.081,
          0.057,
          0.083,
          0.089,
          0.05,
          0.084,
          0.068,
          0.08,
          0.069,
          0.123,
          0.06,
          0.067,
          0.08,
          0.114,
          0.06,
          0.0819999999999999
         ],
         "xaxis": "x2",
         "yaxis": "y2"
        },
        {
         "alignmentgroup": "True",
         "bingroup": "x",
         "histfunc": "sum",
         "hovertemplate": "color=8<br>chlorides=%{x}<br>sum of chlorides=%{y}<extra></extra>",
         "legendgroup": "8",
         "marker": {
          "color": "#FFA15A",
          "pattern": {
           "shape": ""
          }
         },
         "name": "8",
         "offsetgroup": "8",
         "orientation": "v",
         "showlegend": true,
         "type": "histogram",
         "x": [
          0.078,
          0.073,
          0.045,
          0.072,
          0.086,
          0.08,
          0.07,
          0.06,
          0.065,
          0.071,
          0.083,
          0.076,
          0.068,
          0.044,
          0.061,
          0.0559999999999999,
          0.074
         ],
         "xaxis": "x",
         "y": [
          0.078,
          0.073,
          0.045,
          0.072,
          0.086,
          0.08,
          0.07,
          0.06,
          0.065,
          0.071,
          0.083,
          0.076,
          0.068,
          0.044,
          0.061,
          0.0559999999999999,
          0.074
         ],
         "yaxis": "y"
        },
        {
         "alignmentgroup": "True",
         "hovertemplate": "color=8<br>chlorides=%{x}<extra></extra>",
         "legendgroup": "8",
         "marker": {
          "color": "#FFA15A"
         },
         "name": "8",
         "notched": true,
         "offsetgroup": "8",
         "showlegend": false,
         "type": "box",
         "x": [
          0.078,
          0.073,
          0.045,
          0.072,
          0.086,
          0.08,
          0.07,
          0.06,
          0.065,
          0.071,
          0.083,
          0.076,
          0.068,
          0.044,
          0.061,
          0.0559999999999999,
          0.074
         ],
         "xaxis": "x2",
         "yaxis": "y2"
        },
        {
         "alignmentgroup": "True",
         "bingroup": "x",
         "histfunc": "sum",
         "hovertemplate": "color=3<br>chlorides=%{x}<br>sum of chlorides=%{y}<extra></extra>",
         "legendgroup": "3",
         "marker": {
          "color": "#19d3f3",
          "pattern": {
           "shape": ""
          }
         },
         "name": "3",
         "offsetgroup": "3",
         "orientation": "v",
         "showlegend": true,
         "type": "histogram",
         "x": [
          0.074,
          0.2,
          0.0969999999999999,
          0.145,
          0.084,
          0.1369999999999999,
          0.267,
          0.061,
          0.0819999999999999,
          0.078
         ],
         "xaxis": "x",
         "y": [
          0.074,
          0.2,
          0.0969999999999999,
          0.145,
          0.084,
          0.1369999999999999,
          0.267,
          0.061,
          0.0819999999999999,
          0.078
         ],
         "yaxis": "y"
        },
        {
         "alignmentgroup": "True",
         "hovertemplate": "color=3<br>chlorides=%{x}<extra></extra>",
         "legendgroup": "3",
         "marker": {
          "color": "#19d3f3"
         },
         "name": "3",
         "notched": true,
         "offsetgroup": "3",
         "showlegend": false,
         "type": "box",
         "x": [
          0.074,
          0.2,
          0.0969999999999999,
          0.145,
          0.084,
          0.1369999999999999,
          0.267,
          0.061,
          0.0819999999999999,
          0.078
         ],
         "xaxis": "x2",
         "yaxis": "y2"
        }
       ],
       "layout": {
        "barmode": "relative",
        "legend": {
         "title": {
          "text": "color"
         },
         "tracegroupgap": 0
        },
        "margin": {
         "t": 60
        },
        "template": {
         "data": {
          "bar": [
           {
            "error_x": {
             "color": "#2a3f5f"
            },
            "error_y": {
             "color": "#2a3f5f"
            },
            "marker": {
             "line": {
              "color": "#E5ECF6",
              "width": 0.5
             },
             "pattern": {
              "fillmode": "overlay",
              "size": 10,
              "solidity": 0.2
             }
            },
            "type": "bar"
           }
          ],
          "barpolar": [
           {
            "marker": {
             "line": {
              "color": "#E5ECF6",
              "width": 0.5
             },
             "pattern": {
              "fillmode": "overlay",
              "size": 10,
              "solidity": 0.2
             }
            },
            "type": "barpolar"
           }
          ],
          "carpet": [
           {
            "aaxis": {
             "endlinecolor": "#2a3f5f",
             "gridcolor": "white",
             "linecolor": "white",
             "minorgridcolor": "white",
             "startlinecolor": "#2a3f5f"
            },
            "baxis": {
             "endlinecolor": "#2a3f5f",
             "gridcolor": "white",
             "linecolor": "white",
             "minorgridcolor": "white",
             "startlinecolor": "#2a3f5f"
            },
            "type": "carpet"
           }
          ],
          "choropleth": [
           {
            "colorbar": {
             "outlinewidth": 0,
             "ticks": ""
            },
            "type": "choropleth"
           }
          ],
          "contour": [
           {
            "colorbar": {
             "outlinewidth": 0,
             "ticks": ""
            },
            "colorscale": [
             [
              0,
              "#0d0887"
             ],
             [
              0.1111111111111111,
              "#46039f"
             ],
             [
              0.2222222222222222,
              "#7201a8"
             ],
             [
              0.3333333333333333,
              "#9c179e"
             ],
             [
              0.4444444444444444,
              "#bd3786"
             ],
             [
              0.5555555555555556,
              "#d8576b"
             ],
             [
              0.6666666666666666,
              "#ed7953"
             ],
             [
              0.7777777777777778,
              "#fb9f3a"
             ],
             [
              0.8888888888888888,
              "#fdca26"
             ],
             [
              1,
              "#f0f921"
             ]
            ],
            "type": "contour"
           }
          ],
          "contourcarpet": [
           {
            "colorbar": {
             "outlinewidth": 0,
             "ticks": ""
            },
            "type": "contourcarpet"
           }
          ],
          "heatmap": [
           {
            "colorbar": {
             "outlinewidth": 0,
             "ticks": ""
            },
            "colorscale": [
             [
              0,
              "#0d0887"
             ],
             [
              0.1111111111111111,
              "#46039f"
             ],
             [
              0.2222222222222222,
              "#7201a8"
             ],
             [
              0.3333333333333333,
              "#9c179e"
             ],
             [
              0.4444444444444444,
              "#bd3786"
             ],
             [
              0.5555555555555556,
              "#d8576b"
             ],
             [
              0.6666666666666666,
              "#ed7953"
             ],
             [
              0.7777777777777778,
              "#fb9f3a"
             ],
             [
              0.8888888888888888,
              "#fdca26"
             ],
             [
              1,
              "#f0f921"
             ]
            ],
            "type": "heatmap"
           }
          ],
          "heatmapgl": [
           {
            "colorbar": {
             "outlinewidth": 0,
             "ticks": ""
            },
            "colorscale": [
             [
              0,
              "#0d0887"
             ],
             [
              0.1111111111111111,
              "#46039f"
             ],
             [
              0.2222222222222222,
              "#7201a8"
             ],
             [
              0.3333333333333333,
              "#9c179e"
             ],
             [
              0.4444444444444444,
              "#bd3786"
             ],
             [
              0.5555555555555556,
              "#d8576b"
             ],
             [
              0.6666666666666666,
              "#ed7953"
             ],
             [
              0.7777777777777778,
              "#fb9f3a"
             ],
             [
              0.8888888888888888,
              "#fdca26"
             ],
             [
              1,
              "#f0f921"
             ]
            ],
            "type": "heatmapgl"
           }
          ],
          "histogram": [
           {
            "marker": {
             "pattern": {
              "fillmode": "overlay",
              "size": 10,
              "solidity": 0.2
             }
            },
            "type": "histogram"
           }
          ],
          "histogram2d": [
           {
            "colorbar": {
             "outlinewidth": 0,
             "ticks": ""
            },
            "colorscale": [
             [
              0,
              "#0d0887"
             ],
             [
              0.1111111111111111,
              "#46039f"
             ],
             [
              0.2222222222222222,
              "#7201a8"
             ],
             [
              0.3333333333333333,
              "#9c179e"
             ],
             [
              0.4444444444444444,
              "#bd3786"
             ],
             [
              0.5555555555555556,
              "#d8576b"
             ],
             [
              0.6666666666666666,
              "#ed7953"
             ],
             [
              0.7777777777777778,
              "#fb9f3a"
             ],
             [
              0.8888888888888888,
              "#fdca26"
             ],
             [
              1,
              "#f0f921"
             ]
            ],
            "type": "histogram2d"
           }
          ],
          "histogram2dcontour": [
           {
            "colorbar": {
             "outlinewidth": 0,
             "ticks": ""
            },
            "colorscale": [
             [
              0,
              "#0d0887"
             ],
             [
              0.1111111111111111,
              "#46039f"
             ],
             [
              0.2222222222222222,
              "#7201a8"
             ],
             [
              0.3333333333333333,
              "#9c179e"
             ],
             [
              0.4444444444444444,
              "#bd3786"
             ],
             [
              0.5555555555555556,
              "#d8576b"
             ],
             [
              0.6666666666666666,
              "#ed7953"
             ],
             [
              0.7777777777777778,
              "#fb9f3a"
             ],
             [
              0.8888888888888888,
              "#fdca26"
             ],
             [
              1,
              "#f0f921"
             ]
            ],
            "type": "histogram2dcontour"
           }
          ],
          "mesh3d": [
           {
            "colorbar": {
             "outlinewidth": 0,
             "ticks": ""
            },
            "type": "mesh3d"
           }
          ],
          "parcoords": [
           {
            "line": {
             "colorbar": {
              "outlinewidth": 0,
              "ticks": ""
             }
            },
            "type": "parcoords"
           }
          ],
          "pie": [
           {
            "automargin": true,
            "type": "pie"
           }
          ],
          "scatter": [
           {
            "fillpattern": {
             "fillmode": "overlay",
             "size": 10,
             "solidity": 0.2
            },
            "type": "scatter"
           }
          ],
          "scatter3d": [
           {
            "line": {
             "colorbar": {
              "outlinewidth": 0,
              "ticks": ""
             }
            },
            "marker": {
             "colorbar": {
              "outlinewidth": 0,
              "ticks": ""
             }
            },
            "type": "scatter3d"
           }
          ],
          "scattercarpet": [
           {
            "marker": {
             "colorbar": {
              "outlinewidth": 0,
              "ticks": ""
             }
            },
            "type": "scattercarpet"
           }
          ],
          "scattergeo": [
           {
            "marker": {
             "colorbar": {
              "outlinewidth": 0,
              "ticks": ""
             }
            },
            "type": "scattergeo"
           }
          ],
          "scattergl": [
           {
            "marker": {
             "colorbar": {
              "outlinewidth": 0,
              "ticks": ""
             }
            },
            "type": "scattergl"
           }
          ],
          "scattermapbox": [
           {
            "marker": {
             "colorbar": {
              "outlinewidth": 0,
              "ticks": ""
             }
            },
            "type": "scattermapbox"
           }
          ],
          "scatterpolar": [
           {
            "marker": {
             "colorbar": {
              "outlinewidth": 0,
              "ticks": ""
             }
            },
            "type": "scatterpolar"
           }
          ],
          "scatterpolargl": [
           {
            "marker": {
             "colorbar": {
              "outlinewidth": 0,
              "ticks": ""
             }
            },
            "type": "scatterpolargl"
           }
          ],
          "scatterternary": [
           {
            "marker": {
             "colorbar": {
              "outlinewidth": 0,
              "ticks": ""
             }
            },
            "type": "scatterternary"
           }
          ],
          "surface": [
           {
            "colorbar": {
             "outlinewidth": 0,
             "ticks": ""
            },
            "colorscale": [
             [
              0,
              "#0d0887"
             ],
             [
              0.1111111111111111,
              "#46039f"
             ],
             [
              0.2222222222222222,
              "#7201a8"
             ],
             [
              0.3333333333333333,
              "#9c179e"
             ],
             [
              0.4444444444444444,
              "#bd3786"
             ],
             [
              0.5555555555555556,
              "#d8576b"
             ],
             [
              0.6666666666666666,
              "#ed7953"
             ],
             [
              0.7777777777777778,
              "#fb9f3a"
             ],
             [
              0.8888888888888888,
              "#fdca26"
             ],
             [
              1,
              "#f0f921"
             ]
            ],
            "type": "surface"
           }
          ],
          "table": [
           {
            "cells": {
             "fill": {
              "color": "#EBF0F8"
             },
             "line": {
              "color": "white"
             }
            },
            "header": {
             "fill": {
              "color": "#C8D4E3"
             },
             "line": {
              "color": "white"
             }
            },
            "type": "table"
           }
          ]
         },
         "layout": {
          "annotationdefaults": {
           "arrowcolor": "#2a3f5f",
           "arrowhead": 0,
           "arrowwidth": 1
          },
          "autotypenumbers": "strict",
          "coloraxis": {
           "colorbar": {
            "outlinewidth": 0,
            "ticks": ""
           }
          },
          "colorscale": {
           "diverging": [
            [
             0,
             "#8e0152"
            ],
            [
             0.1,
             "#c51b7d"
            ],
            [
             0.2,
             "#de77ae"
            ],
            [
             0.3,
             "#f1b6da"
            ],
            [
             0.4,
             "#fde0ef"
            ],
            [
             0.5,
             "#f7f7f7"
            ],
            [
             0.6,
             "#e6f5d0"
            ],
            [
             0.7,
             "#b8e186"
            ],
            [
             0.8,
             "#7fbc41"
            ],
            [
             0.9,
             "#4d9221"
            ],
            [
             1,
             "#276419"
            ]
           ],
           "sequential": [
            [
             0,
             "#0d0887"
            ],
            [
             0.1111111111111111,
             "#46039f"
            ],
            [
             0.2222222222222222,
             "#7201a8"
            ],
            [
             0.3333333333333333,
             "#9c179e"
            ],
            [
             0.4444444444444444,
             "#bd3786"
            ],
            [
             0.5555555555555556,
             "#d8576b"
            ],
            [
             0.6666666666666666,
             "#ed7953"
            ],
            [
             0.7777777777777778,
             "#fb9f3a"
            ],
            [
             0.8888888888888888,
             "#fdca26"
            ],
            [
             1,
             "#f0f921"
            ]
           ],
           "sequentialminus": [
            [
             0,
             "#0d0887"
            ],
            [
             0.1111111111111111,
             "#46039f"
            ],
            [
             0.2222222222222222,
             "#7201a8"
            ],
            [
             0.3333333333333333,
             "#9c179e"
            ],
            [
             0.4444444444444444,
             "#bd3786"
            ],
            [
             0.5555555555555556,
             "#d8576b"
            ],
            [
             0.6666666666666666,
             "#ed7953"
            ],
            [
             0.7777777777777778,
             "#fb9f3a"
            ],
            [
             0.8888888888888888,
             "#fdca26"
            ],
            [
             1,
             "#f0f921"
            ]
           ]
          },
          "colorway": [
           "#636efa",
           "#EF553B",
           "#00cc96",
           "#ab63fa",
           "#FFA15A",
           "#19d3f3",
           "#FF6692",
           "#B6E880",
           "#FF97FF",
           "#FECB52"
          ],
          "font": {
           "color": "#2a3f5f"
          },
          "geo": {
           "bgcolor": "white",
           "lakecolor": "white",
           "landcolor": "#E5ECF6",
           "showlakes": true,
           "showland": true,
           "subunitcolor": "white"
          },
          "hoverlabel": {
           "align": "left"
          },
          "hovermode": "closest",
          "mapbox": {
           "style": "light"
          },
          "paper_bgcolor": "white",
          "plot_bgcolor": "#E5ECF6",
          "polar": {
           "angularaxis": {
            "gridcolor": "white",
            "linecolor": "white",
            "ticks": ""
           },
           "bgcolor": "#E5ECF6",
           "radialaxis": {
            "gridcolor": "white",
            "linecolor": "white",
            "ticks": ""
           }
          },
          "scene": {
           "xaxis": {
            "backgroundcolor": "#E5ECF6",
            "gridcolor": "white",
            "gridwidth": 2,
            "linecolor": "white",
            "showbackground": true,
            "ticks": "",
            "zerolinecolor": "white"
           },
           "yaxis": {
            "backgroundcolor": "#E5ECF6",
            "gridcolor": "white",
            "gridwidth": 2,
            "linecolor": "white",
            "showbackground": true,
            "ticks": "",
            "zerolinecolor": "white"
           },
           "zaxis": {
            "backgroundcolor": "#E5ECF6",
            "gridcolor": "white",
            "gridwidth": 2,
            "linecolor": "white",
            "showbackground": true,
            "ticks": "",
            "zerolinecolor": "white"
           }
          },
          "shapedefaults": {
           "line": {
            "color": "#2a3f5f"
           }
          },
          "ternary": {
           "aaxis": {
            "gridcolor": "white",
            "linecolor": "white",
            "ticks": ""
           },
           "baxis": {
            "gridcolor": "white",
            "linecolor": "white",
            "ticks": ""
           },
           "bgcolor": "#E5ECF6",
           "caxis": {
            "gridcolor": "white",
            "linecolor": "white",
            "ticks": ""
           }
          },
          "title": {
           "x": 0.05
          },
          "xaxis": {
           "automargin": true,
           "gridcolor": "white",
           "linecolor": "white",
           "ticks": "",
           "title": {
            "standoff": 15
           },
           "zerolinecolor": "white",
           "zerolinewidth": 2
          },
          "yaxis": {
           "automargin": true,
           "gridcolor": "white",
           "linecolor": "white",
           "ticks": "",
           "title": {
            "standoff": 15
           },
           "zerolinecolor": "white",
           "zerolinewidth": 2
          }
         }
        },
        "title": {
         "font": {
          "size": 15
         },
         "text": "The Distribution of Chlorides by Quality",
         "x": 0.5,
         "xanchor": "center",
         "y": 0.95,
         "yanchor": "top"
        },
        "xaxis": {
         "anchor": "y",
         "domain": [
          0,
          1
         ],
         "title": {
          "text": "Chlorides"
         }
        },
        "xaxis2": {
         "anchor": "y2",
         "domain": [
          0,
          1
         ],
         "matches": "x",
         "showgrid": true,
         "showticklabels": false
        },
        "yaxis": {
         "anchor": "x",
         "domain": [
          0,
          0.7326
         ],
         "title": {
          "text": "Sum of Chlorides"
         }
        },
        "yaxis2": {
         "anchor": "x2",
         "domain": [
          0.7426,
          1
         ],
         "matches": "y2",
         "showgrid": false,
         "showline": false,
         "showticklabels": false,
         "ticks": ""
        }
       }
      }
     },
     "metadata": {},
     "output_type": "display_data"
    }
   ],
   "source": [
    "fig = px.histogram(df['chlorides'], x=\"chlorides\", y=\"chlorides\", color=df['quality'], marginal=\"box\")\n",
    "fig.update_layout(yaxis_title='Sum of Chlorides', xaxis_title='Chlorides', title={'text': 'The Distribution of Chlorides by Quality','x': 0.5,'y': 0.95,'xanchor': 'center','yanchor': 'top','font': dict(size=15)})"
   ]
  },
  {
   "cell_type": "code",
   "execution_count": 147,
   "metadata": {},
   "outputs": [
    {
     "data": {
      "application/vnd.plotly.v1+json": {
       "config": {
        "plotlyServerURL": "https://plot.ly"
       },
       "data": [
        {
         "alignmentgroup": "True",
         "bingroup": "x",
         "histfunc": "sum",
         "hovertemplate": "color=5<br>sulphates=%{x}<br>sum of sulphates=%{y}<extra></extra>",
         "legendgroup": "5",
         "marker": {
          "color": "#636efa",
          "pattern": {
           "shape": ""
          }
         },
         "name": "5",
         "offsetgroup": "5",
         "orientation": "v",
         "showlegend": true,
         "type": "histogram",
         "x": [
          0.56,
          0.68,
          0.65,
          0.56,
          0.46,
          0.8,
          0.54,
          0.52,
          1.56,
          0.88,
          0.93,
          1.28,
          0.65,
          0.91,
          0.53,
          0.56,
          0.59,
          0.55,
          0.54,
          0.66,
          0.55,
          0.83,
          1.2,
          0.52,
          0.73,
          0.58,
          0.56,
          0.58,
          0.74,
          0.56,
          0.53,
          0.63,
          0.77,
          0.59,
          0.64,
          0.71,
          0.57,
          0.39,
          0.58,
          0.58,
          0.79,
          0.48,
          0.48,
          0.82,
          0.66,
          0.52,
          0.56,
          1.28,
          0.57,
          1.14,
          0.59,
          0.64,
          1.22,
          0.53,
          0.54,
          1.98,
          0.56,
          0.63,
          0.56,
          0.51,
          0.48,
          1.31,
          0.79,
          0.69,
          0.93,
          0.66,
          0.66,
          0.57,
          0.52,
          0.53,
          0.48,
          0.7,
          0.49,
          0.48,
          0.57,
          0.66,
          0.63,
          0.82,
          0.77,
          0.64,
          0.54,
          0.54,
          0.58,
          0.62,
          0.52,
          0.8,
          0.54,
          0.72,
          0.71,
          0.5,
          0.56,
          0.49,
          0.49,
          0.62,
          0.52,
          1.59,
          0.47,
          0.78,
          0.56,
          0.59,
          1.02,
          0.52,
          0.58,
          0.53,
          0.55,
          0.49,
          0.55,
          0.55,
          0.62,
          0.61,
          0.55,
          0.54,
          0.59,
          1.03,
          0.79,
          0.55,
          0.53,
          0.67,
          0.43,
          0.76,
          0.57,
          0.55,
          0.54,
          0.6,
          0.57,
          0.6,
          0.63,
          0.5,
          1.09,
          0.52,
          0.45,
          0.53,
          0.59,
          0.57,
          0.62,
          0.67,
          1.26,
          0.65,
          0.57,
          0.67,
          0.87,
          0.78,
          0.64,
          0.77,
          0.57,
          0.71,
          0.95,
          0.71,
          0.64,
          0.52,
          0.73,
          0.8,
          0.71,
          0.72,
          0.54,
          0.52,
          0.52,
          0.53,
          0.68,
          0.65,
          0.62,
          0.63,
          0.83,
          0.62,
          0.52,
          0.64,
          0.81,
          0.73,
          0.77,
          0.88,
          0.7,
          0.56,
          0.87,
          0.69,
          0.64,
          0.78,
          0.63,
          0.74,
          0.51,
          0.54,
          0.57,
          0.53,
          0.55,
          0.61,
          0.62,
          0.64,
          0.61,
          1.07,
          0.48,
          0.68,
          0.44,
          0.6,
          0.56,
          0.49,
          0.6,
          0.73,
          0.72,
          0.63,
          0.58,
          0.58,
          0.61,
          0.61,
          0.53,
          0.91,
          0.58,
          0.61,
          0.79,
          0.6,
          0.7,
          0.66,
          1.05,
          1.06,
          0.47,
          0.79,
          0.61,
          1.14,
          0.78,
          0.64,
          0.99,
          0.55,
          0.64,
          0.67,
          0.57,
          0.61,
          0.62,
          0.67,
          0.59,
          0.59,
          0.62,
          0.74,
          0.74,
          0.57,
          0.58,
          0.61,
          0.61,
          0.6,
          0.6,
          0.44,
          0.43,
          0.59,
          0.57,
          0.58,
          0.53,
          0.57,
          0.52,
          0.54,
          0.54,
          0.74,
          0.57,
          0.7,
          0.8,
          0.61,
          0.62,
          0.55,
          0.72,
          0.49,
          0.61,
          0.63,
          0.58,
          0.55,
          0.53,
          0.53,
          0.62,
          0.63,
          0.63,
          0.5,
          0.67,
          0.84,
          0.46,
          0.61,
          0.64,
          0.66,
          0.56,
          0.57,
          0.58,
          0.52,
          0.53,
          0.65,
          0.48,
          0.53,
          0.54,
          0.49,
          0.54,
          0.56,
          0.48,
          0.6,
          0.59,
          0.47,
          1.05,
          0.54,
          1.17,
          0.62,
          0.61,
          0.53,
          0.49,
          0.47,
          0.51,
          0.57,
          0.61,
          0.45,
          0.46,
          0.51,
          0.57,
          0.44,
          0.54,
          0.53,
          0.59,
          1.62,
          0.55,
          0.68,
          0.67,
          0.52,
          0.47,
          0.6,
          0.62,
          0.5,
          0.56,
          0.6,
          0.57,
          0.65,
          0.53,
          0.51,
          0.48,
          0.55,
          0.61,
          0.5,
          0.52,
          0.57,
          0.42,
          0.54,
          0.62,
          0.54,
          0.55,
          0.55,
          0.46,
          0.61,
          0.6,
          0.65,
          0.53,
          0.59,
          0.5,
          0.52,
          0.54,
          0.56,
          1.18,
          0.74,
          0.51,
          0.44,
          0.86,
          0.47,
          0.71,
          0.45,
          0.54,
          0.6,
          0.64,
          0.53,
          0.49,
          0.47,
          0.51,
          0.47,
          0.63,
          0.62,
          0.66,
          0.66,
          0.55,
          1.07,
          0.54,
          0.44,
          0.53,
          0.54,
          0.57,
          0.55,
          0.49,
          0.64,
          0.68,
          0.58,
          0.57,
          0.69,
          0.59,
          0.71,
          0.61,
          0.56,
          0.8,
          0.73,
          0.65,
          0.54,
          0.67,
          0.61,
          0.62,
          0.69,
          0.48,
          0.61,
          0.63,
          0.52,
          0.5,
          0.63,
          0.62,
          0.5,
          0.49,
          0.48,
          0.43,
          0.54,
          0.68,
          0.48,
          0.61,
          0.54,
          0.52,
          0.53,
          0.56,
          0.67,
          0.64,
          1.34,
          0.55,
          0.57,
          0.62,
          0.58,
          0.58,
          0.49,
          0.5,
          0.52,
          0.6,
          0.49,
          0.58,
          0.68,
          0.44,
          0.58,
          0.62,
          0.53,
          0.67,
          0.67,
          1.1,
          0.98,
          0.73,
          0.46,
          0.6,
          0.7,
          0.5,
          0.51,
          0.51,
          0.55,
          0.94,
          0.62,
          0.51,
          0.47,
          0.72,
          0.64,
          0.62,
          0.4,
          0.59,
          0.62,
          0.68,
          0.48,
          0.59,
          0.58,
          0.58,
          0.69,
          0.45,
          0.42,
          1.15,
          0.58,
          0.53,
          0.43,
          0.56,
          0.57,
          0.37,
          1.17,
          0.59,
          0.45,
          0.66,
          0.44,
          0.53,
          0.62,
          0.61,
          0.47,
          0.66,
          0.55,
          0.52,
          0.46,
          0.51,
          0.52,
          0.45,
          0.53,
          0.56,
          0.39,
          0.52,
          0.57,
          0.46,
          0.52,
          0.44,
          0.44,
          0.5,
          0.56,
          0.54,
          0.62,
          0.5,
          1.17,
          0.45,
          0.52,
          0.46,
          0.45,
          0.49,
          0.5,
          0.42,
          0.58,
          0.68,
          0.53,
          0.58,
          0.48,
          0.48,
          0.48,
          0.65,
          0.52,
          0.51,
          0.9,
          0.78,
          0.84,
          0.46,
          0.45,
          0.58,
          0.58,
          0.63,
          0.93,
          0.62,
          0.65,
          0.54,
          0.47,
          0.75,
          0.49,
          0.74,
          0.73,
          0.58,
          0.6,
          0.67,
          0.47,
          0.52,
          0.54,
          0.75,
          0.68,
          0.61,
          0.55,
          0.6,
          0.78,
          0.58,
          0.54,
          0.59,
          0.53,
          0.53,
          0.54,
          0.7,
          0.67,
          0.97,
          0.63,
          0.58,
          0.6,
          0.64,
          0.66,
          0.61,
          0.63,
          0.78,
          0.61,
          0.51,
          0.58,
          0.53,
          0.54,
          0.6,
          0.56,
          0.56,
          0.52,
          0.54,
          0.59,
          0.51,
          0.6,
          0.5,
          0.62,
          0.54,
          0.58,
          0.71
         ],
         "xaxis": "x",
         "y": [
          0.56,
          0.68,
          0.65,
          0.56,
          0.46,
          0.8,
          0.54,
          0.52,
          1.56,
          0.88,
          0.93,
          1.28,
          0.65,
          0.91,
          0.53,
          0.56,
          0.59,
          0.55,
          0.54,
          0.66,
          0.55,
          0.83,
          1.2,
          0.52,
          0.73,
          0.58,
          0.56,
          0.58,
          0.74,
          0.56,
          0.53,
          0.63,
          0.77,
          0.59,
          0.64,
          0.71,
          0.57,
          0.39,
          0.58,
          0.58,
          0.79,
          0.48,
          0.48,
          0.82,
          0.66,
          0.52,
          0.56,
          1.28,
          0.57,
          1.14,
          0.59,
          0.64,
          1.22,
          0.53,
          0.54,
          1.98,
          0.56,
          0.63,
          0.56,
          0.51,
          0.48,
          1.31,
          0.79,
          0.69,
          0.93,
          0.66,
          0.66,
          0.57,
          0.52,
          0.53,
          0.48,
          0.7,
          0.49,
          0.48,
          0.57,
          0.66,
          0.63,
          0.82,
          0.77,
          0.64,
          0.54,
          0.54,
          0.58,
          0.62,
          0.52,
          0.8,
          0.54,
          0.72,
          0.71,
          0.5,
          0.56,
          0.49,
          0.49,
          0.62,
          0.52,
          1.59,
          0.47,
          0.78,
          0.56,
          0.59,
          1.02,
          0.52,
          0.58,
          0.53,
          0.55,
          0.49,
          0.55,
          0.55,
          0.62,
          0.61,
          0.55,
          0.54,
          0.59,
          1.03,
          0.79,
          0.55,
          0.53,
          0.67,
          0.43,
          0.76,
          0.57,
          0.55,
          0.54,
          0.6,
          0.57,
          0.6,
          0.63,
          0.5,
          1.09,
          0.52,
          0.45,
          0.53,
          0.59,
          0.57,
          0.62,
          0.67,
          1.26,
          0.65,
          0.57,
          0.67,
          0.87,
          0.78,
          0.64,
          0.77,
          0.57,
          0.71,
          0.95,
          0.71,
          0.64,
          0.52,
          0.73,
          0.8,
          0.71,
          0.72,
          0.54,
          0.52,
          0.52,
          0.53,
          0.68,
          0.65,
          0.62,
          0.63,
          0.83,
          0.62,
          0.52,
          0.64,
          0.81,
          0.73,
          0.77,
          0.88,
          0.7,
          0.56,
          0.87,
          0.69,
          0.64,
          0.78,
          0.63,
          0.74,
          0.51,
          0.54,
          0.57,
          0.53,
          0.55,
          0.61,
          0.62,
          0.64,
          0.61,
          1.07,
          0.48,
          0.68,
          0.44,
          0.6,
          0.56,
          0.49,
          0.6,
          0.73,
          0.72,
          0.63,
          0.58,
          0.58,
          0.61,
          0.61,
          0.53,
          0.91,
          0.58,
          0.61,
          0.79,
          0.6,
          0.7,
          0.66,
          1.05,
          1.06,
          0.47,
          0.79,
          0.61,
          1.14,
          0.78,
          0.64,
          0.99,
          0.55,
          0.64,
          0.67,
          0.57,
          0.61,
          0.62,
          0.67,
          0.59,
          0.59,
          0.62,
          0.74,
          0.74,
          0.57,
          0.58,
          0.61,
          0.61,
          0.6,
          0.6,
          0.44,
          0.43,
          0.59,
          0.57,
          0.58,
          0.53,
          0.57,
          0.52,
          0.54,
          0.54,
          0.74,
          0.57,
          0.7,
          0.8,
          0.61,
          0.62,
          0.55,
          0.72,
          0.49,
          0.61,
          0.63,
          0.58,
          0.55,
          0.53,
          0.53,
          0.62,
          0.63,
          0.63,
          0.5,
          0.67,
          0.84,
          0.46,
          0.61,
          0.64,
          0.66,
          0.56,
          0.57,
          0.58,
          0.52,
          0.53,
          0.65,
          0.48,
          0.53,
          0.54,
          0.49,
          0.54,
          0.56,
          0.48,
          0.6,
          0.59,
          0.47,
          1.05,
          0.54,
          1.17,
          0.62,
          0.61,
          0.53,
          0.49,
          0.47,
          0.51,
          0.57,
          0.61,
          0.45,
          0.46,
          0.51,
          0.57,
          0.44,
          0.54,
          0.53,
          0.59,
          1.62,
          0.55,
          0.68,
          0.67,
          0.52,
          0.47,
          0.6,
          0.62,
          0.5,
          0.56,
          0.6,
          0.57,
          0.65,
          0.53,
          0.51,
          0.48,
          0.55,
          0.61,
          0.5,
          0.52,
          0.57,
          0.42,
          0.54,
          0.62,
          0.54,
          0.55,
          0.55,
          0.46,
          0.61,
          0.6,
          0.65,
          0.53,
          0.59,
          0.5,
          0.52,
          0.54,
          0.56,
          1.18,
          0.74,
          0.51,
          0.44,
          0.86,
          0.47,
          0.71,
          0.45,
          0.54,
          0.6,
          0.64,
          0.53,
          0.49,
          0.47,
          0.51,
          0.47,
          0.63,
          0.62,
          0.66,
          0.66,
          0.55,
          1.07,
          0.54,
          0.44,
          0.53,
          0.54,
          0.57,
          0.55,
          0.49,
          0.64,
          0.68,
          0.58,
          0.57,
          0.69,
          0.59,
          0.71,
          0.61,
          0.56,
          0.8,
          0.73,
          0.65,
          0.54,
          0.67,
          0.61,
          0.62,
          0.69,
          0.48,
          0.61,
          0.63,
          0.52,
          0.5,
          0.63,
          0.62,
          0.5,
          0.49,
          0.48,
          0.43,
          0.54,
          0.68,
          0.48,
          0.61,
          0.54,
          0.52,
          0.53,
          0.56,
          0.67,
          0.64,
          1.34,
          0.55,
          0.57,
          0.62,
          0.58,
          0.58,
          0.49,
          0.5,
          0.52,
          0.6,
          0.49,
          0.58,
          0.68,
          0.44,
          0.58,
          0.62,
          0.53,
          0.67,
          0.67,
          1.1,
          0.98,
          0.73,
          0.46,
          0.6,
          0.7,
          0.5,
          0.51,
          0.51,
          0.55,
          0.94,
          0.62,
          0.51,
          0.47,
          0.72,
          0.64,
          0.62,
          0.4,
          0.59,
          0.62,
          0.68,
          0.48,
          0.59,
          0.58,
          0.58,
          0.69,
          0.45,
          0.42,
          1.15,
          0.58,
          0.53,
          0.43,
          0.56,
          0.57,
          0.37,
          1.17,
          0.59,
          0.45,
          0.66,
          0.44,
          0.53,
          0.62,
          0.61,
          0.47,
          0.66,
          0.55,
          0.52,
          0.46,
          0.51,
          0.52,
          0.45,
          0.53,
          0.56,
          0.39,
          0.52,
          0.57,
          0.46,
          0.52,
          0.44,
          0.44,
          0.5,
          0.56,
          0.54,
          0.62,
          0.5,
          1.17,
          0.45,
          0.52,
          0.46,
          0.45,
          0.49,
          0.5,
          0.42,
          0.58,
          0.68,
          0.53,
          0.58,
          0.48,
          0.48,
          0.48,
          0.65,
          0.52,
          0.51,
          0.9,
          0.78,
          0.84,
          0.46,
          0.45,
          0.58,
          0.58,
          0.63,
          0.93,
          0.62,
          0.65,
          0.54,
          0.47,
          0.75,
          0.49,
          0.74,
          0.73,
          0.58,
          0.6,
          0.67,
          0.47,
          0.52,
          0.54,
          0.75,
          0.68,
          0.61,
          0.55,
          0.6,
          0.78,
          0.58,
          0.54,
          0.59,
          0.53,
          0.53,
          0.54,
          0.7,
          0.67,
          0.97,
          0.63,
          0.58,
          0.6,
          0.64,
          0.66,
          0.61,
          0.63,
          0.78,
          0.61,
          0.51,
          0.58,
          0.53,
          0.54,
          0.6,
          0.56,
          0.56,
          0.52,
          0.54,
          0.59,
          0.51,
          0.6,
          0.5,
          0.62,
          0.54,
          0.58,
          0.71
         ],
         "yaxis": "y"
        },
        {
         "alignmentgroup": "True",
         "hovertemplate": "color=5<br>sulphates=%{x}<extra></extra>",
         "legendgroup": "5",
         "marker": {
          "color": "#636efa"
         },
         "name": "5",
         "notched": true,
         "offsetgroup": "5",
         "showlegend": false,
         "type": "box",
         "x": [
          0.56,
          0.68,
          0.65,
          0.56,
          0.46,
          0.8,
          0.54,
          0.52,
          1.56,
          0.88,
          0.93,
          1.28,
          0.65,
          0.91,
          0.53,
          0.56,
          0.59,
          0.55,
          0.54,
          0.66,
          0.55,
          0.83,
          1.2,
          0.52,
          0.73,
          0.58,
          0.56,
          0.58,
          0.74,
          0.56,
          0.53,
          0.63,
          0.77,
          0.59,
          0.64,
          0.71,
          0.57,
          0.39,
          0.58,
          0.58,
          0.79,
          0.48,
          0.48,
          0.82,
          0.66,
          0.52,
          0.56,
          1.28,
          0.57,
          1.14,
          0.59,
          0.64,
          1.22,
          0.53,
          0.54,
          1.98,
          0.56,
          0.63,
          0.56,
          0.51,
          0.48,
          1.31,
          0.79,
          0.69,
          0.93,
          0.66,
          0.66,
          0.57,
          0.52,
          0.53,
          0.48,
          0.7,
          0.49,
          0.48,
          0.57,
          0.66,
          0.63,
          0.82,
          0.77,
          0.64,
          0.54,
          0.54,
          0.58,
          0.62,
          0.52,
          0.8,
          0.54,
          0.72,
          0.71,
          0.5,
          0.56,
          0.49,
          0.49,
          0.62,
          0.52,
          1.59,
          0.47,
          0.78,
          0.56,
          0.59,
          1.02,
          0.52,
          0.58,
          0.53,
          0.55,
          0.49,
          0.55,
          0.55,
          0.62,
          0.61,
          0.55,
          0.54,
          0.59,
          1.03,
          0.79,
          0.55,
          0.53,
          0.67,
          0.43,
          0.76,
          0.57,
          0.55,
          0.54,
          0.6,
          0.57,
          0.6,
          0.63,
          0.5,
          1.09,
          0.52,
          0.45,
          0.53,
          0.59,
          0.57,
          0.62,
          0.67,
          1.26,
          0.65,
          0.57,
          0.67,
          0.87,
          0.78,
          0.64,
          0.77,
          0.57,
          0.71,
          0.95,
          0.71,
          0.64,
          0.52,
          0.73,
          0.8,
          0.71,
          0.72,
          0.54,
          0.52,
          0.52,
          0.53,
          0.68,
          0.65,
          0.62,
          0.63,
          0.83,
          0.62,
          0.52,
          0.64,
          0.81,
          0.73,
          0.77,
          0.88,
          0.7,
          0.56,
          0.87,
          0.69,
          0.64,
          0.78,
          0.63,
          0.74,
          0.51,
          0.54,
          0.57,
          0.53,
          0.55,
          0.61,
          0.62,
          0.64,
          0.61,
          1.07,
          0.48,
          0.68,
          0.44,
          0.6,
          0.56,
          0.49,
          0.6,
          0.73,
          0.72,
          0.63,
          0.58,
          0.58,
          0.61,
          0.61,
          0.53,
          0.91,
          0.58,
          0.61,
          0.79,
          0.6,
          0.7,
          0.66,
          1.05,
          1.06,
          0.47,
          0.79,
          0.61,
          1.14,
          0.78,
          0.64,
          0.99,
          0.55,
          0.64,
          0.67,
          0.57,
          0.61,
          0.62,
          0.67,
          0.59,
          0.59,
          0.62,
          0.74,
          0.74,
          0.57,
          0.58,
          0.61,
          0.61,
          0.6,
          0.6,
          0.44,
          0.43,
          0.59,
          0.57,
          0.58,
          0.53,
          0.57,
          0.52,
          0.54,
          0.54,
          0.74,
          0.57,
          0.7,
          0.8,
          0.61,
          0.62,
          0.55,
          0.72,
          0.49,
          0.61,
          0.63,
          0.58,
          0.55,
          0.53,
          0.53,
          0.62,
          0.63,
          0.63,
          0.5,
          0.67,
          0.84,
          0.46,
          0.61,
          0.64,
          0.66,
          0.56,
          0.57,
          0.58,
          0.52,
          0.53,
          0.65,
          0.48,
          0.53,
          0.54,
          0.49,
          0.54,
          0.56,
          0.48,
          0.6,
          0.59,
          0.47,
          1.05,
          0.54,
          1.17,
          0.62,
          0.61,
          0.53,
          0.49,
          0.47,
          0.51,
          0.57,
          0.61,
          0.45,
          0.46,
          0.51,
          0.57,
          0.44,
          0.54,
          0.53,
          0.59,
          1.62,
          0.55,
          0.68,
          0.67,
          0.52,
          0.47,
          0.6,
          0.62,
          0.5,
          0.56,
          0.6,
          0.57,
          0.65,
          0.53,
          0.51,
          0.48,
          0.55,
          0.61,
          0.5,
          0.52,
          0.57,
          0.42,
          0.54,
          0.62,
          0.54,
          0.55,
          0.55,
          0.46,
          0.61,
          0.6,
          0.65,
          0.53,
          0.59,
          0.5,
          0.52,
          0.54,
          0.56,
          1.18,
          0.74,
          0.51,
          0.44,
          0.86,
          0.47,
          0.71,
          0.45,
          0.54,
          0.6,
          0.64,
          0.53,
          0.49,
          0.47,
          0.51,
          0.47,
          0.63,
          0.62,
          0.66,
          0.66,
          0.55,
          1.07,
          0.54,
          0.44,
          0.53,
          0.54,
          0.57,
          0.55,
          0.49,
          0.64,
          0.68,
          0.58,
          0.57,
          0.69,
          0.59,
          0.71,
          0.61,
          0.56,
          0.8,
          0.73,
          0.65,
          0.54,
          0.67,
          0.61,
          0.62,
          0.69,
          0.48,
          0.61,
          0.63,
          0.52,
          0.5,
          0.63,
          0.62,
          0.5,
          0.49,
          0.48,
          0.43,
          0.54,
          0.68,
          0.48,
          0.61,
          0.54,
          0.52,
          0.53,
          0.56,
          0.67,
          0.64,
          1.34,
          0.55,
          0.57,
          0.62,
          0.58,
          0.58,
          0.49,
          0.5,
          0.52,
          0.6,
          0.49,
          0.58,
          0.68,
          0.44,
          0.58,
          0.62,
          0.53,
          0.67,
          0.67,
          1.1,
          0.98,
          0.73,
          0.46,
          0.6,
          0.7,
          0.5,
          0.51,
          0.51,
          0.55,
          0.94,
          0.62,
          0.51,
          0.47,
          0.72,
          0.64,
          0.62,
          0.4,
          0.59,
          0.62,
          0.68,
          0.48,
          0.59,
          0.58,
          0.58,
          0.69,
          0.45,
          0.42,
          1.15,
          0.58,
          0.53,
          0.43,
          0.56,
          0.57,
          0.37,
          1.17,
          0.59,
          0.45,
          0.66,
          0.44,
          0.53,
          0.62,
          0.61,
          0.47,
          0.66,
          0.55,
          0.52,
          0.46,
          0.51,
          0.52,
          0.45,
          0.53,
          0.56,
          0.39,
          0.52,
          0.57,
          0.46,
          0.52,
          0.44,
          0.44,
          0.5,
          0.56,
          0.54,
          0.62,
          0.5,
          1.17,
          0.45,
          0.52,
          0.46,
          0.45,
          0.49,
          0.5,
          0.42,
          0.58,
          0.68,
          0.53,
          0.58,
          0.48,
          0.48,
          0.48,
          0.65,
          0.52,
          0.51,
          0.9,
          0.78,
          0.84,
          0.46,
          0.45,
          0.58,
          0.58,
          0.63,
          0.93,
          0.62,
          0.65,
          0.54,
          0.47,
          0.75,
          0.49,
          0.74,
          0.73,
          0.58,
          0.6,
          0.67,
          0.47,
          0.52,
          0.54,
          0.75,
          0.68,
          0.61,
          0.55,
          0.6,
          0.78,
          0.58,
          0.54,
          0.59,
          0.53,
          0.53,
          0.54,
          0.7,
          0.67,
          0.97,
          0.63,
          0.58,
          0.6,
          0.64,
          0.66,
          0.61,
          0.63,
          0.78,
          0.61,
          0.51,
          0.58,
          0.53,
          0.54,
          0.6,
          0.56,
          0.56,
          0.52,
          0.54,
          0.59,
          0.51,
          0.6,
          0.5,
          0.62,
          0.54,
          0.58,
          0.71
         ],
         "xaxis": "x2",
         "yaxis": "y2"
        },
        {
         "alignmentgroup": "True",
         "bingroup": "x",
         "histfunc": "sum",
         "hovertemplate": "color=6<br>sulphates=%{x}<br>sum of sulphates=%{y}<extra></extra>",
         "legendgroup": "6",
         "marker": {
          "color": "#EF553B",
          "pattern": {
           "shape": ""
          }
         },
         "name": "6",
         "offsetgroup": "6",
         "orientation": "v",
         "showlegend": true,
         "type": "histogram",
         "x": [
          0.58,
          1.08,
          0.53,
          0.63,
          0.59,
          0.57,
          0.52,
          0.55,
          0.6,
          0.9,
          0.63,
          0.64,
          0.63,
          0.54,
          0.95,
          0.54,
          0.55,
          0.78,
          1.95,
          0.6,
          0.59,
          0.61,
          0.56,
          0.8,
          0.67,
          0.63,
          0.61,
          0.5,
          0.6,
          0.54,
          0.58,
          0.55,
          0.79,
          0.58,
          0.61,
          0.53,
          0.57,
          0.56,
          0.55,
          0.61,
          0.57,
          0.61,
          0.58,
          0.62,
          0.97,
          0.56,
          0.86,
          0.56,
          0.67,
          0.71,
          0.59,
          0.6,
          0.58,
          1.61,
          0.52,
          0.7,
          0.55,
          0.58,
          0.58,
          0.71,
          0.49,
          0.96,
          0.48,
          0.78,
          0.7,
          0.91,
          0.97,
          0.67,
          0.82,
          0.76,
          0.7,
          0.64,
          0.6,
          0.81,
          0.59,
          0.64,
          0.59,
          0.62,
          0.63,
          0.53,
          0.54,
          0.63,
          0.65,
          0.64,
          0.7,
          0.69,
          0.67,
          0.66,
          0.54,
          0.7,
          1,
          1.18,
          0.87,
          0.75,
          0.78,
          0.93,
          0.92,
          0.86,
          0.98,
          0.83,
          0.59,
          0.61,
          0.68,
          0.91,
          0.93,
          0.87,
          1.04,
          0.81,
          1.11,
          0.99,
          0.7,
          0.8,
          0.8,
          0.76,
          0.74,
          0.54,
          0.74,
          0.65,
          0.47,
          0.61,
          0.63,
          0.76,
          0.65,
          0.7,
          0.62,
          0.66,
          0.76,
          0.49,
          0.56,
          0.6,
          0.65,
          0.89,
          0.56,
          0.66,
          0.68,
          0.56,
          0.56,
          0.61,
          1.06,
          0.63,
          0.61,
          0.7,
          0.72,
          0.79,
          0.62,
          0.71,
          0.82,
          0.89,
          1.06,
          0.7,
          0.66,
          0.42,
          0.75,
          0.67,
          0.74,
          0.55,
          0.65,
          0.71,
          0.63,
          0.81,
          0.74,
          0.68,
          0.9,
          0.77,
          0.75,
          0.87,
          0.66,
          0.56,
          0.77,
          0.73,
          0.72,
          0.79,
          0.78,
          0.86,
          0.75,
          0.61,
          0.56,
          0.73,
          0.74,
          0.56,
          0.68,
          0.61,
          0.6,
          0.79,
          0.57,
          0.91,
          0.7,
          0.8,
          0.51,
          0.66,
          0.5,
          0.6,
          0.63,
          0.48,
          0.7,
          0.56,
          0.62,
          0.59,
          0.53,
          0.64,
          0.52,
          0.6,
          1.36,
          0.93,
          0.96,
          0.6,
          0.57,
          1.36,
          0.57,
          0.54,
          0.81,
          0.7,
          0.79,
          0.6,
          0.66,
          0.67,
          0.49,
          0.62,
          0.67,
          0.62,
          0.57,
          0.67,
          0.61,
          0.66,
          0.48,
          0.72,
          0.49,
          0.65,
          0.68,
          0.73,
          0.47,
          0.72,
          1.06,
          0.43,
          0.46,
          0.53,
          0.55,
          0.54,
          0.53,
          0.92,
          0.91,
          0.6,
          0.59,
          0.6,
          0.56,
          0.68,
          0.6,
          0.53,
          0.52,
          0.66,
          0.57,
          0.55,
          0.68,
          0.76,
          0.58,
          0.73,
          0.77,
          0.72,
          0.83,
          0.7,
          0.73,
          0.82,
          0.6,
          0.83,
          0.84,
          0.64,
          0.57,
          0.5,
          0.65,
          0.78,
          0.65,
          0.56,
          0.65,
          0.58,
          0.58,
          0.54,
          0.59,
          0.52,
          0.57,
          0.6,
          0.62,
          0.67,
          0.64,
          0.72,
          0.89,
          0.9,
          0.59,
          0.72,
          0.54,
          0.62,
          0.58,
          0.85,
          0.69,
          0.86,
          0.6,
          0.87,
          0.71,
          0.82,
          0.58,
          0.51,
          0.48,
          0.62,
          0.48,
          0.53,
          0.55,
          0.58,
          0.58,
          0.84,
          0.44,
          0.53,
          0.55,
          0.6,
          0.56,
          0.54,
          0.59,
          0.47,
          0.83,
          0.64,
          0.62,
          0.58,
          0.62,
          0.78,
          0.77,
          0.62,
          0.7,
          0.64,
          0.63,
          0.57,
          0.6,
          0.58,
          0.58,
          0.73,
          0.51,
          0.59,
          0.77,
          0.69,
          0.6,
          0.59,
          0.49,
          0.78,
          0.63,
          0.54,
          0.66,
          0.54,
          0.76,
          0.64,
          0.71,
          0.59,
          0.66,
          0.6,
          0.53,
          0.55,
          0.48,
          0.65,
          0.54,
          0.6,
          0.69,
          0.63,
          0.6,
          0.76,
          0.64,
          0.65,
          0.85,
          0.65,
          0.82,
          0.81,
          0.87,
          0.66,
          0.52,
          0.65,
          0.66,
          0.68,
          1.16,
          0.75,
          0.56,
          0.62,
          0.67,
          0.68,
          0.74,
          0.62,
          0.7,
          0.81,
          0.86,
          0.46,
          0.57,
          0.59,
          0.6,
          0.58,
          0.54,
          0.79,
          0.62,
          0.75,
          0.48,
          0.56,
          0.69,
          0.81,
          0.69,
          0.83,
          0.77,
          0.46,
          0.76,
          0.82,
          0.78,
          0.4,
          0.64,
          0.6,
          0.54,
          0.75,
          0.61,
          0.7,
          0.63,
          0.72,
          0.6,
          0.87,
          0.55,
          0.75,
          0.57,
          0.53,
          0.54,
          0.6,
          0.64,
          0.68,
          0.63,
          0.54,
          0.75,
          0.67,
          0.61,
          0.56,
          0.61,
          0.74,
          0.8,
          0.59,
          0.54,
          0.53,
          0.58,
          0.59,
          0.69,
          1.33,
          0.59,
          0.6,
          0.56,
          0.43,
          0.66,
          0.54,
          0.51,
          0.53,
          0.51,
          0.59,
          0.65,
          0.53,
          1.18,
          0.5,
          1.03,
          0.62,
          0.51,
          0.62,
          0.59,
          0.65,
          0.72,
          0.82,
          0.62,
          0.94,
          0.93,
          0.44,
          0.73,
          0.84,
          0.7,
          0.71,
          0.54,
          0.85,
          0.77,
          0.68,
          0.52,
          0.68,
          0.52,
          0.69,
          0.63,
          0.5,
          0.68,
          0.58,
          0.53,
          0.79,
          0.76,
          0.56,
          0.81,
          0.63,
          0.58,
          0.69,
          0.55,
          0.66,
          0.72,
          0.77,
          0.65,
          0.6,
          0.72,
          0.72,
          0.83,
          0.78,
          0.65,
          0.66,
          0.67,
          0.6,
          0.69,
          0.68,
          0.59,
          0.68,
          0.64,
          0.63,
          0.56,
          0.57,
          0.64,
          0.66,
          0.6,
          0.82,
          0.71,
          0.57,
          0.93,
          0.65,
          0.67,
          0.48,
          0.64,
          0.78,
          0.6,
          0.67,
          0.6,
          0.84,
          0.85,
          0.66,
          0.78,
          0.82,
          0.56,
          0.75,
          0.82,
          0.76,
          0.66
         ],
         "xaxis": "x",
         "y": [
          0.58,
          1.08,
          0.53,
          0.63,
          0.59,
          0.57,
          0.52,
          0.55,
          0.6,
          0.9,
          0.63,
          0.64,
          0.63,
          0.54,
          0.95,
          0.54,
          0.55,
          0.78,
          1.95,
          0.6,
          0.59,
          0.61,
          0.56,
          0.8,
          0.67,
          0.63,
          0.61,
          0.5,
          0.6,
          0.54,
          0.58,
          0.55,
          0.79,
          0.58,
          0.61,
          0.53,
          0.57,
          0.56,
          0.55,
          0.61,
          0.57,
          0.61,
          0.58,
          0.62,
          0.97,
          0.56,
          0.86,
          0.56,
          0.67,
          0.71,
          0.59,
          0.6,
          0.58,
          1.61,
          0.52,
          0.7,
          0.55,
          0.58,
          0.58,
          0.71,
          0.49,
          0.96,
          0.48,
          0.78,
          0.7,
          0.91,
          0.97,
          0.67,
          0.82,
          0.76,
          0.7,
          0.64,
          0.6,
          0.81,
          0.59,
          0.64,
          0.59,
          0.62,
          0.63,
          0.53,
          0.54,
          0.63,
          0.65,
          0.64,
          0.7,
          0.69,
          0.67,
          0.66,
          0.54,
          0.7,
          1,
          1.18,
          0.87,
          0.75,
          0.78,
          0.93,
          0.92,
          0.86,
          0.98,
          0.83,
          0.59,
          0.61,
          0.68,
          0.91,
          0.93,
          0.87,
          1.04,
          0.81,
          1.11,
          0.99,
          0.7,
          0.8,
          0.8,
          0.76,
          0.74,
          0.54,
          0.74,
          0.65,
          0.47,
          0.61,
          0.63,
          0.76,
          0.65,
          0.7,
          0.62,
          0.66,
          0.76,
          0.49,
          0.56,
          0.6,
          0.65,
          0.89,
          0.56,
          0.66,
          0.68,
          0.56,
          0.56,
          0.61,
          1.06,
          0.63,
          0.61,
          0.7,
          0.72,
          0.79,
          0.62,
          0.71,
          0.82,
          0.89,
          1.06,
          0.7,
          0.66,
          0.42,
          0.75,
          0.67,
          0.74,
          0.55,
          0.65,
          0.71,
          0.63,
          0.81,
          0.74,
          0.68,
          0.9,
          0.77,
          0.75,
          0.87,
          0.66,
          0.56,
          0.77,
          0.73,
          0.72,
          0.79,
          0.78,
          0.86,
          0.75,
          0.61,
          0.56,
          0.73,
          0.74,
          0.56,
          0.68,
          0.61,
          0.6,
          0.79,
          0.57,
          0.91,
          0.7,
          0.8,
          0.51,
          0.66,
          0.5,
          0.6,
          0.63,
          0.48,
          0.7,
          0.56,
          0.62,
          0.59,
          0.53,
          0.64,
          0.52,
          0.6,
          1.36,
          0.93,
          0.96,
          0.6,
          0.57,
          1.36,
          0.57,
          0.54,
          0.81,
          0.7,
          0.79,
          0.6,
          0.66,
          0.67,
          0.49,
          0.62,
          0.67,
          0.62,
          0.57,
          0.67,
          0.61,
          0.66,
          0.48,
          0.72,
          0.49,
          0.65,
          0.68,
          0.73,
          0.47,
          0.72,
          1.06,
          0.43,
          0.46,
          0.53,
          0.55,
          0.54,
          0.53,
          0.92,
          0.91,
          0.6,
          0.59,
          0.6,
          0.56,
          0.68,
          0.6,
          0.53,
          0.52,
          0.66,
          0.57,
          0.55,
          0.68,
          0.76,
          0.58,
          0.73,
          0.77,
          0.72,
          0.83,
          0.7,
          0.73,
          0.82,
          0.6,
          0.83,
          0.84,
          0.64,
          0.57,
          0.5,
          0.65,
          0.78,
          0.65,
          0.56,
          0.65,
          0.58,
          0.58,
          0.54,
          0.59,
          0.52,
          0.57,
          0.6,
          0.62,
          0.67,
          0.64,
          0.72,
          0.89,
          0.9,
          0.59,
          0.72,
          0.54,
          0.62,
          0.58,
          0.85,
          0.69,
          0.86,
          0.6,
          0.87,
          0.71,
          0.82,
          0.58,
          0.51,
          0.48,
          0.62,
          0.48,
          0.53,
          0.55,
          0.58,
          0.58,
          0.84,
          0.44,
          0.53,
          0.55,
          0.6,
          0.56,
          0.54,
          0.59,
          0.47,
          0.83,
          0.64,
          0.62,
          0.58,
          0.62,
          0.78,
          0.77,
          0.62,
          0.7,
          0.64,
          0.63,
          0.57,
          0.6,
          0.58,
          0.58,
          0.73,
          0.51,
          0.59,
          0.77,
          0.69,
          0.6,
          0.59,
          0.49,
          0.78,
          0.63,
          0.54,
          0.66,
          0.54,
          0.76,
          0.64,
          0.71,
          0.59,
          0.66,
          0.6,
          0.53,
          0.55,
          0.48,
          0.65,
          0.54,
          0.6,
          0.69,
          0.63,
          0.6,
          0.76,
          0.64,
          0.65,
          0.85,
          0.65,
          0.82,
          0.81,
          0.87,
          0.66,
          0.52,
          0.65,
          0.66,
          0.68,
          1.16,
          0.75,
          0.56,
          0.62,
          0.67,
          0.68,
          0.74,
          0.62,
          0.7,
          0.81,
          0.86,
          0.46,
          0.57,
          0.59,
          0.6,
          0.58,
          0.54,
          0.79,
          0.62,
          0.75,
          0.48,
          0.56,
          0.69,
          0.81,
          0.69,
          0.83,
          0.77,
          0.46,
          0.76,
          0.82,
          0.78,
          0.4,
          0.64,
          0.6,
          0.54,
          0.75,
          0.61,
          0.7,
          0.63,
          0.72,
          0.6,
          0.87,
          0.55,
          0.75,
          0.57,
          0.53,
          0.54,
          0.6,
          0.64,
          0.68,
          0.63,
          0.54,
          0.75,
          0.67,
          0.61,
          0.56,
          0.61,
          0.74,
          0.8,
          0.59,
          0.54,
          0.53,
          0.58,
          0.59,
          0.69,
          1.33,
          0.59,
          0.6,
          0.56,
          0.43,
          0.66,
          0.54,
          0.51,
          0.53,
          0.51,
          0.59,
          0.65,
          0.53,
          1.18,
          0.5,
          1.03,
          0.62,
          0.51,
          0.62,
          0.59,
          0.65,
          0.72,
          0.82,
          0.62,
          0.94,
          0.93,
          0.44,
          0.73,
          0.84,
          0.7,
          0.71,
          0.54,
          0.85,
          0.77,
          0.68,
          0.52,
          0.68,
          0.52,
          0.69,
          0.63,
          0.5,
          0.68,
          0.58,
          0.53,
          0.79,
          0.76,
          0.56,
          0.81,
          0.63,
          0.58,
          0.69,
          0.55,
          0.66,
          0.72,
          0.77,
          0.65,
          0.6,
          0.72,
          0.72,
          0.83,
          0.78,
          0.65,
          0.66,
          0.67,
          0.6,
          0.69,
          0.68,
          0.59,
          0.68,
          0.64,
          0.63,
          0.56,
          0.57,
          0.64,
          0.66,
          0.6,
          0.82,
          0.71,
          0.57,
          0.93,
          0.65,
          0.67,
          0.48,
          0.64,
          0.78,
          0.6,
          0.67,
          0.6,
          0.84,
          0.85,
          0.66,
          0.78,
          0.82,
          0.56,
          0.75,
          0.82,
          0.76,
          0.66
         ],
         "yaxis": "y"
        },
        {
         "alignmentgroup": "True",
         "hovertemplate": "color=6<br>sulphates=%{x}<extra></extra>",
         "legendgroup": "6",
         "marker": {
          "color": "#EF553B"
         },
         "name": "6",
         "notched": true,
         "offsetgroup": "6",
         "showlegend": false,
         "type": "box",
         "x": [
          0.58,
          1.08,
          0.53,
          0.63,
          0.59,
          0.57,
          0.52,
          0.55,
          0.6,
          0.9,
          0.63,
          0.64,
          0.63,
          0.54,
          0.95,
          0.54,
          0.55,
          0.78,
          1.95,
          0.6,
          0.59,
          0.61,
          0.56,
          0.8,
          0.67,
          0.63,
          0.61,
          0.5,
          0.6,
          0.54,
          0.58,
          0.55,
          0.79,
          0.58,
          0.61,
          0.53,
          0.57,
          0.56,
          0.55,
          0.61,
          0.57,
          0.61,
          0.58,
          0.62,
          0.97,
          0.56,
          0.86,
          0.56,
          0.67,
          0.71,
          0.59,
          0.6,
          0.58,
          1.61,
          0.52,
          0.7,
          0.55,
          0.58,
          0.58,
          0.71,
          0.49,
          0.96,
          0.48,
          0.78,
          0.7,
          0.91,
          0.97,
          0.67,
          0.82,
          0.76,
          0.7,
          0.64,
          0.6,
          0.81,
          0.59,
          0.64,
          0.59,
          0.62,
          0.63,
          0.53,
          0.54,
          0.63,
          0.65,
          0.64,
          0.7,
          0.69,
          0.67,
          0.66,
          0.54,
          0.7,
          1,
          1.18,
          0.87,
          0.75,
          0.78,
          0.93,
          0.92,
          0.86,
          0.98,
          0.83,
          0.59,
          0.61,
          0.68,
          0.91,
          0.93,
          0.87,
          1.04,
          0.81,
          1.11,
          0.99,
          0.7,
          0.8,
          0.8,
          0.76,
          0.74,
          0.54,
          0.74,
          0.65,
          0.47,
          0.61,
          0.63,
          0.76,
          0.65,
          0.7,
          0.62,
          0.66,
          0.76,
          0.49,
          0.56,
          0.6,
          0.65,
          0.89,
          0.56,
          0.66,
          0.68,
          0.56,
          0.56,
          0.61,
          1.06,
          0.63,
          0.61,
          0.7,
          0.72,
          0.79,
          0.62,
          0.71,
          0.82,
          0.89,
          1.06,
          0.7,
          0.66,
          0.42,
          0.75,
          0.67,
          0.74,
          0.55,
          0.65,
          0.71,
          0.63,
          0.81,
          0.74,
          0.68,
          0.9,
          0.77,
          0.75,
          0.87,
          0.66,
          0.56,
          0.77,
          0.73,
          0.72,
          0.79,
          0.78,
          0.86,
          0.75,
          0.61,
          0.56,
          0.73,
          0.74,
          0.56,
          0.68,
          0.61,
          0.6,
          0.79,
          0.57,
          0.91,
          0.7,
          0.8,
          0.51,
          0.66,
          0.5,
          0.6,
          0.63,
          0.48,
          0.7,
          0.56,
          0.62,
          0.59,
          0.53,
          0.64,
          0.52,
          0.6,
          1.36,
          0.93,
          0.96,
          0.6,
          0.57,
          1.36,
          0.57,
          0.54,
          0.81,
          0.7,
          0.79,
          0.6,
          0.66,
          0.67,
          0.49,
          0.62,
          0.67,
          0.62,
          0.57,
          0.67,
          0.61,
          0.66,
          0.48,
          0.72,
          0.49,
          0.65,
          0.68,
          0.73,
          0.47,
          0.72,
          1.06,
          0.43,
          0.46,
          0.53,
          0.55,
          0.54,
          0.53,
          0.92,
          0.91,
          0.6,
          0.59,
          0.6,
          0.56,
          0.68,
          0.6,
          0.53,
          0.52,
          0.66,
          0.57,
          0.55,
          0.68,
          0.76,
          0.58,
          0.73,
          0.77,
          0.72,
          0.83,
          0.7,
          0.73,
          0.82,
          0.6,
          0.83,
          0.84,
          0.64,
          0.57,
          0.5,
          0.65,
          0.78,
          0.65,
          0.56,
          0.65,
          0.58,
          0.58,
          0.54,
          0.59,
          0.52,
          0.57,
          0.6,
          0.62,
          0.67,
          0.64,
          0.72,
          0.89,
          0.9,
          0.59,
          0.72,
          0.54,
          0.62,
          0.58,
          0.85,
          0.69,
          0.86,
          0.6,
          0.87,
          0.71,
          0.82,
          0.58,
          0.51,
          0.48,
          0.62,
          0.48,
          0.53,
          0.55,
          0.58,
          0.58,
          0.84,
          0.44,
          0.53,
          0.55,
          0.6,
          0.56,
          0.54,
          0.59,
          0.47,
          0.83,
          0.64,
          0.62,
          0.58,
          0.62,
          0.78,
          0.77,
          0.62,
          0.7,
          0.64,
          0.63,
          0.57,
          0.6,
          0.58,
          0.58,
          0.73,
          0.51,
          0.59,
          0.77,
          0.69,
          0.6,
          0.59,
          0.49,
          0.78,
          0.63,
          0.54,
          0.66,
          0.54,
          0.76,
          0.64,
          0.71,
          0.59,
          0.66,
          0.6,
          0.53,
          0.55,
          0.48,
          0.65,
          0.54,
          0.6,
          0.69,
          0.63,
          0.6,
          0.76,
          0.64,
          0.65,
          0.85,
          0.65,
          0.82,
          0.81,
          0.87,
          0.66,
          0.52,
          0.65,
          0.66,
          0.68,
          1.16,
          0.75,
          0.56,
          0.62,
          0.67,
          0.68,
          0.74,
          0.62,
          0.7,
          0.81,
          0.86,
          0.46,
          0.57,
          0.59,
          0.6,
          0.58,
          0.54,
          0.79,
          0.62,
          0.75,
          0.48,
          0.56,
          0.69,
          0.81,
          0.69,
          0.83,
          0.77,
          0.46,
          0.76,
          0.82,
          0.78,
          0.4,
          0.64,
          0.6,
          0.54,
          0.75,
          0.61,
          0.7,
          0.63,
          0.72,
          0.6,
          0.87,
          0.55,
          0.75,
          0.57,
          0.53,
          0.54,
          0.6,
          0.64,
          0.68,
          0.63,
          0.54,
          0.75,
          0.67,
          0.61,
          0.56,
          0.61,
          0.74,
          0.8,
          0.59,
          0.54,
          0.53,
          0.58,
          0.59,
          0.69,
          1.33,
          0.59,
          0.6,
          0.56,
          0.43,
          0.66,
          0.54,
          0.51,
          0.53,
          0.51,
          0.59,
          0.65,
          0.53,
          1.18,
          0.5,
          1.03,
          0.62,
          0.51,
          0.62,
          0.59,
          0.65,
          0.72,
          0.82,
          0.62,
          0.94,
          0.93,
          0.44,
          0.73,
          0.84,
          0.7,
          0.71,
          0.54,
          0.85,
          0.77,
          0.68,
          0.52,
          0.68,
          0.52,
          0.69,
          0.63,
          0.5,
          0.68,
          0.58,
          0.53,
          0.79,
          0.76,
          0.56,
          0.81,
          0.63,
          0.58,
          0.69,
          0.55,
          0.66,
          0.72,
          0.77,
          0.65,
          0.6,
          0.72,
          0.72,
          0.83,
          0.78,
          0.65,
          0.66,
          0.67,
          0.6,
          0.69,
          0.68,
          0.59,
          0.68,
          0.64,
          0.63,
          0.56,
          0.57,
          0.64,
          0.66,
          0.6,
          0.82,
          0.71,
          0.57,
          0.93,
          0.65,
          0.67,
          0.48,
          0.64,
          0.78,
          0.6,
          0.67,
          0.6,
          0.84,
          0.85,
          0.66,
          0.78,
          0.82,
          0.56,
          0.75,
          0.82,
          0.76,
          0.66
         ],
         "xaxis": "x2",
         "yaxis": "y2"
        },
        {
         "alignmentgroup": "True",
         "bingroup": "x",
         "histfunc": "sum",
         "hovertemplate": "color=7<br>sulphates=%{x}<br>sum of sulphates=%{y}<extra></extra>",
         "legendgroup": "7",
         "marker": {
          "color": "#00cc96",
          "pattern": {
           "shape": ""
          }
         },
         "name": "7",
         "offsetgroup": "7",
         "orientation": "v",
         "showlegend": true,
         "type": "histogram",
         "x": [
          0.47,
          0.57,
          0.75,
          0.73,
          0.62,
          0.92,
          0.85,
          0.82,
          0.77,
          0.88,
          0.62,
          0.84,
          0.8,
          0.72,
          0.77,
          1.08,
          0.86,
          0.71,
          0.74,
          0.74,
          0.84,
          1.36,
          0.89,
          0.75,
          0.85,
          0.73,
          1.13,
          0.83,
          0.7,
          0.6,
          0.63,
          0.82,
          0.73,
          0.56,
          0.9,
          0.68,
          0.63,
          0.84,
          0.74,
          0.92,
          0.79,
          0.9,
          0.85,
          1.04,
          1.05,
          0.78,
          1.02,
          0.68,
          0.66,
          0.66,
          0.66,
          0.76,
          1.02,
          0.74,
          0.79,
          0.65,
          0.69,
          0.67,
          0.68,
          0.81,
          0.94,
          0.7,
          0.71,
          0.74,
          0.64,
          0.39,
          0.83,
          0.77,
          0.71,
          0.78,
          0.67,
          0.58,
          0.65,
          0.79,
          0.79,
          0.77,
          0.69,
          0.59,
          0.64,
          0.87,
          0.73,
          0.72,
          0.76,
          0.52,
          0.64,
          0.6,
          0.64,
          0.79,
          0.99,
          0.62,
          0.76,
          0.68,
          0.69,
          0.71,
          0.58,
          0.65,
          0.62,
          0.49,
          0.55,
          0.63,
          0.72,
          0.82,
          0.84,
          0.55,
          0.84,
          0.7,
          0.55,
          0.75,
          0.56,
          0.55,
          0.58,
          0.65,
          0.59,
          0.77,
          0.81,
          0.77,
          0.59,
          0.76,
          0.72,
          0.83,
          0.89,
          0.86,
          0.51,
          0.51,
          0.66,
          0.76,
          0.86,
          0.81,
          0.85,
          0.64,
          0.59,
          0.88,
          0.68,
          0.74,
          0.49,
          0.76,
          0.76,
          0.87,
          0.72,
          0.71,
          0.88,
          0.66,
          0.8,
          0.54,
          0.85,
          0.87,
          0.73,
          0.57,
          0.82,
          0.62,
          0.9,
          1.01,
          0.77,
          0.74,
          0.73,
          0.78,
          0.76,
          0.8,
          0.65,
          0.88,
          0.88,
          0.7,
          0.62,
          0.76,
          0.81,
          0.68,
          0.8
         ],
         "xaxis": "x",
         "y": [
          0.47,
          0.57,
          0.75,
          0.73,
          0.62,
          0.92,
          0.85,
          0.82,
          0.77,
          0.88,
          0.62,
          0.84,
          0.8,
          0.72,
          0.77,
          1.08,
          0.86,
          0.71,
          0.74,
          0.74,
          0.84,
          1.36,
          0.89,
          0.75,
          0.85,
          0.73,
          1.13,
          0.83,
          0.7,
          0.6,
          0.63,
          0.82,
          0.73,
          0.56,
          0.9,
          0.68,
          0.63,
          0.84,
          0.74,
          0.92,
          0.79,
          0.9,
          0.85,
          1.04,
          1.05,
          0.78,
          1.02,
          0.68,
          0.66,
          0.66,
          0.66,
          0.76,
          1.02,
          0.74,
          0.79,
          0.65,
          0.69,
          0.67,
          0.68,
          0.81,
          0.94,
          0.7,
          0.71,
          0.74,
          0.64,
          0.39,
          0.83,
          0.77,
          0.71,
          0.78,
          0.67,
          0.58,
          0.65,
          0.79,
          0.79,
          0.77,
          0.69,
          0.59,
          0.64,
          0.87,
          0.73,
          0.72,
          0.76,
          0.52,
          0.64,
          0.6,
          0.64,
          0.79,
          0.99,
          0.62,
          0.76,
          0.68,
          0.69,
          0.71,
          0.58,
          0.65,
          0.62,
          0.49,
          0.55,
          0.63,
          0.72,
          0.82,
          0.84,
          0.55,
          0.84,
          0.7,
          0.55,
          0.75,
          0.56,
          0.55,
          0.58,
          0.65,
          0.59,
          0.77,
          0.81,
          0.77,
          0.59,
          0.76,
          0.72,
          0.83,
          0.89,
          0.86,
          0.51,
          0.51,
          0.66,
          0.76,
          0.86,
          0.81,
          0.85,
          0.64,
          0.59,
          0.88,
          0.68,
          0.74,
          0.49,
          0.76,
          0.76,
          0.87,
          0.72,
          0.71,
          0.88,
          0.66,
          0.8,
          0.54,
          0.85,
          0.87,
          0.73,
          0.57,
          0.82,
          0.62,
          0.9,
          1.01,
          0.77,
          0.74,
          0.73,
          0.78,
          0.76,
          0.8,
          0.65,
          0.88,
          0.88,
          0.7,
          0.62,
          0.76,
          0.81,
          0.68,
          0.8
         ],
         "yaxis": "y"
        },
        {
         "alignmentgroup": "True",
         "hovertemplate": "color=7<br>sulphates=%{x}<extra></extra>",
         "legendgroup": "7",
         "marker": {
          "color": "#00cc96"
         },
         "name": "7",
         "notched": true,
         "offsetgroup": "7",
         "showlegend": false,
         "type": "box",
         "x": [
          0.47,
          0.57,
          0.75,
          0.73,
          0.62,
          0.92,
          0.85,
          0.82,
          0.77,
          0.88,
          0.62,
          0.84,
          0.8,
          0.72,
          0.77,
          1.08,
          0.86,
          0.71,
          0.74,
          0.74,
          0.84,
          1.36,
          0.89,
          0.75,
          0.85,
          0.73,
          1.13,
          0.83,
          0.7,
          0.6,
          0.63,
          0.82,
          0.73,
          0.56,
          0.9,
          0.68,
          0.63,
          0.84,
          0.74,
          0.92,
          0.79,
          0.9,
          0.85,
          1.04,
          1.05,
          0.78,
          1.02,
          0.68,
          0.66,
          0.66,
          0.66,
          0.76,
          1.02,
          0.74,
          0.79,
          0.65,
          0.69,
          0.67,
          0.68,
          0.81,
          0.94,
          0.7,
          0.71,
          0.74,
          0.64,
          0.39,
          0.83,
          0.77,
          0.71,
          0.78,
          0.67,
          0.58,
          0.65,
          0.79,
          0.79,
          0.77,
          0.69,
          0.59,
          0.64,
          0.87,
          0.73,
          0.72,
          0.76,
          0.52,
          0.64,
          0.6,
          0.64,
          0.79,
          0.99,
          0.62,
          0.76,
          0.68,
          0.69,
          0.71,
          0.58,
          0.65,
          0.62,
          0.49,
          0.55,
          0.63,
          0.72,
          0.82,
          0.84,
          0.55,
          0.84,
          0.7,
          0.55,
          0.75,
          0.56,
          0.55,
          0.58,
          0.65,
          0.59,
          0.77,
          0.81,
          0.77,
          0.59,
          0.76,
          0.72,
          0.83,
          0.89,
          0.86,
          0.51,
          0.51,
          0.66,
          0.76,
          0.86,
          0.81,
          0.85,
          0.64,
          0.59,
          0.88,
          0.68,
          0.74,
          0.49,
          0.76,
          0.76,
          0.87,
          0.72,
          0.71,
          0.88,
          0.66,
          0.8,
          0.54,
          0.85,
          0.87,
          0.73,
          0.57,
          0.82,
          0.62,
          0.9,
          1.01,
          0.77,
          0.74,
          0.73,
          0.78,
          0.76,
          0.8,
          0.65,
          0.88,
          0.88,
          0.7,
          0.62,
          0.76,
          0.81,
          0.68,
          0.8
         ],
         "xaxis": "x2",
         "yaxis": "y2"
        },
        {
         "alignmentgroup": "True",
         "bingroup": "x",
         "histfunc": "sum",
         "hovertemplate": "color=4<br>sulphates=%{x}<br>sum of sulphates=%{y}<extra></extra>",
         "legendgroup": "4",
         "marker": {
          "color": "#ab63fa",
          "pattern": {
           "shape": ""
          }
         },
         "name": "4",
         "offsetgroup": "4",
         "orientation": "v",
         "showlegend": true,
         "type": "histogram",
         "x": [
          0.5,
          0.48,
          0.51,
          0.56,
          0.53,
          1.12,
          0.48,
          2,
          1.08,
          0.48,
          0.33,
          0.43,
          0.57,
          0.6,
          0.72,
          0.57,
          0.56,
          0.52,
          0.47,
          0.64,
          0.58,
          0.57,
          0.7,
          0.54,
          0.6,
          0.58,
          0.55,
          0.86,
          0.54,
          0.58,
          0.59,
          0.6,
          0.62,
          0.5,
          0.44,
          0.49,
          0.56,
          0.46,
          0.56,
          0.55,
          0.46,
          0.56,
          0.49,
          0.52,
          0.48,
          0.37,
          0.67,
          0.61,
          0.57,
          0.62,
          0.57,
          0.64,
          0.43
         ],
         "xaxis": "x",
         "y": [
          0.5,
          0.48,
          0.51,
          0.56,
          0.53,
          1.12,
          0.48,
          2,
          1.08,
          0.48,
          0.33,
          0.43,
          0.57,
          0.6,
          0.72,
          0.57,
          0.56,
          0.52,
          0.47,
          0.64,
          0.58,
          0.57,
          0.7,
          0.54,
          0.6,
          0.58,
          0.55,
          0.86,
          0.54,
          0.58,
          0.59,
          0.6,
          0.62,
          0.5,
          0.44,
          0.49,
          0.56,
          0.46,
          0.56,
          0.55,
          0.46,
          0.56,
          0.49,
          0.52,
          0.48,
          0.37,
          0.67,
          0.61,
          0.57,
          0.62,
          0.57,
          0.64,
          0.43
         ],
         "yaxis": "y"
        },
        {
         "alignmentgroup": "True",
         "hovertemplate": "color=4<br>sulphates=%{x}<extra></extra>",
         "legendgroup": "4",
         "marker": {
          "color": "#ab63fa"
         },
         "name": "4",
         "notched": true,
         "offsetgroup": "4",
         "showlegend": false,
         "type": "box",
         "x": [
          0.5,
          0.48,
          0.51,
          0.56,
          0.53,
          1.12,
          0.48,
          2,
          1.08,
          0.48,
          0.33,
          0.43,
          0.57,
          0.6,
          0.72,
          0.57,
          0.56,
          0.52,
          0.47,
          0.64,
          0.58,
          0.57,
          0.7,
          0.54,
          0.6,
          0.58,
          0.55,
          0.86,
          0.54,
          0.58,
          0.59,
          0.6,
          0.62,
          0.5,
          0.44,
          0.49,
          0.56,
          0.46,
          0.56,
          0.55,
          0.46,
          0.56,
          0.49,
          0.52,
          0.48,
          0.37,
          0.67,
          0.61,
          0.57,
          0.62,
          0.57,
          0.64,
          0.43
         ],
         "xaxis": "x2",
         "yaxis": "y2"
        },
        {
         "alignmentgroup": "True",
         "bingroup": "x",
         "histfunc": "sum",
         "hovertemplate": "color=8<br>sulphates=%{x}<br>sum of sulphates=%{y}<extra></extra>",
         "legendgroup": "8",
         "marker": {
          "color": "#FFA15A",
          "pattern": {
           "shape": ""
          }
         },
         "name": "8",
         "offsetgroup": "8",
         "orientation": "v",
         "showlegend": true,
         "type": "histogram",
         "x": [
          0.86,
          0.82,
          0.82,
          0.82,
          0.69,
          0.92,
          0.65,
          0.74,
          0.74,
          0.69,
          0.63,
          0.72,
          0.69,
          0.82,
          1.1,
          0.76,
          0.7
         ],
         "xaxis": "x",
         "y": [
          0.86,
          0.82,
          0.82,
          0.82,
          0.69,
          0.92,
          0.65,
          0.74,
          0.74,
          0.69,
          0.63,
          0.72,
          0.69,
          0.82,
          1.1,
          0.76,
          0.7
         ],
         "yaxis": "y"
        },
        {
         "alignmentgroup": "True",
         "hovertemplate": "color=8<br>sulphates=%{x}<extra></extra>",
         "legendgroup": "8",
         "marker": {
          "color": "#FFA15A"
         },
         "name": "8",
         "notched": true,
         "offsetgroup": "8",
         "showlegend": false,
         "type": "box",
         "x": [
          0.86,
          0.82,
          0.82,
          0.82,
          0.69,
          0.92,
          0.65,
          0.74,
          0.74,
          0.69,
          0.63,
          0.72,
          0.69,
          0.82,
          1.1,
          0.76,
          0.7
         ],
         "xaxis": "x2",
         "yaxis": "y2"
        },
        {
         "alignmentgroup": "True",
         "bingroup": "x",
         "histfunc": "sum",
         "hovertemplate": "color=3<br>sulphates=%{x}<br>sum of sulphates=%{y}<extra></extra>",
         "legendgroup": "3",
         "marker": {
          "color": "#19d3f3",
          "pattern": {
           "shape": ""
          }
         },
         "name": "3",
         "offsetgroup": "3",
         "orientation": "v",
         "showlegend": true,
         "type": "histogram",
         "x": [
          0.57,
          0.63,
          0.54,
          0.86,
          0.49,
          0.4,
          0.51,
          0.55,
          0.52,
          0.63
         ],
         "xaxis": "x",
         "y": [
          0.57,
          0.63,
          0.54,
          0.86,
          0.49,
          0.4,
          0.51,
          0.55,
          0.52,
          0.63
         ],
         "yaxis": "y"
        },
        {
         "alignmentgroup": "True",
         "hovertemplate": "color=3<br>sulphates=%{x}<extra></extra>",
         "legendgroup": "3",
         "marker": {
          "color": "#19d3f3"
         },
         "name": "3",
         "notched": true,
         "offsetgroup": "3",
         "showlegend": false,
         "type": "box",
         "x": [
          0.57,
          0.63,
          0.54,
          0.86,
          0.49,
          0.4,
          0.51,
          0.55,
          0.52,
          0.63
         ],
         "xaxis": "x2",
         "yaxis": "y2"
        }
       ],
       "layout": {
        "barmode": "relative",
        "legend": {
         "title": {
          "text": "color"
         },
         "tracegroupgap": 0
        },
        "margin": {
         "t": 60
        },
        "template": {
         "data": {
          "bar": [
           {
            "error_x": {
             "color": "#2a3f5f"
            },
            "error_y": {
             "color": "#2a3f5f"
            },
            "marker": {
             "line": {
              "color": "#E5ECF6",
              "width": 0.5
             },
             "pattern": {
              "fillmode": "overlay",
              "size": 10,
              "solidity": 0.2
             }
            },
            "type": "bar"
           }
          ],
          "barpolar": [
           {
            "marker": {
             "line": {
              "color": "#E5ECF6",
              "width": 0.5
             },
             "pattern": {
              "fillmode": "overlay",
              "size": 10,
              "solidity": 0.2
             }
            },
            "type": "barpolar"
           }
          ],
          "carpet": [
           {
            "aaxis": {
             "endlinecolor": "#2a3f5f",
             "gridcolor": "white",
             "linecolor": "white",
             "minorgridcolor": "white",
             "startlinecolor": "#2a3f5f"
            },
            "baxis": {
             "endlinecolor": "#2a3f5f",
             "gridcolor": "white",
             "linecolor": "white",
             "minorgridcolor": "white",
             "startlinecolor": "#2a3f5f"
            },
            "type": "carpet"
           }
          ],
          "choropleth": [
           {
            "colorbar": {
             "outlinewidth": 0,
             "ticks": ""
            },
            "type": "choropleth"
           }
          ],
          "contour": [
           {
            "colorbar": {
             "outlinewidth": 0,
             "ticks": ""
            },
            "colorscale": [
             [
              0,
              "#0d0887"
             ],
             [
              0.1111111111111111,
              "#46039f"
             ],
             [
              0.2222222222222222,
              "#7201a8"
             ],
             [
              0.3333333333333333,
              "#9c179e"
             ],
             [
              0.4444444444444444,
              "#bd3786"
             ],
             [
              0.5555555555555556,
              "#d8576b"
             ],
             [
              0.6666666666666666,
              "#ed7953"
             ],
             [
              0.7777777777777778,
              "#fb9f3a"
             ],
             [
              0.8888888888888888,
              "#fdca26"
             ],
             [
              1,
              "#f0f921"
             ]
            ],
            "type": "contour"
           }
          ],
          "contourcarpet": [
           {
            "colorbar": {
             "outlinewidth": 0,
             "ticks": ""
            },
            "type": "contourcarpet"
           }
          ],
          "heatmap": [
           {
            "colorbar": {
             "outlinewidth": 0,
             "ticks": ""
            },
            "colorscale": [
             [
              0,
              "#0d0887"
             ],
             [
              0.1111111111111111,
              "#46039f"
             ],
             [
              0.2222222222222222,
              "#7201a8"
             ],
             [
              0.3333333333333333,
              "#9c179e"
             ],
             [
              0.4444444444444444,
              "#bd3786"
             ],
             [
              0.5555555555555556,
              "#d8576b"
             ],
             [
              0.6666666666666666,
              "#ed7953"
             ],
             [
              0.7777777777777778,
              "#fb9f3a"
             ],
             [
              0.8888888888888888,
              "#fdca26"
             ],
             [
              1,
              "#f0f921"
             ]
            ],
            "type": "heatmap"
           }
          ],
          "heatmapgl": [
           {
            "colorbar": {
             "outlinewidth": 0,
             "ticks": ""
            },
            "colorscale": [
             [
              0,
              "#0d0887"
             ],
             [
              0.1111111111111111,
              "#46039f"
             ],
             [
              0.2222222222222222,
              "#7201a8"
             ],
             [
              0.3333333333333333,
              "#9c179e"
             ],
             [
              0.4444444444444444,
              "#bd3786"
             ],
             [
              0.5555555555555556,
              "#d8576b"
             ],
             [
              0.6666666666666666,
              "#ed7953"
             ],
             [
              0.7777777777777778,
              "#fb9f3a"
             ],
             [
              0.8888888888888888,
              "#fdca26"
             ],
             [
              1,
              "#f0f921"
             ]
            ],
            "type": "heatmapgl"
           }
          ],
          "histogram": [
           {
            "marker": {
             "pattern": {
              "fillmode": "overlay",
              "size": 10,
              "solidity": 0.2
             }
            },
            "type": "histogram"
           }
          ],
          "histogram2d": [
           {
            "colorbar": {
             "outlinewidth": 0,
             "ticks": ""
            },
            "colorscale": [
             [
              0,
              "#0d0887"
             ],
             [
              0.1111111111111111,
              "#46039f"
             ],
             [
              0.2222222222222222,
              "#7201a8"
             ],
             [
              0.3333333333333333,
              "#9c179e"
             ],
             [
              0.4444444444444444,
              "#bd3786"
             ],
             [
              0.5555555555555556,
              "#d8576b"
             ],
             [
              0.6666666666666666,
              "#ed7953"
             ],
             [
              0.7777777777777778,
              "#fb9f3a"
             ],
             [
              0.8888888888888888,
              "#fdca26"
             ],
             [
              1,
              "#f0f921"
             ]
            ],
            "type": "histogram2d"
           }
          ],
          "histogram2dcontour": [
           {
            "colorbar": {
             "outlinewidth": 0,
             "ticks": ""
            },
            "colorscale": [
             [
              0,
              "#0d0887"
             ],
             [
              0.1111111111111111,
              "#46039f"
             ],
             [
              0.2222222222222222,
              "#7201a8"
             ],
             [
              0.3333333333333333,
              "#9c179e"
             ],
             [
              0.4444444444444444,
              "#bd3786"
             ],
             [
              0.5555555555555556,
              "#d8576b"
             ],
             [
              0.6666666666666666,
              "#ed7953"
             ],
             [
              0.7777777777777778,
              "#fb9f3a"
             ],
             [
              0.8888888888888888,
              "#fdca26"
             ],
             [
              1,
              "#f0f921"
             ]
            ],
            "type": "histogram2dcontour"
           }
          ],
          "mesh3d": [
           {
            "colorbar": {
             "outlinewidth": 0,
             "ticks": ""
            },
            "type": "mesh3d"
           }
          ],
          "parcoords": [
           {
            "line": {
             "colorbar": {
              "outlinewidth": 0,
              "ticks": ""
             }
            },
            "type": "parcoords"
           }
          ],
          "pie": [
           {
            "automargin": true,
            "type": "pie"
           }
          ],
          "scatter": [
           {
            "fillpattern": {
             "fillmode": "overlay",
             "size": 10,
             "solidity": 0.2
            },
            "type": "scatter"
           }
          ],
          "scatter3d": [
           {
            "line": {
             "colorbar": {
              "outlinewidth": 0,
              "ticks": ""
             }
            },
            "marker": {
             "colorbar": {
              "outlinewidth": 0,
              "ticks": ""
             }
            },
            "type": "scatter3d"
           }
          ],
          "scattercarpet": [
           {
            "marker": {
             "colorbar": {
              "outlinewidth": 0,
              "ticks": ""
             }
            },
            "type": "scattercarpet"
           }
          ],
          "scattergeo": [
           {
            "marker": {
             "colorbar": {
              "outlinewidth": 0,
              "ticks": ""
             }
            },
            "type": "scattergeo"
           }
          ],
          "scattergl": [
           {
            "marker": {
             "colorbar": {
              "outlinewidth": 0,
              "ticks": ""
             }
            },
            "type": "scattergl"
           }
          ],
          "scattermapbox": [
           {
            "marker": {
             "colorbar": {
              "outlinewidth": 0,
              "ticks": ""
             }
            },
            "type": "scattermapbox"
           }
          ],
          "scatterpolar": [
           {
            "marker": {
             "colorbar": {
              "outlinewidth": 0,
              "ticks": ""
             }
            },
            "type": "scatterpolar"
           }
          ],
          "scatterpolargl": [
           {
            "marker": {
             "colorbar": {
              "outlinewidth": 0,
              "ticks": ""
             }
            },
            "type": "scatterpolargl"
           }
          ],
          "scatterternary": [
           {
            "marker": {
             "colorbar": {
              "outlinewidth": 0,
              "ticks": ""
             }
            },
            "type": "scatterternary"
           }
          ],
          "surface": [
           {
            "colorbar": {
             "outlinewidth": 0,
             "ticks": ""
            },
            "colorscale": [
             [
              0,
              "#0d0887"
             ],
             [
              0.1111111111111111,
              "#46039f"
             ],
             [
              0.2222222222222222,
              "#7201a8"
             ],
             [
              0.3333333333333333,
              "#9c179e"
             ],
             [
              0.4444444444444444,
              "#bd3786"
             ],
             [
              0.5555555555555556,
              "#d8576b"
             ],
             [
              0.6666666666666666,
              "#ed7953"
             ],
             [
              0.7777777777777778,
              "#fb9f3a"
             ],
             [
              0.8888888888888888,
              "#fdca26"
             ],
             [
              1,
              "#f0f921"
             ]
            ],
            "type": "surface"
           }
          ],
          "table": [
           {
            "cells": {
             "fill": {
              "color": "#EBF0F8"
             },
             "line": {
              "color": "white"
             }
            },
            "header": {
             "fill": {
              "color": "#C8D4E3"
             },
             "line": {
              "color": "white"
             }
            },
            "type": "table"
           }
          ]
         },
         "layout": {
          "annotationdefaults": {
           "arrowcolor": "#2a3f5f",
           "arrowhead": 0,
           "arrowwidth": 1
          },
          "autotypenumbers": "strict",
          "coloraxis": {
           "colorbar": {
            "outlinewidth": 0,
            "ticks": ""
           }
          },
          "colorscale": {
           "diverging": [
            [
             0,
             "#8e0152"
            ],
            [
             0.1,
             "#c51b7d"
            ],
            [
             0.2,
             "#de77ae"
            ],
            [
             0.3,
             "#f1b6da"
            ],
            [
             0.4,
             "#fde0ef"
            ],
            [
             0.5,
             "#f7f7f7"
            ],
            [
             0.6,
             "#e6f5d0"
            ],
            [
             0.7,
             "#b8e186"
            ],
            [
             0.8,
             "#7fbc41"
            ],
            [
             0.9,
             "#4d9221"
            ],
            [
             1,
             "#276419"
            ]
           ],
           "sequential": [
            [
             0,
             "#0d0887"
            ],
            [
             0.1111111111111111,
             "#46039f"
            ],
            [
             0.2222222222222222,
             "#7201a8"
            ],
            [
             0.3333333333333333,
             "#9c179e"
            ],
            [
             0.4444444444444444,
             "#bd3786"
            ],
            [
             0.5555555555555556,
             "#d8576b"
            ],
            [
             0.6666666666666666,
             "#ed7953"
            ],
            [
             0.7777777777777778,
             "#fb9f3a"
            ],
            [
             0.8888888888888888,
             "#fdca26"
            ],
            [
             1,
             "#f0f921"
            ]
           ],
           "sequentialminus": [
            [
             0,
             "#0d0887"
            ],
            [
             0.1111111111111111,
             "#46039f"
            ],
            [
             0.2222222222222222,
             "#7201a8"
            ],
            [
             0.3333333333333333,
             "#9c179e"
            ],
            [
             0.4444444444444444,
             "#bd3786"
            ],
            [
             0.5555555555555556,
             "#d8576b"
            ],
            [
             0.6666666666666666,
             "#ed7953"
            ],
            [
             0.7777777777777778,
             "#fb9f3a"
            ],
            [
             0.8888888888888888,
             "#fdca26"
            ],
            [
             1,
             "#f0f921"
            ]
           ]
          },
          "colorway": [
           "#636efa",
           "#EF553B",
           "#00cc96",
           "#ab63fa",
           "#FFA15A",
           "#19d3f3",
           "#FF6692",
           "#B6E880",
           "#FF97FF",
           "#FECB52"
          ],
          "font": {
           "color": "#2a3f5f"
          },
          "geo": {
           "bgcolor": "white",
           "lakecolor": "white",
           "landcolor": "#E5ECF6",
           "showlakes": true,
           "showland": true,
           "subunitcolor": "white"
          },
          "hoverlabel": {
           "align": "left"
          },
          "hovermode": "closest",
          "mapbox": {
           "style": "light"
          },
          "paper_bgcolor": "white",
          "plot_bgcolor": "#E5ECF6",
          "polar": {
           "angularaxis": {
            "gridcolor": "white",
            "linecolor": "white",
            "ticks": ""
           },
           "bgcolor": "#E5ECF6",
           "radialaxis": {
            "gridcolor": "white",
            "linecolor": "white",
            "ticks": ""
           }
          },
          "scene": {
           "xaxis": {
            "backgroundcolor": "#E5ECF6",
            "gridcolor": "white",
            "gridwidth": 2,
            "linecolor": "white",
            "showbackground": true,
            "ticks": "",
            "zerolinecolor": "white"
           },
           "yaxis": {
            "backgroundcolor": "#E5ECF6",
            "gridcolor": "white",
            "gridwidth": 2,
            "linecolor": "white",
            "showbackground": true,
            "ticks": "",
            "zerolinecolor": "white"
           },
           "zaxis": {
            "backgroundcolor": "#E5ECF6",
            "gridcolor": "white",
            "gridwidth": 2,
            "linecolor": "white",
            "showbackground": true,
            "ticks": "",
            "zerolinecolor": "white"
           }
          },
          "shapedefaults": {
           "line": {
            "color": "#2a3f5f"
           }
          },
          "ternary": {
           "aaxis": {
            "gridcolor": "white",
            "linecolor": "white",
            "ticks": ""
           },
           "baxis": {
            "gridcolor": "white",
            "linecolor": "white",
            "ticks": ""
           },
           "bgcolor": "#E5ECF6",
           "caxis": {
            "gridcolor": "white",
            "linecolor": "white",
            "ticks": ""
           }
          },
          "title": {
           "x": 0.05
          },
          "xaxis": {
           "automargin": true,
           "gridcolor": "white",
           "linecolor": "white",
           "ticks": "",
           "title": {
            "standoff": 15
           },
           "zerolinecolor": "white",
           "zerolinewidth": 2
          },
          "yaxis": {
           "automargin": true,
           "gridcolor": "white",
           "linecolor": "white",
           "ticks": "",
           "title": {
            "standoff": 15
           },
           "zerolinecolor": "white",
           "zerolinewidth": 2
          }
         }
        },
        "title": {
         "font": {
          "size": 15
         },
         "text": "The Distribution of Sulphates by Quality",
         "x": 0.5,
         "xanchor": "center",
         "y": 0.95,
         "yanchor": "top"
        },
        "xaxis": {
         "anchor": "y",
         "domain": [
          0,
          1
         ],
         "title": {
          "text": "Sulphates"
         }
        },
        "xaxis2": {
         "anchor": "y2",
         "domain": [
          0,
          1
         ],
         "matches": "x",
         "showgrid": true,
         "showticklabels": false
        },
        "yaxis": {
         "anchor": "x",
         "domain": [
          0,
          0.7326
         ],
         "title": {
          "text": "Sum of Sulphates"
         }
        },
        "yaxis2": {
         "anchor": "x2",
         "domain": [
          0.7426,
          1
         ],
         "matches": "y2",
         "showgrid": false,
         "showline": false,
         "showticklabels": false,
         "ticks": ""
        }
       }
      }
     },
     "metadata": {},
     "output_type": "display_data"
    }
   ],
   "source": [
    "fig = px.histogram(df['sulphates'], x=\"sulphates\", y=\"sulphates\", color=df['quality'], marginal=\"box\")\n",
    "fig.update_layout(yaxis_title='Sum of Sulphates', xaxis_title='Sulphates', title={'text': 'The Distribution of Sulphates by Quality','x': 0.5,'y': 0.95,'xanchor': 'center','yanchor': 'top','font': dict(size=15)})"
   ]
  },
  {
   "cell_type": "markdown",
   "metadata": {},
   "source": [
    "# Feature Engineering"
   ]
  },
  {
   "cell_type": "code",
   "execution_count": 148,
   "metadata": {},
   "outputs": [],
   "source": [
    "# Creating active SO2 as a feature\n",
    "\n",
    "df['active SO2'] = df['total sulfur dioxide'] - df['free sulfur dioxide']\n",
    "\n",
    "# Creating sweetness as a value\n",
    "\n",
    "conditions = [\n",
    "    (df['residual sugar'] <= 4),\n",
    "    (df['residual sugar'] > 4) & (df['residual sugar'] <= 12),\n",
    "    (df['residual sugar'] > 12) & (df['residual sugar'] <= 45),\n",
    "    (df['residual sugar'] > 45)\n",
    "]\n",
    "\n",
    "choices = [1, 2, 3, 4] # 1-dry, 2-semi dry, 3-medium sweet, 4-sweet\n",
    "\n",
    "df['sweetness'] = np.select(conditions, choices, default=np.nan)\n",
    "df['sweetness'] = df['sweetness'].astype(int)\n",
    "\n",
    "# Add low and high pH as a feature\n",
    "\n",
    "conditions = [\n",
    "    (df['pH'] <= 3.5),\n",
    "    (df['pH'] >= 3.5) & ((df['pH'] < 3.6)),\n",
    "    (df['pH'] >= 3.6)\n",
    "]\n",
    "\n",
    "choices = [1, 2, 3] # 1 - high, 2 - medium, 3 - low\n",
    "\n",
    "df['pH acidity'] = np.select(conditions, choices, default=np.nan)\n",
    "df['pH acidity'] = df['pH acidity'].astype(int)\n",
    "\n",
    "# Add quality encoding\n",
    "\n",
    "conditions = [\n",
    "    (df['quality'] <= 5),\n",
    "    (df['quality'] > 5)\n",
    "]\n",
    "\n",
    "choices = [0, 1] # 0 - low quality, 1 - high quality\n",
    "\n",
    "df['quality encoding'] = np.select(conditions, choices, default=np.nan)\n",
    "df['quality encoding'] = df['quality encoding'].astype(int)\n",
    "\n",
    "# Trim the unnecessary features\n",
    "\n",
    "df.drop('residual sugar', axis = 1, inplace=True)\n",
    "df.drop('quality', axis = 1, inplace=True)"
   ]
  },
  {
   "cell_type": "code",
   "execution_count": 149,
   "metadata": {},
   "outputs": [
    {
     "name": "stdout",
     "output_type": "stream",
     "text": [
      "<class 'pandas.core.frame.DataFrame'>\n",
      "Int64Index: 1359 entries, 0 to 1598\n",
      "Data columns (total 14 columns):\n",
      " #   Column                Non-Null Count  Dtype  \n",
      "---  ------                --------------  -----  \n",
      " 0   fixed acidity         1359 non-null   float64\n",
      " 1   volatile acidity      1359 non-null   float64\n",
      " 2   citric acid           1359 non-null   float64\n",
      " 3   chlorides             1359 non-null   float64\n",
      " 4   free sulfur dioxide   1359 non-null   float64\n",
      " 5   total sulfur dioxide  1359 non-null   float64\n",
      " 6   density               1359 non-null   float64\n",
      " 7   pH                    1359 non-null   float64\n",
      " 8   sulphates             1359 non-null   float64\n",
      " 9   alcohol               1359 non-null   float64\n",
      " 10  active SO2            1359 non-null   float64\n",
      " 11  sweetness             1359 non-null   int32  \n",
      " 12  pH acidity            1359 non-null   int32  \n",
      " 13  quality encoding      1359 non-null   int32  \n",
      "dtypes: float64(11), int32(3)\n",
      "memory usage: 143.3 KB\n"
     ]
    }
   ],
   "source": [
    "df.info()"
   ]
  },
  {
   "cell_type": "markdown",
   "metadata": {},
   "source": [
    "## Scaling"
   ]
  },
  {
   "cell_type": "code",
   "execution_count": 150,
   "metadata": {},
   "outputs": [],
   "source": [
    "from sklearn.preprocessing import MinMaxScaler\n",
    "\n",
    "columns = ['fixed acidity', 'volatile acidity', 'citric acid', 'chlorides', 'free sulfur dioxide', 'total sulfur dioxide', 'density', 'pH', 'sulphates', 'alcohol']\n",
    "\n",
    "scaler = MinMaxScaler()\n",
    "df[columns] = scaler.fit_transform(df[columns])"
   ]
  },
  {
   "cell_type": "markdown",
   "metadata": {},
   "source": [
    "# Modelling"
   ]
  },
  {
   "cell_type": "markdown",
   "metadata": {},
   "source": [
    "## Splitting the dataset "
   ]
  },
  {
   "cell_type": "code",
   "execution_count": 151,
   "metadata": {},
   "outputs": [],
   "source": [
    "from sklearn.model_selection import train_test_split\n",
    "from sklearn.metrics import f1_score, precision_score, recall_score\n",
    "from sklearn.model_selection import GridSearchCV, RandomizedSearchCV\n",
    "from sklearn.model_selection import train_test_split\n",
    "from sklearn.linear_model import LogisticRegression\n",
    "from sklearn.metrics import accuracy_score, classification_report, confusion_matrix\n",
    "from sklearn.metrics import roc_curve, auc\n",
    "from sklearn.tree import DecisionTreeClassifier\n",
    "from sklearn.ensemble import RandomForestClassifier\n",
    "from sklearn.metrics import mean_squared_error\n",
    "import time\n",
    "\n",
    "X = df.drop('quality encoding', axis=1)\n",
    "y = df['quality encoding']\n",
    "\n",
    "X_train, X_test, y_train, y_test = train_test_split(X, y, test_size=0.2, random_state=66)"
   ]
  },
  {
   "cell_type": "markdown",
   "metadata": {},
   "source": [
    "## Hyperparameter Tuning "
   ]
  },
  {
   "cell_type": "code",
   "execution_count": 152,
   "metadata": {},
   "outputs": [],
   "source": [
    "# Grid Search\n",
    "\n",
    "def hyperp_search(classifier, parameters, cv):\n",
    "    gs = GridSearchCV(classifier, parameters, cv=cv, scoring = 'f1', verbose=0, n_jobs=-1)\n",
    "    tic = time.perf_counter()\n",
    "    gs = gs.fit(X_train, y_train)\n",
    "    toc = time.perf_counter()\n",
    "\n",
    "    print(\"f1_train: %f using %s in %.3f seconds\" % (gs.best_score_, gs.best_params_, toc - tic))\n",
    "\n",
    "    best_model = gs.best_estimator_\n",
    "    joblib.dump(best_model, 'model.joblib')\n",
    "    y_pred = best_model.predict(X_test)\n",
    "    y_pred_train = best_model.predict(X_train)\n",
    "\n",
    "    # evaluate predictions\n",
    "    print(\"           train    test \")\n",
    "    print(\"-------------------------\")\n",
    "    print(\"f1         %.3f    %.3f\" % (f1_score(y_train, y_pred_train),\n",
    "                                       f1_score(y_test, y_pred)))\n",
    "    print(\"accuracy   %.3f    %.3f\" % (accuracy_score(y_train, y_pred_train),\n",
    "                                       accuracy_score(y_test, y_pred)))\n",
    "    print(\"precision  %.3f    %.3f\" % (precision_score(y_train, y_pred_train),\n",
    "                                       precision_score(y_test, y_pred)))\n",
    "    print(\"recall     %.3f    %.3f\" % (recall_score(y_train, y_pred_train),\n",
    "                                       recall_score(y_test, y_pred)))\n",
    "    print(\"\")\n",
    "\n",
    "\n",
    "    # Calculate the ROC curve\n",
    "\n",
    "    fpr, tpr, thresholds = roc_curve(y_test, y_pred)\n",
    "    roc_auc = auc(fpr, tpr) # Calculate the area under the ROC curve\n",
    "\n",
    "    # ROC curve plot\n",
    "\n",
    "    fig = px.area(x=fpr, y=tpr, title=f'ROC Curve (AUC={auc(fpr, tpr):.4f})', labels=dict(x='False Positive Rate', y='True Positive Rate'), width=700, height=500)\n",
    "    fig.add_shape(type='line', line=dict(dash='dash'), x0=0, x1=1, y0=0, y1=1)\n",
    "    fig.show()\n",
    "\n",
    "    # Confusion matrix plot\n",
    "\n",
    "    cm = confusion_matrix(y_test, y_pred)\n",
    "\n",
    "    fig = px.imshow(cm, labels=dict(x=\"Predicted Label\", y=\"True Label\", color=\"Count\"), x=['Predicted 0', 'Predicted 1'], y=['Actual 0', 'Actual 1'], text_auto=True, color_continuous_scale=\"PuBu\", title=\"Confusion Matrix\", width=700, height=500)\n",
    "\n",
    "    fig.show()\n",
    "\n",
    "    return gs.best_estimator_"
   ]
  },
  {
   "cell_type": "code",
   "execution_count": 153,
   "metadata": {},
   "outputs": [],
   "source": [
    "# Randomized Search\n",
    "\n",
    "def hyperp_search_random(classifier, parameters, cv):\n",
    "    gs = RandomizedSearchCV(classifier, parameters, cv=cv, scoring = 'f1', verbose=0, n_jobs=-1, random_state = 66)\n",
    "    tic = time.perf_counter()\n",
    "    gs = gs.fit(X_train, y_train)\n",
    "    toc = time.perf_counter()\n",
    "\n",
    "    print(\"f1_train: %f using %s in %.3f seconds\" % (gs.best_score_, gs.best_params_, toc - tic))\n",
    "\n",
    "    \n",
    "    best_model = gs.best_estimator_\n",
    "    joblib.dump(best_model, 'model.joblib')\n",
    "    print(best_model.predict(X))\n",
    "    y_pred = best_model.predict(X_test)\n",
    "    y_pred_train = best_model.predict(X_train)\n",
    "\n",
    "    # Evaluate prediction\n",
    "    print(\"           train    test \")\n",
    "    print(\"-------------------------\")\n",
    "    print(\"f1         %.3f    %.3f\" % (f1_score(y_train, y_pred_train),\n",
    "                                       f1_score(y_test, y_pred) ))\n",
    "    print(\"accuracy   %.3f    %.3f\" % (accuracy_score(y_train, y_pred_train),\n",
    "                                       accuracy_score(y_test, y_pred) ))\n",
    "    print(\"precision  %.3f    %.3f\" % (precision_score(y_train, y_pred_train),\n",
    "                                       precision_score(y_test, y_pred) ))\n",
    "    print(\"recall     %.3f    %.3f\" % (recall_score(y_train, y_pred_train),\n",
    "                                       recall_score(y_test, y_pred) ))\n",
    "    print(\"\")\n",
    "\n",
    "    # Calculate the ROC curve\n",
    "\n",
    "    fpr, tpr, thresholds = roc_curve(y_test, y_pred)\n",
    "    roc_auc = auc(fpr, tpr) # Calculate the area under the ROC curve\n",
    "\n",
    "    # ROC curve plot\n",
    "\n",
    "    fig = px.area(x=fpr, y=tpr, title=f'ROC Curve (AUC={auc(fpr, tpr):.4f})', labels=dict(x='False Positive Rate', y='True Positive Rate'), width=700, height=500)\n",
    "    fig.add_shape(type='line', line=dict(dash='dash'), x0=0, x1=1, y0=0, y1=1)\n",
    "    fig.show()\n",
    "\n",
    "    # Confusion matrix plot\n",
    "\n",
    "    cm = confusion_matrix(y_test, y_pred)\n",
    "\n",
    "    fig = px.imshow(cm, labels=dict(x=\"Predicted Label\", y=\"True Label\", color=\"Count\"), x=['Predicted 0', 'Predicted 1'], y=['Actual 0', 'Actual 1'], text_auto=True, color_continuous_scale=\"PuBu\", title=\"Confusion Matrix\", width=700, height=500)\n",
    "    fig.show()\n",
    "\n",
    "    return gs.best_estimator_"
   ]
  },
  {
   "cell_type": "markdown",
   "metadata": {},
   "source": [
    "# Logistic Regression"
   ]
  },
  {
   "cell_type": "code",
   "execution_count": 154,
   "metadata": {},
   "outputs": [
    {
     "name": "stdout",
     "output_type": "stream",
     "text": [
      "f1_train: 0.750456 using {'C': 10, 'max_iter': 500} in 0.335 seconds\n",
      "           train    test \n",
      "-------------------------\n",
      "f1         0.762    0.731\n",
      "accuracy   0.751    0.732\n",
      "precision  0.773    0.767\n",
      "recall     0.750    0.697\n",
      "\n"
     ]
    },
    {
     "data": {
      "application/vnd.plotly.v1+json": {
       "config": {
        "plotlyServerURL": "https://plot.ly"
       },
       "data": [
        {
         "fillpattern": {
          "shape": ""
         },
         "hovertemplate": "False Positive Rate=%{x}<br>True Positive Rate=%{y}<extra></extra>",
         "legendgroup": "",
         "line": {
          "color": "#636efa"
         },
         "marker": {
          "symbol": "circle"
         },
         "mode": "lines",
         "name": "",
         "orientation": "v",
         "showlegend": false,
         "stackgroup": "1",
         "type": "scatter",
         "x": [
          0,
          0.23076923076923078,
          1
         ],
         "xaxis": "x",
         "y": [
          0,
          0.6971830985915493,
          1
         ],
         "yaxis": "y"
        }
       ],
       "layout": {
        "height": 500,
        "legend": {
         "tracegroupgap": 0
        },
        "shapes": [
         {
          "line": {
           "dash": "dash"
          },
          "type": "line",
          "x0": 0,
          "x1": 1,
          "y0": 0,
          "y1": 1
         }
        ],
        "template": {
         "data": {
          "bar": [
           {
            "error_x": {
             "color": "#2a3f5f"
            },
            "error_y": {
             "color": "#2a3f5f"
            },
            "marker": {
             "line": {
              "color": "#E5ECF6",
              "width": 0.5
             },
             "pattern": {
              "fillmode": "overlay",
              "size": 10,
              "solidity": 0.2
             }
            },
            "type": "bar"
           }
          ],
          "barpolar": [
           {
            "marker": {
             "line": {
              "color": "#E5ECF6",
              "width": 0.5
             },
             "pattern": {
              "fillmode": "overlay",
              "size": 10,
              "solidity": 0.2
             }
            },
            "type": "barpolar"
           }
          ],
          "carpet": [
           {
            "aaxis": {
             "endlinecolor": "#2a3f5f",
             "gridcolor": "white",
             "linecolor": "white",
             "minorgridcolor": "white",
             "startlinecolor": "#2a3f5f"
            },
            "baxis": {
             "endlinecolor": "#2a3f5f",
             "gridcolor": "white",
             "linecolor": "white",
             "minorgridcolor": "white",
             "startlinecolor": "#2a3f5f"
            },
            "type": "carpet"
           }
          ],
          "choropleth": [
           {
            "colorbar": {
             "outlinewidth": 0,
             "ticks": ""
            },
            "type": "choropleth"
           }
          ],
          "contour": [
           {
            "colorbar": {
             "outlinewidth": 0,
             "ticks": ""
            },
            "colorscale": [
             [
              0,
              "#0d0887"
             ],
             [
              0.1111111111111111,
              "#46039f"
             ],
             [
              0.2222222222222222,
              "#7201a8"
             ],
             [
              0.3333333333333333,
              "#9c179e"
             ],
             [
              0.4444444444444444,
              "#bd3786"
             ],
             [
              0.5555555555555556,
              "#d8576b"
             ],
             [
              0.6666666666666666,
              "#ed7953"
             ],
             [
              0.7777777777777778,
              "#fb9f3a"
             ],
             [
              0.8888888888888888,
              "#fdca26"
             ],
             [
              1,
              "#f0f921"
             ]
            ],
            "type": "contour"
           }
          ],
          "contourcarpet": [
           {
            "colorbar": {
             "outlinewidth": 0,
             "ticks": ""
            },
            "type": "contourcarpet"
           }
          ],
          "heatmap": [
           {
            "colorbar": {
             "outlinewidth": 0,
             "ticks": ""
            },
            "colorscale": [
             [
              0,
              "#0d0887"
             ],
             [
              0.1111111111111111,
              "#46039f"
             ],
             [
              0.2222222222222222,
              "#7201a8"
             ],
             [
              0.3333333333333333,
              "#9c179e"
             ],
             [
              0.4444444444444444,
              "#bd3786"
             ],
             [
              0.5555555555555556,
              "#d8576b"
             ],
             [
              0.6666666666666666,
              "#ed7953"
             ],
             [
              0.7777777777777778,
              "#fb9f3a"
             ],
             [
              0.8888888888888888,
              "#fdca26"
             ],
             [
              1,
              "#f0f921"
             ]
            ],
            "type": "heatmap"
           }
          ],
          "heatmapgl": [
           {
            "colorbar": {
             "outlinewidth": 0,
             "ticks": ""
            },
            "colorscale": [
             [
              0,
              "#0d0887"
             ],
             [
              0.1111111111111111,
              "#46039f"
             ],
             [
              0.2222222222222222,
              "#7201a8"
             ],
             [
              0.3333333333333333,
              "#9c179e"
             ],
             [
              0.4444444444444444,
              "#bd3786"
             ],
             [
              0.5555555555555556,
              "#d8576b"
             ],
             [
              0.6666666666666666,
              "#ed7953"
             ],
             [
              0.7777777777777778,
              "#fb9f3a"
             ],
             [
              0.8888888888888888,
              "#fdca26"
             ],
             [
              1,
              "#f0f921"
             ]
            ],
            "type": "heatmapgl"
           }
          ],
          "histogram": [
           {
            "marker": {
             "pattern": {
              "fillmode": "overlay",
              "size": 10,
              "solidity": 0.2
             }
            },
            "type": "histogram"
           }
          ],
          "histogram2d": [
           {
            "colorbar": {
             "outlinewidth": 0,
             "ticks": ""
            },
            "colorscale": [
             [
              0,
              "#0d0887"
             ],
             [
              0.1111111111111111,
              "#46039f"
             ],
             [
              0.2222222222222222,
              "#7201a8"
             ],
             [
              0.3333333333333333,
              "#9c179e"
             ],
             [
              0.4444444444444444,
              "#bd3786"
             ],
             [
              0.5555555555555556,
              "#d8576b"
             ],
             [
              0.6666666666666666,
              "#ed7953"
             ],
             [
              0.7777777777777778,
              "#fb9f3a"
             ],
             [
              0.8888888888888888,
              "#fdca26"
             ],
             [
              1,
              "#f0f921"
             ]
            ],
            "type": "histogram2d"
           }
          ],
          "histogram2dcontour": [
           {
            "colorbar": {
             "outlinewidth": 0,
             "ticks": ""
            },
            "colorscale": [
             [
              0,
              "#0d0887"
             ],
             [
              0.1111111111111111,
              "#46039f"
             ],
             [
              0.2222222222222222,
              "#7201a8"
             ],
             [
              0.3333333333333333,
              "#9c179e"
             ],
             [
              0.4444444444444444,
              "#bd3786"
             ],
             [
              0.5555555555555556,
              "#d8576b"
             ],
             [
              0.6666666666666666,
              "#ed7953"
             ],
             [
              0.7777777777777778,
              "#fb9f3a"
             ],
             [
              0.8888888888888888,
              "#fdca26"
             ],
             [
              1,
              "#f0f921"
             ]
            ],
            "type": "histogram2dcontour"
           }
          ],
          "mesh3d": [
           {
            "colorbar": {
             "outlinewidth": 0,
             "ticks": ""
            },
            "type": "mesh3d"
           }
          ],
          "parcoords": [
           {
            "line": {
             "colorbar": {
              "outlinewidth": 0,
              "ticks": ""
             }
            },
            "type": "parcoords"
           }
          ],
          "pie": [
           {
            "automargin": true,
            "type": "pie"
           }
          ],
          "scatter": [
           {
            "fillpattern": {
             "fillmode": "overlay",
             "size": 10,
             "solidity": 0.2
            },
            "type": "scatter"
           }
          ],
          "scatter3d": [
           {
            "line": {
             "colorbar": {
              "outlinewidth": 0,
              "ticks": ""
             }
            },
            "marker": {
             "colorbar": {
              "outlinewidth": 0,
              "ticks": ""
             }
            },
            "type": "scatter3d"
           }
          ],
          "scattercarpet": [
           {
            "marker": {
             "colorbar": {
              "outlinewidth": 0,
              "ticks": ""
             }
            },
            "type": "scattercarpet"
           }
          ],
          "scattergeo": [
           {
            "marker": {
             "colorbar": {
              "outlinewidth": 0,
              "ticks": ""
             }
            },
            "type": "scattergeo"
           }
          ],
          "scattergl": [
           {
            "marker": {
             "colorbar": {
              "outlinewidth": 0,
              "ticks": ""
             }
            },
            "type": "scattergl"
           }
          ],
          "scattermapbox": [
           {
            "marker": {
             "colorbar": {
              "outlinewidth": 0,
              "ticks": ""
             }
            },
            "type": "scattermapbox"
           }
          ],
          "scatterpolar": [
           {
            "marker": {
             "colorbar": {
              "outlinewidth": 0,
              "ticks": ""
             }
            },
            "type": "scatterpolar"
           }
          ],
          "scatterpolargl": [
           {
            "marker": {
             "colorbar": {
              "outlinewidth": 0,
              "ticks": ""
             }
            },
            "type": "scatterpolargl"
           }
          ],
          "scatterternary": [
           {
            "marker": {
             "colorbar": {
              "outlinewidth": 0,
              "ticks": ""
             }
            },
            "type": "scatterternary"
           }
          ],
          "surface": [
           {
            "colorbar": {
             "outlinewidth": 0,
             "ticks": ""
            },
            "colorscale": [
             [
              0,
              "#0d0887"
             ],
             [
              0.1111111111111111,
              "#46039f"
             ],
             [
              0.2222222222222222,
              "#7201a8"
             ],
             [
              0.3333333333333333,
              "#9c179e"
             ],
             [
              0.4444444444444444,
              "#bd3786"
             ],
             [
              0.5555555555555556,
              "#d8576b"
             ],
             [
              0.6666666666666666,
              "#ed7953"
             ],
             [
              0.7777777777777778,
              "#fb9f3a"
             ],
             [
              0.8888888888888888,
              "#fdca26"
             ],
             [
              1,
              "#f0f921"
             ]
            ],
            "type": "surface"
           }
          ],
          "table": [
           {
            "cells": {
             "fill": {
              "color": "#EBF0F8"
             },
             "line": {
              "color": "white"
             }
            },
            "header": {
             "fill": {
              "color": "#C8D4E3"
             },
             "line": {
              "color": "white"
             }
            },
            "type": "table"
           }
          ]
         },
         "layout": {
          "annotationdefaults": {
           "arrowcolor": "#2a3f5f",
           "arrowhead": 0,
           "arrowwidth": 1
          },
          "autotypenumbers": "strict",
          "coloraxis": {
           "colorbar": {
            "outlinewidth": 0,
            "ticks": ""
           }
          },
          "colorscale": {
           "diverging": [
            [
             0,
             "#8e0152"
            ],
            [
             0.1,
             "#c51b7d"
            ],
            [
             0.2,
             "#de77ae"
            ],
            [
             0.3,
             "#f1b6da"
            ],
            [
             0.4,
             "#fde0ef"
            ],
            [
             0.5,
             "#f7f7f7"
            ],
            [
             0.6,
             "#e6f5d0"
            ],
            [
             0.7,
             "#b8e186"
            ],
            [
             0.8,
             "#7fbc41"
            ],
            [
             0.9,
             "#4d9221"
            ],
            [
             1,
             "#276419"
            ]
           ],
           "sequential": [
            [
             0,
             "#0d0887"
            ],
            [
             0.1111111111111111,
             "#46039f"
            ],
            [
             0.2222222222222222,
             "#7201a8"
            ],
            [
             0.3333333333333333,
             "#9c179e"
            ],
            [
             0.4444444444444444,
             "#bd3786"
            ],
            [
             0.5555555555555556,
             "#d8576b"
            ],
            [
             0.6666666666666666,
             "#ed7953"
            ],
            [
             0.7777777777777778,
             "#fb9f3a"
            ],
            [
             0.8888888888888888,
             "#fdca26"
            ],
            [
             1,
             "#f0f921"
            ]
           ],
           "sequentialminus": [
            [
             0,
             "#0d0887"
            ],
            [
             0.1111111111111111,
             "#46039f"
            ],
            [
             0.2222222222222222,
             "#7201a8"
            ],
            [
             0.3333333333333333,
             "#9c179e"
            ],
            [
             0.4444444444444444,
             "#bd3786"
            ],
            [
             0.5555555555555556,
             "#d8576b"
            ],
            [
             0.6666666666666666,
             "#ed7953"
            ],
            [
             0.7777777777777778,
             "#fb9f3a"
            ],
            [
             0.8888888888888888,
             "#fdca26"
            ],
            [
             1,
             "#f0f921"
            ]
           ]
          },
          "colorway": [
           "#636efa",
           "#EF553B",
           "#00cc96",
           "#ab63fa",
           "#FFA15A",
           "#19d3f3",
           "#FF6692",
           "#B6E880",
           "#FF97FF",
           "#FECB52"
          ],
          "font": {
           "color": "#2a3f5f"
          },
          "geo": {
           "bgcolor": "white",
           "lakecolor": "white",
           "landcolor": "#E5ECF6",
           "showlakes": true,
           "showland": true,
           "subunitcolor": "white"
          },
          "hoverlabel": {
           "align": "left"
          },
          "hovermode": "closest",
          "mapbox": {
           "style": "light"
          },
          "paper_bgcolor": "white",
          "plot_bgcolor": "#E5ECF6",
          "polar": {
           "angularaxis": {
            "gridcolor": "white",
            "linecolor": "white",
            "ticks": ""
           },
           "bgcolor": "#E5ECF6",
           "radialaxis": {
            "gridcolor": "white",
            "linecolor": "white",
            "ticks": ""
           }
          },
          "scene": {
           "xaxis": {
            "backgroundcolor": "#E5ECF6",
            "gridcolor": "white",
            "gridwidth": 2,
            "linecolor": "white",
            "showbackground": true,
            "ticks": "",
            "zerolinecolor": "white"
           },
           "yaxis": {
            "backgroundcolor": "#E5ECF6",
            "gridcolor": "white",
            "gridwidth": 2,
            "linecolor": "white",
            "showbackground": true,
            "ticks": "",
            "zerolinecolor": "white"
           },
           "zaxis": {
            "backgroundcolor": "#E5ECF6",
            "gridcolor": "white",
            "gridwidth": 2,
            "linecolor": "white",
            "showbackground": true,
            "ticks": "",
            "zerolinecolor": "white"
           }
          },
          "shapedefaults": {
           "line": {
            "color": "#2a3f5f"
           }
          },
          "ternary": {
           "aaxis": {
            "gridcolor": "white",
            "linecolor": "white",
            "ticks": ""
           },
           "baxis": {
            "gridcolor": "white",
            "linecolor": "white",
            "ticks": ""
           },
           "bgcolor": "#E5ECF6",
           "caxis": {
            "gridcolor": "white",
            "linecolor": "white",
            "ticks": ""
           }
          },
          "title": {
           "x": 0.05
          },
          "xaxis": {
           "automargin": true,
           "gridcolor": "white",
           "linecolor": "white",
           "ticks": "",
           "title": {
            "standoff": 15
           },
           "zerolinecolor": "white",
           "zerolinewidth": 2
          },
          "yaxis": {
           "automargin": true,
           "gridcolor": "white",
           "linecolor": "white",
           "ticks": "",
           "title": {
            "standoff": 15
           },
           "zerolinecolor": "white",
           "zerolinewidth": 2
          }
         }
        },
        "title": {
         "text": "ROC Curve (AUC=0.7332)"
        },
        "width": 700,
        "xaxis": {
         "anchor": "y",
         "domain": [
          0,
          1
         ],
         "title": {
          "text": "False Positive Rate"
         }
        },
        "yaxis": {
         "anchor": "x",
         "domain": [
          0,
          1
         ],
         "title": {
          "text": "True Positive Rate"
         }
        }
       }
      }
     },
     "metadata": {},
     "output_type": "display_data"
    },
    {
     "data": {
      "application/vnd.plotly.v1+json": {
       "config": {
        "plotlyServerURL": "https://plot.ly"
       },
       "data": [
        {
         "coloraxis": "coloraxis",
         "hovertemplate": "Predicted Label: %{x}<br>True Label: %{y}<br>Count: %{z}<extra></extra>",
         "name": "0",
         "texttemplate": "%{z}",
         "type": "heatmap",
         "x": [
          "Predicted 0",
          "Predicted 1"
         ],
         "xaxis": "x",
         "y": [
          "Actual 0",
          "Actual 1"
         ],
         "yaxis": "y",
         "z": [
          [
           100,
           30
          ],
          [
           43,
           99
          ]
         ]
        }
       ],
       "layout": {
        "coloraxis": {
         "colorbar": {
          "title": {
           "text": "Count"
          }
         },
         "colorscale": [
          [
           0,
           "rgb(255,247,251)"
          ],
          [
           0.125,
           "rgb(236,231,242)"
          ],
          [
           0.25,
           "rgb(208,209,230)"
          ],
          [
           0.375,
           "rgb(166,189,219)"
          ],
          [
           0.5,
           "rgb(116,169,207)"
          ],
          [
           0.625,
           "rgb(54,144,192)"
          ],
          [
           0.75,
           "rgb(5,112,176)"
          ],
          [
           0.875,
           "rgb(4,90,141)"
          ],
          [
           1,
           "rgb(2,56,88)"
          ]
         ]
        },
        "height": 500,
        "template": {
         "data": {
          "bar": [
           {
            "error_x": {
             "color": "#2a3f5f"
            },
            "error_y": {
             "color": "#2a3f5f"
            },
            "marker": {
             "line": {
              "color": "#E5ECF6",
              "width": 0.5
             },
             "pattern": {
              "fillmode": "overlay",
              "size": 10,
              "solidity": 0.2
             }
            },
            "type": "bar"
           }
          ],
          "barpolar": [
           {
            "marker": {
             "line": {
              "color": "#E5ECF6",
              "width": 0.5
             },
             "pattern": {
              "fillmode": "overlay",
              "size": 10,
              "solidity": 0.2
             }
            },
            "type": "barpolar"
           }
          ],
          "carpet": [
           {
            "aaxis": {
             "endlinecolor": "#2a3f5f",
             "gridcolor": "white",
             "linecolor": "white",
             "minorgridcolor": "white",
             "startlinecolor": "#2a3f5f"
            },
            "baxis": {
             "endlinecolor": "#2a3f5f",
             "gridcolor": "white",
             "linecolor": "white",
             "minorgridcolor": "white",
             "startlinecolor": "#2a3f5f"
            },
            "type": "carpet"
           }
          ],
          "choropleth": [
           {
            "colorbar": {
             "outlinewidth": 0,
             "ticks": ""
            },
            "type": "choropleth"
           }
          ],
          "contour": [
           {
            "colorbar": {
             "outlinewidth": 0,
             "ticks": ""
            },
            "colorscale": [
             [
              0,
              "#0d0887"
             ],
             [
              0.1111111111111111,
              "#46039f"
             ],
             [
              0.2222222222222222,
              "#7201a8"
             ],
             [
              0.3333333333333333,
              "#9c179e"
             ],
             [
              0.4444444444444444,
              "#bd3786"
             ],
             [
              0.5555555555555556,
              "#d8576b"
             ],
             [
              0.6666666666666666,
              "#ed7953"
             ],
             [
              0.7777777777777778,
              "#fb9f3a"
             ],
             [
              0.8888888888888888,
              "#fdca26"
             ],
             [
              1,
              "#f0f921"
             ]
            ],
            "type": "contour"
           }
          ],
          "contourcarpet": [
           {
            "colorbar": {
             "outlinewidth": 0,
             "ticks": ""
            },
            "type": "contourcarpet"
           }
          ],
          "heatmap": [
           {
            "colorbar": {
             "outlinewidth": 0,
             "ticks": ""
            },
            "colorscale": [
             [
              0,
              "#0d0887"
             ],
             [
              0.1111111111111111,
              "#46039f"
             ],
             [
              0.2222222222222222,
              "#7201a8"
             ],
             [
              0.3333333333333333,
              "#9c179e"
             ],
             [
              0.4444444444444444,
              "#bd3786"
             ],
             [
              0.5555555555555556,
              "#d8576b"
             ],
             [
              0.6666666666666666,
              "#ed7953"
             ],
             [
              0.7777777777777778,
              "#fb9f3a"
             ],
             [
              0.8888888888888888,
              "#fdca26"
             ],
             [
              1,
              "#f0f921"
             ]
            ],
            "type": "heatmap"
           }
          ],
          "heatmapgl": [
           {
            "colorbar": {
             "outlinewidth": 0,
             "ticks": ""
            },
            "colorscale": [
             [
              0,
              "#0d0887"
             ],
             [
              0.1111111111111111,
              "#46039f"
             ],
             [
              0.2222222222222222,
              "#7201a8"
             ],
             [
              0.3333333333333333,
              "#9c179e"
             ],
             [
              0.4444444444444444,
              "#bd3786"
             ],
             [
              0.5555555555555556,
              "#d8576b"
             ],
             [
              0.6666666666666666,
              "#ed7953"
             ],
             [
              0.7777777777777778,
              "#fb9f3a"
             ],
             [
              0.8888888888888888,
              "#fdca26"
             ],
             [
              1,
              "#f0f921"
             ]
            ],
            "type": "heatmapgl"
           }
          ],
          "histogram": [
           {
            "marker": {
             "pattern": {
              "fillmode": "overlay",
              "size": 10,
              "solidity": 0.2
             }
            },
            "type": "histogram"
           }
          ],
          "histogram2d": [
           {
            "colorbar": {
             "outlinewidth": 0,
             "ticks": ""
            },
            "colorscale": [
             [
              0,
              "#0d0887"
             ],
             [
              0.1111111111111111,
              "#46039f"
             ],
             [
              0.2222222222222222,
              "#7201a8"
             ],
             [
              0.3333333333333333,
              "#9c179e"
             ],
             [
              0.4444444444444444,
              "#bd3786"
             ],
             [
              0.5555555555555556,
              "#d8576b"
             ],
             [
              0.6666666666666666,
              "#ed7953"
             ],
             [
              0.7777777777777778,
              "#fb9f3a"
             ],
             [
              0.8888888888888888,
              "#fdca26"
             ],
             [
              1,
              "#f0f921"
             ]
            ],
            "type": "histogram2d"
           }
          ],
          "histogram2dcontour": [
           {
            "colorbar": {
             "outlinewidth": 0,
             "ticks": ""
            },
            "colorscale": [
             [
              0,
              "#0d0887"
             ],
             [
              0.1111111111111111,
              "#46039f"
             ],
             [
              0.2222222222222222,
              "#7201a8"
             ],
             [
              0.3333333333333333,
              "#9c179e"
             ],
             [
              0.4444444444444444,
              "#bd3786"
             ],
             [
              0.5555555555555556,
              "#d8576b"
             ],
             [
              0.6666666666666666,
              "#ed7953"
             ],
             [
              0.7777777777777778,
              "#fb9f3a"
             ],
             [
              0.8888888888888888,
              "#fdca26"
             ],
             [
              1,
              "#f0f921"
             ]
            ],
            "type": "histogram2dcontour"
           }
          ],
          "mesh3d": [
           {
            "colorbar": {
             "outlinewidth": 0,
             "ticks": ""
            },
            "type": "mesh3d"
           }
          ],
          "parcoords": [
           {
            "line": {
             "colorbar": {
              "outlinewidth": 0,
              "ticks": ""
             }
            },
            "type": "parcoords"
           }
          ],
          "pie": [
           {
            "automargin": true,
            "type": "pie"
           }
          ],
          "scatter": [
           {
            "fillpattern": {
             "fillmode": "overlay",
             "size": 10,
             "solidity": 0.2
            },
            "type": "scatter"
           }
          ],
          "scatter3d": [
           {
            "line": {
             "colorbar": {
              "outlinewidth": 0,
              "ticks": ""
             }
            },
            "marker": {
             "colorbar": {
              "outlinewidth": 0,
              "ticks": ""
             }
            },
            "type": "scatter3d"
           }
          ],
          "scattercarpet": [
           {
            "marker": {
             "colorbar": {
              "outlinewidth": 0,
              "ticks": ""
             }
            },
            "type": "scattercarpet"
           }
          ],
          "scattergeo": [
           {
            "marker": {
             "colorbar": {
              "outlinewidth": 0,
              "ticks": ""
             }
            },
            "type": "scattergeo"
           }
          ],
          "scattergl": [
           {
            "marker": {
             "colorbar": {
              "outlinewidth": 0,
              "ticks": ""
             }
            },
            "type": "scattergl"
           }
          ],
          "scattermapbox": [
           {
            "marker": {
             "colorbar": {
              "outlinewidth": 0,
              "ticks": ""
             }
            },
            "type": "scattermapbox"
           }
          ],
          "scatterpolar": [
           {
            "marker": {
             "colorbar": {
              "outlinewidth": 0,
              "ticks": ""
             }
            },
            "type": "scatterpolar"
           }
          ],
          "scatterpolargl": [
           {
            "marker": {
             "colorbar": {
              "outlinewidth": 0,
              "ticks": ""
             }
            },
            "type": "scatterpolargl"
           }
          ],
          "scatterternary": [
           {
            "marker": {
             "colorbar": {
              "outlinewidth": 0,
              "ticks": ""
             }
            },
            "type": "scatterternary"
           }
          ],
          "surface": [
           {
            "colorbar": {
             "outlinewidth": 0,
             "ticks": ""
            },
            "colorscale": [
             [
              0,
              "#0d0887"
             ],
             [
              0.1111111111111111,
              "#46039f"
             ],
             [
              0.2222222222222222,
              "#7201a8"
             ],
             [
              0.3333333333333333,
              "#9c179e"
             ],
             [
              0.4444444444444444,
              "#bd3786"
             ],
             [
              0.5555555555555556,
              "#d8576b"
             ],
             [
              0.6666666666666666,
              "#ed7953"
             ],
             [
              0.7777777777777778,
              "#fb9f3a"
             ],
             [
              0.8888888888888888,
              "#fdca26"
             ],
             [
              1,
              "#f0f921"
             ]
            ],
            "type": "surface"
           }
          ],
          "table": [
           {
            "cells": {
             "fill": {
              "color": "#EBF0F8"
             },
             "line": {
              "color": "white"
             }
            },
            "header": {
             "fill": {
              "color": "#C8D4E3"
             },
             "line": {
              "color": "white"
             }
            },
            "type": "table"
           }
          ]
         },
         "layout": {
          "annotationdefaults": {
           "arrowcolor": "#2a3f5f",
           "arrowhead": 0,
           "arrowwidth": 1
          },
          "autotypenumbers": "strict",
          "coloraxis": {
           "colorbar": {
            "outlinewidth": 0,
            "ticks": ""
           }
          },
          "colorscale": {
           "diverging": [
            [
             0,
             "#8e0152"
            ],
            [
             0.1,
             "#c51b7d"
            ],
            [
             0.2,
             "#de77ae"
            ],
            [
             0.3,
             "#f1b6da"
            ],
            [
             0.4,
             "#fde0ef"
            ],
            [
             0.5,
             "#f7f7f7"
            ],
            [
             0.6,
             "#e6f5d0"
            ],
            [
             0.7,
             "#b8e186"
            ],
            [
             0.8,
             "#7fbc41"
            ],
            [
             0.9,
             "#4d9221"
            ],
            [
             1,
             "#276419"
            ]
           ],
           "sequential": [
            [
             0,
             "#0d0887"
            ],
            [
             0.1111111111111111,
             "#46039f"
            ],
            [
             0.2222222222222222,
             "#7201a8"
            ],
            [
             0.3333333333333333,
             "#9c179e"
            ],
            [
             0.4444444444444444,
             "#bd3786"
            ],
            [
             0.5555555555555556,
             "#d8576b"
            ],
            [
             0.6666666666666666,
             "#ed7953"
            ],
            [
             0.7777777777777778,
             "#fb9f3a"
            ],
            [
             0.8888888888888888,
             "#fdca26"
            ],
            [
             1,
             "#f0f921"
            ]
           ],
           "sequentialminus": [
            [
             0,
             "#0d0887"
            ],
            [
             0.1111111111111111,
             "#46039f"
            ],
            [
             0.2222222222222222,
             "#7201a8"
            ],
            [
             0.3333333333333333,
             "#9c179e"
            ],
            [
             0.4444444444444444,
             "#bd3786"
            ],
            [
             0.5555555555555556,
             "#d8576b"
            ],
            [
             0.6666666666666666,
             "#ed7953"
            ],
            [
             0.7777777777777778,
             "#fb9f3a"
            ],
            [
             0.8888888888888888,
             "#fdca26"
            ],
            [
             1,
             "#f0f921"
            ]
           ]
          },
          "colorway": [
           "#636efa",
           "#EF553B",
           "#00cc96",
           "#ab63fa",
           "#FFA15A",
           "#19d3f3",
           "#FF6692",
           "#B6E880",
           "#FF97FF",
           "#FECB52"
          ],
          "font": {
           "color": "#2a3f5f"
          },
          "geo": {
           "bgcolor": "white",
           "lakecolor": "white",
           "landcolor": "#E5ECF6",
           "showlakes": true,
           "showland": true,
           "subunitcolor": "white"
          },
          "hoverlabel": {
           "align": "left"
          },
          "hovermode": "closest",
          "mapbox": {
           "style": "light"
          },
          "paper_bgcolor": "white",
          "plot_bgcolor": "#E5ECF6",
          "polar": {
           "angularaxis": {
            "gridcolor": "white",
            "linecolor": "white",
            "ticks": ""
           },
           "bgcolor": "#E5ECF6",
           "radialaxis": {
            "gridcolor": "white",
            "linecolor": "white",
            "ticks": ""
           }
          },
          "scene": {
           "xaxis": {
            "backgroundcolor": "#E5ECF6",
            "gridcolor": "white",
            "gridwidth": 2,
            "linecolor": "white",
            "showbackground": true,
            "ticks": "",
            "zerolinecolor": "white"
           },
           "yaxis": {
            "backgroundcolor": "#E5ECF6",
            "gridcolor": "white",
            "gridwidth": 2,
            "linecolor": "white",
            "showbackground": true,
            "ticks": "",
            "zerolinecolor": "white"
           },
           "zaxis": {
            "backgroundcolor": "#E5ECF6",
            "gridcolor": "white",
            "gridwidth": 2,
            "linecolor": "white",
            "showbackground": true,
            "ticks": "",
            "zerolinecolor": "white"
           }
          },
          "shapedefaults": {
           "line": {
            "color": "#2a3f5f"
           }
          },
          "ternary": {
           "aaxis": {
            "gridcolor": "white",
            "linecolor": "white",
            "ticks": ""
           },
           "baxis": {
            "gridcolor": "white",
            "linecolor": "white",
            "ticks": ""
           },
           "bgcolor": "#E5ECF6",
           "caxis": {
            "gridcolor": "white",
            "linecolor": "white",
            "ticks": ""
           }
          },
          "title": {
           "x": 0.05
          },
          "xaxis": {
           "automargin": true,
           "gridcolor": "white",
           "linecolor": "white",
           "ticks": "",
           "title": {
            "standoff": 15
           },
           "zerolinecolor": "white",
           "zerolinewidth": 2
          },
          "yaxis": {
           "automargin": true,
           "gridcolor": "white",
           "linecolor": "white",
           "ticks": "",
           "title": {
            "standoff": 15
           },
           "zerolinecolor": "white",
           "zerolinewidth": 2
          }
         }
        },
        "title": {
         "text": "Confusion Matrix"
        },
        "width": 700,
        "xaxis": {
         "anchor": "y",
         "constrain": "domain",
         "domain": [
          0,
          1
         ],
         "scaleanchor": "y",
         "title": {
          "text": "Predicted Label"
         }
        },
        "yaxis": {
         "anchor": "x",
         "autorange": "reversed",
         "constrain": "domain",
         "domain": [
          0,
          1
         ],
         "title": {
          "text": "True Label"
         }
        }
       }
      }
     },
     "metadata": {},
     "output_type": "display_data"
    },
    {
     "name": "stdout",
     "output_type": "stream",
     "text": [
      "LogisticRegression(C=10, max_iter=500)\n"
     ]
    },
    {
     "data": {
      "application/vnd.plotly.v1+json": {
       "config": {
        "plotlyServerURL": "https://plot.ly"
       },
       "data": [
        {
         "alignmentgroup": "True",
         "hovertemplate": "Feature=%{x}<br>Weight=%{text}<extra></extra>",
         "legendgroup": "volatile acidity",
         "marker": {
          "color": "rgb(8,48,107)",
          "pattern": {
           "shape": ""
          }
         },
         "name": "volatile acidity",
         "offsetgroup": "volatile acidity",
         "orientation": "v",
         "showlegend": true,
         "text": [
          -4.81
         ],
         "textposition": "auto",
         "type": "bar",
         "x": [
          "volatile acidity"
         ],
         "xaxis": "x",
         "y": [
          -4.81
         ],
         "yaxis": "y"
        },
        {
         "alignmentgroup": "True",
         "hovertemplate": "Feature=%{x}<br>Weight=%{text}<extra></extra>",
         "legendgroup": "citric acid",
         "marker": {
          "color": "rgb(8,81,156)",
          "pattern": {
           "shape": ""
          }
         },
         "name": "citric acid",
         "offsetgroup": "citric acid",
         "orientation": "v",
         "showlegend": true,
         "text": [
          -1.24
         ],
         "textposition": "auto",
         "type": "bar",
         "x": [
          "citric acid"
         ],
         "xaxis": "x",
         "y": [
          -1.24
         ],
         "yaxis": "y"
        },
        {
         "alignmentgroup": "True",
         "hovertemplate": "Feature=%{x}<br>Weight=%{text}<extra></extra>",
         "legendgroup": "chlorides",
         "marker": {
          "color": "rgb(33,113,181)",
          "pattern": {
           "shape": ""
          }
         },
         "name": "chlorides",
         "offsetgroup": "chlorides",
         "orientation": "v",
         "showlegend": true,
         "text": [
          -0.88
         ],
         "textposition": "auto",
         "type": "bar",
         "x": [
          "chlorides"
         ],
         "xaxis": "x",
         "y": [
          -0.88
         ],
         "yaxis": "y"
        },
        {
         "alignmentgroup": "True",
         "hovertemplate": "Feature=%{x}<br>Weight=%{text}<extra></extra>",
         "legendgroup": "pH acidity",
         "marker": {
          "color": "rgb(66,146,198)",
          "pattern": {
           "shape": ""
          }
         },
         "name": "pH acidity",
         "offsetgroup": "pH acidity",
         "orientation": "v",
         "showlegend": true,
         "text": [
          -0.33
         ],
         "textposition": "auto",
         "type": "bar",
         "x": [
          "pH acidity"
         ],
         "xaxis": "x",
         "y": [
          -0.33
         ],
         "yaxis": "y"
        },
        {
         "alignmentgroup": "True",
         "hovertemplate": "Feature=%{x}<br>Weight=%{text}<extra></extra>",
         "legendgroup": "free sulfur dioxide",
         "marker": {
          "color": "rgb(107,174,214)",
          "pattern": {
           "shape": ""
          }
         },
         "name": "free sulfur dioxide",
         "offsetgroup": "free sulfur dioxide",
         "orientation": "v",
         "showlegend": true,
         "text": [
          -0.23
         ],
         "textposition": "auto",
         "type": "bar",
         "x": [
          "free sulfur dioxide"
         ],
         "xaxis": "x",
         "y": [
          -0.23
         ],
         "yaxis": "y"
        },
        {
         "alignmentgroup": "True",
         "hovertemplate": "Feature=%{x}<br>Weight=%{text}<extra></extra>",
         "legendgroup": "active SO2",
         "marker": {
          "color": "rgb(158,202,225)",
          "pattern": {
           "shape": ""
          }
         },
         "name": "active SO2",
         "offsetgroup": "active SO2",
         "orientation": "v",
         "showlegend": true,
         "text": [
          -0.21
         ],
         "textposition": "auto",
         "type": "bar",
         "x": [
          "active SO2"
         ],
         "xaxis": "x",
         "y": [
          -0.21
         ],
         "yaxis": "y"
        },
        {
         "alignmentgroup": "True",
         "hovertemplate": "Feature=%{x}<br>Weight=%{text}<extra></extra>",
         "legendgroup": "total sulfur dioxide",
         "marker": {
          "color": "rgb(198,219,239)",
          "pattern": {
           "shape": ""
          }
         },
         "name": "total sulfur dioxide",
         "offsetgroup": "total sulfur dioxide",
         "orientation": "v",
         "showlegend": true,
         "text": [
          -0.13
         ],
         "textposition": "auto",
         "type": "bar",
         "x": [
          "total sulfur dioxide"
         ],
         "xaxis": "x",
         "y": [
          -0.13
         ],
         "yaxis": "y"
        },
        {
         "alignmentgroup": "True",
         "hovertemplate": "Feature=%{x}<br>Weight=%{text}<extra></extra>",
         "legendgroup": "sweetness",
         "marker": {
          "color": "rgb(222,235,247)",
          "pattern": {
           "shape": ""
          }
         },
         "name": "sweetness",
         "offsetgroup": "sweetness",
         "orientation": "v",
         "showlegend": true,
         "text": [
          0.02
         ],
         "textposition": "auto",
         "type": "bar",
         "x": [
          "sweetness"
         ],
         "xaxis": "x",
         "y": [
          0.02
         ],
         "yaxis": "y"
        },
        {
         "alignmentgroup": "True",
         "hovertemplate": "Feature=%{x}<br>Weight=%{text}<extra></extra>",
         "legendgroup": "density",
         "marker": {
          "color": "rgb(247,251,255)",
          "pattern": {
           "shape": ""
          }
         },
         "name": "density",
         "offsetgroup": "density",
         "orientation": "v",
         "showlegend": true,
         "text": [
          0.22
         ],
         "textposition": "auto",
         "type": "bar",
         "x": [
          "density"
         ],
         "xaxis": "x",
         "y": [
          0.22
         ],
         "yaxis": "y"
        },
        {
         "alignmentgroup": "True",
         "hovertemplate": "Feature=%{x}<br>Weight=%{text}<extra></extra>",
         "legendgroup": "pH",
         "marker": {
          "color": "rgb(8,48,107)",
          "pattern": {
           "shape": ""
          }
         },
         "name": "pH",
         "offsetgroup": "pH",
         "orientation": "v",
         "showlegend": true,
         "text": [
          0.69
         ],
         "textposition": "auto",
         "type": "bar",
         "x": [
          "pH"
         ],
         "xaxis": "x",
         "y": [
          0.69
         ],
         "yaxis": "y"
        },
        {
         "alignmentgroup": "True",
         "hovertemplate": "Feature=%{x}<br>Weight=%{text}<extra></extra>",
         "legendgroup": "fixed acidity",
         "marker": {
          "color": "rgb(8,81,156)",
          "pattern": {
           "shape": ""
          }
         },
         "name": "fixed acidity",
         "offsetgroup": "fixed acidity",
         "orientation": "v",
         "showlegend": true,
         "text": [
          1.15
         ],
         "textposition": "auto",
         "type": "bar",
         "x": [
          "fixed acidity"
         ],
         "xaxis": "x",
         "y": [
          1.15
         ],
         "yaxis": "y"
        },
        {
         "alignmentgroup": "True",
         "hovertemplate": "Feature=%{x}<br>Weight=%{text}<extra></extra>",
         "legendgroup": "sulphates",
         "marker": {
          "color": "rgb(33,113,181)",
          "pattern": {
           "shape": ""
          }
         },
         "name": "sulphates",
         "offsetgroup": "sulphates",
         "orientation": "v",
         "showlegend": true,
         "text": [
          3.61
         ],
         "textposition": "auto",
         "type": "bar",
         "x": [
          "sulphates"
         ],
         "xaxis": "x",
         "y": [
          3.61
         ],
         "yaxis": "y"
        },
        {
         "alignmentgroup": "True",
         "hovertemplate": "Feature=%{x}<br>Weight=%{text}<extra></extra>",
         "legendgroup": "alcohol",
         "marker": {
          "color": "rgb(66,146,198)",
          "pattern": {
           "shape": ""
          }
         },
         "name": "alcohol",
         "offsetgroup": "alcohol",
         "orientation": "v",
         "showlegend": true,
         "text": [
          5.78
         ],
         "textposition": "auto",
         "type": "bar",
         "x": [
          "alcohol"
         ],
         "xaxis": "x",
         "y": [
          5.78
         ],
         "yaxis": "y"
        }
       ],
       "layout": {
        "barmode": "relative",
        "legend": {
         "title": {
          "text": "Feature"
         },
         "tracegroupgap": 0
        },
        "template": {
         "data": {
          "bar": [
           {
            "error_x": {
             "color": "#2a3f5f"
            },
            "error_y": {
             "color": "#2a3f5f"
            },
            "marker": {
             "line": {
              "color": "#E5ECF6",
              "width": 0.5
             },
             "pattern": {
              "fillmode": "overlay",
              "size": 10,
              "solidity": 0.2
             }
            },
            "type": "bar"
           }
          ],
          "barpolar": [
           {
            "marker": {
             "line": {
              "color": "#E5ECF6",
              "width": 0.5
             },
             "pattern": {
              "fillmode": "overlay",
              "size": 10,
              "solidity": 0.2
             }
            },
            "type": "barpolar"
           }
          ],
          "carpet": [
           {
            "aaxis": {
             "endlinecolor": "#2a3f5f",
             "gridcolor": "white",
             "linecolor": "white",
             "minorgridcolor": "white",
             "startlinecolor": "#2a3f5f"
            },
            "baxis": {
             "endlinecolor": "#2a3f5f",
             "gridcolor": "white",
             "linecolor": "white",
             "minorgridcolor": "white",
             "startlinecolor": "#2a3f5f"
            },
            "type": "carpet"
           }
          ],
          "choropleth": [
           {
            "colorbar": {
             "outlinewidth": 0,
             "ticks": ""
            },
            "type": "choropleth"
           }
          ],
          "contour": [
           {
            "colorbar": {
             "outlinewidth": 0,
             "ticks": ""
            },
            "colorscale": [
             [
              0,
              "#0d0887"
             ],
             [
              0.1111111111111111,
              "#46039f"
             ],
             [
              0.2222222222222222,
              "#7201a8"
             ],
             [
              0.3333333333333333,
              "#9c179e"
             ],
             [
              0.4444444444444444,
              "#bd3786"
             ],
             [
              0.5555555555555556,
              "#d8576b"
             ],
             [
              0.6666666666666666,
              "#ed7953"
             ],
             [
              0.7777777777777778,
              "#fb9f3a"
             ],
             [
              0.8888888888888888,
              "#fdca26"
             ],
             [
              1,
              "#f0f921"
             ]
            ],
            "type": "contour"
           }
          ],
          "contourcarpet": [
           {
            "colorbar": {
             "outlinewidth": 0,
             "ticks": ""
            },
            "type": "contourcarpet"
           }
          ],
          "heatmap": [
           {
            "colorbar": {
             "outlinewidth": 0,
             "ticks": ""
            },
            "colorscale": [
             [
              0,
              "#0d0887"
             ],
             [
              0.1111111111111111,
              "#46039f"
             ],
             [
              0.2222222222222222,
              "#7201a8"
             ],
             [
              0.3333333333333333,
              "#9c179e"
             ],
             [
              0.4444444444444444,
              "#bd3786"
             ],
             [
              0.5555555555555556,
              "#d8576b"
             ],
             [
              0.6666666666666666,
              "#ed7953"
             ],
             [
              0.7777777777777778,
              "#fb9f3a"
             ],
             [
              0.8888888888888888,
              "#fdca26"
             ],
             [
              1,
              "#f0f921"
             ]
            ],
            "type": "heatmap"
           }
          ],
          "heatmapgl": [
           {
            "colorbar": {
             "outlinewidth": 0,
             "ticks": ""
            },
            "colorscale": [
             [
              0,
              "#0d0887"
             ],
             [
              0.1111111111111111,
              "#46039f"
             ],
             [
              0.2222222222222222,
              "#7201a8"
             ],
             [
              0.3333333333333333,
              "#9c179e"
             ],
             [
              0.4444444444444444,
              "#bd3786"
             ],
             [
              0.5555555555555556,
              "#d8576b"
             ],
             [
              0.6666666666666666,
              "#ed7953"
             ],
             [
              0.7777777777777778,
              "#fb9f3a"
             ],
             [
              0.8888888888888888,
              "#fdca26"
             ],
             [
              1,
              "#f0f921"
             ]
            ],
            "type": "heatmapgl"
           }
          ],
          "histogram": [
           {
            "marker": {
             "pattern": {
              "fillmode": "overlay",
              "size": 10,
              "solidity": 0.2
             }
            },
            "type": "histogram"
           }
          ],
          "histogram2d": [
           {
            "colorbar": {
             "outlinewidth": 0,
             "ticks": ""
            },
            "colorscale": [
             [
              0,
              "#0d0887"
             ],
             [
              0.1111111111111111,
              "#46039f"
             ],
             [
              0.2222222222222222,
              "#7201a8"
             ],
             [
              0.3333333333333333,
              "#9c179e"
             ],
             [
              0.4444444444444444,
              "#bd3786"
             ],
             [
              0.5555555555555556,
              "#d8576b"
             ],
             [
              0.6666666666666666,
              "#ed7953"
             ],
             [
              0.7777777777777778,
              "#fb9f3a"
             ],
             [
              0.8888888888888888,
              "#fdca26"
             ],
             [
              1,
              "#f0f921"
             ]
            ],
            "type": "histogram2d"
           }
          ],
          "histogram2dcontour": [
           {
            "colorbar": {
             "outlinewidth": 0,
             "ticks": ""
            },
            "colorscale": [
             [
              0,
              "#0d0887"
             ],
             [
              0.1111111111111111,
              "#46039f"
             ],
             [
              0.2222222222222222,
              "#7201a8"
             ],
             [
              0.3333333333333333,
              "#9c179e"
             ],
             [
              0.4444444444444444,
              "#bd3786"
             ],
             [
              0.5555555555555556,
              "#d8576b"
             ],
             [
              0.6666666666666666,
              "#ed7953"
             ],
             [
              0.7777777777777778,
              "#fb9f3a"
             ],
             [
              0.8888888888888888,
              "#fdca26"
             ],
             [
              1,
              "#f0f921"
             ]
            ],
            "type": "histogram2dcontour"
           }
          ],
          "mesh3d": [
           {
            "colorbar": {
             "outlinewidth": 0,
             "ticks": ""
            },
            "type": "mesh3d"
           }
          ],
          "parcoords": [
           {
            "line": {
             "colorbar": {
              "outlinewidth": 0,
              "ticks": ""
             }
            },
            "type": "parcoords"
           }
          ],
          "pie": [
           {
            "automargin": true,
            "type": "pie"
           }
          ],
          "scatter": [
           {
            "fillpattern": {
             "fillmode": "overlay",
             "size": 10,
             "solidity": 0.2
            },
            "type": "scatter"
           }
          ],
          "scatter3d": [
           {
            "line": {
             "colorbar": {
              "outlinewidth": 0,
              "ticks": ""
             }
            },
            "marker": {
             "colorbar": {
              "outlinewidth": 0,
              "ticks": ""
             }
            },
            "type": "scatter3d"
           }
          ],
          "scattercarpet": [
           {
            "marker": {
             "colorbar": {
              "outlinewidth": 0,
              "ticks": ""
             }
            },
            "type": "scattercarpet"
           }
          ],
          "scattergeo": [
           {
            "marker": {
             "colorbar": {
              "outlinewidth": 0,
              "ticks": ""
             }
            },
            "type": "scattergeo"
           }
          ],
          "scattergl": [
           {
            "marker": {
             "colorbar": {
              "outlinewidth": 0,
              "ticks": ""
             }
            },
            "type": "scattergl"
           }
          ],
          "scattermapbox": [
           {
            "marker": {
             "colorbar": {
              "outlinewidth": 0,
              "ticks": ""
             }
            },
            "type": "scattermapbox"
           }
          ],
          "scatterpolar": [
           {
            "marker": {
             "colorbar": {
              "outlinewidth": 0,
              "ticks": ""
             }
            },
            "type": "scatterpolar"
           }
          ],
          "scatterpolargl": [
           {
            "marker": {
             "colorbar": {
              "outlinewidth": 0,
              "ticks": ""
             }
            },
            "type": "scatterpolargl"
           }
          ],
          "scatterternary": [
           {
            "marker": {
             "colorbar": {
              "outlinewidth": 0,
              "ticks": ""
             }
            },
            "type": "scatterternary"
           }
          ],
          "surface": [
           {
            "colorbar": {
             "outlinewidth": 0,
             "ticks": ""
            },
            "colorscale": [
             [
              0,
              "#0d0887"
             ],
             [
              0.1111111111111111,
              "#46039f"
             ],
             [
              0.2222222222222222,
              "#7201a8"
             ],
             [
              0.3333333333333333,
              "#9c179e"
             ],
             [
              0.4444444444444444,
              "#bd3786"
             ],
             [
              0.5555555555555556,
              "#d8576b"
             ],
             [
              0.6666666666666666,
              "#ed7953"
             ],
             [
              0.7777777777777778,
              "#fb9f3a"
             ],
             [
              0.8888888888888888,
              "#fdca26"
             ],
             [
              1,
              "#f0f921"
             ]
            ],
            "type": "surface"
           }
          ],
          "table": [
           {
            "cells": {
             "fill": {
              "color": "#EBF0F8"
             },
             "line": {
              "color": "white"
             }
            },
            "header": {
             "fill": {
              "color": "#C8D4E3"
             },
             "line": {
              "color": "white"
             }
            },
            "type": "table"
           }
          ]
         },
         "layout": {
          "annotationdefaults": {
           "arrowcolor": "#2a3f5f",
           "arrowhead": 0,
           "arrowwidth": 1
          },
          "autotypenumbers": "strict",
          "coloraxis": {
           "colorbar": {
            "outlinewidth": 0,
            "ticks": ""
           }
          },
          "colorscale": {
           "diverging": [
            [
             0,
             "#8e0152"
            ],
            [
             0.1,
             "#c51b7d"
            ],
            [
             0.2,
             "#de77ae"
            ],
            [
             0.3,
             "#f1b6da"
            ],
            [
             0.4,
             "#fde0ef"
            ],
            [
             0.5,
             "#f7f7f7"
            ],
            [
             0.6,
             "#e6f5d0"
            ],
            [
             0.7,
             "#b8e186"
            ],
            [
             0.8,
             "#7fbc41"
            ],
            [
             0.9,
             "#4d9221"
            ],
            [
             1,
             "#276419"
            ]
           ],
           "sequential": [
            [
             0,
             "#0d0887"
            ],
            [
             0.1111111111111111,
             "#46039f"
            ],
            [
             0.2222222222222222,
             "#7201a8"
            ],
            [
             0.3333333333333333,
             "#9c179e"
            ],
            [
             0.4444444444444444,
             "#bd3786"
            ],
            [
             0.5555555555555556,
             "#d8576b"
            ],
            [
             0.6666666666666666,
             "#ed7953"
            ],
            [
             0.7777777777777778,
             "#fb9f3a"
            ],
            [
             0.8888888888888888,
             "#fdca26"
            ],
            [
             1,
             "#f0f921"
            ]
           ],
           "sequentialminus": [
            [
             0,
             "#0d0887"
            ],
            [
             0.1111111111111111,
             "#46039f"
            ],
            [
             0.2222222222222222,
             "#7201a8"
            ],
            [
             0.3333333333333333,
             "#9c179e"
            ],
            [
             0.4444444444444444,
             "#bd3786"
            ],
            [
             0.5555555555555556,
             "#d8576b"
            ],
            [
             0.6666666666666666,
             "#ed7953"
            ],
            [
             0.7777777777777778,
             "#fb9f3a"
            ],
            [
             0.8888888888888888,
             "#fdca26"
            ],
            [
             1,
             "#f0f921"
            ]
           ]
          },
          "colorway": [
           "#636efa",
           "#EF553B",
           "#00cc96",
           "#ab63fa",
           "#FFA15A",
           "#19d3f3",
           "#FF6692",
           "#B6E880",
           "#FF97FF",
           "#FECB52"
          ],
          "font": {
           "color": "#2a3f5f"
          },
          "geo": {
           "bgcolor": "white",
           "lakecolor": "white",
           "landcolor": "#E5ECF6",
           "showlakes": true,
           "showland": true,
           "subunitcolor": "white"
          },
          "hoverlabel": {
           "align": "left"
          },
          "hovermode": "closest",
          "mapbox": {
           "style": "light"
          },
          "paper_bgcolor": "white",
          "plot_bgcolor": "#E5ECF6",
          "polar": {
           "angularaxis": {
            "gridcolor": "white",
            "linecolor": "white",
            "ticks": ""
           },
           "bgcolor": "#E5ECF6",
           "radialaxis": {
            "gridcolor": "white",
            "linecolor": "white",
            "ticks": ""
           }
          },
          "scene": {
           "xaxis": {
            "backgroundcolor": "#E5ECF6",
            "gridcolor": "white",
            "gridwidth": 2,
            "linecolor": "white",
            "showbackground": true,
            "ticks": "",
            "zerolinecolor": "white"
           },
           "yaxis": {
            "backgroundcolor": "#E5ECF6",
            "gridcolor": "white",
            "gridwidth": 2,
            "linecolor": "white",
            "showbackground": true,
            "ticks": "",
            "zerolinecolor": "white"
           },
           "zaxis": {
            "backgroundcolor": "#E5ECF6",
            "gridcolor": "white",
            "gridwidth": 2,
            "linecolor": "white",
            "showbackground": true,
            "ticks": "",
            "zerolinecolor": "white"
           }
          },
          "shapedefaults": {
           "line": {
            "color": "#2a3f5f"
           }
          },
          "ternary": {
           "aaxis": {
            "gridcolor": "white",
            "linecolor": "white",
            "ticks": ""
           },
           "baxis": {
            "gridcolor": "white",
            "linecolor": "white",
            "ticks": ""
           },
           "bgcolor": "#E5ECF6",
           "caxis": {
            "gridcolor": "white",
            "linecolor": "white",
            "ticks": ""
           }
          },
          "title": {
           "x": 0.05
          },
          "xaxis": {
           "automargin": true,
           "gridcolor": "white",
           "linecolor": "white",
           "ticks": "",
           "title": {
            "standoff": 15
           },
           "zerolinecolor": "white",
           "zerolinewidth": 2
          },
          "yaxis": {
           "automargin": true,
           "gridcolor": "white",
           "linecolor": "white",
           "ticks": "",
           "title": {
            "standoff": 15
           },
           "zerolinecolor": "white",
           "zerolinewidth": 2
          }
         }
        },
        "title": {
         "text": "Coefficient Analysis for Logistic Regression"
        },
        "xaxis": {
         "anchor": "y",
         "categoryarray": [
          "volatile acidity",
          "citric acid",
          "chlorides",
          "pH acidity",
          "free sulfur dioxide",
          "active SO2",
          "total sulfur dioxide",
          "sweetness",
          "density",
          "pH",
          "fixed acidity",
          "sulphates",
          "alcohol"
         ],
         "categoryorder": "total descending",
         "domain": [
          0,
          1
         ],
         "tickangle": 90,
         "title": {
          "text": "Feature"
         }
        },
        "yaxis": {
         "anchor": "x",
         "domain": [
          0,
          1
         ],
         "title": {
          "text": "Weight"
         }
        }
       }
      }
     },
     "metadata": {},
     "output_type": "display_data"
    }
   ],
   "source": [
    "from sklearn.linear_model import LogisticRegression\n",
    "from sklearn.datasets import load_iris\n",
    "from sklearn.model_selection import train_test_split\n",
    "\n",
    "classifier = LogisticRegression()\n",
    "parameters = {\"C\":[1e-4,1e-3,1e-2,1,10,1000], \"max_iter\":[500,1000,5000] }\n",
    "cv = 5\n",
    "best_log = hyperp_search(classifier,parameters,cv)\n",
    "print(best_log)\n",
    "\n",
    "# Finding the best features\n",
    "\n",
    "importance_log = pd.DataFrame()\n",
    "importance_log[\"feature\"]=X_train.columns\n",
    "importance_log[\"weight\"]=best_log.coef_[0].round(2)\n",
    "importance_log.sort_values(by=['weight'], inplace=True)\n",
    "\n",
    "# Plotting the features\n",
    "\n",
    "fig = px.bar(importance_log, x='feature', y='weight', color='feature', labels={'feature': 'Feature','weight': 'Weight'}, title='Coefficient Analysis for Logistic Regression', color_discrete_sequence=px.colors.sequential.Blues_r, text='weight')\n",
    "fig.update_layout(\n",
    "    xaxis=dict(tickangle=90, categoryorder='total descending'),\n",
    "    legend=dict(title='Feature')\n",
    ")"
   ]
  },
  {
   "cell_type": "markdown",
   "metadata": {},
   "source": [
    "# Decision Tree"
   ]
  },
  {
   "cell_type": "code",
   "execution_count": 155,
   "metadata": {},
   "outputs": [
    {
     "name": "stdout",
     "output_type": "stream",
     "text": [
      "f1_train: 0.745567 using {'criterion': 'gini', 'max_depth': 4, 'min_samples_leaf': 5, 'min_samples_split': 20} in 0.945 seconds\n",
      "           train    test \n",
      "-------------------------\n",
      "f1         0.810    0.703\n",
      "accuracy   0.786    0.684\n",
      "precision  0.765    0.689\n",
      "recall     0.860    0.718\n",
      "\n"
     ]
    },
    {
     "data": {
      "application/vnd.plotly.v1+json": {
       "config": {
        "plotlyServerURL": "https://plot.ly"
       },
       "data": [
        {
         "fillpattern": {
          "shape": ""
         },
         "hovertemplate": "False Positive Rate=%{x}<br>True Positive Rate=%{y}<extra></extra>",
         "legendgroup": "",
         "line": {
          "color": "#636efa"
         },
         "marker": {
          "symbol": "circle"
         },
         "mode": "lines",
         "name": "",
         "orientation": "v",
         "showlegend": false,
         "stackgroup": "1",
         "type": "scatter",
         "x": [
          0,
          0.35384615384615387,
          1
         ],
         "xaxis": "x",
         "y": [
          0,
          0.7183098591549296,
          1
         ],
         "yaxis": "y"
        }
       ],
       "layout": {
        "height": 500,
        "legend": {
         "tracegroupgap": 0
        },
        "shapes": [
         {
          "line": {
           "dash": "dash"
          },
          "type": "line",
          "x0": 0,
          "x1": 1,
          "y0": 0,
          "y1": 1
         }
        ],
        "template": {
         "data": {
          "bar": [
           {
            "error_x": {
             "color": "#2a3f5f"
            },
            "error_y": {
             "color": "#2a3f5f"
            },
            "marker": {
             "line": {
              "color": "#E5ECF6",
              "width": 0.5
             },
             "pattern": {
              "fillmode": "overlay",
              "size": 10,
              "solidity": 0.2
             }
            },
            "type": "bar"
           }
          ],
          "barpolar": [
           {
            "marker": {
             "line": {
              "color": "#E5ECF6",
              "width": 0.5
             },
             "pattern": {
              "fillmode": "overlay",
              "size": 10,
              "solidity": 0.2
             }
            },
            "type": "barpolar"
           }
          ],
          "carpet": [
           {
            "aaxis": {
             "endlinecolor": "#2a3f5f",
             "gridcolor": "white",
             "linecolor": "white",
             "minorgridcolor": "white",
             "startlinecolor": "#2a3f5f"
            },
            "baxis": {
             "endlinecolor": "#2a3f5f",
             "gridcolor": "white",
             "linecolor": "white",
             "minorgridcolor": "white",
             "startlinecolor": "#2a3f5f"
            },
            "type": "carpet"
           }
          ],
          "choropleth": [
           {
            "colorbar": {
             "outlinewidth": 0,
             "ticks": ""
            },
            "type": "choropleth"
           }
          ],
          "contour": [
           {
            "colorbar": {
             "outlinewidth": 0,
             "ticks": ""
            },
            "colorscale": [
             [
              0,
              "#0d0887"
             ],
             [
              0.1111111111111111,
              "#46039f"
             ],
             [
              0.2222222222222222,
              "#7201a8"
             ],
             [
              0.3333333333333333,
              "#9c179e"
             ],
             [
              0.4444444444444444,
              "#bd3786"
             ],
             [
              0.5555555555555556,
              "#d8576b"
             ],
             [
              0.6666666666666666,
              "#ed7953"
             ],
             [
              0.7777777777777778,
              "#fb9f3a"
             ],
             [
              0.8888888888888888,
              "#fdca26"
             ],
             [
              1,
              "#f0f921"
             ]
            ],
            "type": "contour"
           }
          ],
          "contourcarpet": [
           {
            "colorbar": {
             "outlinewidth": 0,
             "ticks": ""
            },
            "type": "contourcarpet"
           }
          ],
          "heatmap": [
           {
            "colorbar": {
             "outlinewidth": 0,
             "ticks": ""
            },
            "colorscale": [
             [
              0,
              "#0d0887"
             ],
             [
              0.1111111111111111,
              "#46039f"
             ],
             [
              0.2222222222222222,
              "#7201a8"
             ],
             [
              0.3333333333333333,
              "#9c179e"
             ],
             [
              0.4444444444444444,
              "#bd3786"
             ],
             [
              0.5555555555555556,
              "#d8576b"
             ],
             [
              0.6666666666666666,
              "#ed7953"
             ],
             [
              0.7777777777777778,
              "#fb9f3a"
             ],
             [
              0.8888888888888888,
              "#fdca26"
             ],
             [
              1,
              "#f0f921"
             ]
            ],
            "type": "heatmap"
           }
          ],
          "heatmapgl": [
           {
            "colorbar": {
             "outlinewidth": 0,
             "ticks": ""
            },
            "colorscale": [
             [
              0,
              "#0d0887"
             ],
             [
              0.1111111111111111,
              "#46039f"
             ],
             [
              0.2222222222222222,
              "#7201a8"
             ],
             [
              0.3333333333333333,
              "#9c179e"
             ],
             [
              0.4444444444444444,
              "#bd3786"
             ],
             [
              0.5555555555555556,
              "#d8576b"
             ],
             [
              0.6666666666666666,
              "#ed7953"
             ],
             [
              0.7777777777777778,
              "#fb9f3a"
             ],
             [
              0.8888888888888888,
              "#fdca26"
             ],
             [
              1,
              "#f0f921"
             ]
            ],
            "type": "heatmapgl"
           }
          ],
          "histogram": [
           {
            "marker": {
             "pattern": {
              "fillmode": "overlay",
              "size": 10,
              "solidity": 0.2
             }
            },
            "type": "histogram"
           }
          ],
          "histogram2d": [
           {
            "colorbar": {
             "outlinewidth": 0,
             "ticks": ""
            },
            "colorscale": [
             [
              0,
              "#0d0887"
             ],
             [
              0.1111111111111111,
              "#46039f"
             ],
             [
              0.2222222222222222,
              "#7201a8"
             ],
             [
              0.3333333333333333,
              "#9c179e"
             ],
             [
              0.4444444444444444,
              "#bd3786"
             ],
             [
              0.5555555555555556,
              "#d8576b"
             ],
             [
              0.6666666666666666,
              "#ed7953"
             ],
             [
              0.7777777777777778,
              "#fb9f3a"
             ],
             [
              0.8888888888888888,
              "#fdca26"
             ],
             [
              1,
              "#f0f921"
             ]
            ],
            "type": "histogram2d"
           }
          ],
          "histogram2dcontour": [
           {
            "colorbar": {
             "outlinewidth": 0,
             "ticks": ""
            },
            "colorscale": [
             [
              0,
              "#0d0887"
             ],
             [
              0.1111111111111111,
              "#46039f"
             ],
             [
              0.2222222222222222,
              "#7201a8"
             ],
             [
              0.3333333333333333,
              "#9c179e"
             ],
             [
              0.4444444444444444,
              "#bd3786"
             ],
             [
              0.5555555555555556,
              "#d8576b"
             ],
             [
              0.6666666666666666,
              "#ed7953"
             ],
             [
              0.7777777777777778,
              "#fb9f3a"
             ],
             [
              0.8888888888888888,
              "#fdca26"
             ],
             [
              1,
              "#f0f921"
             ]
            ],
            "type": "histogram2dcontour"
           }
          ],
          "mesh3d": [
           {
            "colorbar": {
             "outlinewidth": 0,
             "ticks": ""
            },
            "type": "mesh3d"
           }
          ],
          "parcoords": [
           {
            "line": {
             "colorbar": {
              "outlinewidth": 0,
              "ticks": ""
             }
            },
            "type": "parcoords"
           }
          ],
          "pie": [
           {
            "automargin": true,
            "type": "pie"
           }
          ],
          "scatter": [
           {
            "fillpattern": {
             "fillmode": "overlay",
             "size": 10,
             "solidity": 0.2
            },
            "type": "scatter"
           }
          ],
          "scatter3d": [
           {
            "line": {
             "colorbar": {
              "outlinewidth": 0,
              "ticks": ""
             }
            },
            "marker": {
             "colorbar": {
              "outlinewidth": 0,
              "ticks": ""
             }
            },
            "type": "scatter3d"
           }
          ],
          "scattercarpet": [
           {
            "marker": {
             "colorbar": {
              "outlinewidth": 0,
              "ticks": ""
             }
            },
            "type": "scattercarpet"
           }
          ],
          "scattergeo": [
           {
            "marker": {
             "colorbar": {
              "outlinewidth": 0,
              "ticks": ""
             }
            },
            "type": "scattergeo"
           }
          ],
          "scattergl": [
           {
            "marker": {
             "colorbar": {
              "outlinewidth": 0,
              "ticks": ""
             }
            },
            "type": "scattergl"
           }
          ],
          "scattermapbox": [
           {
            "marker": {
             "colorbar": {
              "outlinewidth": 0,
              "ticks": ""
             }
            },
            "type": "scattermapbox"
           }
          ],
          "scatterpolar": [
           {
            "marker": {
             "colorbar": {
              "outlinewidth": 0,
              "ticks": ""
             }
            },
            "type": "scatterpolar"
           }
          ],
          "scatterpolargl": [
           {
            "marker": {
             "colorbar": {
              "outlinewidth": 0,
              "ticks": ""
             }
            },
            "type": "scatterpolargl"
           }
          ],
          "scatterternary": [
           {
            "marker": {
             "colorbar": {
              "outlinewidth": 0,
              "ticks": ""
             }
            },
            "type": "scatterternary"
           }
          ],
          "surface": [
           {
            "colorbar": {
             "outlinewidth": 0,
             "ticks": ""
            },
            "colorscale": [
             [
              0,
              "#0d0887"
             ],
             [
              0.1111111111111111,
              "#46039f"
             ],
             [
              0.2222222222222222,
              "#7201a8"
             ],
             [
              0.3333333333333333,
              "#9c179e"
             ],
             [
              0.4444444444444444,
              "#bd3786"
             ],
             [
              0.5555555555555556,
              "#d8576b"
             ],
             [
              0.6666666666666666,
              "#ed7953"
             ],
             [
              0.7777777777777778,
              "#fb9f3a"
             ],
             [
              0.8888888888888888,
              "#fdca26"
             ],
             [
              1,
              "#f0f921"
             ]
            ],
            "type": "surface"
           }
          ],
          "table": [
           {
            "cells": {
             "fill": {
              "color": "#EBF0F8"
             },
             "line": {
              "color": "white"
             }
            },
            "header": {
             "fill": {
              "color": "#C8D4E3"
             },
             "line": {
              "color": "white"
             }
            },
            "type": "table"
           }
          ]
         },
         "layout": {
          "annotationdefaults": {
           "arrowcolor": "#2a3f5f",
           "arrowhead": 0,
           "arrowwidth": 1
          },
          "autotypenumbers": "strict",
          "coloraxis": {
           "colorbar": {
            "outlinewidth": 0,
            "ticks": ""
           }
          },
          "colorscale": {
           "diverging": [
            [
             0,
             "#8e0152"
            ],
            [
             0.1,
             "#c51b7d"
            ],
            [
             0.2,
             "#de77ae"
            ],
            [
             0.3,
             "#f1b6da"
            ],
            [
             0.4,
             "#fde0ef"
            ],
            [
             0.5,
             "#f7f7f7"
            ],
            [
             0.6,
             "#e6f5d0"
            ],
            [
             0.7,
             "#b8e186"
            ],
            [
             0.8,
             "#7fbc41"
            ],
            [
             0.9,
             "#4d9221"
            ],
            [
             1,
             "#276419"
            ]
           ],
           "sequential": [
            [
             0,
             "#0d0887"
            ],
            [
             0.1111111111111111,
             "#46039f"
            ],
            [
             0.2222222222222222,
             "#7201a8"
            ],
            [
             0.3333333333333333,
             "#9c179e"
            ],
            [
             0.4444444444444444,
             "#bd3786"
            ],
            [
             0.5555555555555556,
             "#d8576b"
            ],
            [
             0.6666666666666666,
             "#ed7953"
            ],
            [
             0.7777777777777778,
             "#fb9f3a"
            ],
            [
             0.8888888888888888,
             "#fdca26"
            ],
            [
             1,
             "#f0f921"
            ]
           ],
           "sequentialminus": [
            [
             0,
             "#0d0887"
            ],
            [
             0.1111111111111111,
             "#46039f"
            ],
            [
             0.2222222222222222,
             "#7201a8"
            ],
            [
             0.3333333333333333,
             "#9c179e"
            ],
            [
             0.4444444444444444,
             "#bd3786"
            ],
            [
             0.5555555555555556,
             "#d8576b"
            ],
            [
             0.6666666666666666,
             "#ed7953"
            ],
            [
             0.7777777777777778,
             "#fb9f3a"
            ],
            [
             0.8888888888888888,
             "#fdca26"
            ],
            [
             1,
             "#f0f921"
            ]
           ]
          },
          "colorway": [
           "#636efa",
           "#EF553B",
           "#00cc96",
           "#ab63fa",
           "#FFA15A",
           "#19d3f3",
           "#FF6692",
           "#B6E880",
           "#FF97FF",
           "#FECB52"
          ],
          "font": {
           "color": "#2a3f5f"
          },
          "geo": {
           "bgcolor": "white",
           "lakecolor": "white",
           "landcolor": "#E5ECF6",
           "showlakes": true,
           "showland": true,
           "subunitcolor": "white"
          },
          "hoverlabel": {
           "align": "left"
          },
          "hovermode": "closest",
          "mapbox": {
           "style": "light"
          },
          "paper_bgcolor": "white",
          "plot_bgcolor": "#E5ECF6",
          "polar": {
           "angularaxis": {
            "gridcolor": "white",
            "linecolor": "white",
            "ticks": ""
           },
           "bgcolor": "#E5ECF6",
           "radialaxis": {
            "gridcolor": "white",
            "linecolor": "white",
            "ticks": ""
           }
          },
          "scene": {
           "xaxis": {
            "backgroundcolor": "#E5ECF6",
            "gridcolor": "white",
            "gridwidth": 2,
            "linecolor": "white",
            "showbackground": true,
            "ticks": "",
            "zerolinecolor": "white"
           },
           "yaxis": {
            "backgroundcolor": "#E5ECF6",
            "gridcolor": "white",
            "gridwidth": 2,
            "linecolor": "white",
            "showbackground": true,
            "ticks": "",
            "zerolinecolor": "white"
           },
           "zaxis": {
            "backgroundcolor": "#E5ECF6",
            "gridcolor": "white",
            "gridwidth": 2,
            "linecolor": "white",
            "showbackground": true,
            "ticks": "",
            "zerolinecolor": "white"
           }
          },
          "shapedefaults": {
           "line": {
            "color": "#2a3f5f"
           }
          },
          "ternary": {
           "aaxis": {
            "gridcolor": "white",
            "linecolor": "white",
            "ticks": ""
           },
           "baxis": {
            "gridcolor": "white",
            "linecolor": "white",
            "ticks": ""
           },
           "bgcolor": "#E5ECF6",
           "caxis": {
            "gridcolor": "white",
            "linecolor": "white",
            "ticks": ""
           }
          },
          "title": {
           "x": 0.05
          },
          "xaxis": {
           "automargin": true,
           "gridcolor": "white",
           "linecolor": "white",
           "ticks": "",
           "title": {
            "standoff": 15
           },
           "zerolinecolor": "white",
           "zerolinewidth": 2
          },
          "yaxis": {
           "automargin": true,
           "gridcolor": "white",
           "linecolor": "white",
           "ticks": "",
           "title": {
            "standoff": 15
           },
           "zerolinecolor": "white",
           "zerolinewidth": 2
          }
         }
        },
        "title": {
         "text": "ROC Curve (AUC=0.6822)"
        },
        "width": 700,
        "xaxis": {
         "anchor": "y",
         "domain": [
          0,
          1
         ],
         "title": {
          "text": "False Positive Rate"
         }
        },
        "yaxis": {
         "anchor": "x",
         "domain": [
          0,
          1
         ],
         "title": {
          "text": "True Positive Rate"
         }
        }
       }
      }
     },
     "metadata": {},
     "output_type": "display_data"
    },
    {
     "data": {
      "application/vnd.plotly.v1+json": {
       "config": {
        "plotlyServerURL": "https://plot.ly"
       },
       "data": [
        {
         "coloraxis": "coloraxis",
         "hovertemplate": "Predicted Label: %{x}<br>True Label: %{y}<br>Count: %{z}<extra></extra>",
         "name": "0",
         "texttemplate": "%{z}",
         "type": "heatmap",
         "x": [
          "Predicted 0",
          "Predicted 1"
         ],
         "xaxis": "x",
         "y": [
          "Actual 0",
          "Actual 1"
         ],
         "yaxis": "y",
         "z": [
          [
           84,
           46
          ],
          [
           40,
           102
          ]
         ]
        }
       ],
       "layout": {
        "coloraxis": {
         "colorbar": {
          "title": {
           "text": "Count"
          }
         },
         "colorscale": [
          [
           0,
           "rgb(255,247,251)"
          ],
          [
           0.125,
           "rgb(236,231,242)"
          ],
          [
           0.25,
           "rgb(208,209,230)"
          ],
          [
           0.375,
           "rgb(166,189,219)"
          ],
          [
           0.5,
           "rgb(116,169,207)"
          ],
          [
           0.625,
           "rgb(54,144,192)"
          ],
          [
           0.75,
           "rgb(5,112,176)"
          ],
          [
           0.875,
           "rgb(4,90,141)"
          ],
          [
           1,
           "rgb(2,56,88)"
          ]
         ]
        },
        "height": 500,
        "template": {
         "data": {
          "bar": [
           {
            "error_x": {
             "color": "#2a3f5f"
            },
            "error_y": {
             "color": "#2a3f5f"
            },
            "marker": {
             "line": {
              "color": "#E5ECF6",
              "width": 0.5
             },
             "pattern": {
              "fillmode": "overlay",
              "size": 10,
              "solidity": 0.2
             }
            },
            "type": "bar"
           }
          ],
          "barpolar": [
           {
            "marker": {
             "line": {
              "color": "#E5ECF6",
              "width": 0.5
             },
             "pattern": {
              "fillmode": "overlay",
              "size": 10,
              "solidity": 0.2
             }
            },
            "type": "barpolar"
           }
          ],
          "carpet": [
           {
            "aaxis": {
             "endlinecolor": "#2a3f5f",
             "gridcolor": "white",
             "linecolor": "white",
             "minorgridcolor": "white",
             "startlinecolor": "#2a3f5f"
            },
            "baxis": {
             "endlinecolor": "#2a3f5f",
             "gridcolor": "white",
             "linecolor": "white",
             "minorgridcolor": "white",
             "startlinecolor": "#2a3f5f"
            },
            "type": "carpet"
           }
          ],
          "choropleth": [
           {
            "colorbar": {
             "outlinewidth": 0,
             "ticks": ""
            },
            "type": "choropleth"
           }
          ],
          "contour": [
           {
            "colorbar": {
             "outlinewidth": 0,
             "ticks": ""
            },
            "colorscale": [
             [
              0,
              "#0d0887"
             ],
             [
              0.1111111111111111,
              "#46039f"
             ],
             [
              0.2222222222222222,
              "#7201a8"
             ],
             [
              0.3333333333333333,
              "#9c179e"
             ],
             [
              0.4444444444444444,
              "#bd3786"
             ],
             [
              0.5555555555555556,
              "#d8576b"
             ],
             [
              0.6666666666666666,
              "#ed7953"
             ],
             [
              0.7777777777777778,
              "#fb9f3a"
             ],
             [
              0.8888888888888888,
              "#fdca26"
             ],
             [
              1,
              "#f0f921"
             ]
            ],
            "type": "contour"
           }
          ],
          "contourcarpet": [
           {
            "colorbar": {
             "outlinewidth": 0,
             "ticks": ""
            },
            "type": "contourcarpet"
           }
          ],
          "heatmap": [
           {
            "colorbar": {
             "outlinewidth": 0,
             "ticks": ""
            },
            "colorscale": [
             [
              0,
              "#0d0887"
             ],
             [
              0.1111111111111111,
              "#46039f"
             ],
             [
              0.2222222222222222,
              "#7201a8"
             ],
             [
              0.3333333333333333,
              "#9c179e"
             ],
             [
              0.4444444444444444,
              "#bd3786"
             ],
             [
              0.5555555555555556,
              "#d8576b"
             ],
             [
              0.6666666666666666,
              "#ed7953"
             ],
             [
              0.7777777777777778,
              "#fb9f3a"
             ],
             [
              0.8888888888888888,
              "#fdca26"
             ],
             [
              1,
              "#f0f921"
             ]
            ],
            "type": "heatmap"
           }
          ],
          "heatmapgl": [
           {
            "colorbar": {
             "outlinewidth": 0,
             "ticks": ""
            },
            "colorscale": [
             [
              0,
              "#0d0887"
             ],
             [
              0.1111111111111111,
              "#46039f"
             ],
             [
              0.2222222222222222,
              "#7201a8"
             ],
             [
              0.3333333333333333,
              "#9c179e"
             ],
             [
              0.4444444444444444,
              "#bd3786"
             ],
             [
              0.5555555555555556,
              "#d8576b"
             ],
             [
              0.6666666666666666,
              "#ed7953"
             ],
             [
              0.7777777777777778,
              "#fb9f3a"
             ],
             [
              0.8888888888888888,
              "#fdca26"
             ],
             [
              1,
              "#f0f921"
             ]
            ],
            "type": "heatmapgl"
           }
          ],
          "histogram": [
           {
            "marker": {
             "pattern": {
              "fillmode": "overlay",
              "size": 10,
              "solidity": 0.2
             }
            },
            "type": "histogram"
           }
          ],
          "histogram2d": [
           {
            "colorbar": {
             "outlinewidth": 0,
             "ticks": ""
            },
            "colorscale": [
             [
              0,
              "#0d0887"
             ],
             [
              0.1111111111111111,
              "#46039f"
             ],
             [
              0.2222222222222222,
              "#7201a8"
             ],
             [
              0.3333333333333333,
              "#9c179e"
             ],
             [
              0.4444444444444444,
              "#bd3786"
             ],
             [
              0.5555555555555556,
              "#d8576b"
             ],
             [
              0.6666666666666666,
              "#ed7953"
             ],
             [
              0.7777777777777778,
              "#fb9f3a"
             ],
             [
              0.8888888888888888,
              "#fdca26"
             ],
             [
              1,
              "#f0f921"
             ]
            ],
            "type": "histogram2d"
           }
          ],
          "histogram2dcontour": [
           {
            "colorbar": {
             "outlinewidth": 0,
             "ticks": ""
            },
            "colorscale": [
             [
              0,
              "#0d0887"
             ],
             [
              0.1111111111111111,
              "#46039f"
             ],
             [
              0.2222222222222222,
              "#7201a8"
             ],
             [
              0.3333333333333333,
              "#9c179e"
             ],
             [
              0.4444444444444444,
              "#bd3786"
             ],
             [
              0.5555555555555556,
              "#d8576b"
             ],
             [
              0.6666666666666666,
              "#ed7953"
             ],
             [
              0.7777777777777778,
              "#fb9f3a"
             ],
             [
              0.8888888888888888,
              "#fdca26"
             ],
             [
              1,
              "#f0f921"
             ]
            ],
            "type": "histogram2dcontour"
           }
          ],
          "mesh3d": [
           {
            "colorbar": {
             "outlinewidth": 0,
             "ticks": ""
            },
            "type": "mesh3d"
           }
          ],
          "parcoords": [
           {
            "line": {
             "colorbar": {
              "outlinewidth": 0,
              "ticks": ""
             }
            },
            "type": "parcoords"
           }
          ],
          "pie": [
           {
            "automargin": true,
            "type": "pie"
           }
          ],
          "scatter": [
           {
            "fillpattern": {
             "fillmode": "overlay",
             "size": 10,
             "solidity": 0.2
            },
            "type": "scatter"
           }
          ],
          "scatter3d": [
           {
            "line": {
             "colorbar": {
              "outlinewidth": 0,
              "ticks": ""
             }
            },
            "marker": {
             "colorbar": {
              "outlinewidth": 0,
              "ticks": ""
             }
            },
            "type": "scatter3d"
           }
          ],
          "scattercarpet": [
           {
            "marker": {
             "colorbar": {
              "outlinewidth": 0,
              "ticks": ""
             }
            },
            "type": "scattercarpet"
           }
          ],
          "scattergeo": [
           {
            "marker": {
             "colorbar": {
              "outlinewidth": 0,
              "ticks": ""
             }
            },
            "type": "scattergeo"
           }
          ],
          "scattergl": [
           {
            "marker": {
             "colorbar": {
              "outlinewidth": 0,
              "ticks": ""
             }
            },
            "type": "scattergl"
           }
          ],
          "scattermapbox": [
           {
            "marker": {
             "colorbar": {
              "outlinewidth": 0,
              "ticks": ""
             }
            },
            "type": "scattermapbox"
           }
          ],
          "scatterpolar": [
           {
            "marker": {
             "colorbar": {
              "outlinewidth": 0,
              "ticks": ""
             }
            },
            "type": "scatterpolar"
           }
          ],
          "scatterpolargl": [
           {
            "marker": {
             "colorbar": {
              "outlinewidth": 0,
              "ticks": ""
             }
            },
            "type": "scatterpolargl"
           }
          ],
          "scatterternary": [
           {
            "marker": {
             "colorbar": {
              "outlinewidth": 0,
              "ticks": ""
             }
            },
            "type": "scatterternary"
           }
          ],
          "surface": [
           {
            "colorbar": {
             "outlinewidth": 0,
             "ticks": ""
            },
            "colorscale": [
             [
              0,
              "#0d0887"
             ],
             [
              0.1111111111111111,
              "#46039f"
             ],
             [
              0.2222222222222222,
              "#7201a8"
             ],
             [
              0.3333333333333333,
              "#9c179e"
             ],
             [
              0.4444444444444444,
              "#bd3786"
             ],
             [
              0.5555555555555556,
              "#d8576b"
             ],
             [
              0.6666666666666666,
              "#ed7953"
             ],
             [
              0.7777777777777778,
              "#fb9f3a"
             ],
             [
              0.8888888888888888,
              "#fdca26"
             ],
             [
              1,
              "#f0f921"
             ]
            ],
            "type": "surface"
           }
          ],
          "table": [
           {
            "cells": {
             "fill": {
              "color": "#EBF0F8"
             },
             "line": {
              "color": "white"
             }
            },
            "header": {
             "fill": {
              "color": "#C8D4E3"
             },
             "line": {
              "color": "white"
             }
            },
            "type": "table"
           }
          ]
         },
         "layout": {
          "annotationdefaults": {
           "arrowcolor": "#2a3f5f",
           "arrowhead": 0,
           "arrowwidth": 1
          },
          "autotypenumbers": "strict",
          "coloraxis": {
           "colorbar": {
            "outlinewidth": 0,
            "ticks": ""
           }
          },
          "colorscale": {
           "diverging": [
            [
             0,
             "#8e0152"
            ],
            [
             0.1,
             "#c51b7d"
            ],
            [
             0.2,
             "#de77ae"
            ],
            [
             0.3,
             "#f1b6da"
            ],
            [
             0.4,
             "#fde0ef"
            ],
            [
             0.5,
             "#f7f7f7"
            ],
            [
             0.6,
             "#e6f5d0"
            ],
            [
             0.7,
             "#b8e186"
            ],
            [
             0.8,
             "#7fbc41"
            ],
            [
             0.9,
             "#4d9221"
            ],
            [
             1,
             "#276419"
            ]
           ],
           "sequential": [
            [
             0,
             "#0d0887"
            ],
            [
             0.1111111111111111,
             "#46039f"
            ],
            [
             0.2222222222222222,
             "#7201a8"
            ],
            [
             0.3333333333333333,
             "#9c179e"
            ],
            [
             0.4444444444444444,
             "#bd3786"
            ],
            [
             0.5555555555555556,
             "#d8576b"
            ],
            [
             0.6666666666666666,
             "#ed7953"
            ],
            [
             0.7777777777777778,
             "#fb9f3a"
            ],
            [
             0.8888888888888888,
             "#fdca26"
            ],
            [
             1,
             "#f0f921"
            ]
           ],
           "sequentialminus": [
            [
             0,
             "#0d0887"
            ],
            [
             0.1111111111111111,
             "#46039f"
            ],
            [
             0.2222222222222222,
             "#7201a8"
            ],
            [
             0.3333333333333333,
             "#9c179e"
            ],
            [
             0.4444444444444444,
             "#bd3786"
            ],
            [
             0.5555555555555556,
             "#d8576b"
            ],
            [
             0.6666666666666666,
             "#ed7953"
            ],
            [
             0.7777777777777778,
             "#fb9f3a"
            ],
            [
             0.8888888888888888,
             "#fdca26"
            ],
            [
             1,
             "#f0f921"
            ]
           ]
          },
          "colorway": [
           "#636efa",
           "#EF553B",
           "#00cc96",
           "#ab63fa",
           "#FFA15A",
           "#19d3f3",
           "#FF6692",
           "#B6E880",
           "#FF97FF",
           "#FECB52"
          ],
          "font": {
           "color": "#2a3f5f"
          },
          "geo": {
           "bgcolor": "white",
           "lakecolor": "white",
           "landcolor": "#E5ECF6",
           "showlakes": true,
           "showland": true,
           "subunitcolor": "white"
          },
          "hoverlabel": {
           "align": "left"
          },
          "hovermode": "closest",
          "mapbox": {
           "style": "light"
          },
          "paper_bgcolor": "white",
          "plot_bgcolor": "#E5ECF6",
          "polar": {
           "angularaxis": {
            "gridcolor": "white",
            "linecolor": "white",
            "ticks": ""
           },
           "bgcolor": "#E5ECF6",
           "radialaxis": {
            "gridcolor": "white",
            "linecolor": "white",
            "ticks": ""
           }
          },
          "scene": {
           "xaxis": {
            "backgroundcolor": "#E5ECF6",
            "gridcolor": "white",
            "gridwidth": 2,
            "linecolor": "white",
            "showbackground": true,
            "ticks": "",
            "zerolinecolor": "white"
           },
           "yaxis": {
            "backgroundcolor": "#E5ECF6",
            "gridcolor": "white",
            "gridwidth": 2,
            "linecolor": "white",
            "showbackground": true,
            "ticks": "",
            "zerolinecolor": "white"
           },
           "zaxis": {
            "backgroundcolor": "#E5ECF6",
            "gridcolor": "white",
            "gridwidth": 2,
            "linecolor": "white",
            "showbackground": true,
            "ticks": "",
            "zerolinecolor": "white"
           }
          },
          "shapedefaults": {
           "line": {
            "color": "#2a3f5f"
           }
          },
          "ternary": {
           "aaxis": {
            "gridcolor": "white",
            "linecolor": "white",
            "ticks": ""
           },
           "baxis": {
            "gridcolor": "white",
            "linecolor": "white",
            "ticks": ""
           },
           "bgcolor": "#E5ECF6",
           "caxis": {
            "gridcolor": "white",
            "linecolor": "white",
            "ticks": ""
           }
          },
          "title": {
           "x": 0.05
          },
          "xaxis": {
           "automargin": true,
           "gridcolor": "white",
           "linecolor": "white",
           "ticks": "",
           "title": {
            "standoff": 15
           },
           "zerolinecolor": "white",
           "zerolinewidth": 2
          },
          "yaxis": {
           "automargin": true,
           "gridcolor": "white",
           "linecolor": "white",
           "ticks": "",
           "title": {
            "standoff": 15
           },
           "zerolinecolor": "white",
           "zerolinewidth": 2
          }
         }
        },
        "title": {
         "text": "Confusion Matrix"
        },
        "width": 700,
        "xaxis": {
         "anchor": "y",
         "constrain": "domain",
         "domain": [
          0,
          1
         ],
         "scaleanchor": "y",
         "title": {
          "text": "Predicted Label"
         }
        },
        "yaxis": {
         "anchor": "x",
         "autorange": "reversed",
         "constrain": "domain",
         "domain": [
          0,
          1
         ],
         "title": {
          "text": "True Label"
         }
        }
       }
      }
     },
     "metadata": {},
     "output_type": "display_data"
    },
    {
     "name": "stdout",
     "output_type": "stream",
     "text": [
      "-------------------------------\n",
      "The most valuable features are: \n",
      "-------------------------------\n",
      "|--- alcohol <= 0.28\n",
      "|   |--- sulphates <= 0.15\n",
      "|   |   |--- density <= 0.52\n",
      "|   |   |   |--- truncated branch of depth 2\n",
      "|   |   |--- density >  0.52\n",
      "|   |   |   |--- truncated branch of depth 2\n",
      "|   |--- sulphates >  0.15\n",
      "|   |   |--- total sulfur dioxide <= 0.36\n",
      "|   |   |   |--- truncated branch of depth 2\n",
      "|   |   |--- total sulfur dioxide >  0.36\n",
      "|   |   |   |--- truncated branch of depth 2\n",
      "|--- alcohol >  0.28\n",
      "|   |--- alcohol <= 0.50\n",
      "|   |   |--- sulphates <= 0.15\n",
      "|   |   |   |--- truncated branch of depth 2\n",
      "|   |   |--- sulphates >  0.15\n",
      "|   |   |   |--- truncated branch of depth 2\n",
      "|   |--- alcohol >  0.50\n",
      "|   |   |--- volatile acidity <= 0.45\n",
      "|   |   |   |--- truncated branch of depth 2\n",
      "|   |   |--- volatile acidity >  0.45\n",
      "|   |   |   |--- truncated branch of depth 2\n",
      "\n"
     ]
    }
   ],
   "source": [
    "from sklearn import tree\n",
    "\n",
    "classifier = DecisionTreeClassifier()\n",
    "parameters = {'criterion': ['entropy','gini'],\n",
    "              'max_depth': [4,5,6,8,10,12],\n",
    "              'min_samples_split': [5,10,20],\n",
    "              'min_samples_leaf': [5,10,20]}\n",
    "cv = 5\n",
    "best_tree = hyperp_search(classifier,parameters,cv)\n",
    "\n",
    "# Finding the best feature\n",
    "\n",
    "importance_tree = tree.export_text(best_tree,\n",
    "                                   feature_names=X_test.columns.tolist(),\n",
    "                                   max_depth=2)\n",
    "\n",
    "print(\"-------------------------------\")\n",
    "print(\"The most valuable features are: \")\n",
    "print(\"-------------------------------\")\n",
    "print(importance_tree)"
   ]
  },
  {
   "cell_type": "markdown",
   "metadata": {},
   "source": [
    "# Random Forest Classifier"
   ]
  },
  {
   "cell_type": "code",
   "execution_count": 156,
   "metadata": {},
   "outputs": [
    {
     "name": "stdout",
     "output_type": "stream",
     "text": [
      "f1_train: 0.766598 using {'n_estimators': 50, 'min_samples_leaf': 100, 'max_depth': 2, 'criterion': 'entropy'} in 6.033 seconds\n",
      "[0 0 0 ... 1 1 1]\n",
      "           train    test \n",
      "-------------------------\n",
      "f1         0.788    0.723\n",
      "accuracy   0.767    0.713\n",
      "precision  0.762    0.729\n",
      "recall     0.816    0.718\n",
      "\n"
     ]
    },
    {
     "data": {
      "application/vnd.plotly.v1+json": {
       "config": {
        "plotlyServerURL": "https://plot.ly"
       },
       "data": [
        {
         "fillpattern": {
          "shape": ""
         },
         "hovertemplate": "False Positive Rate=%{x}<br>True Positive Rate=%{y}<extra></extra>",
         "legendgroup": "",
         "line": {
          "color": "#636efa"
         },
         "marker": {
          "symbol": "circle"
         },
         "mode": "lines",
         "name": "",
         "orientation": "v",
         "showlegend": false,
         "stackgroup": "1",
         "type": "scatter",
         "x": [
          0,
          0.2923076923076923,
          1
         ],
         "xaxis": "x",
         "y": [
          0,
          0.7183098591549296,
          1
         ],
         "yaxis": "y"
        }
       ],
       "layout": {
        "height": 500,
        "legend": {
         "tracegroupgap": 0
        },
        "shapes": [
         {
          "line": {
           "dash": "dash"
          },
          "type": "line",
          "x0": 0,
          "x1": 1,
          "y0": 0,
          "y1": 1
         }
        ],
        "template": {
         "data": {
          "bar": [
           {
            "error_x": {
             "color": "#2a3f5f"
            },
            "error_y": {
             "color": "#2a3f5f"
            },
            "marker": {
             "line": {
              "color": "#E5ECF6",
              "width": 0.5
             },
             "pattern": {
              "fillmode": "overlay",
              "size": 10,
              "solidity": 0.2
             }
            },
            "type": "bar"
           }
          ],
          "barpolar": [
           {
            "marker": {
             "line": {
              "color": "#E5ECF6",
              "width": 0.5
             },
             "pattern": {
              "fillmode": "overlay",
              "size": 10,
              "solidity": 0.2
             }
            },
            "type": "barpolar"
           }
          ],
          "carpet": [
           {
            "aaxis": {
             "endlinecolor": "#2a3f5f",
             "gridcolor": "white",
             "linecolor": "white",
             "minorgridcolor": "white",
             "startlinecolor": "#2a3f5f"
            },
            "baxis": {
             "endlinecolor": "#2a3f5f",
             "gridcolor": "white",
             "linecolor": "white",
             "minorgridcolor": "white",
             "startlinecolor": "#2a3f5f"
            },
            "type": "carpet"
           }
          ],
          "choropleth": [
           {
            "colorbar": {
             "outlinewidth": 0,
             "ticks": ""
            },
            "type": "choropleth"
           }
          ],
          "contour": [
           {
            "colorbar": {
             "outlinewidth": 0,
             "ticks": ""
            },
            "colorscale": [
             [
              0,
              "#0d0887"
             ],
             [
              0.1111111111111111,
              "#46039f"
             ],
             [
              0.2222222222222222,
              "#7201a8"
             ],
             [
              0.3333333333333333,
              "#9c179e"
             ],
             [
              0.4444444444444444,
              "#bd3786"
             ],
             [
              0.5555555555555556,
              "#d8576b"
             ],
             [
              0.6666666666666666,
              "#ed7953"
             ],
             [
              0.7777777777777778,
              "#fb9f3a"
             ],
             [
              0.8888888888888888,
              "#fdca26"
             ],
             [
              1,
              "#f0f921"
             ]
            ],
            "type": "contour"
           }
          ],
          "contourcarpet": [
           {
            "colorbar": {
             "outlinewidth": 0,
             "ticks": ""
            },
            "type": "contourcarpet"
           }
          ],
          "heatmap": [
           {
            "colorbar": {
             "outlinewidth": 0,
             "ticks": ""
            },
            "colorscale": [
             [
              0,
              "#0d0887"
             ],
             [
              0.1111111111111111,
              "#46039f"
             ],
             [
              0.2222222222222222,
              "#7201a8"
             ],
             [
              0.3333333333333333,
              "#9c179e"
             ],
             [
              0.4444444444444444,
              "#bd3786"
             ],
             [
              0.5555555555555556,
              "#d8576b"
             ],
             [
              0.6666666666666666,
              "#ed7953"
             ],
             [
              0.7777777777777778,
              "#fb9f3a"
             ],
             [
              0.8888888888888888,
              "#fdca26"
             ],
             [
              1,
              "#f0f921"
             ]
            ],
            "type": "heatmap"
           }
          ],
          "heatmapgl": [
           {
            "colorbar": {
             "outlinewidth": 0,
             "ticks": ""
            },
            "colorscale": [
             [
              0,
              "#0d0887"
             ],
             [
              0.1111111111111111,
              "#46039f"
             ],
             [
              0.2222222222222222,
              "#7201a8"
             ],
             [
              0.3333333333333333,
              "#9c179e"
             ],
             [
              0.4444444444444444,
              "#bd3786"
             ],
             [
              0.5555555555555556,
              "#d8576b"
             ],
             [
              0.6666666666666666,
              "#ed7953"
             ],
             [
              0.7777777777777778,
              "#fb9f3a"
             ],
             [
              0.8888888888888888,
              "#fdca26"
             ],
             [
              1,
              "#f0f921"
             ]
            ],
            "type": "heatmapgl"
           }
          ],
          "histogram": [
           {
            "marker": {
             "pattern": {
              "fillmode": "overlay",
              "size": 10,
              "solidity": 0.2
             }
            },
            "type": "histogram"
           }
          ],
          "histogram2d": [
           {
            "colorbar": {
             "outlinewidth": 0,
             "ticks": ""
            },
            "colorscale": [
             [
              0,
              "#0d0887"
             ],
             [
              0.1111111111111111,
              "#46039f"
             ],
             [
              0.2222222222222222,
              "#7201a8"
             ],
             [
              0.3333333333333333,
              "#9c179e"
             ],
             [
              0.4444444444444444,
              "#bd3786"
             ],
             [
              0.5555555555555556,
              "#d8576b"
             ],
             [
              0.6666666666666666,
              "#ed7953"
             ],
             [
              0.7777777777777778,
              "#fb9f3a"
             ],
             [
              0.8888888888888888,
              "#fdca26"
             ],
             [
              1,
              "#f0f921"
             ]
            ],
            "type": "histogram2d"
           }
          ],
          "histogram2dcontour": [
           {
            "colorbar": {
             "outlinewidth": 0,
             "ticks": ""
            },
            "colorscale": [
             [
              0,
              "#0d0887"
             ],
             [
              0.1111111111111111,
              "#46039f"
             ],
             [
              0.2222222222222222,
              "#7201a8"
             ],
             [
              0.3333333333333333,
              "#9c179e"
             ],
             [
              0.4444444444444444,
              "#bd3786"
             ],
             [
              0.5555555555555556,
              "#d8576b"
             ],
             [
              0.6666666666666666,
              "#ed7953"
             ],
             [
              0.7777777777777778,
              "#fb9f3a"
             ],
             [
              0.8888888888888888,
              "#fdca26"
             ],
             [
              1,
              "#f0f921"
             ]
            ],
            "type": "histogram2dcontour"
           }
          ],
          "mesh3d": [
           {
            "colorbar": {
             "outlinewidth": 0,
             "ticks": ""
            },
            "type": "mesh3d"
           }
          ],
          "parcoords": [
           {
            "line": {
             "colorbar": {
              "outlinewidth": 0,
              "ticks": ""
             }
            },
            "type": "parcoords"
           }
          ],
          "pie": [
           {
            "automargin": true,
            "type": "pie"
           }
          ],
          "scatter": [
           {
            "fillpattern": {
             "fillmode": "overlay",
             "size": 10,
             "solidity": 0.2
            },
            "type": "scatter"
           }
          ],
          "scatter3d": [
           {
            "line": {
             "colorbar": {
              "outlinewidth": 0,
              "ticks": ""
             }
            },
            "marker": {
             "colorbar": {
              "outlinewidth": 0,
              "ticks": ""
             }
            },
            "type": "scatter3d"
           }
          ],
          "scattercarpet": [
           {
            "marker": {
             "colorbar": {
              "outlinewidth": 0,
              "ticks": ""
             }
            },
            "type": "scattercarpet"
           }
          ],
          "scattergeo": [
           {
            "marker": {
             "colorbar": {
              "outlinewidth": 0,
              "ticks": ""
             }
            },
            "type": "scattergeo"
           }
          ],
          "scattergl": [
           {
            "marker": {
             "colorbar": {
              "outlinewidth": 0,
              "ticks": ""
             }
            },
            "type": "scattergl"
           }
          ],
          "scattermapbox": [
           {
            "marker": {
             "colorbar": {
              "outlinewidth": 0,
              "ticks": ""
             }
            },
            "type": "scattermapbox"
           }
          ],
          "scatterpolar": [
           {
            "marker": {
             "colorbar": {
              "outlinewidth": 0,
              "ticks": ""
             }
            },
            "type": "scatterpolar"
           }
          ],
          "scatterpolargl": [
           {
            "marker": {
             "colorbar": {
              "outlinewidth": 0,
              "ticks": ""
             }
            },
            "type": "scatterpolargl"
           }
          ],
          "scatterternary": [
           {
            "marker": {
             "colorbar": {
              "outlinewidth": 0,
              "ticks": ""
             }
            },
            "type": "scatterternary"
           }
          ],
          "surface": [
           {
            "colorbar": {
             "outlinewidth": 0,
             "ticks": ""
            },
            "colorscale": [
             [
              0,
              "#0d0887"
             ],
             [
              0.1111111111111111,
              "#46039f"
             ],
             [
              0.2222222222222222,
              "#7201a8"
             ],
             [
              0.3333333333333333,
              "#9c179e"
             ],
             [
              0.4444444444444444,
              "#bd3786"
             ],
             [
              0.5555555555555556,
              "#d8576b"
             ],
             [
              0.6666666666666666,
              "#ed7953"
             ],
             [
              0.7777777777777778,
              "#fb9f3a"
             ],
             [
              0.8888888888888888,
              "#fdca26"
             ],
             [
              1,
              "#f0f921"
             ]
            ],
            "type": "surface"
           }
          ],
          "table": [
           {
            "cells": {
             "fill": {
              "color": "#EBF0F8"
             },
             "line": {
              "color": "white"
             }
            },
            "header": {
             "fill": {
              "color": "#C8D4E3"
             },
             "line": {
              "color": "white"
             }
            },
            "type": "table"
           }
          ]
         },
         "layout": {
          "annotationdefaults": {
           "arrowcolor": "#2a3f5f",
           "arrowhead": 0,
           "arrowwidth": 1
          },
          "autotypenumbers": "strict",
          "coloraxis": {
           "colorbar": {
            "outlinewidth": 0,
            "ticks": ""
           }
          },
          "colorscale": {
           "diverging": [
            [
             0,
             "#8e0152"
            ],
            [
             0.1,
             "#c51b7d"
            ],
            [
             0.2,
             "#de77ae"
            ],
            [
             0.3,
             "#f1b6da"
            ],
            [
             0.4,
             "#fde0ef"
            ],
            [
             0.5,
             "#f7f7f7"
            ],
            [
             0.6,
             "#e6f5d0"
            ],
            [
             0.7,
             "#b8e186"
            ],
            [
             0.8,
             "#7fbc41"
            ],
            [
             0.9,
             "#4d9221"
            ],
            [
             1,
             "#276419"
            ]
           ],
           "sequential": [
            [
             0,
             "#0d0887"
            ],
            [
             0.1111111111111111,
             "#46039f"
            ],
            [
             0.2222222222222222,
             "#7201a8"
            ],
            [
             0.3333333333333333,
             "#9c179e"
            ],
            [
             0.4444444444444444,
             "#bd3786"
            ],
            [
             0.5555555555555556,
             "#d8576b"
            ],
            [
             0.6666666666666666,
             "#ed7953"
            ],
            [
             0.7777777777777778,
             "#fb9f3a"
            ],
            [
             0.8888888888888888,
             "#fdca26"
            ],
            [
             1,
             "#f0f921"
            ]
           ],
           "sequentialminus": [
            [
             0,
             "#0d0887"
            ],
            [
             0.1111111111111111,
             "#46039f"
            ],
            [
             0.2222222222222222,
             "#7201a8"
            ],
            [
             0.3333333333333333,
             "#9c179e"
            ],
            [
             0.4444444444444444,
             "#bd3786"
            ],
            [
             0.5555555555555556,
             "#d8576b"
            ],
            [
             0.6666666666666666,
             "#ed7953"
            ],
            [
             0.7777777777777778,
             "#fb9f3a"
            ],
            [
             0.8888888888888888,
             "#fdca26"
            ],
            [
             1,
             "#f0f921"
            ]
           ]
          },
          "colorway": [
           "#636efa",
           "#EF553B",
           "#00cc96",
           "#ab63fa",
           "#FFA15A",
           "#19d3f3",
           "#FF6692",
           "#B6E880",
           "#FF97FF",
           "#FECB52"
          ],
          "font": {
           "color": "#2a3f5f"
          },
          "geo": {
           "bgcolor": "white",
           "lakecolor": "white",
           "landcolor": "#E5ECF6",
           "showlakes": true,
           "showland": true,
           "subunitcolor": "white"
          },
          "hoverlabel": {
           "align": "left"
          },
          "hovermode": "closest",
          "mapbox": {
           "style": "light"
          },
          "paper_bgcolor": "white",
          "plot_bgcolor": "#E5ECF6",
          "polar": {
           "angularaxis": {
            "gridcolor": "white",
            "linecolor": "white",
            "ticks": ""
           },
           "bgcolor": "#E5ECF6",
           "radialaxis": {
            "gridcolor": "white",
            "linecolor": "white",
            "ticks": ""
           }
          },
          "scene": {
           "xaxis": {
            "backgroundcolor": "#E5ECF6",
            "gridcolor": "white",
            "gridwidth": 2,
            "linecolor": "white",
            "showbackground": true,
            "ticks": "",
            "zerolinecolor": "white"
           },
           "yaxis": {
            "backgroundcolor": "#E5ECF6",
            "gridcolor": "white",
            "gridwidth": 2,
            "linecolor": "white",
            "showbackground": true,
            "ticks": "",
            "zerolinecolor": "white"
           },
           "zaxis": {
            "backgroundcolor": "#E5ECF6",
            "gridcolor": "white",
            "gridwidth": 2,
            "linecolor": "white",
            "showbackground": true,
            "ticks": "",
            "zerolinecolor": "white"
           }
          },
          "shapedefaults": {
           "line": {
            "color": "#2a3f5f"
           }
          },
          "ternary": {
           "aaxis": {
            "gridcolor": "white",
            "linecolor": "white",
            "ticks": ""
           },
           "baxis": {
            "gridcolor": "white",
            "linecolor": "white",
            "ticks": ""
           },
           "bgcolor": "#E5ECF6",
           "caxis": {
            "gridcolor": "white",
            "linecolor": "white",
            "ticks": ""
           }
          },
          "title": {
           "x": 0.05
          },
          "xaxis": {
           "automargin": true,
           "gridcolor": "white",
           "linecolor": "white",
           "ticks": "",
           "title": {
            "standoff": 15
           },
           "zerolinecolor": "white",
           "zerolinewidth": 2
          },
          "yaxis": {
           "automargin": true,
           "gridcolor": "white",
           "linecolor": "white",
           "ticks": "",
           "title": {
            "standoff": 15
           },
           "zerolinecolor": "white",
           "zerolinewidth": 2
          }
         }
        },
        "title": {
         "text": "ROC Curve (AUC=0.7130)"
        },
        "width": 700,
        "xaxis": {
         "anchor": "y",
         "domain": [
          0,
          1
         ],
         "title": {
          "text": "False Positive Rate"
         }
        },
        "yaxis": {
         "anchor": "x",
         "domain": [
          0,
          1
         ],
         "title": {
          "text": "True Positive Rate"
         }
        }
       }
      }
     },
     "metadata": {},
     "output_type": "display_data"
    },
    {
     "data": {
      "application/vnd.plotly.v1+json": {
       "config": {
        "plotlyServerURL": "https://plot.ly"
       },
       "data": [
        {
         "coloraxis": "coloraxis",
         "hovertemplate": "Predicted Label: %{x}<br>True Label: %{y}<br>Count: %{z}<extra></extra>",
         "name": "0",
         "texttemplate": "%{z}",
         "type": "heatmap",
         "x": [
          "Predicted 0",
          "Predicted 1"
         ],
         "xaxis": "x",
         "y": [
          "Actual 0",
          "Actual 1"
         ],
         "yaxis": "y",
         "z": [
          [
           92,
           38
          ],
          [
           40,
           102
          ]
         ]
        }
       ],
       "layout": {
        "coloraxis": {
         "colorbar": {
          "title": {
           "text": "Count"
          }
         },
         "colorscale": [
          [
           0,
           "rgb(255,247,251)"
          ],
          [
           0.125,
           "rgb(236,231,242)"
          ],
          [
           0.25,
           "rgb(208,209,230)"
          ],
          [
           0.375,
           "rgb(166,189,219)"
          ],
          [
           0.5,
           "rgb(116,169,207)"
          ],
          [
           0.625,
           "rgb(54,144,192)"
          ],
          [
           0.75,
           "rgb(5,112,176)"
          ],
          [
           0.875,
           "rgb(4,90,141)"
          ],
          [
           1,
           "rgb(2,56,88)"
          ]
         ]
        },
        "height": 500,
        "template": {
         "data": {
          "bar": [
           {
            "error_x": {
             "color": "#2a3f5f"
            },
            "error_y": {
             "color": "#2a3f5f"
            },
            "marker": {
             "line": {
              "color": "#E5ECF6",
              "width": 0.5
             },
             "pattern": {
              "fillmode": "overlay",
              "size": 10,
              "solidity": 0.2
             }
            },
            "type": "bar"
           }
          ],
          "barpolar": [
           {
            "marker": {
             "line": {
              "color": "#E5ECF6",
              "width": 0.5
             },
             "pattern": {
              "fillmode": "overlay",
              "size": 10,
              "solidity": 0.2
             }
            },
            "type": "barpolar"
           }
          ],
          "carpet": [
           {
            "aaxis": {
             "endlinecolor": "#2a3f5f",
             "gridcolor": "white",
             "linecolor": "white",
             "minorgridcolor": "white",
             "startlinecolor": "#2a3f5f"
            },
            "baxis": {
             "endlinecolor": "#2a3f5f",
             "gridcolor": "white",
             "linecolor": "white",
             "minorgridcolor": "white",
             "startlinecolor": "#2a3f5f"
            },
            "type": "carpet"
           }
          ],
          "choropleth": [
           {
            "colorbar": {
             "outlinewidth": 0,
             "ticks": ""
            },
            "type": "choropleth"
           }
          ],
          "contour": [
           {
            "colorbar": {
             "outlinewidth": 0,
             "ticks": ""
            },
            "colorscale": [
             [
              0,
              "#0d0887"
             ],
             [
              0.1111111111111111,
              "#46039f"
             ],
             [
              0.2222222222222222,
              "#7201a8"
             ],
             [
              0.3333333333333333,
              "#9c179e"
             ],
             [
              0.4444444444444444,
              "#bd3786"
             ],
             [
              0.5555555555555556,
              "#d8576b"
             ],
             [
              0.6666666666666666,
              "#ed7953"
             ],
             [
              0.7777777777777778,
              "#fb9f3a"
             ],
             [
              0.8888888888888888,
              "#fdca26"
             ],
             [
              1,
              "#f0f921"
             ]
            ],
            "type": "contour"
           }
          ],
          "contourcarpet": [
           {
            "colorbar": {
             "outlinewidth": 0,
             "ticks": ""
            },
            "type": "contourcarpet"
           }
          ],
          "heatmap": [
           {
            "colorbar": {
             "outlinewidth": 0,
             "ticks": ""
            },
            "colorscale": [
             [
              0,
              "#0d0887"
             ],
             [
              0.1111111111111111,
              "#46039f"
             ],
             [
              0.2222222222222222,
              "#7201a8"
             ],
             [
              0.3333333333333333,
              "#9c179e"
             ],
             [
              0.4444444444444444,
              "#bd3786"
             ],
             [
              0.5555555555555556,
              "#d8576b"
             ],
             [
              0.6666666666666666,
              "#ed7953"
             ],
             [
              0.7777777777777778,
              "#fb9f3a"
             ],
             [
              0.8888888888888888,
              "#fdca26"
             ],
             [
              1,
              "#f0f921"
             ]
            ],
            "type": "heatmap"
           }
          ],
          "heatmapgl": [
           {
            "colorbar": {
             "outlinewidth": 0,
             "ticks": ""
            },
            "colorscale": [
             [
              0,
              "#0d0887"
             ],
             [
              0.1111111111111111,
              "#46039f"
             ],
             [
              0.2222222222222222,
              "#7201a8"
             ],
             [
              0.3333333333333333,
              "#9c179e"
             ],
             [
              0.4444444444444444,
              "#bd3786"
             ],
             [
              0.5555555555555556,
              "#d8576b"
             ],
             [
              0.6666666666666666,
              "#ed7953"
             ],
             [
              0.7777777777777778,
              "#fb9f3a"
             ],
             [
              0.8888888888888888,
              "#fdca26"
             ],
             [
              1,
              "#f0f921"
             ]
            ],
            "type": "heatmapgl"
           }
          ],
          "histogram": [
           {
            "marker": {
             "pattern": {
              "fillmode": "overlay",
              "size": 10,
              "solidity": 0.2
             }
            },
            "type": "histogram"
           }
          ],
          "histogram2d": [
           {
            "colorbar": {
             "outlinewidth": 0,
             "ticks": ""
            },
            "colorscale": [
             [
              0,
              "#0d0887"
             ],
             [
              0.1111111111111111,
              "#46039f"
             ],
             [
              0.2222222222222222,
              "#7201a8"
             ],
             [
              0.3333333333333333,
              "#9c179e"
             ],
             [
              0.4444444444444444,
              "#bd3786"
             ],
             [
              0.5555555555555556,
              "#d8576b"
             ],
             [
              0.6666666666666666,
              "#ed7953"
             ],
             [
              0.7777777777777778,
              "#fb9f3a"
             ],
             [
              0.8888888888888888,
              "#fdca26"
             ],
             [
              1,
              "#f0f921"
             ]
            ],
            "type": "histogram2d"
           }
          ],
          "histogram2dcontour": [
           {
            "colorbar": {
             "outlinewidth": 0,
             "ticks": ""
            },
            "colorscale": [
             [
              0,
              "#0d0887"
             ],
             [
              0.1111111111111111,
              "#46039f"
             ],
             [
              0.2222222222222222,
              "#7201a8"
             ],
             [
              0.3333333333333333,
              "#9c179e"
             ],
             [
              0.4444444444444444,
              "#bd3786"
             ],
             [
              0.5555555555555556,
              "#d8576b"
             ],
             [
              0.6666666666666666,
              "#ed7953"
             ],
             [
              0.7777777777777778,
              "#fb9f3a"
             ],
             [
              0.8888888888888888,
              "#fdca26"
             ],
             [
              1,
              "#f0f921"
             ]
            ],
            "type": "histogram2dcontour"
           }
          ],
          "mesh3d": [
           {
            "colorbar": {
             "outlinewidth": 0,
             "ticks": ""
            },
            "type": "mesh3d"
           }
          ],
          "parcoords": [
           {
            "line": {
             "colorbar": {
              "outlinewidth": 0,
              "ticks": ""
             }
            },
            "type": "parcoords"
           }
          ],
          "pie": [
           {
            "automargin": true,
            "type": "pie"
           }
          ],
          "scatter": [
           {
            "fillpattern": {
             "fillmode": "overlay",
             "size": 10,
             "solidity": 0.2
            },
            "type": "scatter"
           }
          ],
          "scatter3d": [
           {
            "line": {
             "colorbar": {
              "outlinewidth": 0,
              "ticks": ""
             }
            },
            "marker": {
             "colorbar": {
              "outlinewidth": 0,
              "ticks": ""
             }
            },
            "type": "scatter3d"
           }
          ],
          "scattercarpet": [
           {
            "marker": {
             "colorbar": {
              "outlinewidth": 0,
              "ticks": ""
             }
            },
            "type": "scattercarpet"
           }
          ],
          "scattergeo": [
           {
            "marker": {
             "colorbar": {
              "outlinewidth": 0,
              "ticks": ""
             }
            },
            "type": "scattergeo"
           }
          ],
          "scattergl": [
           {
            "marker": {
             "colorbar": {
              "outlinewidth": 0,
              "ticks": ""
             }
            },
            "type": "scattergl"
           }
          ],
          "scattermapbox": [
           {
            "marker": {
             "colorbar": {
              "outlinewidth": 0,
              "ticks": ""
             }
            },
            "type": "scattermapbox"
           }
          ],
          "scatterpolar": [
           {
            "marker": {
             "colorbar": {
              "outlinewidth": 0,
              "ticks": ""
             }
            },
            "type": "scatterpolar"
           }
          ],
          "scatterpolargl": [
           {
            "marker": {
             "colorbar": {
              "outlinewidth": 0,
              "ticks": ""
             }
            },
            "type": "scatterpolargl"
           }
          ],
          "scatterternary": [
           {
            "marker": {
             "colorbar": {
              "outlinewidth": 0,
              "ticks": ""
             }
            },
            "type": "scatterternary"
           }
          ],
          "surface": [
           {
            "colorbar": {
             "outlinewidth": 0,
             "ticks": ""
            },
            "colorscale": [
             [
              0,
              "#0d0887"
             ],
             [
              0.1111111111111111,
              "#46039f"
             ],
             [
              0.2222222222222222,
              "#7201a8"
             ],
             [
              0.3333333333333333,
              "#9c179e"
             ],
             [
              0.4444444444444444,
              "#bd3786"
             ],
             [
              0.5555555555555556,
              "#d8576b"
             ],
             [
              0.6666666666666666,
              "#ed7953"
             ],
             [
              0.7777777777777778,
              "#fb9f3a"
             ],
             [
              0.8888888888888888,
              "#fdca26"
             ],
             [
              1,
              "#f0f921"
             ]
            ],
            "type": "surface"
           }
          ],
          "table": [
           {
            "cells": {
             "fill": {
              "color": "#EBF0F8"
             },
             "line": {
              "color": "white"
             }
            },
            "header": {
             "fill": {
              "color": "#C8D4E3"
             },
             "line": {
              "color": "white"
             }
            },
            "type": "table"
           }
          ]
         },
         "layout": {
          "annotationdefaults": {
           "arrowcolor": "#2a3f5f",
           "arrowhead": 0,
           "arrowwidth": 1
          },
          "autotypenumbers": "strict",
          "coloraxis": {
           "colorbar": {
            "outlinewidth": 0,
            "ticks": ""
           }
          },
          "colorscale": {
           "diverging": [
            [
             0,
             "#8e0152"
            ],
            [
             0.1,
             "#c51b7d"
            ],
            [
             0.2,
             "#de77ae"
            ],
            [
             0.3,
             "#f1b6da"
            ],
            [
             0.4,
             "#fde0ef"
            ],
            [
             0.5,
             "#f7f7f7"
            ],
            [
             0.6,
             "#e6f5d0"
            ],
            [
             0.7,
             "#b8e186"
            ],
            [
             0.8,
             "#7fbc41"
            ],
            [
             0.9,
             "#4d9221"
            ],
            [
             1,
             "#276419"
            ]
           ],
           "sequential": [
            [
             0,
             "#0d0887"
            ],
            [
             0.1111111111111111,
             "#46039f"
            ],
            [
             0.2222222222222222,
             "#7201a8"
            ],
            [
             0.3333333333333333,
             "#9c179e"
            ],
            [
             0.4444444444444444,
             "#bd3786"
            ],
            [
             0.5555555555555556,
             "#d8576b"
            ],
            [
             0.6666666666666666,
             "#ed7953"
            ],
            [
             0.7777777777777778,
             "#fb9f3a"
            ],
            [
             0.8888888888888888,
             "#fdca26"
            ],
            [
             1,
             "#f0f921"
            ]
           ],
           "sequentialminus": [
            [
             0,
             "#0d0887"
            ],
            [
             0.1111111111111111,
             "#46039f"
            ],
            [
             0.2222222222222222,
             "#7201a8"
            ],
            [
             0.3333333333333333,
             "#9c179e"
            ],
            [
             0.4444444444444444,
             "#bd3786"
            ],
            [
             0.5555555555555556,
             "#d8576b"
            ],
            [
             0.6666666666666666,
             "#ed7953"
            ],
            [
             0.7777777777777778,
             "#fb9f3a"
            ],
            [
             0.8888888888888888,
             "#fdca26"
            ],
            [
             1,
             "#f0f921"
            ]
           ]
          },
          "colorway": [
           "#636efa",
           "#EF553B",
           "#00cc96",
           "#ab63fa",
           "#FFA15A",
           "#19d3f3",
           "#FF6692",
           "#B6E880",
           "#FF97FF",
           "#FECB52"
          ],
          "font": {
           "color": "#2a3f5f"
          },
          "geo": {
           "bgcolor": "white",
           "lakecolor": "white",
           "landcolor": "#E5ECF6",
           "showlakes": true,
           "showland": true,
           "subunitcolor": "white"
          },
          "hoverlabel": {
           "align": "left"
          },
          "hovermode": "closest",
          "mapbox": {
           "style": "light"
          },
          "paper_bgcolor": "white",
          "plot_bgcolor": "#E5ECF6",
          "polar": {
           "angularaxis": {
            "gridcolor": "white",
            "linecolor": "white",
            "ticks": ""
           },
           "bgcolor": "#E5ECF6",
           "radialaxis": {
            "gridcolor": "white",
            "linecolor": "white",
            "ticks": ""
           }
          },
          "scene": {
           "xaxis": {
            "backgroundcolor": "#E5ECF6",
            "gridcolor": "white",
            "gridwidth": 2,
            "linecolor": "white",
            "showbackground": true,
            "ticks": "",
            "zerolinecolor": "white"
           },
           "yaxis": {
            "backgroundcolor": "#E5ECF6",
            "gridcolor": "white",
            "gridwidth": 2,
            "linecolor": "white",
            "showbackground": true,
            "ticks": "",
            "zerolinecolor": "white"
           },
           "zaxis": {
            "backgroundcolor": "#E5ECF6",
            "gridcolor": "white",
            "gridwidth": 2,
            "linecolor": "white",
            "showbackground": true,
            "ticks": "",
            "zerolinecolor": "white"
           }
          },
          "shapedefaults": {
           "line": {
            "color": "#2a3f5f"
           }
          },
          "ternary": {
           "aaxis": {
            "gridcolor": "white",
            "linecolor": "white",
            "ticks": ""
           },
           "baxis": {
            "gridcolor": "white",
            "linecolor": "white",
            "ticks": ""
           },
           "bgcolor": "#E5ECF6",
           "caxis": {
            "gridcolor": "white",
            "linecolor": "white",
            "ticks": ""
           }
          },
          "title": {
           "x": 0.05
          },
          "xaxis": {
           "automargin": true,
           "gridcolor": "white",
           "linecolor": "white",
           "ticks": "",
           "title": {
            "standoff": 15
           },
           "zerolinecolor": "white",
           "zerolinewidth": 2
          },
          "yaxis": {
           "automargin": true,
           "gridcolor": "white",
           "linecolor": "white",
           "ticks": "",
           "title": {
            "standoff": 15
           },
           "zerolinecolor": "white",
           "zerolinewidth": 2
          }
         }
        },
        "title": {
         "text": "Confusion Matrix"
        },
        "width": 700,
        "xaxis": {
         "anchor": "y",
         "constrain": "domain",
         "domain": [
          0,
          1
         ],
         "scaleanchor": "y",
         "title": {
          "text": "Predicted Label"
         }
        },
        "yaxis": {
         "anchor": "x",
         "autorange": "reversed",
         "constrain": "domain",
         "domain": [
          0,
          1
         ],
         "title": {
          "text": "True Label"
         }
        }
       }
      }
     },
     "metadata": {},
     "output_type": "display_data"
    },
    {
     "data": {
      "application/vnd.plotly.v1+json": {
       "config": {
        "plotlyServerURL": "https://plot.ly"
       },
       "data": [
        {
         "alignmentgroup": "True",
         "hovertemplate": "Feature=%{x}<br>Weight=%{text}<extra></extra>",
         "legendgroup": "alcohol",
         "marker": {
          "color": "rgb(8,48,107)",
          "pattern": {
           "shape": ""
          }
         },
         "name": "alcohol",
         "offsetgroup": "alcohol",
         "orientation": "v",
         "showlegend": true,
         "text": [
          0.28
         ],
         "textposition": "auto",
         "type": "bar",
         "x": [
          "alcohol"
         ],
         "xaxis": "x",
         "y": [
          0.28
         ],
         "yaxis": "y"
        },
        {
         "alignmentgroup": "True",
         "hovertemplate": "Feature=%{x}<br>Weight=%{text}<extra></extra>",
         "legendgroup": "volatile acidity",
         "marker": {
          "color": "rgb(8,81,156)",
          "pattern": {
           "shape": ""
          }
         },
         "name": "volatile acidity",
         "offsetgroup": "volatile acidity",
         "orientation": "v",
         "showlegend": true,
         "text": [
          0.209
         ],
         "textposition": "auto",
         "type": "bar",
         "x": [
          "volatile acidity"
         ],
         "xaxis": "x",
         "y": [
          0.209
         ],
         "yaxis": "y"
        },
        {
         "alignmentgroup": "True",
         "hovertemplate": "Feature=%{x}<br>Weight=%{text}<extra></extra>",
         "legendgroup": "sulphates",
         "marker": {
          "color": "rgb(33,113,181)",
          "pattern": {
           "shape": ""
          }
         },
         "name": "sulphates",
         "offsetgroup": "sulphates",
         "orientation": "v",
         "showlegend": true,
         "text": [
          0.173
         ],
         "textposition": "auto",
         "type": "bar",
         "x": [
          "sulphates"
         ],
         "xaxis": "x",
         "y": [
          0.173
         ],
         "yaxis": "y"
        },
        {
         "alignmentgroup": "True",
         "hovertemplate": "Feature=%{x}<br>Weight=%{text}<extra></extra>",
         "legendgroup": "density",
         "marker": {
          "color": "rgb(66,146,198)",
          "pattern": {
           "shape": ""
          }
         },
         "name": "density",
         "offsetgroup": "density",
         "orientation": "v",
         "showlegend": true,
         "text": [
          0.082
         ],
         "textposition": "auto",
         "type": "bar",
         "x": [
          "density"
         ],
         "xaxis": "x",
         "y": [
          0.082
         ],
         "yaxis": "y"
        },
        {
         "alignmentgroup": "True",
         "hovertemplate": "Feature=%{x}<br>Weight=%{text}<extra></extra>",
         "legendgroup": "active SO2",
         "marker": {
          "color": "rgb(107,174,214)",
          "pattern": {
           "shape": ""
          }
         },
         "name": "active SO2",
         "offsetgroup": "active SO2",
         "orientation": "v",
         "showlegend": true,
         "text": [
          0.068
         ],
         "textposition": "auto",
         "type": "bar",
         "x": [
          "active SO2"
         ],
         "xaxis": "x",
         "y": [
          0.068
         ],
         "yaxis": "y"
        },
        {
         "alignmentgroup": "True",
         "hovertemplate": "Feature=%{x}<br>Weight=%{text}<extra></extra>",
         "legendgroup": "chlorides",
         "marker": {
          "color": "rgb(158,202,225)",
          "pattern": {
           "shape": ""
          }
         },
         "name": "chlorides",
         "offsetgroup": "chlorides",
         "orientation": "v",
         "showlegend": true,
         "text": [
          0.066
         ],
         "textposition": "auto",
         "type": "bar",
         "x": [
          "chlorides"
         ],
         "xaxis": "x",
         "y": [
          0.066
         ],
         "yaxis": "y"
        },
        {
         "alignmentgroup": "True",
         "hovertemplate": "Feature=%{x}<br>Weight=%{text}<extra></extra>",
         "legendgroup": "citric acid",
         "marker": {
          "color": "rgb(198,219,239)",
          "pattern": {
           "shape": ""
          }
         },
         "name": "citric acid",
         "offsetgroup": "citric acid",
         "orientation": "v",
         "showlegend": true,
         "text": [
          0.062
         ],
         "textposition": "auto",
         "type": "bar",
         "x": [
          "citric acid"
         ],
         "xaxis": "x",
         "y": [
          0.062
         ],
         "yaxis": "y"
        },
        {
         "alignmentgroup": "True",
         "hovertemplate": "Feature=%{x}<br>Weight=%{text}<extra></extra>",
         "legendgroup": "total sulfur dioxide",
         "marker": {
          "color": "rgb(222,235,247)",
          "pattern": {
           "shape": ""
          }
         },
         "name": "total sulfur dioxide",
         "offsetgroup": "total sulfur dioxide",
         "orientation": "v",
         "showlegend": true,
         "text": [
          0.038
         ],
         "textposition": "auto",
         "type": "bar",
         "x": [
          "total sulfur dioxide"
         ],
         "xaxis": "x",
         "y": [
          0.038
         ],
         "yaxis": "y"
        },
        {
         "alignmentgroup": "True",
         "hovertemplate": "Feature=%{x}<br>Weight=%{text}<extra></extra>",
         "legendgroup": "fixed acidity",
         "marker": {
          "color": "rgb(247,251,255)",
          "pattern": {
           "shape": ""
          }
         },
         "name": "fixed acidity",
         "offsetgroup": "fixed acidity",
         "orientation": "v",
         "showlegend": true,
         "text": [
          0.02
         ],
         "textposition": "auto",
         "type": "bar",
         "x": [
          "fixed acidity"
         ],
         "xaxis": "x",
         "y": [
          0.02
         ],
         "yaxis": "y"
        },
        {
         "alignmentgroup": "True",
         "hovertemplate": "Feature=%{x}<br>Weight=%{text}<extra></extra>",
         "legendgroup": "pH",
         "marker": {
          "color": "rgb(8,48,107)",
          "pattern": {
           "shape": ""
          }
         },
         "name": "pH",
         "offsetgroup": "pH",
         "orientation": "v",
         "showlegend": true,
         "text": [
          0.002
         ],
         "textposition": "auto",
         "type": "bar",
         "x": [
          "pH"
         ],
         "xaxis": "x",
         "y": [
          0.002
         ],
         "yaxis": "y"
        },
        {
         "alignmentgroup": "True",
         "hovertemplate": "Feature=%{x}<br>Weight=%{text}<extra></extra>",
         "legendgroup": "free sulfur dioxide",
         "marker": {
          "color": "rgb(8,81,156)",
          "pattern": {
           "shape": ""
          }
         },
         "name": "free sulfur dioxide",
         "offsetgroup": "free sulfur dioxide",
         "orientation": "v",
         "showlegend": true,
         "text": [
          0
         ],
         "textposition": "auto",
         "type": "bar",
         "x": [
          "free sulfur dioxide"
         ],
         "xaxis": "x",
         "y": [
          0
         ],
         "yaxis": "y"
        },
        {
         "alignmentgroup": "True",
         "hovertemplate": "Feature=%{x}<br>Weight=%{text}<extra></extra>",
         "legendgroup": "sweetness",
         "marker": {
          "color": "rgb(33,113,181)",
          "pattern": {
           "shape": ""
          }
         },
         "name": "sweetness",
         "offsetgroup": "sweetness",
         "orientation": "v",
         "showlegend": true,
         "text": [
          0
         ],
         "textposition": "auto",
         "type": "bar",
         "x": [
          "sweetness"
         ],
         "xaxis": "x",
         "y": [
          0
         ],
         "yaxis": "y"
        },
        {
         "alignmentgroup": "True",
         "hovertemplate": "Feature=%{x}<br>Weight=%{text}<extra></extra>",
         "legendgroup": "pH acidity",
         "marker": {
          "color": "rgb(66,146,198)",
          "pattern": {
           "shape": ""
          }
         },
         "name": "pH acidity",
         "offsetgroup": "pH acidity",
         "orientation": "v",
         "showlegend": true,
         "text": [
          0
         ],
         "textposition": "auto",
         "type": "bar",
         "x": [
          "pH acidity"
         ],
         "xaxis": "x",
         "y": [
          0
         ],
         "yaxis": "y"
        }
       ],
       "layout": {
        "barmode": "relative",
        "legend": {
         "title": {
          "text": "Feature"
         },
         "tracegroupgap": 0
        },
        "template": {
         "data": {
          "bar": [
           {
            "error_x": {
             "color": "#2a3f5f"
            },
            "error_y": {
             "color": "#2a3f5f"
            },
            "marker": {
             "line": {
              "color": "#E5ECF6",
              "width": 0.5
             },
             "pattern": {
              "fillmode": "overlay",
              "size": 10,
              "solidity": 0.2
             }
            },
            "type": "bar"
           }
          ],
          "barpolar": [
           {
            "marker": {
             "line": {
              "color": "#E5ECF6",
              "width": 0.5
             },
             "pattern": {
              "fillmode": "overlay",
              "size": 10,
              "solidity": 0.2
             }
            },
            "type": "barpolar"
           }
          ],
          "carpet": [
           {
            "aaxis": {
             "endlinecolor": "#2a3f5f",
             "gridcolor": "white",
             "linecolor": "white",
             "minorgridcolor": "white",
             "startlinecolor": "#2a3f5f"
            },
            "baxis": {
             "endlinecolor": "#2a3f5f",
             "gridcolor": "white",
             "linecolor": "white",
             "minorgridcolor": "white",
             "startlinecolor": "#2a3f5f"
            },
            "type": "carpet"
           }
          ],
          "choropleth": [
           {
            "colorbar": {
             "outlinewidth": 0,
             "ticks": ""
            },
            "type": "choropleth"
           }
          ],
          "contour": [
           {
            "colorbar": {
             "outlinewidth": 0,
             "ticks": ""
            },
            "colorscale": [
             [
              0,
              "#0d0887"
             ],
             [
              0.1111111111111111,
              "#46039f"
             ],
             [
              0.2222222222222222,
              "#7201a8"
             ],
             [
              0.3333333333333333,
              "#9c179e"
             ],
             [
              0.4444444444444444,
              "#bd3786"
             ],
             [
              0.5555555555555556,
              "#d8576b"
             ],
             [
              0.6666666666666666,
              "#ed7953"
             ],
             [
              0.7777777777777778,
              "#fb9f3a"
             ],
             [
              0.8888888888888888,
              "#fdca26"
             ],
             [
              1,
              "#f0f921"
             ]
            ],
            "type": "contour"
           }
          ],
          "contourcarpet": [
           {
            "colorbar": {
             "outlinewidth": 0,
             "ticks": ""
            },
            "type": "contourcarpet"
           }
          ],
          "heatmap": [
           {
            "colorbar": {
             "outlinewidth": 0,
             "ticks": ""
            },
            "colorscale": [
             [
              0,
              "#0d0887"
             ],
             [
              0.1111111111111111,
              "#46039f"
             ],
             [
              0.2222222222222222,
              "#7201a8"
             ],
             [
              0.3333333333333333,
              "#9c179e"
             ],
             [
              0.4444444444444444,
              "#bd3786"
             ],
             [
              0.5555555555555556,
              "#d8576b"
             ],
             [
              0.6666666666666666,
              "#ed7953"
             ],
             [
              0.7777777777777778,
              "#fb9f3a"
             ],
             [
              0.8888888888888888,
              "#fdca26"
             ],
             [
              1,
              "#f0f921"
             ]
            ],
            "type": "heatmap"
           }
          ],
          "heatmapgl": [
           {
            "colorbar": {
             "outlinewidth": 0,
             "ticks": ""
            },
            "colorscale": [
             [
              0,
              "#0d0887"
             ],
             [
              0.1111111111111111,
              "#46039f"
             ],
             [
              0.2222222222222222,
              "#7201a8"
             ],
             [
              0.3333333333333333,
              "#9c179e"
             ],
             [
              0.4444444444444444,
              "#bd3786"
             ],
             [
              0.5555555555555556,
              "#d8576b"
             ],
             [
              0.6666666666666666,
              "#ed7953"
             ],
             [
              0.7777777777777778,
              "#fb9f3a"
             ],
             [
              0.8888888888888888,
              "#fdca26"
             ],
             [
              1,
              "#f0f921"
             ]
            ],
            "type": "heatmapgl"
           }
          ],
          "histogram": [
           {
            "marker": {
             "pattern": {
              "fillmode": "overlay",
              "size": 10,
              "solidity": 0.2
             }
            },
            "type": "histogram"
           }
          ],
          "histogram2d": [
           {
            "colorbar": {
             "outlinewidth": 0,
             "ticks": ""
            },
            "colorscale": [
             [
              0,
              "#0d0887"
             ],
             [
              0.1111111111111111,
              "#46039f"
             ],
             [
              0.2222222222222222,
              "#7201a8"
             ],
             [
              0.3333333333333333,
              "#9c179e"
             ],
             [
              0.4444444444444444,
              "#bd3786"
             ],
             [
              0.5555555555555556,
              "#d8576b"
             ],
             [
              0.6666666666666666,
              "#ed7953"
             ],
             [
              0.7777777777777778,
              "#fb9f3a"
             ],
             [
              0.8888888888888888,
              "#fdca26"
             ],
             [
              1,
              "#f0f921"
             ]
            ],
            "type": "histogram2d"
           }
          ],
          "histogram2dcontour": [
           {
            "colorbar": {
             "outlinewidth": 0,
             "ticks": ""
            },
            "colorscale": [
             [
              0,
              "#0d0887"
             ],
             [
              0.1111111111111111,
              "#46039f"
             ],
             [
              0.2222222222222222,
              "#7201a8"
             ],
             [
              0.3333333333333333,
              "#9c179e"
             ],
             [
              0.4444444444444444,
              "#bd3786"
             ],
             [
              0.5555555555555556,
              "#d8576b"
             ],
             [
              0.6666666666666666,
              "#ed7953"
             ],
             [
              0.7777777777777778,
              "#fb9f3a"
             ],
             [
              0.8888888888888888,
              "#fdca26"
             ],
             [
              1,
              "#f0f921"
             ]
            ],
            "type": "histogram2dcontour"
           }
          ],
          "mesh3d": [
           {
            "colorbar": {
             "outlinewidth": 0,
             "ticks": ""
            },
            "type": "mesh3d"
           }
          ],
          "parcoords": [
           {
            "line": {
             "colorbar": {
              "outlinewidth": 0,
              "ticks": ""
             }
            },
            "type": "parcoords"
           }
          ],
          "pie": [
           {
            "automargin": true,
            "type": "pie"
           }
          ],
          "scatter": [
           {
            "fillpattern": {
             "fillmode": "overlay",
             "size": 10,
             "solidity": 0.2
            },
            "type": "scatter"
           }
          ],
          "scatter3d": [
           {
            "line": {
             "colorbar": {
              "outlinewidth": 0,
              "ticks": ""
             }
            },
            "marker": {
             "colorbar": {
              "outlinewidth": 0,
              "ticks": ""
             }
            },
            "type": "scatter3d"
           }
          ],
          "scattercarpet": [
           {
            "marker": {
             "colorbar": {
              "outlinewidth": 0,
              "ticks": ""
             }
            },
            "type": "scattercarpet"
           }
          ],
          "scattergeo": [
           {
            "marker": {
             "colorbar": {
              "outlinewidth": 0,
              "ticks": ""
             }
            },
            "type": "scattergeo"
           }
          ],
          "scattergl": [
           {
            "marker": {
             "colorbar": {
              "outlinewidth": 0,
              "ticks": ""
             }
            },
            "type": "scattergl"
           }
          ],
          "scattermapbox": [
           {
            "marker": {
             "colorbar": {
              "outlinewidth": 0,
              "ticks": ""
             }
            },
            "type": "scattermapbox"
           }
          ],
          "scatterpolar": [
           {
            "marker": {
             "colorbar": {
              "outlinewidth": 0,
              "ticks": ""
             }
            },
            "type": "scatterpolar"
           }
          ],
          "scatterpolargl": [
           {
            "marker": {
             "colorbar": {
              "outlinewidth": 0,
              "ticks": ""
             }
            },
            "type": "scatterpolargl"
           }
          ],
          "scatterternary": [
           {
            "marker": {
             "colorbar": {
              "outlinewidth": 0,
              "ticks": ""
             }
            },
            "type": "scatterternary"
           }
          ],
          "surface": [
           {
            "colorbar": {
             "outlinewidth": 0,
             "ticks": ""
            },
            "colorscale": [
             [
              0,
              "#0d0887"
             ],
             [
              0.1111111111111111,
              "#46039f"
             ],
             [
              0.2222222222222222,
              "#7201a8"
             ],
             [
              0.3333333333333333,
              "#9c179e"
             ],
             [
              0.4444444444444444,
              "#bd3786"
             ],
             [
              0.5555555555555556,
              "#d8576b"
             ],
             [
              0.6666666666666666,
              "#ed7953"
             ],
             [
              0.7777777777777778,
              "#fb9f3a"
             ],
             [
              0.8888888888888888,
              "#fdca26"
             ],
             [
              1,
              "#f0f921"
             ]
            ],
            "type": "surface"
           }
          ],
          "table": [
           {
            "cells": {
             "fill": {
              "color": "#EBF0F8"
             },
             "line": {
              "color": "white"
             }
            },
            "header": {
             "fill": {
              "color": "#C8D4E3"
             },
             "line": {
              "color": "white"
             }
            },
            "type": "table"
           }
          ]
         },
         "layout": {
          "annotationdefaults": {
           "arrowcolor": "#2a3f5f",
           "arrowhead": 0,
           "arrowwidth": 1
          },
          "autotypenumbers": "strict",
          "coloraxis": {
           "colorbar": {
            "outlinewidth": 0,
            "ticks": ""
           }
          },
          "colorscale": {
           "diverging": [
            [
             0,
             "#8e0152"
            ],
            [
             0.1,
             "#c51b7d"
            ],
            [
             0.2,
             "#de77ae"
            ],
            [
             0.3,
             "#f1b6da"
            ],
            [
             0.4,
             "#fde0ef"
            ],
            [
             0.5,
             "#f7f7f7"
            ],
            [
             0.6,
             "#e6f5d0"
            ],
            [
             0.7,
             "#b8e186"
            ],
            [
             0.8,
             "#7fbc41"
            ],
            [
             0.9,
             "#4d9221"
            ],
            [
             1,
             "#276419"
            ]
           ],
           "sequential": [
            [
             0,
             "#0d0887"
            ],
            [
             0.1111111111111111,
             "#46039f"
            ],
            [
             0.2222222222222222,
             "#7201a8"
            ],
            [
             0.3333333333333333,
             "#9c179e"
            ],
            [
             0.4444444444444444,
             "#bd3786"
            ],
            [
             0.5555555555555556,
             "#d8576b"
            ],
            [
             0.6666666666666666,
             "#ed7953"
            ],
            [
             0.7777777777777778,
             "#fb9f3a"
            ],
            [
             0.8888888888888888,
             "#fdca26"
            ],
            [
             1,
             "#f0f921"
            ]
           ],
           "sequentialminus": [
            [
             0,
             "#0d0887"
            ],
            [
             0.1111111111111111,
             "#46039f"
            ],
            [
             0.2222222222222222,
             "#7201a8"
            ],
            [
             0.3333333333333333,
             "#9c179e"
            ],
            [
             0.4444444444444444,
             "#bd3786"
            ],
            [
             0.5555555555555556,
             "#d8576b"
            ],
            [
             0.6666666666666666,
             "#ed7953"
            ],
            [
             0.7777777777777778,
             "#fb9f3a"
            ],
            [
             0.8888888888888888,
             "#fdca26"
            ],
            [
             1,
             "#f0f921"
            ]
           ]
          },
          "colorway": [
           "#636efa",
           "#EF553B",
           "#00cc96",
           "#ab63fa",
           "#FFA15A",
           "#19d3f3",
           "#FF6692",
           "#B6E880",
           "#FF97FF",
           "#FECB52"
          ],
          "font": {
           "color": "#2a3f5f"
          },
          "geo": {
           "bgcolor": "white",
           "lakecolor": "white",
           "landcolor": "#E5ECF6",
           "showlakes": true,
           "showland": true,
           "subunitcolor": "white"
          },
          "hoverlabel": {
           "align": "left"
          },
          "hovermode": "closest",
          "mapbox": {
           "style": "light"
          },
          "paper_bgcolor": "white",
          "plot_bgcolor": "#E5ECF6",
          "polar": {
           "angularaxis": {
            "gridcolor": "white",
            "linecolor": "white",
            "ticks": ""
           },
           "bgcolor": "#E5ECF6",
           "radialaxis": {
            "gridcolor": "white",
            "linecolor": "white",
            "ticks": ""
           }
          },
          "scene": {
           "xaxis": {
            "backgroundcolor": "#E5ECF6",
            "gridcolor": "white",
            "gridwidth": 2,
            "linecolor": "white",
            "showbackground": true,
            "ticks": "",
            "zerolinecolor": "white"
           },
           "yaxis": {
            "backgroundcolor": "#E5ECF6",
            "gridcolor": "white",
            "gridwidth": 2,
            "linecolor": "white",
            "showbackground": true,
            "ticks": "",
            "zerolinecolor": "white"
           },
           "zaxis": {
            "backgroundcolor": "#E5ECF6",
            "gridcolor": "white",
            "gridwidth": 2,
            "linecolor": "white",
            "showbackground": true,
            "ticks": "",
            "zerolinecolor": "white"
           }
          },
          "shapedefaults": {
           "line": {
            "color": "#2a3f5f"
           }
          },
          "ternary": {
           "aaxis": {
            "gridcolor": "white",
            "linecolor": "white",
            "ticks": ""
           },
           "baxis": {
            "gridcolor": "white",
            "linecolor": "white",
            "ticks": ""
           },
           "bgcolor": "#E5ECF6",
           "caxis": {
            "gridcolor": "white",
            "linecolor": "white",
            "ticks": ""
           }
          },
          "title": {
           "x": 0.05
          },
          "xaxis": {
           "automargin": true,
           "gridcolor": "white",
           "linecolor": "white",
           "ticks": "",
           "title": {
            "standoff": 15
           },
           "zerolinecolor": "white",
           "zerolinewidth": 2
          },
          "yaxis": {
           "automargin": true,
           "gridcolor": "white",
           "linecolor": "white",
           "ticks": "",
           "title": {
            "standoff": 15
           },
           "zerolinecolor": "white",
           "zerolinewidth": 2
          }
         }
        },
        "title": {
         "text": "Feature Importances for RandomForest Classifier"
        },
        "xaxis": {
         "anchor": "y",
         "categoryarray": [
          "alcohol",
          "volatile acidity",
          "sulphates",
          "density",
          "active SO2",
          "chlorides",
          "citric acid",
          "total sulfur dioxide",
          "fixed acidity",
          "pH",
          "free sulfur dioxide",
          "sweetness",
          "pH acidity"
         ],
         "categoryorder": "array",
         "domain": [
          0,
          1
         ],
         "tickangle": 90,
         "title": {
          "text": "Feature"
         }
        },
        "yaxis": {
         "anchor": "x",
         "domain": [
          0,
          1
         ],
         "title": {
          "text": "Weight"
         }
        }
       }
      }
     },
     "metadata": {},
     "output_type": "display_data"
    }
   ],
   "source": [
    "classifier = RandomForestClassifier()\n",
    "parameters = {'criterion': ['entropy'],\n",
    "              'n_estimators' : [50,100,500,1000],\n",
    "              'max_depth': range(2,20,2),\n",
    "              'min_samples_leaf':[100,250,500]}\n",
    "cv = 5\n",
    "best_rf = hyperp_search_random(classifier,parameters,cv)\n",
    "\n",
    "# Finding the best feature\n",
    "\n",
    "feature_importances = best_rf.feature_importances_\n",
    "importance_rf = pd.DataFrame({'Feature': X_train.columns,\n",
    "                              'Weight': feature_importances}).round(3)\n",
    "importance_rf = importance_rf.sort_values(by='Weight', ascending=False)\n",
    "\n",
    "# Plotting the features importance\n",
    "\n",
    "fig = px.bar(importance_rf, x='Feature', y='Weight', color='Feature',\n",
    "             title='Feature Importances for RandomForest Classifier',\n",
    "             color_discrete_sequence=px.colors.sequential.Blues_r,\n",
    "             text='Weight')\n",
    "\n",
    "fig.update_layout(xaxis=dict(tickangle=90),\n",
    "                  legend=dict(title='Feature'))"
   ]
  },
  {
   "cell_type": "markdown",
   "metadata": {},
   "source": [
    "# XGBOOST CLASSIFIER"
   ]
  },
  {
   "cell_type": "code",
   "execution_count": 157,
   "metadata": {},
   "outputs": [
    {
     "name": "stdout",
     "output_type": "stream",
     "text": [
      "f1_train: 0.774660 using {'subsample': 0.5, 'seed': 42, 'objective': 'binary:logistic', 'n_estimators': 500, 'min_child_weight': 10, 'max_depth': 10, 'learning_rate': 0.001, 'enable_categorical': True, 'colsample_bytree': 0.5} in 2.101 seconds\n",
      "[0 0 0 ... 1 1 1]\n",
      "           train    test \n",
      "-------------------------\n",
      "f1         0.804    0.743\n",
      "accuracy   0.775    0.721\n",
      "precision  0.747    0.714\n",
      "recall     0.870    0.775\n",
      "\n"
     ]
    },
    {
     "data": {
      "application/vnd.plotly.v1+json": {
       "config": {
        "plotlyServerURL": "https://plot.ly"
       },
       "data": [
        {
         "fillpattern": {
          "shape": ""
         },
         "hovertemplate": "False Positive Rate=%{x}<br>True Positive Rate=%{y}<extra></extra>",
         "legendgroup": "",
         "line": {
          "color": "#636efa"
         },
         "marker": {
          "symbol": "circle"
         },
         "mode": "lines",
         "name": "",
         "orientation": "v",
         "showlegend": false,
         "stackgroup": "1",
         "type": "scatter",
         "x": [
          0,
          0.3384615384615385,
          1
         ],
         "xaxis": "x",
         "y": [
          0,
          0.7746478873239436,
          1
         ],
         "yaxis": "y"
        }
       ],
       "layout": {
        "height": 500,
        "legend": {
         "tracegroupgap": 0
        },
        "shapes": [
         {
          "line": {
           "dash": "dash"
          },
          "type": "line",
          "x0": 0,
          "x1": 1,
          "y0": 0,
          "y1": 1
         }
        ],
        "template": {
         "data": {
          "bar": [
           {
            "error_x": {
             "color": "#2a3f5f"
            },
            "error_y": {
             "color": "#2a3f5f"
            },
            "marker": {
             "line": {
              "color": "#E5ECF6",
              "width": 0.5
             },
             "pattern": {
              "fillmode": "overlay",
              "size": 10,
              "solidity": 0.2
             }
            },
            "type": "bar"
           }
          ],
          "barpolar": [
           {
            "marker": {
             "line": {
              "color": "#E5ECF6",
              "width": 0.5
             },
             "pattern": {
              "fillmode": "overlay",
              "size": 10,
              "solidity": 0.2
             }
            },
            "type": "barpolar"
           }
          ],
          "carpet": [
           {
            "aaxis": {
             "endlinecolor": "#2a3f5f",
             "gridcolor": "white",
             "linecolor": "white",
             "minorgridcolor": "white",
             "startlinecolor": "#2a3f5f"
            },
            "baxis": {
             "endlinecolor": "#2a3f5f",
             "gridcolor": "white",
             "linecolor": "white",
             "minorgridcolor": "white",
             "startlinecolor": "#2a3f5f"
            },
            "type": "carpet"
           }
          ],
          "choropleth": [
           {
            "colorbar": {
             "outlinewidth": 0,
             "ticks": ""
            },
            "type": "choropleth"
           }
          ],
          "contour": [
           {
            "colorbar": {
             "outlinewidth": 0,
             "ticks": ""
            },
            "colorscale": [
             [
              0,
              "#0d0887"
             ],
             [
              0.1111111111111111,
              "#46039f"
             ],
             [
              0.2222222222222222,
              "#7201a8"
             ],
             [
              0.3333333333333333,
              "#9c179e"
             ],
             [
              0.4444444444444444,
              "#bd3786"
             ],
             [
              0.5555555555555556,
              "#d8576b"
             ],
             [
              0.6666666666666666,
              "#ed7953"
             ],
             [
              0.7777777777777778,
              "#fb9f3a"
             ],
             [
              0.8888888888888888,
              "#fdca26"
             ],
             [
              1,
              "#f0f921"
             ]
            ],
            "type": "contour"
           }
          ],
          "contourcarpet": [
           {
            "colorbar": {
             "outlinewidth": 0,
             "ticks": ""
            },
            "type": "contourcarpet"
           }
          ],
          "heatmap": [
           {
            "colorbar": {
             "outlinewidth": 0,
             "ticks": ""
            },
            "colorscale": [
             [
              0,
              "#0d0887"
             ],
             [
              0.1111111111111111,
              "#46039f"
             ],
             [
              0.2222222222222222,
              "#7201a8"
             ],
             [
              0.3333333333333333,
              "#9c179e"
             ],
             [
              0.4444444444444444,
              "#bd3786"
             ],
             [
              0.5555555555555556,
              "#d8576b"
             ],
             [
              0.6666666666666666,
              "#ed7953"
             ],
             [
              0.7777777777777778,
              "#fb9f3a"
             ],
             [
              0.8888888888888888,
              "#fdca26"
             ],
             [
              1,
              "#f0f921"
             ]
            ],
            "type": "heatmap"
           }
          ],
          "heatmapgl": [
           {
            "colorbar": {
             "outlinewidth": 0,
             "ticks": ""
            },
            "colorscale": [
             [
              0,
              "#0d0887"
             ],
             [
              0.1111111111111111,
              "#46039f"
             ],
             [
              0.2222222222222222,
              "#7201a8"
             ],
             [
              0.3333333333333333,
              "#9c179e"
             ],
             [
              0.4444444444444444,
              "#bd3786"
             ],
             [
              0.5555555555555556,
              "#d8576b"
             ],
             [
              0.6666666666666666,
              "#ed7953"
             ],
             [
              0.7777777777777778,
              "#fb9f3a"
             ],
             [
              0.8888888888888888,
              "#fdca26"
             ],
             [
              1,
              "#f0f921"
             ]
            ],
            "type": "heatmapgl"
           }
          ],
          "histogram": [
           {
            "marker": {
             "pattern": {
              "fillmode": "overlay",
              "size": 10,
              "solidity": 0.2
             }
            },
            "type": "histogram"
           }
          ],
          "histogram2d": [
           {
            "colorbar": {
             "outlinewidth": 0,
             "ticks": ""
            },
            "colorscale": [
             [
              0,
              "#0d0887"
             ],
             [
              0.1111111111111111,
              "#46039f"
             ],
             [
              0.2222222222222222,
              "#7201a8"
             ],
             [
              0.3333333333333333,
              "#9c179e"
             ],
             [
              0.4444444444444444,
              "#bd3786"
             ],
             [
              0.5555555555555556,
              "#d8576b"
             ],
             [
              0.6666666666666666,
              "#ed7953"
             ],
             [
              0.7777777777777778,
              "#fb9f3a"
             ],
             [
              0.8888888888888888,
              "#fdca26"
             ],
             [
              1,
              "#f0f921"
             ]
            ],
            "type": "histogram2d"
           }
          ],
          "histogram2dcontour": [
           {
            "colorbar": {
             "outlinewidth": 0,
             "ticks": ""
            },
            "colorscale": [
             [
              0,
              "#0d0887"
             ],
             [
              0.1111111111111111,
              "#46039f"
             ],
             [
              0.2222222222222222,
              "#7201a8"
             ],
             [
              0.3333333333333333,
              "#9c179e"
             ],
             [
              0.4444444444444444,
              "#bd3786"
             ],
             [
              0.5555555555555556,
              "#d8576b"
             ],
             [
              0.6666666666666666,
              "#ed7953"
             ],
             [
              0.7777777777777778,
              "#fb9f3a"
             ],
             [
              0.8888888888888888,
              "#fdca26"
             ],
             [
              1,
              "#f0f921"
             ]
            ],
            "type": "histogram2dcontour"
           }
          ],
          "mesh3d": [
           {
            "colorbar": {
             "outlinewidth": 0,
             "ticks": ""
            },
            "type": "mesh3d"
           }
          ],
          "parcoords": [
           {
            "line": {
             "colorbar": {
              "outlinewidth": 0,
              "ticks": ""
             }
            },
            "type": "parcoords"
           }
          ],
          "pie": [
           {
            "automargin": true,
            "type": "pie"
           }
          ],
          "scatter": [
           {
            "fillpattern": {
             "fillmode": "overlay",
             "size": 10,
             "solidity": 0.2
            },
            "type": "scatter"
           }
          ],
          "scatter3d": [
           {
            "line": {
             "colorbar": {
              "outlinewidth": 0,
              "ticks": ""
             }
            },
            "marker": {
             "colorbar": {
              "outlinewidth": 0,
              "ticks": ""
             }
            },
            "type": "scatter3d"
           }
          ],
          "scattercarpet": [
           {
            "marker": {
             "colorbar": {
              "outlinewidth": 0,
              "ticks": ""
             }
            },
            "type": "scattercarpet"
           }
          ],
          "scattergeo": [
           {
            "marker": {
             "colorbar": {
              "outlinewidth": 0,
              "ticks": ""
             }
            },
            "type": "scattergeo"
           }
          ],
          "scattergl": [
           {
            "marker": {
             "colorbar": {
              "outlinewidth": 0,
              "ticks": ""
             }
            },
            "type": "scattergl"
           }
          ],
          "scattermapbox": [
           {
            "marker": {
             "colorbar": {
              "outlinewidth": 0,
              "ticks": ""
             }
            },
            "type": "scattermapbox"
           }
          ],
          "scatterpolar": [
           {
            "marker": {
             "colorbar": {
              "outlinewidth": 0,
              "ticks": ""
             }
            },
            "type": "scatterpolar"
           }
          ],
          "scatterpolargl": [
           {
            "marker": {
             "colorbar": {
              "outlinewidth": 0,
              "ticks": ""
             }
            },
            "type": "scatterpolargl"
           }
          ],
          "scatterternary": [
           {
            "marker": {
             "colorbar": {
              "outlinewidth": 0,
              "ticks": ""
             }
            },
            "type": "scatterternary"
           }
          ],
          "surface": [
           {
            "colorbar": {
             "outlinewidth": 0,
             "ticks": ""
            },
            "colorscale": [
             [
              0,
              "#0d0887"
             ],
             [
              0.1111111111111111,
              "#46039f"
             ],
             [
              0.2222222222222222,
              "#7201a8"
             ],
             [
              0.3333333333333333,
              "#9c179e"
             ],
             [
              0.4444444444444444,
              "#bd3786"
             ],
             [
              0.5555555555555556,
              "#d8576b"
             ],
             [
              0.6666666666666666,
              "#ed7953"
             ],
             [
              0.7777777777777778,
              "#fb9f3a"
             ],
             [
              0.8888888888888888,
              "#fdca26"
             ],
             [
              1,
              "#f0f921"
             ]
            ],
            "type": "surface"
           }
          ],
          "table": [
           {
            "cells": {
             "fill": {
              "color": "#EBF0F8"
             },
             "line": {
              "color": "white"
             }
            },
            "header": {
             "fill": {
              "color": "#C8D4E3"
             },
             "line": {
              "color": "white"
             }
            },
            "type": "table"
           }
          ]
         },
         "layout": {
          "annotationdefaults": {
           "arrowcolor": "#2a3f5f",
           "arrowhead": 0,
           "arrowwidth": 1
          },
          "autotypenumbers": "strict",
          "coloraxis": {
           "colorbar": {
            "outlinewidth": 0,
            "ticks": ""
           }
          },
          "colorscale": {
           "diverging": [
            [
             0,
             "#8e0152"
            ],
            [
             0.1,
             "#c51b7d"
            ],
            [
             0.2,
             "#de77ae"
            ],
            [
             0.3,
             "#f1b6da"
            ],
            [
             0.4,
             "#fde0ef"
            ],
            [
             0.5,
             "#f7f7f7"
            ],
            [
             0.6,
             "#e6f5d0"
            ],
            [
             0.7,
             "#b8e186"
            ],
            [
             0.8,
             "#7fbc41"
            ],
            [
             0.9,
             "#4d9221"
            ],
            [
             1,
             "#276419"
            ]
           ],
           "sequential": [
            [
             0,
             "#0d0887"
            ],
            [
             0.1111111111111111,
             "#46039f"
            ],
            [
             0.2222222222222222,
             "#7201a8"
            ],
            [
             0.3333333333333333,
             "#9c179e"
            ],
            [
             0.4444444444444444,
             "#bd3786"
            ],
            [
             0.5555555555555556,
             "#d8576b"
            ],
            [
             0.6666666666666666,
             "#ed7953"
            ],
            [
             0.7777777777777778,
             "#fb9f3a"
            ],
            [
             0.8888888888888888,
             "#fdca26"
            ],
            [
             1,
             "#f0f921"
            ]
           ],
           "sequentialminus": [
            [
             0,
             "#0d0887"
            ],
            [
             0.1111111111111111,
             "#46039f"
            ],
            [
             0.2222222222222222,
             "#7201a8"
            ],
            [
             0.3333333333333333,
             "#9c179e"
            ],
            [
             0.4444444444444444,
             "#bd3786"
            ],
            [
             0.5555555555555556,
             "#d8576b"
            ],
            [
             0.6666666666666666,
             "#ed7953"
            ],
            [
             0.7777777777777778,
             "#fb9f3a"
            ],
            [
             0.8888888888888888,
             "#fdca26"
            ],
            [
             1,
             "#f0f921"
            ]
           ]
          },
          "colorway": [
           "#636efa",
           "#EF553B",
           "#00cc96",
           "#ab63fa",
           "#FFA15A",
           "#19d3f3",
           "#FF6692",
           "#B6E880",
           "#FF97FF",
           "#FECB52"
          ],
          "font": {
           "color": "#2a3f5f"
          },
          "geo": {
           "bgcolor": "white",
           "lakecolor": "white",
           "landcolor": "#E5ECF6",
           "showlakes": true,
           "showland": true,
           "subunitcolor": "white"
          },
          "hoverlabel": {
           "align": "left"
          },
          "hovermode": "closest",
          "mapbox": {
           "style": "light"
          },
          "paper_bgcolor": "white",
          "plot_bgcolor": "#E5ECF6",
          "polar": {
           "angularaxis": {
            "gridcolor": "white",
            "linecolor": "white",
            "ticks": ""
           },
           "bgcolor": "#E5ECF6",
           "radialaxis": {
            "gridcolor": "white",
            "linecolor": "white",
            "ticks": ""
           }
          },
          "scene": {
           "xaxis": {
            "backgroundcolor": "#E5ECF6",
            "gridcolor": "white",
            "gridwidth": 2,
            "linecolor": "white",
            "showbackground": true,
            "ticks": "",
            "zerolinecolor": "white"
           },
           "yaxis": {
            "backgroundcolor": "#E5ECF6",
            "gridcolor": "white",
            "gridwidth": 2,
            "linecolor": "white",
            "showbackground": true,
            "ticks": "",
            "zerolinecolor": "white"
           },
           "zaxis": {
            "backgroundcolor": "#E5ECF6",
            "gridcolor": "white",
            "gridwidth": 2,
            "linecolor": "white",
            "showbackground": true,
            "ticks": "",
            "zerolinecolor": "white"
           }
          },
          "shapedefaults": {
           "line": {
            "color": "#2a3f5f"
           }
          },
          "ternary": {
           "aaxis": {
            "gridcolor": "white",
            "linecolor": "white",
            "ticks": ""
           },
           "baxis": {
            "gridcolor": "white",
            "linecolor": "white",
            "ticks": ""
           },
           "bgcolor": "#E5ECF6",
           "caxis": {
            "gridcolor": "white",
            "linecolor": "white",
            "ticks": ""
           }
          },
          "title": {
           "x": 0.05
          },
          "xaxis": {
           "automargin": true,
           "gridcolor": "white",
           "linecolor": "white",
           "ticks": "",
           "title": {
            "standoff": 15
           },
           "zerolinecolor": "white",
           "zerolinewidth": 2
          },
          "yaxis": {
           "automargin": true,
           "gridcolor": "white",
           "linecolor": "white",
           "ticks": "",
           "title": {
            "standoff": 15
           },
           "zerolinecolor": "white",
           "zerolinewidth": 2
          }
         }
        },
        "title": {
         "text": "ROC Curve (AUC=0.7181)"
        },
        "width": 700,
        "xaxis": {
         "anchor": "y",
         "domain": [
          0,
          1
         ],
         "title": {
          "text": "False Positive Rate"
         }
        },
        "yaxis": {
         "anchor": "x",
         "domain": [
          0,
          1
         ],
         "title": {
          "text": "True Positive Rate"
         }
        }
       }
      }
     },
     "metadata": {},
     "output_type": "display_data"
    },
    {
     "data": {
      "application/vnd.plotly.v1+json": {
       "config": {
        "plotlyServerURL": "https://plot.ly"
       },
       "data": [
        {
         "coloraxis": "coloraxis",
         "hovertemplate": "Predicted Label: %{x}<br>True Label: %{y}<br>Count: %{z}<extra></extra>",
         "name": "0",
         "texttemplate": "%{z}",
         "type": "heatmap",
         "x": [
          "Predicted 0",
          "Predicted 1"
         ],
         "xaxis": "x",
         "y": [
          "Actual 0",
          "Actual 1"
         ],
         "yaxis": "y",
         "z": [
          [
           86,
           44
          ],
          [
           32,
           110
          ]
         ]
        }
       ],
       "layout": {
        "coloraxis": {
         "colorbar": {
          "title": {
           "text": "Count"
          }
         },
         "colorscale": [
          [
           0,
           "rgb(255,247,251)"
          ],
          [
           0.125,
           "rgb(236,231,242)"
          ],
          [
           0.25,
           "rgb(208,209,230)"
          ],
          [
           0.375,
           "rgb(166,189,219)"
          ],
          [
           0.5,
           "rgb(116,169,207)"
          ],
          [
           0.625,
           "rgb(54,144,192)"
          ],
          [
           0.75,
           "rgb(5,112,176)"
          ],
          [
           0.875,
           "rgb(4,90,141)"
          ],
          [
           1,
           "rgb(2,56,88)"
          ]
         ]
        },
        "height": 500,
        "template": {
         "data": {
          "bar": [
           {
            "error_x": {
             "color": "#2a3f5f"
            },
            "error_y": {
             "color": "#2a3f5f"
            },
            "marker": {
             "line": {
              "color": "#E5ECF6",
              "width": 0.5
             },
             "pattern": {
              "fillmode": "overlay",
              "size": 10,
              "solidity": 0.2
             }
            },
            "type": "bar"
           }
          ],
          "barpolar": [
           {
            "marker": {
             "line": {
              "color": "#E5ECF6",
              "width": 0.5
             },
             "pattern": {
              "fillmode": "overlay",
              "size": 10,
              "solidity": 0.2
             }
            },
            "type": "barpolar"
           }
          ],
          "carpet": [
           {
            "aaxis": {
             "endlinecolor": "#2a3f5f",
             "gridcolor": "white",
             "linecolor": "white",
             "minorgridcolor": "white",
             "startlinecolor": "#2a3f5f"
            },
            "baxis": {
             "endlinecolor": "#2a3f5f",
             "gridcolor": "white",
             "linecolor": "white",
             "minorgridcolor": "white",
             "startlinecolor": "#2a3f5f"
            },
            "type": "carpet"
           }
          ],
          "choropleth": [
           {
            "colorbar": {
             "outlinewidth": 0,
             "ticks": ""
            },
            "type": "choropleth"
           }
          ],
          "contour": [
           {
            "colorbar": {
             "outlinewidth": 0,
             "ticks": ""
            },
            "colorscale": [
             [
              0,
              "#0d0887"
             ],
             [
              0.1111111111111111,
              "#46039f"
             ],
             [
              0.2222222222222222,
              "#7201a8"
             ],
             [
              0.3333333333333333,
              "#9c179e"
             ],
             [
              0.4444444444444444,
              "#bd3786"
             ],
             [
              0.5555555555555556,
              "#d8576b"
             ],
             [
              0.6666666666666666,
              "#ed7953"
             ],
             [
              0.7777777777777778,
              "#fb9f3a"
             ],
             [
              0.8888888888888888,
              "#fdca26"
             ],
             [
              1,
              "#f0f921"
             ]
            ],
            "type": "contour"
           }
          ],
          "contourcarpet": [
           {
            "colorbar": {
             "outlinewidth": 0,
             "ticks": ""
            },
            "type": "contourcarpet"
           }
          ],
          "heatmap": [
           {
            "colorbar": {
             "outlinewidth": 0,
             "ticks": ""
            },
            "colorscale": [
             [
              0,
              "#0d0887"
             ],
             [
              0.1111111111111111,
              "#46039f"
             ],
             [
              0.2222222222222222,
              "#7201a8"
             ],
             [
              0.3333333333333333,
              "#9c179e"
             ],
             [
              0.4444444444444444,
              "#bd3786"
             ],
             [
              0.5555555555555556,
              "#d8576b"
             ],
             [
              0.6666666666666666,
              "#ed7953"
             ],
             [
              0.7777777777777778,
              "#fb9f3a"
             ],
             [
              0.8888888888888888,
              "#fdca26"
             ],
             [
              1,
              "#f0f921"
             ]
            ],
            "type": "heatmap"
           }
          ],
          "heatmapgl": [
           {
            "colorbar": {
             "outlinewidth": 0,
             "ticks": ""
            },
            "colorscale": [
             [
              0,
              "#0d0887"
             ],
             [
              0.1111111111111111,
              "#46039f"
             ],
             [
              0.2222222222222222,
              "#7201a8"
             ],
             [
              0.3333333333333333,
              "#9c179e"
             ],
             [
              0.4444444444444444,
              "#bd3786"
             ],
             [
              0.5555555555555556,
              "#d8576b"
             ],
             [
              0.6666666666666666,
              "#ed7953"
             ],
             [
              0.7777777777777778,
              "#fb9f3a"
             ],
             [
              0.8888888888888888,
              "#fdca26"
             ],
             [
              1,
              "#f0f921"
             ]
            ],
            "type": "heatmapgl"
           }
          ],
          "histogram": [
           {
            "marker": {
             "pattern": {
              "fillmode": "overlay",
              "size": 10,
              "solidity": 0.2
             }
            },
            "type": "histogram"
           }
          ],
          "histogram2d": [
           {
            "colorbar": {
             "outlinewidth": 0,
             "ticks": ""
            },
            "colorscale": [
             [
              0,
              "#0d0887"
             ],
             [
              0.1111111111111111,
              "#46039f"
             ],
             [
              0.2222222222222222,
              "#7201a8"
             ],
             [
              0.3333333333333333,
              "#9c179e"
             ],
             [
              0.4444444444444444,
              "#bd3786"
             ],
             [
              0.5555555555555556,
              "#d8576b"
             ],
             [
              0.6666666666666666,
              "#ed7953"
             ],
             [
              0.7777777777777778,
              "#fb9f3a"
             ],
             [
              0.8888888888888888,
              "#fdca26"
             ],
             [
              1,
              "#f0f921"
             ]
            ],
            "type": "histogram2d"
           }
          ],
          "histogram2dcontour": [
           {
            "colorbar": {
             "outlinewidth": 0,
             "ticks": ""
            },
            "colorscale": [
             [
              0,
              "#0d0887"
             ],
             [
              0.1111111111111111,
              "#46039f"
             ],
             [
              0.2222222222222222,
              "#7201a8"
             ],
             [
              0.3333333333333333,
              "#9c179e"
             ],
             [
              0.4444444444444444,
              "#bd3786"
             ],
             [
              0.5555555555555556,
              "#d8576b"
             ],
             [
              0.6666666666666666,
              "#ed7953"
             ],
             [
              0.7777777777777778,
              "#fb9f3a"
             ],
             [
              0.8888888888888888,
              "#fdca26"
             ],
             [
              1,
              "#f0f921"
             ]
            ],
            "type": "histogram2dcontour"
           }
          ],
          "mesh3d": [
           {
            "colorbar": {
             "outlinewidth": 0,
             "ticks": ""
            },
            "type": "mesh3d"
           }
          ],
          "parcoords": [
           {
            "line": {
             "colorbar": {
              "outlinewidth": 0,
              "ticks": ""
             }
            },
            "type": "parcoords"
           }
          ],
          "pie": [
           {
            "automargin": true,
            "type": "pie"
           }
          ],
          "scatter": [
           {
            "fillpattern": {
             "fillmode": "overlay",
             "size": 10,
             "solidity": 0.2
            },
            "type": "scatter"
           }
          ],
          "scatter3d": [
           {
            "line": {
             "colorbar": {
              "outlinewidth": 0,
              "ticks": ""
             }
            },
            "marker": {
             "colorbar": {
              "outlinewidth": 0,
              "ticks": ""
             }
            },
            "type": "scatter3d"
           }
          ],
          "scattercarpet": [
           {
            "marker": {
             "colorbar": {
              "outlinewidth": 0,
              "ticks": ""
             }
            },
            "type": "scattercarpet"
           }
          ],
          "scattergeo": [
           {
            "marker": {
             "colorbar": {
              "outlinewidth": 0,
              "ticks": ""
             }
            },
            "type": "scattergeo"
           }
          ],
          "scattergl": [
           {
            "marker": {
             "colorbar": {
              "outlinewidth": 0,
              "ticks": ""
             }
            },
            "type": "scattergl"
           }
          ],
          "scattermapbox": [
           {
            "marker": {
             "colorbar": {
              "outlinewidth": 0,
              "ticks": ""
             }
            },
            "type": "scattermapbox"
           }
          ],
          "scatterpolar": [
           {
            "marker": {
             "colorbar": {
              "outlinewidth": 0,
              "ticks": ""
             }
            },
            "type": "scatterpolar"
           }
          ],
          "scatterpolargl": [
           {
            "marker": {
             "colorbar": {
              "outlinewidth": 0,
              "ticks": ""
             }
            },
            "type": "scatterpolargl"
           }
          ],
          "scatterternary": [
           {
            "marker": {
             "colorbar": {
              "outlinewidth": 0,
              "ticks": ""
             }
            },
            "type": "scatterternary"
           }
          ],
          "surface": [
           {
            "colorbar": {
             "outlinewidth": 0,
             "ticks": ""
            },
            "colorscale": [
             [
              0,
              "#0d0887"
             ],
             [
              0.1111111111111111,
              "#46039f"
             ],
             [
              0.2222222222222222,
              "#7201a8"
             ],
             [
              0.3333333333333333,
              "#9c179e"
             ],
             [
              0.4444444444444444,
              "#bd3786"
             ],
             [
              0.5555555555555556,
              "#d8576b"
             ],
             [
              0.6666666666666666,
              "#ed7953"
             ],
             [
              0.7777777777777778,
              "#fb9f3a"
             ],
             [
              0.8888888888888888,
              "#fdca26"
             ],
             [
              1,
              "#f0f921"
             ]
            ],
            "type": "surface"
           }
          ],
          "table": [
           {
            "cells": {
             "fill": {
              "color": "#EBF0F8"
             },
             "line": {
              "color": "white"
             }
            },
            "header": {
             "fill": {
              "color": "#C8D4E3"
             },
             "line": {
              "color": "white"
             }
            },
            "type": "table"
           }
          ]
         },
         "layout": {
          "annotationdefaults": {
           "arrowcolor": "#2a3f5f",
           "arrowhead": 0,
           "arrowwidth": 1
          },
          "autotypenumbers": "strict",
          "coloraxis": {
           "colorbar": {
            "outlinewidth": 0,
            "ticks": ""
           }
          },
          "colorscale": {
           "diverging": [
            [
             0,
             "#8e0152"
            ],
            [
             0.1,
             "#c51b7d"
            ],
            [
             0.2,
             "#de77ae"
            ],
            [
             0.3,
             "#f1b6da"
            ],
            [
             0.4,
             "#fde0ef"
            ],
            [
             0.5,
             "#f7f7f7"
            ],
            [
             0.6,
             "#e6f5d0"
            ],
            [
             0.7,
             "#b8e186"
            ],
            [
             0.8,
             "#7fbc41"
            ],
            [
             0.9,
             "#4d9221"
            ],
            [
             1,
             "#276419"
            ]
           ],
           "sequential": [
            [
             0,
             "#0d0887"
            ],
            [
             0.1111111111111111,
             "#46039f"
            ],
            [
             0.2222222222222222,
             "#7201a8"
            ],
            [
             0.3333333333333333,
             "#9c179e"
            ],
            [
             0.4444444444444444,
             "#bd3786"
            ],
            [
             0.5555555555555556,
             "#d8576b"
            ],
            [
             0.6666666666666666,
             "#ed7953"
            ],
            [
             0.7777777777777778,
             "#fb9f3a"
            ],
            [
             0.8888888888888888,
             "#fdca26"
            ],
            [
             1,
             "#f0f921"
            ]
           ],
           "sequentialminus": [
            [
             0,
             "#0d0887"
            ],
            [
             0.1111111111111111,
             "#46039f"
            ],
            [
             0.2222222222222222,
             "#7201a8"
            ],
            [
             0.3333333333333333,
             "#9c179e"
            ],
            [
             0.4444444444444444,
             "#bd3786"
            ],
            [
             0.5555555555555556,
             "#d8576b"
            ],
            [
             0.6666666666666666,
             "#ed7953"
            ],
            [
             0.7777777777777778,
             "#fb9f3a"
            ],
            [
             0.8888888888888888,
             "#fdca26"
            ],
            [
             1,
             "#f0f921"
            ]
           ]
          },
          "colorway": [
           "#636efa",
           "#EF553B",
           "#00cc96",
           "#ab63fa",
           "#FFA15A",
           "#19d3f3",
           "#FF6692",
           "#B6E880",
           "#FF97FF",
           "#FECB52"
          ],
          "font": {
           "color": "#2a3f5f"
          },
          "geo": {
           "bgcolor": "white",
           "lakecolor": "white",
           "landcolor": "#E5ECF6",
           "showlakes": true,
           "showland": true,
           "subunitcolor": "white"
          },
          "hoverlabel": {
           "align": "left"
          },
          "hovermode": "closest",
          "mapbox": {
           "style": "light"
          },
          "paper_bgcolor": "white",
          "plot_bgcolor": "#E5ECF6",
          "polar": {
           "angularaxis": {
            "gridcolor": "white",
            "linecolor": "white",
            "ticks": ""
           },
           "bgcolor": "#E5ECF6",
           "radialaxis": {
            "gridcolor": "white",
            "linecolor": "white",
            "ticks": ""
           }
          },
          "scene": {
           "xaxis": {
            "backgroundcolor": "#E5ECF6",
            "gridcolor": "white",
            "gridwidth": 2,
            "linecolor": "white",
            "showbackground": true,
            "ticks": "",
            "zerolinecolor": "white"
           },
           "yaxis": {
            "backgroundcolor": "#E5ECF6",
            "gridcolor": "white",
            "gridwidth": 2,
            "linecolor": "white",
            "showbackground": true,
            "ticks": "",
            "zerolinecolor": "white"
           },
           "zaxis": {
            "backgroundcolor": "#E5ECF6",
            "gridcolor": "white",
            "gridwidth": 2,
            "linecolor": "white",
            "showbackground": true,
            "ticks": "",
            "zerolinecolor": "white"
           }
          },
          "shapedefaults": {
           "line": {
            "color": "#2a3f5f"
           }
          },
          "ternary": {
           "aaxis": {
            "gridcolor": "white",
            "linecolor": "white",
            "ticks": ""
           },
           "baxis": {
            "gridcolor": "white",
            "linecolor": "white",
            "ticks": ""
           },
           "bgcolor": "#E5ECF6",
           "caxis": {
            "gridcolor": "white",
            "linecolor": "white",
            "ticks": ""
           }
          },
          "title": {
           "x": 0.05
          },
          "xaxis": {
           "automargin": true,
           "gridcolor": "white",
           "linecolor": "white",
           "ticks": "",
           "title": {
            "standoff": 15
           },
           "zerolinecolor": "white",
           "zerolinewidth": 2
          },
          "yaxis": {
           "automargin": true,
           "gridcolor": "white",
           "linecolor": "white",
           "ticks": "",
           "title": {
            "standoff": 15
           },
           "zerolinecolor": "white",
           "zerolinewidth": 2
          }
         }
        },
        "title": {
         "text": "Confusion Matrix"
        },
        "width": 700,
        "xaxis": {
         "anchor": "y",
         "constrain": "domain",
         "domain": [
          0,
          1
         ],
         "scaleanchor": "y",
         "title": {
          "text": "Predicted Label"
         }
        },
        "yaxis": {
         "anchor": "x",
         "autorange": "reversed",
         "constrain": "domain",
         "domain": [
          0,
          1
         ],
         "title": {
          "text": "True Label"
         }
        }
       }
      }
     },
     "metadata": {},
     "output_type": "display_data"
    },
    {
     "data": {
      "application/vnd.plotly.v1+json": {
       "config": {
        "plotlyServerURL": "https://plot.ly"
       },
       "data": [
        {
         "alignmentgroup": "True",
         "hovertemplate": "Feature=%{x}<br>Weight=%{y}<br>text=%{text}<extra></extra>",
         "legendgroup": "alcohol",
         "marker": {
          "color": "rgb(8,48,107)",
          "pattern": {
           "shape": ""
          }
         },
         "name": "alcohol",
         "offsetgroup": "alcohol",
         "orientation": "v",
         "showlegend": true,
         "text": [
          "0.289"
         ],
         "textposition": "auto",
         "type": "bar",
         "x": [
          "alcohol"
         ],
         "xaxis": "x",
         "y": [
          0.289000004529953
         ],
         "yaxis": "y"
        },
        {
         "alignmentgroup": "True",
         "hovertemplate": "Feature=%{x}<br>Weight=%{y}<br>text=%{text}<extra></extra>",
         "legendgroup": "sulphates",
         "marker": {
          "color": "rgb(8,81,156)",
          "pattern": {
           "shape": ""
          }
         },
         "name": "sulphates",
         "offsetgroup": "sulphates",
         "orientation": "v",
         "showlegend": true,
         "text": [
          "0.128"
         ],
         "textposition": "auto",
         "type": "bar",
         "x": [
          "sulphates"
         ],
         "xaxis": "x",
         "y": [
          0.12800000607967377
         ],
         "yaxis": "y"
        },
        {
         "alignmentgroup": "True",
         "hovertemplate": "Feature=%{x}<br>Weight=%{y}<br>text=%{text}<extra></extra>",
         "legendgroup": "volatile acidity",
         "marker": {
          "color": "rgb(33,113,181)",
          "pattern": {
           "shape": ""
          }
         },
         "name": "volatile acidity",
         "offsetgroup": "volatile acidity",
         "orientation": "v",
         "showlegend": true,
         "text": [
          "0.117"
         ],
         "textposition": "auto",
         "type": "bar",
         "x": [
          "volatile acidity"
         ],
         "xaxis": "x",
         "y": [
          0.11699999868869781
         ],
         "yaxis": "y"
        },
        {
         "alignmentgroup": "True",
         "hovertemplate": "Feature=%{x}<br>Weight=%{y}<br>text=%{text}<extra></extra>",
         "legendgroup": "active SO2",
         "marker": {
          "color": "rgb(66,146,198)",
          "pattern": {
           "shape": ""
          }
         },
         "name": "active SO2",
         "offsetgroup": "active SO2",
         "orientation": "v",
         "showlegend": true,
         "text": [
          "0.085"
         ],
         "textposition": "auto",
         "type": "bar",
         "x": [
          "active SO2"
         ],
         "xaxis": "x",
         "y": [
          0.08500000089406967
         ],
         "yaxis": "y"
        },
        {
         "alignmentgroup": "True",
         "hovertemplate": "Feature=%{x}<br>Weight=%{y}<br>text=%{text}<extra></extra>",
         "legendgroup": "total sulfur dioxide",
         "marker": {
          "color": "rgb(107,174,214)",
          "pattern": {
           "shape": ""
          }
         },
         "name": "total sulfur dioxide",
         "offsetgroup": "total sulfur dioxide",
         "orientation": "v",
         "showlegend": true,
         "text": [
          "0.078"
         ],
         "textposition": "auto",
         "type": "bar",
         "x": [
          "total sulfur dioxide"
         ],
         "xaxis": "x",
         "y": [
          0.07800000160932541
         ],
         "yaxis": "y"
        },
        {
         "alignmentgroup": "True",
         "hovertemplate": "Feature=%{x}<br>Weight=%{y}<br>text=%{text}<extra></extra>",
         "legendgroup": "density",
         "marker": {
          "color": "rgb(158,202,225)",
          "pattern": {
           "shape": ""
          }
         },
         "name": "density",
         "offsetgroup": "density",
         "orientation": "v",
         "showlegend": true,
         "text": [
          "0.075"
         ],
         "textposition": "auto",
         "type": "bar",
         "x": [
          "density"
         ],
         "xaxis": "x",
         "y": [
          0.07500000298023224
         ],
         "yaxis": "y"
        },
        {
         "alignmentgroup": "True",
         "hovertemplate": "Feature=%{x}<br>Weight=%{y}<br>text=%{text}<extra></extra>",
         "legendgroup": "citric acid",
         "marker": {
          "color": "rgb(198,219,239)",
          "pattern": {
           "shape": ""
          }
         },
         "name": "citric acid",
         "offsetgroup": "citric acid",
         "orientation": "v",
         "showlegend": true,
         "text": [
          "0.056"
         ],
         "textposition": "auto",
         "type": "bar",
         "x": [
          "citric acid"
         ],
         "xaxis": "x",
         "y": [
          0.0560000017285347
         ],
         "yaxis": "y"
        },
        {
         "alignmentgroup": "True",
         "hovertemplate": "Feature=%{x}<br>Weight=%{y}<br>text=%{text}<extra></extra>",
         "legendgroup": "fixed acidity",
         "marker": {
          "color": "rgb(222,235,247)",
          "pattern": {
           "shape": ""
          }
         },
         "name": "fixed acidity",
         "offsetgroup": "fixed acidity",
         "orientation": "v",
         "showlegend": true,
         "text": [
          "0.050"
         ],
         "textposition": "auto",
         "type": "bar",
         "x": [
          "fixed acidity"
         ],
         "xaxis": "x",
         "y": [
          0.05000000074505806
         ],
         "yaxis": "y"
        },
        {
         "alignmentgroup": "True",
         "hovertemplate": "Feature=%{x}<br>Weight=%{y}<br>text=%{text}<extra></extra>",
         "legendgroup": "chlorides",
         "marker": {
          "color": "rgb(247,251,255)",
          "pattern": {
           "shape": ""
          }
         },
         "name": "chlorides",
         "offsetgroup": "chlorides",
         "orientation": "v",
         "showlegend": true,
         "text": [
          "0.048"
         ],
         "textposition": "auto",
         "type": "bar",
         "x": [
          "chlorides"
         ],
         "xaxis": "x",
         "y": [
          0.04800000041723251
         ],
         "yaxis": "y"
        },
        {
         "alignmentgroup": "True",
         "hovertemplate": "Feature=%{x}<br>Weight=%{y}<br>text=%{text}<extra></extra>",
         "legendgroup": "free sulfur dioxide",
         "marker": {
          "color": "rgb(8,48,107)",
          "pattern": {
           "shape": ""
          }
         },
         "name": "free sulfur dioxide",
         "offsetgroup": "free sulfur dioxide",
         "orientation": "v",
         "showlegend": true,
         "text": [
          "0.041"
         ],
         "textposition": "auto",
         "type": "bar",
         "x": [
          "free sulfur dioxide"
         ],
         "xaxis": "x",
         "y": [
          0.04100000113248825
         ],
         "yaxis": "y"
        },
        {
         "alignmentgroup": "True",
         "hovertemplate": "Feature=%{x}<br>Weight=%{y}<br>text=%{text}<extra></extra>",
         "legendgroup": "pH",
         "marker": {
          "color": "rgb(8,81,156)",
          "pattern": {
           "shape": ""
          }
         },
         "name": "pH",
         "offsetgroup": "pH",
         "orientation": "v",
         "showlegend": true,
         "text": [
          "0.034"
         ],
         "textposition": "auto",
         "type": "bar",
         "x": [
          "pH"
         ],
         "xaxis": "x",
         "y": [
          0.03400000184774399
         ],
         "yaxis": "y"
        },
        {
         "alignmentgroup": "True",
         "hovertemplate": "Feature=%{x}<br>Weight=%{y}<br>text=%{text}<extra></extra>",
         "legendgroup": "sweetness",
         "marker": {
          "color": "rgb(33,113,181)",
          "pattern": {
           "shape": ""
          }
         },
         "name": "sweetness",
         "offsetgroup": "sweetness",
         "orientation": "v",
         "showlegend": true,
         "text": [
          "0.000"
         ],
         "textposition": "auto",
         "type": "bar",
         "x": [
          "sweetness"
         ],
         "xaxis": "x",
         "y": [
          0
         ],
         "yaxis": "y"
        },
        {
         "alignmentgroup": "True",
         "hovertemplate": "Feature=%{x}<br>Weight=%{y}<br>text=%{text}<extra></extra>",
         "legendgroup": "pH acidity",
         "marker": {
          "color": "rgb(66,146,198)",
          "pattern": {
           "shape": ""
          }
         },
         "name": "pH acidity",
         "offsetgroup": "pH acidity",
         "orientation": "v",
         "showlegend": true,
         "text": [
          "0.000"
         ],
         "textposition": "auto",
         "type": "bar",
         "x": [
          "pH acidity"
         ],
         "xaxis": "x",
         "y": [
          0
         ],
         "yaxis": "y"
        }
       ],
       "layout": {
        "barmode": "relative",
        "legend": {
         "title": {
          "text": "Feature"
         },
         "tracegroupgap": 0
        },
        "template": {
         "data": {
          "bar": [
           {
            "error_x": {
             "color": "#2a3f5f"
            },
            "error_y": {
             "color": "#2a3f5f"
            },
            "marker": {
             "line": {
              "color": "#E5ECF6",
              "width": 0.5
             },
             "pattern": {
              "fillmode": "overlay",
              "size": 10,
              "solidity": 0.2
             }
            },
            "type": "bar"
           }
          ],
          "barpolar": [
           {
            "marker": {
             "line": {
              "color": "#E5ECF6",
              "width": 0.5
             },
             "pattern": {
              "fillmode": "overlay",
              "size": 10,
              "solidity": 0.2
             }
            },
            "type": "barpolar"
           }
          ],
          "carpet": [
           {
            "aaxis": {
             "endlinecolor": "#2a3f5f",
             "gridcolor": "white",
             "linecolor": "white",
             "minorgridcolor": "white",
             "startlinecolor": "#2a3f5f"
            },
            "baxis": {
             "endlinecolor": "#2a3f5f",
             "gridcolor": "white",
             "linecolor": "white",
             "minorgridcolor": "white",
             "startlinecolor": "#2a3f5f"
            },
            "type": "carpet"
           }
          ],
          "choropleth": [
           {
            "colorbar": {
             "outlinewidth": 0,
             "ticks": ""
            },
            "type": "choropleth"
           }
          ],
          "contour": [
           {
            "colorbar": {
             "outlinewidth": 0,
             "ticks": ""
            },
            "colorscale": [
             [
              0,
              "#0d0887"
             ],
             [
              0.1111111111111111,
              "#46039f"
             ],
             [
              0.2222222222222222,
              "#7201a8"
             ],
             [
              0.3333333333333333,
              "#9c179e"
             ],
             [
              0.4444444444444444,
              "#bd3786"
             ],
             [
              0.5555555555555556,
              "#d8576b"
             ],
             [
              0.6666666666666666,
              "#ed7953"
             ],
             [
              0.7777777777777778,
              "#fb9f3a"
             ],
             [
              0.8888888888888888,
              "#fdca26"
             ],
             [
              1,
              "#f0f921"
             ]
            ],
            "type": "contour"
           }
          ],
          "contourcarpet": [
           {
            "colorbar": {
             "outlinewidth": 0,
             "ticks": ""
            },
            "type": "contourcarpet"
           }
          ],
          "heatmap": [
           {
            "colorbar": {
             "outlinewidth": 0,
             "ticks": ""
            },
            "colorscale": [
             [
              0,
              "#0d0887"
             ],
             [
              0.1111111111111111,
              "#46039f"
             ],
             [
              0.2222222222222222,
              "#7201a8"
             ],
             [
              0.3333333333333333,
              "#9c179e"
             ],
             [
              0.4444444444444444,
              "#bd3786"
             ],
             [
              0.5555555555555556,
              "#d8576b"
             ],
             [
              0.6666666666666666,
              "#ed7953"
             ],
             [
              0.7777777777777778,
              "#fb9f3a"
             ],
             [
              0.8888888888888888,
              "#fdca26"
             ],
             [
              1,
              "#f0f921"
             ]
            ],
            "type": "heatmap"
           }
          ],
          "heatmapgl": [
           {
            "colorbar": {
             "outlinewidth": 0,
             "ticks": ""
            },
            "colorscale": [
             [
              0,
              "#0d0887"
             ],
             [
              0.1111111111111111,
              "#46039f"
             ],
             [
              0.2222222222222222,
              "#7201a8"
             ],
             [
              0.3333333333333333,
              "#9c179e"
             ],
             [
              0.4444444444444444,
              "#bd3786"
             ],
             [
              0.5555555555555556,
              "#d8576b"
             ],
             [
              0.6666666666666666,
              "#ed7953"
             ],
             [
              0.7777777777777778,
              "#fb9f3a"
             ],
             [
              0.8888888888888888,
              "#fdca26"
             ],
             [
              1,
              "#f0f921"
             ]
            ],
            "type": "heatmapgl"
           }
          ],
          "histogram": [
           {
            "marker": {
             "pattern": {
              "fillmode": "overlay",
              "size": 10,
              "solidity": 0.2
             }
            },
            "type": "histogram"
           }
          ],
          "histogram2d": [
           {
            "colorbar": {
             "outlinewidth": 0,
             "ticks": ""
            },
            "colorscale": [
             [
              0,
              "#0d0887"
             ],
             [
              0.1111111111111111,
              "#46039f"
             ],
             [
              0.2222222222222222,
              "#7201a8"
             ],
             [
              0.3333333333333333,
              "#9c179e"
             ],
             [
              0.4444444444444444,
              "#bd3786"
             ],
             [
              0.5555555555555556,
              "#d8576b"
             ],
             [
              0.6666666666666666,
              "#ed7953"
             ],
             [
              0.7777777777777778,
              "#fb9f3a"
             ],
             [
              0.8888888888888888,
              "#fdca26"
             ],
             [
              1,
              "#f0f921"
             ]
            ],
            "type": "histogram2d"
           }
          ],
          "histogram2dcontour": [
           {
            "colorbar": {
             "outlinewidth": 0,
             "ticks": ""
            },
            "colorscale": [
             [
              0,
              "#0d0887"
             ],
             [
              0.1111111111111111,
              "#46039f"
             ],
             [
              0.2222222222222222,
              "#7201a8"
             ],
             [
              0.3333333333333333,
              "#9c179e"
             ],
             [
              0.4444444444444444,
              "#bd3786"
             ],
             [
              0.5555555555555556,
              "#d8576b"
             ],
             [
              0.6666666666666666,
              "#ed7953"
             ],
             [
              0.7777777777777778,
              "#fb9f3a"
             ],
             [
              0.8888888888888888,
              "#fdca26"
             ],
             [
              1,
              "#f0f921"
             ]
            ],
            "type": "histogram2dcontour"
           }
          ],
          "mesh3d": [
           {
            "colorbar": {
             "outlinewidth": 0,
             "ticks": ""
            },
            "type": "mesh3d"
           }
          ],
          "parcoords": [
           {
            "line": {
             "colorbar": {
              "outlinewidth": 0,
              "ticks": ""
             }
            },
            "type": "parcoords"
           }
          ],
          "pie": [
           {
            "automargin": true,
            "type": "pie"
           }
          ],
          "scatter": [
           {
            "fillpattern": {
             "fillmode": "overlay",
             "size": 10,
             "solidity": 0.2
            },
            "type": "scatter"
           }
          ],
          "scatter3d": [
           {
            "line": {
             "colorbar": {
              "outlinewidth": 0,
              "ticks": ""
             }
            },
            "marker": {
             "colorbar": {
              "outlinewidth": 0,
              "ticks": ""
             }
            },
            "type": "scatter3d"
           }
          ],
          "scattercarpet": [
           {
            "marker": {
             "colorbar": {
              "outlinewidth": 0,
              "ticks": ""
             }
            },
            "type": "scattercarpet"
           }
          ],
          "scattergeo": [
           {
            "marker": {
             "colorbar": {
              "outlinewidth": 0,
              "ticks": ""
             }
            },
            "type": "scattergeo"
           }
          ],
          "scattergl": [
           {
            "marker": {
             "colorbar": {
              "outlinewidth": 0,
              "ticks": ""
             }
            },
            "type": "scattergl"
           }
          ],
          "scattermapbox": [
           {
            "marker": {
             "colorbar": {
              "outlinewidth": 0,
              "ticks": ""
             }
            },
            "type": "scattermapbox"
           }
          ],
          "scatterpolar": [
           {
            "marker": {
             "colorbar": {
              "outlinewidth": 0,
              "ticks": ""
             }
            },
            "type": "scatterpolar"
           }
          ],
          "scatterpolargl": [
           {
            "marker": {
             "colorbar": {
              "outlinewidth": 0,
              "ticks": ""
             }
            },
            "type": "scatterpolargl"
           }
          ],
          "scatterternary": [
           {
            "marker": {
             "colorbar": {
              "outlinewidth": 0,
              "ticks": ""
             }
            },
            "type": "scatterternary"
           }
          ],
          "surface": [
           {
            "colorbar": {
             "outlinewidth": 0,
             "ticks": ""
            },
            "colorscale": [
             [
              0,
              "#0d0887"
             ],
             [
              0.1111111111111111,
              "#46039f"
             ],
             [
              0.2222222222222222,
              "#7201a8"
             ],
             [
              0.3333333333333333,
              "#9c179e"
             ],
             [
              0.4444444444444444,
              "#bd3786"
             ],
             [
              0.5555555555555556,
              "#d8576b"
             ],
             [
              0.6666666666666666,
              "#ed7953"
             ],
             [
              0.7777777777777778,
              "#fb9f3a"
             ],
             [
              0.8888888888888888,
              "#fdca26"
             ],
             [
              1,
              "#f0f921"
             ]
            ],
            "type": "surface"
           }
          ],
          "table": [
           {
            "cells": {
             "fill": {
              "color": "#EBF0F8"
             },
             "line": {
              "color": "white"
             }
            },
            "header": {
             "fill": {
              "color": "#C8D4E3"
             },
             "line": {
              "color": "white"
             }
            },
            "type": "table"
           }
          ]
         },
         "layout": {
          "annotationdefaults": {
           "arrowcolor": "#2a3f5f",
           "arrowhead": 0,
           "arrowwidth": 1
          },
          "autotypenumbers": "strict",
          "coloraxis": {
           "colorbar": {
            "outlinewidth": 0,
            "ticks": ""
           }
          },
          "colorscale": {
           "diverging": [
            [
             0,
             "#8e0152"
            ],
            [
             0.1,
             "#c51b7d"
            ],
            [
             0.2,
             "#de77ae"
            ],
            [
             0.3,
             "#f1b6da"
            ],
            [
             0.4,
             "#fde0ef"
            ],
            [
             0.5,
             "#f7f7f7"
            ],
            [
             0.6,
             "#e6f5d0"
            ],
            [
             0.7,
             "#b8e186"
            ],
            [
             0.8,
             "#7fbc41"
            ],
            [
             0.9,
             "#4d9221"
            ],
            [
             1,
             "#276419"
            ]
           ],
           "sequential": [
            [
             0,
             "#0d0887"
            ],
            [
             0.1111111111111111,
             "#46039f"
            ],
            [
             0.2222222222222222,
             "#7201a8"
            ],
            [
             0.3333333333333333,
             "#9c179e"
            ],
            [
             0.4444444444444444,
             "#bd3786"
            ],
            [
             0.5555555555555556,
             "#d8576b"
            ],
            [
             0.6666666666666666,
             "#ed7953"
            ],
            [
             0.7777777777777778,
             "#fb9f3a"
            ],
            [
             0.8888888888888888,
             "#fdca26"
            ],
            [
             1,
             "#f0f921"
            ]
           ],
           "sequentialminus": [
            [
             0,
             "#0d0887"
            ],
            [
             0.1111111111111111,
             "#46039f"
            ],
            [
             0.2222222222222222,
             "#7201a8"
            ],
            [
             0.3333333333333333,
             "#9c179e"
            ],
            [
             0.4444444444444444,
             "#bd3786"
            ],
            [
             0.5555555555555556,
             "#d8576b"
            ],
            [
             0.6666666666666666,
             "#ed7953"
            ],
            [
             0.7777777777777778,
             "#fb9f3a"
            ],
            [
             0.8888888888888888,
             "#fdca26"
            ],
            [
             1,
             "#f0f921"
            ]
           ]
          },
          "colorway": [
           "#636efa",
           "#EF553B",
           "#00cc96",
           "#ab63fa",
           "#FFA15A",
           "#19d3f3",
           "#FF6692",
           "#B6E880",
           "#FF97FF",
           "#FECB52"
          ],
          "font": {
           "color": "#2a3f5f"
          },
          "geo": {
           "bgcolor": "white",
           "lakecolor": "white",
           "landcolor": "#E5ECF6",
           "showlakes": true,
           "showland": true,
           "subunitcolor": "white"
          },
          "hoverlabel": {
           "align": "left"
          },
          "hovermode": "closest",
          "mapbox": {
           "style": "light"
          },
          "paper_bgcolor": "white",
          "plot_bgcolor": "#E5ECF6",
          "polar": {
           "angularaxis": {
            "gridcolor": "white",
            "linecolor": "white",
            "ticks": ""
           },
           "bgcolor": "#E5ECF6",
           "radialaxis": {
            "gridcolor": "white",
            "linecolor": "white",
            "ticks": ""
           }
          },
          "scene": {
           "xaxis": {
            "backgroundcolor": "#E5ECF6",
            "gridcolor": "white",
            "gridwidth": 2,
            "linecolor": "white",
            "showbackground": true,
            "ticks": "",
            "zerolinecolor": "white"
           },
           "yaxis": {
            "backgroundcolor": "#E5ECF6",
            "gridcolor": "white",
            "gridwidth": 2,
            "linecolor": "white",
            "showbackground": true,
            "ticks": "",
            "zerolinecolor": "white"
           },
           "zaxis": {
            "backgroundcolor": "#E5ECF6",
            "gridcolor": "white",
            "gridwidth": 2,
            "linecolor": "white",
            "showbackground": true,
            "ticks": "",
            "zerolinecolor": "white"
           }
          },
          "shapedefaults": {
           "line": {
            "color": "#2a3f5f"
           }
          },
          "ternary": {
           "aaxis": {
            "gridcolor": "white",
            "linecolor": "white",
            "ticks": ""
           },
           "baxis": {
            "gridcolor": "white",
            "linecolor": "white",
            "ticks": ""
           },
           "bgcolor": "#E5ECF6",
           "caxis": {
            "gridcolor": "white",
            "linecolor": "white",
            "ticks": ""
           }
          },
          "title": {
           "x": 0.05
          },
          "xaxis": {
           "automargin": true,
           "gridcolor": "white",
           "linecolor": "white",
           "ticks": "",
           "title": {
            "standoff": 15
           },
           "zerolinecolor": "white",
           "zerolinewidth": 2
          },
          "yaxis": {
           "automargin": true,
           "gridcolor": "white",
           "linecolor": "white",
           "ticks": "",
           "title": {
            "standoff": 15
           },
           "zerolinecolor": "white",
           "zerolinewidth": 2
          }
         }
        },
        "title": {
         "text": "Feature Importances for XGBoosting"
        },
        "xaxis": {
         "anchor": "y",
         "categoryarray": [
          "alcohol",
          "sulphates",
          "volatile acidity",
          "active SO2",
          "total sulfur dioxide",
          "density",
          "citric acid",
          "fixed acidity",
          "chlorides",
          "free sulfur dioxide",
          "pH",
          "sweetness",
          "pH acidity"
         ],
         "categoryorder": "array",
         "domain": [
          0,
          1
         ],
         "tickangle": 90,
         "title": {
          "text": "Feature"
         }
        },
        "yaxis": {
         "anchor": "x",
         "domain": [
          0,
          1
         ],
         "title": {
          "text": "Weight"
         }
        }
       }
      }
     },
     "metadata": {},
     "output_type": "display_data"
    }
   ],
   "source": [
    "from xgboost import XGBClassifier\n",
    "\n",
    "classifier = XGBClassifier()\n",
    "parameters = {\"learning_rate\":[0.001, 0.01, 0.1],\n",
    "              \"min_child_weight\" : [5, 10, 20],\n",
    "              \"max_depth\":[2,4,6,8,10,12],\n",
    "              \"subsample\" : [0.5],\n",
    "              \"colsample_bytree\" : [0.5],\n",
    "              \"enable_categorical\" : [True],\n",
    "              \"objective\" : ['binary:logistic'],\n",
    "              \"n_estimators\":[50, 100, 500],\n",
    "              \"seed\" :[42]}\n",
    "cv = 10\n",
    "best_xgb = hyperp_search_random(classifier,parameters,cv)\n",
    "\n",
    "# Finding the best feature\n",
    "\n",
    "feature_importances = best_xgb.feature_importances_\n",
    "importance_xgb = pd.DataFrame({'Feature': X_train.columns,\n",
    "                               'Weight': feature_importances}).round(3)\n",
    "importance_xgb = importance_xgb.sort_values(by='Weight', ascending=False)\n",
    "\n",
    "# Plotting the features importance\n",
    "\n",
    "fig = px.bar(importance_xgb, x='Feature', y='Weight', color='Feature',\n",
    "             title='Feature Importances for XGBoosting',\n",
    "             color_discrete_sequence=px.colors.sequential.Blues_r,\n",
    "             text=importance_xgb['Weight'].apply(lambda x: f'{x:.3f}'),\n",
    "             hover_data=['Feature', 'Weight'])\n",
    "\n",
    "fig.update_layout(xaxis=dict(tickangle=90), legend=dict(title='Feature'))"
   ]
  },
  {
   "cell_type": "markdown",
   "metadata": {},
   "source": [
    "# Comparing the Models"
   ]
  },
  {
   "cell_type": "code",
   "execution_count": 158,
   "metadata": {},
   "outputs": [
    {
     "data": {
      "application/vnd.plotly.v1+json": {
       "config": {
        "plotlyServerURL": "https://plot.ly"
       },
       "data": [
        {
         "cells": {
          "values": [
           [
            "XGBoost",
            "Logistic Regression",
            "Random Forest",
            "Decision Tree"
           ],
           [
            0.743,
            0.731,
            0.723,
            0.703
           ],
           [
            0.721,
            0.732,
            0.713,
            0.684
           ]
          ]
         },
         "header": {
          "values": [
           "Model",
           "F1 Score",
           "Accuracy"
          ]
         },
         "type": "table"
        }
       ],
       "layout": {
        "height": 400,
        "template": {
         "data": {
          "bar": [
           {
            "error_x": {
             "color": "#2a3f5f"
            },
            "error_y": {
             "color": "#2a3f5f"
            },
            "marker": {
             "line": {
              "color": "#E5ECF6",
              "width": 0.5
             },
             "pattern": {
              "fillmode": "overlay",
              "size": 10,
              "solidity": 0.2
             }
            },
            "type": "bar"
           }
          ],
          "barpolar": [
           {
            "marker": {
             "line": {
              "color": "#E5ECF6",
              "width": 0.5
             },
             "pattern": {
              "fillmode": "overlay",
              "size": 10,
              "solidity": 0.2
             }
            },
            "type": "barpolar"
           }
          ],
          "carpet": [
           {
            "aaxis": {
             "endlinecolor": "#2a3f5f",
             "gridcolor": "white",
             "linecolor": "white",
             "minorgridcolor": "white",
             "startlinecolor": "#2a3f5f"
            },
            "baxis": {
             "endlinecolor": "#2a3f5f",
             "gridcolor": "white",
             "linecolor": "white",
             "minorgridcolor": "white",
             "startlinecolor": "#2a3f5f"
            },
            "type": "carpet"
           }
          ],
          "choropleth": [
           {
            "colorbar": {
             "outlinewidth": 0,
             "ticks": ""
            },
            "type": "choropleth"
           }
          ],
          "contour": [
           {
            "colorbar": {
             "outlinewidth": 0,
             "ticks": ""
            },
            "colorscale": [
             [
              0,
              "#0d0887"
             ],
             [
              0.1111111111111111,
              "#46039f"
             ],
             [
              0.2222222222222222,
              "#7201a8"
             ],
             [
              0.3333333333333333,
              "#9c179e"
             ],
             [
              0.4444444444444444,
              "#bd3786"
             ],
             [
              0.5555555555555556,
              "#d8576b"
             ],
             [
              0.6666666666666666,
              "#ed7953"
             ],
             [
              0.7777777777777778,
              "#fb9f3a"
             ],
             [
              0.8888888888888888,
              "#fdca26"
             ],
             [
              1,
              "#f0f921"
             ]
            ],
            "type": "contour"
           }
          ],
          "contourcarpet": [
           {
            "colorbar": {
             "outlinewidth": 0,
             "ticks": ""
            },
            "type": "contourcarpet"
           }
          ],
          "heatmap": [
           {
            "colorbar": {
             "outlinewidth": 0,
             "ticks": ""
            },
            "colorscale": [
             [
              0,
              "#0d0887"
             ],
             [
              0.1111111111111111,
              "#46039f"
             ],
             [
              0.2222222222222222,
              "#7201a8"
             ],
             [
              0.3333333333333333,
              "#9c179e"
             ],
             [
              0.4444444444444444,
              "#bd3786"
             ],
             [
              0.5555555555555556,
              "#d8576b"
             ],
             [
              0.6666666666666666,
              "#ed7953"
             ],
             [
              0.7777777777777778,
              "#fb9f3a"
             ],
             [
              0.8888888888888888,
              "#fdca26"
             ],
             [
              1,
              "#f0f921"
             ]
            ],
            "type": "heatmap"
           }
          ],
          "heatmapgl": [
           {
            "colorbar": {
             "outlinewidth": 0,
             "ticks": ""
            },
            "colorscale": [
             [
              0,
              "#0d0887"
             ],
             [
              0.1111111111111111,
              "#46039f"
             ],
             [
              0.2222222222222222,
              "#7201a8"
             ],
             [
              0.3333333333333333,
              "#9c179e"
             ],
             [
              0.4444444444444444,
              "#bd3786"
             ],
             [
              0.5555555555555556,
              "#d8576b"
             ],
             [
              0.6666666666666666,
              "#ed7953"
             ],
             [
              0.7777777777777778,
              "#fb9f3a"
             ],
             [
              0.8888888888888888,
              "#fdca26"
             ],
             [
              1,
              "#f0f921"
             ]
            ],
            "type": "heatmapgl"
           }
          ],
          "histogram": [
           {
            "marker": {
             "pattern": {
              "fillmode": "overlay",
              "size": 10,
              "solidity": 0.2
             }
            },
            "type": "histogram"
           }
          ],
          "histogram2d": [
           {
            "colorbar": {
             "outlinewidth": 0,
             "ticks": ""
            },
            "colorscale": [
             [
              0,
              "#0d0887"
             ],
             [
              0.1111111111111111,
              "#46039f"
             ],
             [
              0.2222222222222222,
              "#7201a8"
             ],
             [
              0.3333333333333333,
              "#9c179e"
             ],
             [
              0.4444444444444444,
              "#bd3786"
             ],
             [
              0.5555555555555556,
              "#d8576b"
             ],
             [
              0.6666666666666666,
              "#ed7953"
             ],
             [
              0.7777777777777778,
              "#fb9f3a"
             ],
             [
              0.8888888888888888,
              "#fdca26"
             ],
             [
              1,
              "#f0f921"
             ]
            ],
            "type": "histogram2d"
           }
          ],
          "histogram2dcontour": [
           {
            "colorbar": {
             "outlinewidth": 0,
             "ticks": ""
            },
            "colorscale": [
             [
              0,
              "#0d0887"
             ],
             [
              0.1111111111111111,
              "#46039f"
             ],
             [
              0.2222222222222222,
              "#7201a8"
             ],
             [
              0.3333333333333333,
              "#9c179e"
             ],
             [
              0.4444444444444444,
              "#bd3786"
             ],
             [
              0.5555555555555556,
              "#d8576b"
             ],
             [
              0.6666666666666666,
              "#ed7953"
             ],
             [
              0.7777777777777778,
              "#fb9f3a"
             ],
             [
              0.8888888888888888,
              "#fdca26"
             ],
             [
              1,
              "#f0f921"
             ]
            ],
            "type": "histogram2dcontour"
           }
          ],
          "mesh3d": [
           {
            "colorbar": {
             "outlinewidth": 0,
             "ticks": ""
            },
            "type": "mesh3d"
           }
          ],
          "parcoords": [
           {
            "line": {
             "colorbar": {
              "outlinewidth": 0,
              "ticks": ""
             }
            },
            "type": "parcoords"
           }
          ],
          "pie": [
           {
            "automargin": true,
            "type": "pie"
           }
          ],
          "scatter": [
           {
            "fillpattern": {
             "fillmode": "overlay",
             "size": 10,
             "solidity": 0.2
            },
            "type": "scatter"
           }
          ],
          "scatter3d": [
           {
            "line": {
             "colorbar": {
              "outlinewidth": 0,
              "ticks": ""
             }
            },
            "marker": {
             "colorbar": {
              "outlinewidth": 0,
              "ticks": ""
             }
            },
            "type": "scatter3d"
           }
          ],
          "scattercarpet": [
           {
            "marker": {
             "colorbar": {
              "outlinewidth": 0,
              "ticks": ""
             }
            },
            "type": "scattercarpet"
           }
          ],
          "scattergeo": [
           {
            "marker": {
             "colorbar": {
              "outlinewidth": 0,
              "ticks": ""
             }
            },
            "type": "scattergeo"
           }
          ],
          "scattergl": [
           {
            "marker": {
             "colorbar": {
              "outlinewidth": 0,
              "ticks": ""
             }
            },
            "type": "scattergl"
           }
          ],
          "scattermapbox": [
           {
            "marker": {
             "colorbar": {
              "outlinewidth": 0,
              "ticks": ""
             }
            },
            "type": "scattermapbox"
           }
          ],
          "scatterpolar": [
           {
            "marker": {
             "colorbar": {
              "outlinewidth": 0,
              "ticks": ""
             }
            },
            "type": "scatterpolar"
           }
          ],
          "scatterpolargl": [
           {
            "marker": {
             "colorbar": {
              "outlinewidth": 0,
              "ticks": ""
             }
            },
            "type": "scatterpolargl"
           }
          ],
          "scatterternary": [
           {
            "marker": {
             "colorbar": {
              "outlinewidth": 0,
              "ticks": ""
             }
            },
            "type": "scatterternary"
           }
          ],
          "surface": [
           {
            "colorbar": {
             "outlinewidth": 0,
             "ticks": ""
            },
            "colorscale": [
             [
              0,
              "#0d0887"
             ],
             [
              0.1111111111111111,
              "#46039f"
             ],
             [
              0.2222222222222222,
              "#7201a8"
             ],
             [
              0.3333333333333333,
              "#9c179e"
             ],
             [
              0.4444444444444444,
              "#bd3786"
             ],
             [
              0.5555555555555556,
              "#d8576b"
             ],
             [
              0.6666666666666666,
              "#ed7953"
             ],
             [
              0.7777777777777778,
              "#fb9f3a"
             ],
             [
              0.8888888888888888,
              "#fdca26"
             ],
             [
              1,
              "#f0f921"
             ]
            ],
            "type": "surface"
           }
          ],
          "table": [
           {
            "cells": {
             "fill": {
              "color": "#EBF0F8"
             },
             "line": {
              "color": "white"
             }
            },
            "header": {
             "fill": {
              "color": "#C8D4E3"
             },
             "line": {
              "color": "white"
             }
            },
            "type": "table"
           }
          ]
         },
         "layout": {
          "annotationdefaults": {
           "arrowcolor": "#2a3f5f",
           "arrowhead": 0,
           "arrowwidth": 1
          },
          "autotypenumbers": "strict",
          "coloraxis": {
           "colorbar": {
            "outlinewidth": 0,
            "ticks": ""
           }
          },
          "colorscale": {
           "diverging": [
            [
             0,
             "#8e0152"
            ],
            [
             0.1,
             "#c51b7d"
            ],
            [
             0.2,
             "#de77ae"
            ],
            [
             0.3,
             "#f1b6da"
            ],
            [
             0.4,
             "#fde0ef"
            ],
            [
             0.5,
             "#f7f7f7"
            ],
            [
             0.6,
             "#e6f5d0"
            ],
            [
             0.7,
             "#b8e186"
            ],
            [
             0.8,
             "#7fbc41"
            ],
            [
             0.9,
             "#4d9221"
            ],
            [
             1,
             "#276419"
            ]
           ],
           "sequential": [
            [
             0,
             "#0d0887"
            ],
            [
             0.1111111111111111,
             "#46039f"
            ],
            [
             0.2222222222222222,
             "#7201a8"
            ],
            [
             0.3333333333333333,
             "#9c179e"
            ],
            [
             0.4444444444444444,
             "#bd3786"
            ],
            [
             0.5555555555555556,
             "#d8576b"
            ],
            [
             0.6666666666666666,
             "#ed7953"
            ],
            [
             0.7777777777777778,
             "#fb9f3a"
            ],
            [
             0.8888888888888888,
             "#fdca26"
            ],
            [
             1,
             "#f0f921"
            ]
           ],
           "sequentialminus": [
            [
             0,
             "#0d0887"
            ],
            [
             0.1111111111111111,
             "#46039f"
            ],
            [
             0.2222222222222222,
             "#7201a8"
            ],
            [
             0.3333333333333333,
             "#9c179e"
            ],
            [
             0.4444444444444444,
             "#bd3786"
            ],
            [
             0.5555555555555556,
             "#d8576b"
            ],
            [
             0.6666666666666666,
             "#ed7953"
            ],
            [
             0.7777777777777778,
             "#fb9f3a"
            ],
            [
             0.8888888888888888,
             "#fdca26"
            ],
            [
             1,
             "#f0f921"
            ]
           ]
          },
          "colorway": [
           "#636efa",
           "#EF553B",
           "#00cc96",
           "#ab63fa",
           "#FFA15A",
           "#19d3f3",
           "#FF6692",
           "#B6E880",
           "#FF97FF",
           "#FECB52"
          ],
          "font": {
           "color": "#2a3f5f"
          },
          "geo": {
           "bgcolor": "white",
           "lakecolor": "white",
           "landcolor": "#E5ECF6",
           "showlakes": true,
           "showland": true,
           "subunitcolor": "white"
          },
          "hoverlabel": {
           "align": "left"
          },
          "hovermode": "closest",
          "mapbox": {
           "style": "light"
          },
          "paper_bgcolor": "white",
          "plot_bgcolor": "#E5ECF6",
          "polar": {
           "angularaxis": {
            "gridcolor": "white",
            "linecolor": "white",
            "ticks": ""
           },
           "bgcolor": "#E5ECF6",
           "radialaxis": {
            "gridcolor": "white",
            "linecolor": "white",
            "ticks": ""
           }
          },
          "scene": {
           "xaxis": {
            "backgroundcolor": "#E5ECF6",
            "gridcolor": "white",
            "gridwidth": 2,
            "linecolor": "white",
            "showbackground": true,
            "ticks": "",
            "zerolinecolor": "white"
           },
           "yaxis": {
            "backgroundcolor": "#E5ECF6",
            "gridcolor": "white",
            "gridwidth": 2,
            "linecolor": "white",
            "showbackground": true,
            "ticks": "",
            "zerolinecolor": "white"
           },
           "zaxis": {
            "backgroundcolor": "#E5ECF6",
            "gridcolor": "white",
            "gridwidth": 2,
            "linecolor": "white",
            "showbackground": true,
            "ticks": "",
            "zerolinecolor": "white"
           }
          },
          "shapedefaults": {
           "line": {
            "color": "#2a3f5f"
           }
          },
          "ternary": {
           "aaxis": {
            "gridcolor": "white",
            "linecolor": "white",
            "ticks": ""
           },
           "baxis": {
            "gridcolor": "white",
            "linecolor": "white",
            "ticks": ""
           },
           "bgcolor": "#E5ECF6",
           "caxis": {
            "gridcolor": "white",
            "linecolor": "white",
            "ticks": ""
           }
          },
          "title": {
           "x": 0.05
          },
          "xaxis": {
           "automargin": true,
           "gridcolor": "white",
           "linecolor": "white",
           "ticks": "",
           "title": {
            "standoff": 15
           },
           "zerolinecolor": "white",
           "zerolinewidth": 2
          },
          "yaxis": {
           "automargin": true,
           "gridcolor": "white",
           "linecolor": "white",
           "ticks": "",
           "title": {
            "standoff": 15
           },
           "zerolinecolor": "white",
           "zerolinewidth": 2
          }
         }
        },
        "title": {
         "font": {
          "size": 15
         },
         "text": "Comparing the models",
         "x": 0.5,
         "xanchor": "center",
         "y": 0.9,
         "yanchor": "top"
        },
        "width": 1000
       }
      }
     },
     "metadata": {},
     "output_type": "display_data"
    }
   ],
   "source": [
    "import plotly.graph_objects as go\n",
    "\n",
    "models = [\"Logistic Regression\",\n",
    "          'Decision Tree',\n",
    "          'Random Forest',\n",
    "          'XGBoost']\n",
    "\n",
    "f1_scores = [f1_score(y_test, best_log.predict(X_test)),\n",
    "             f1_score(y_test, best_tree.predict(X_test)),\n",
    "             f1_score(y_test, best_rf.predict(X_test)),\n",
    "             f1_score(y_test, best_xgb.predict(X_test))]\n",
    "accuracy_scores = [accuracy_score(y_test, best_log.predict(X_test)),\n",
    "                   accuracy_score(y_test, best_tree.predict(X_test)),\n",
    "                   accuracy_score(y_test, best_rf.predict(X_test)),\n",
    "                   accuracy_score(y_test, best_xgb.predict(X_test))]\n",
    "\n",
    "table = pd.DataFrame({\"Model\": models,\n",
    "                      \"F1 Score\": f1_scores,\n",
    "                      \"Accuracy\": accuracy_scores})\n",
    "\n",
    "table = table.sort_values(by=\"F1 Score\", ascending=False)\n",
    "\n",
    "fig = go.Figure(data=[go.Table(\n",
    "    header=dict(values=['Model',\n",
    "                        'F1 Score',\n",
    "                        'Accuracy']),\n",
    "    cells=dict(values=[table[\"Model\"],\n",
    "                       table[\"F1 Score\"].round(3),\n",
    "                       table[\"Accuracy\"].round(3)])\n",
    ")])\n",
    "\n",
    "fig.update_layout(\n",
    "    title={\n",
    "        'text': 'Comparing the models',\n",
    "        'x': 0.5,\n",
    "        'y': 0.9,\n",
    "        'xanchor': 'center',\n",
    "        'yanchor': 'top',\n",
    "        'font': {'size': 15}\n",
    "    },\n",
    "    width=1000,\n",
    "    height=400)"
   ]
  }
 ],
 "metadata": {
  "kernelspec": {
   "display_name": "Python 3",
   "language": "python",
   "name": "python3"
  },
  "language_info": {
   "codemirror_mode": {
    "name": "ipython",
    "version": 3
   },
   "file_extension": ".py",
   "mimetype": "text/x-python",
   "name": "python",
   "nbconvert_exporter": "python",
   "pygments_lexer": "ipython3",
   "version": "3.10.4"
  }
 },
 "nbformat": 4,
 "nbformat_minor": 2
}
